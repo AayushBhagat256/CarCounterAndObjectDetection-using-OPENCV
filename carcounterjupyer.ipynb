{
 "cells": [
  {
   "cell_type": "code",
   "execution_count": 127,
   "metadata": {},
   "outputs": [],
   "source": [
    "import cv2\n",
    "from ultralytics import YOLO\n",
    "import cvzone\n",
    "import math\n",
    "\n",
    "from sort import *"
   ]
  },
  {
   "cell_type": "code",
   "execution_count": 128,
   "metadata": {},
   "outputs": [],
   "source": [
    "# creating web cam object\n",
    "# cap = cv2.VideoCapture(0)\n",
    "cap = cv2.VideoCapture('./Videos/cars.mp4')\n",
    "#cap.set(3,1280) # for width\n",
    "#cap.set(4,720) #for height"
   ]
  },
  {
   "cell_type": "code",
   "execution_count": 129,
   "metadata": {},
   "outputs": [],
   "source": [
    "model = YOLO('./Yolo-Weights/yolov8l.pt')"
   ]
  },
  {
   "cell_type": "code",
   "execution_count": 130,
   "metadata": {},
   "outputs": [],
   "source": [
    "# classes that will be detected and displayed\n",
    "classNames = [\"person\", \"bicycle\", \"car\", \"motorbike\", \"aeroplane\", \"bus\", \"train\", \"truck\", \"boat\",\n",
    "              \"traffic light\", \"fire hydrant\", \"stop sign\", \"parking meter\", \"bench\", \"bird\", \"cat\",\n",
    "              \"dog\", \"horse\", \"sheep\", \"cow\", \"elephant\", \"bear\", \"zebra\", \"giraffe\", \"backpack\", \"umbrella\",\n",
    "              \"handbag\", \"tie\", \"suitcase\", \"frisbee\", \"skis\", \"snowboard\", \"sports ball\", \"kite\", \"baseball bat\",\n",
    "              \"baseball glove\", \"skateboard\", \"surfboard\", \"tennis racket\", \"bottle\", \"wine glass\", \"cup\",\n",
    "              \"fork\", \"knife\", \"spoon\", \"bowl\", \"banana\", \"apple\", \"sandwich\", \"orange\", \"broccoli\",\n",
    "              \"carrot\", \"hot dog\", \"pizza\", \"donut\", \"cake\", \"chair\", \"sofa\", \"pottedplant\", \"bed\",\n",
    "              \"diningtable\", \"toilet\", \"tvmonitor\", \"laptop\", \"mouse\", \"remote\", \"keyboard\", \"cell phone\",\n",
    "              \"microwave\", \"oven\", \"toaster\", \"sink\", \"refrigerator\", \"book\", \"clock\", \"vase\", \"scissors\",\n",
    "              \"teddy bear\", \"hair drier\", \"toothbrush\" , \"pen\"\n",
    "              ]"
   ]
  },
  {
   "cell_type": "code",
   "execution_count": 131,
   "metadata": {},
   "outputs": [],
   "source": [
    "mask = cv2.imread('./mask.png')"
   ]
  },
  {
   "cell_type": "code",
   "execution_count": 132,
   "metadata": {},
   "outputs": [],
   "source": [
    "# creating a instance for tracking\n",
    "tracker = Sort(max_age=20,min_hits=3,iou_threshold=0.3)\n",
    "\n",
    "# we will make a line and count after that \n",
    "limits = [400,297,673,297]\n",
    "totalcounts=[]"
   ]
  },
  {
   "cell_type": "code",
   "execution_count": 133,
   "metadata": {},
   "outputs": [
    {
     "name": "stderr",
     "output_type": "stream",
     "text": [
      "\n",
      "0: 384x640 3 cars, 842.5ms\n",
      "Speed: 14.8ms preprocess, 842.5ms inference, 21.4ms postprocess per image at shape (1, 3, 384, 640)\n",
      "\n"
     ]
    },
    {
     "name": "stdout",
     "output_type": "stream",
     "text": [
      "0.81\n",
      "0.8\n",
      "0.67\n",
      "[        571         316         651         429         732]\n",
      "[        378         348         495         457         731]\n",
      "[        458         226         509         270         730]\n"
     ]
    },
    {
     "name": "stderr",
     "output_type": "stream",
     "text": [
      "0: 384x640 3 cars, 826.0ms\n",
      "Speed: 8.0ms preprocess, 826.0ms inference, 0.0ms postprocess per image at shape (1, 3, 384, 640)\n",
      "\n"
     ]
    },
    {
     "name": "stdout",
     "output_type": "stream",
     "text": [
      "0.88\n",
      "0.83\n",
      "0.82\n",
      "[     568.92      322.12      649.08      435.88         732]\n",
      "[     373.98      352.02      493.02      462.98         731]\n",
      "[     456.14      227.88      506.86      271.12         730]\n"
     ]
    },
    {
     "name": "stderr",
     "output_type": "stream",
     "text": [
      "0: 384x640 4 cars, 750.8ms\n",
      "Speed: 0.0ms preprocess, 750.8ms inference, 0.0ms postprocess per image at shape (1, 3, 384, 640)\n",
      "\n"
     ]
    },
    {
     "name": "stdout",
     "output_type": "stream",
     "text": [
      "0.89\n",
      "0.84\n",
      "0.78\n",
      "0.4\n",
      "[        624         198         653         214         733]\n",
      "[     559.26      345.51      647.22      465.01         732]\n",
      "[     355.99      366.25      476.77      470.04         731]\n",
      "[     449.35         234      502.12      279.29         730]\n"
     ]
    },
    {
     "name": "stderr",
     "output_type": "stream",
     "text": [
      "0: 384x640 5 cars, 709.4ms\n",
      "Speed: 6.8ms preprocess, 709.4ms inference, 11.4ms postprocess per image at shape (1, 3, 384, 640)\n",
      "\n"
     ]
    },
    {
     "name": "stdout",
     "output_type": "stream",
     "text": [
      "0.84\n",
      "0.82\n",
      "0.75\n",
      "0.74\n",
      "0.56\n",
      "[     548.26      386.26      630.01      477.31         732]\n",
      "[     331.78       390.1      452.71      473.44         731]\n",
      "[     438.11      241.99      494.47      290.71         730]\n"
     ]
    },
    {
     "name": "stderr",
     "output_type": "stream",
     "text": [
      "0: 384x640 5 cars, 722.7ms\n",
      "Speed: 8.0ms preprocess, 722.7ms inference, 0.0ms postprocess per image at shape (1, 3, 384, 640)\n",
      "\n"
     ]
    },
    {
     "name": "stdout",
     "output_type": "stream",
     "text": [
      "0.86\n",
      "0.82\n",
      "0.68\n",
      "0.54\n",
      "0.41\n",
      "[     323.07      414.46         433      474.06         731]\n",
      "[     427.65      251.39      486.44       302.2         730]\n"
     ]
    },
    {
     "name": "stderr",
     "output_type": "stream",
     "text": [
      "0: 384x640 4 cars, 727.5ms\n",
      "Speed: 0.0ms preprocess, 727.5ms inference, 8.0ms postprocess per image at shape (1, 3, 384, 640)\n",
      "\n"
     ]
    },
    {
     "name": "stdout",
     "output_type": "stream",
     "text": [
      "0.76\n",
      "0.74\n",
      "0.69\n",
      "0.35\n",
      "[     612.44      200.77      660.84      240.05         733]\n",
      "[     416.82      259.33      478.98      313.22         730]\n"
     ]
    },
    {
     "name": "stderr",
     "output_type": "stream",
     "text": [
      "0: 384x640 3 cars, 748.4ms\n",
      "Speed: 8.0ms preprocess, 748.4ms inference, 0.0ms postprocess per image at shape (1, 3, 384, 640)\n",
      "\n"
     ]
    },
    {
     "name": "stdout",
     "output_type": "stream",
     "text": [
      "0.87\n",
      "0.85\n",
      "0.76\n",
      "[     508.66      198.23      548.12      213.81         734]\n",
      "[     610.06      205.82      662.84      251.21         733]\n",
      "[     404.34      268.07      469.71      324.95         730]\n"
     ]
    },
    {
     "name": "stderr",
     "output_type": "stream",
     "text": [
      "0: 384x640 4 cars, 726.5ms\n",
      "Speed: 0.0ms preprocess, 726.5ms inference, 0.0ms postprocess per image at shape (1, 3, 384, 640)\n",
      "\n"
     ]
    },
    {
     "name": "stdout",
     "output_type": "stream",
     "text": [
      "0.85\n",
      "0.82\n",
      "0.76\n",
      "0.5\n",
      "[     503.99      198.79      547.62       217.8         734]\n",
      "[     606.76      212.94      663.09       263.4         733]\n",
      "[     391.16      276.93      460.74      337.04         730]\n"
     ]
    },
    {
     "name": "stderr",
     "output_type": "stream",
     "text": [
      "0: 384x640 4 cars, 1 motorcycle, 717.2ms\n",
      "Speed: 1.5ms preprocess, 717.2ms inference, 0.1ms postprocess per image at shape (1, 3, 384, 640)\n",
      "\n"
     ]
    },
    {
     "name": "stdout",
     "output_type": "stream",
     "text": [
      "0.85\n",
      "0.8\n",
      "0.76\n",
      "0.3\n",
      "0.29\n",
      "[     499.42      199.23      545.73      221.57         734]\n",
      "[        602      221.48      662.59      277.13         733]\n",
      "[     376.62      287.98      450.31      351.19         730]\n"
     ]
    },
    {
     "name": "stderr",
     "output_type": "stream",
     "text": [
      "0: 384x640 4 cars, 717.3ms\n",
      "Speed: 0.0ms preprocess, 717.3ms inference, 1.3ms postprocess per image at shape (1, 3, 384, 640)\n",
      "\n"
     ]
    },
    {
     "name": "stdout",
     "output_type": "stream",
     "text": [
      "0.88\n",
      "0.79\n",
      "0.76\n",
      "0.41\n",
      "[     495.08      199.74      543.92      225.85         734]\n",
      "[     598.94      231.02       662.5      290.74         733]\n",
      "[     360.39      299.94      438.56      366.59         730]\n"
     ]
    },
    {
     "name": "stderr",
     "output_type": "stream",
     "text": [
      "0: 384x640 4 cars, 701.7ms\n",
      "Speed: 8.0ms preprocess, 701.7ms inference, 10.1ms postprocess per image at shape (1, 3, 384, 640)\n",
      "\n"
     ]
    },
    {
     "name": "stdout",
     "output_type": "stream",
     "text": [
      "0.89\n",
      "0.8\n",
      "0.72\n",
      "0.66\n",
      "[     491.09      201.02      541.16      230.26         734]\n",
      "[     592.07      242.59      657.35      305.97         733]\n",
      "[      341.7      312.76      425.58      384.53         730]\n"
     ]
    },
    {
     "name": "stderr",
     "output_type": "stream",
     "text": [
      "0: 384x640 4 cars, 695.2ms\n",
      "Speed: 6.6ms preprocess, 695.2ms inference, 0.0ms postprocess per image at shape (1, 3, 384, 640)\n",
      "\n"
     ]
    },
    {
     "name": "stdout",
     "output_type": "stream",
     "text": [
      "0.89\n",
      "0.84\n",
      "0.81\n",
      "0.62\n",
      "[     486.58      203.99      537.36         236         734]\n",
      "[      584.9      255.12      653.48      323.48         733]\n",
      "[     321.03       326.3      411.27      402.96         730]\n"
     ]
    },
    {
     "name": "stderr",
     "output_type": "stream",
     "text": [
      "0: 384x640 5 cars, 689.0ms\n",
      "Speed: 3.5ms preprocess, 689.0ms inference, 10.5ms postprocess per image at shape (1, 3, 384, 640)\n",
      "\n"
     ]
    },
    {
     "name": "stdout",
     "output_type": "stream",
     "text": [
      "0.88\n",
      "0.85\n",
      "0.77\n",
      "0.69\n",
      "0.52\n",
      "[     572.43      200.38      617.21      224.49         738]\n",
      "[     481.31      207.08      533.09         242         734]\n",
      "[     577.31      269.18      649.77      343.25         733]\n",
      "[     297.61      342.61      395.23      424.97         730]\n"
     ]
    },
    {
     "name": "stderr",
     "output_type": "stream",
     "text": [
      "0: 384x640 5 cars, 708.3ms\n",
      "Speed: 1.0ms preprocess, 708.3ms inference, 2.2ms postprocess per image at shape (1, 3, 384, 640)\n",
      "\n"
     ]
    },
    {
     "name": "stdout",
     "output_type": "stream",
     "text": [
      "0.86\n",
      "0.83\n",
      "0.78\n",
      "0.74\n",
      "0.5\n",
      "[     568.93       202.2      614.68      230.48         738]\n",
      "[     476.39      211.65      528.71      248.63         734]\n",
      "[     567.95      285.23      645.78      366.34         733]\n",
      "[     271.03      360.17       376.8      449.36         730]\n"
     ]
    },
    {
     "name": "stderr",
     "output_type": "stream",
     "text": [
      "0: 384x640 5 cars, 1 motorcycle, 707.0ms\n",
      "Speed: 0.0ms preprocess, 707.0ms inference, 0.6ms postprocess per image at shape (1, 3, 384, 640)\n",
      "\n"
     ]
    },
    {
     "name": "stdout",
     "output_type": "stream",
     "text": [
      "0.89\n",
      "0.84\n",
      "0.81\n",
      "0.77\n",
      "0.56\n",
      "0.45\n",
      "[     565.71      207.21       611.8      238.65         738]\n",
      "[     470.31      216.77      523.61      256.13         734]\n",
      "[     557.39      302.92      640.96      392.31         733]\n",
      "[     241.31      376.35      354.89      467.17         730]\n"
     ]
    },
    {
     "name": "stderr",
     "output_type": "stream",
     "text": [
      "0: 384x640 1 person, 5 cars, 1 motorcycle, 698.7ms\n",
      "Speed: 2.5ms preprocess, 698.7ms inference, 0.0ms postprocess per image at shape (1, 3, 384, 640)\n",
      "\n"
     ]
    },
    {
     "name": "stdout",
     "output_type": "stream",
     "text": [
      "0.88\n",
      "0.86\n",
      "0.83\n",
      "0.78\n",
      "0.61\n",
      "0.51\n",
      "0.27\n",
      "[     629.52      199.82      658.42       243.5         739]\n",
      "[     561.59      212.26       608.4      246.92         738]\n",
      "[     462.69      222.11      517.35      263.23         734]\n",
      "[     543.12       324.1      631.18      421.67         733]\n",
      "[     209.38      393.24      330.83      476.59         730]\n"
     ]
    },
    {
     "name": "stderr",
     "output_type": "stream",
     "text": [
      "0: 384x640 5 cars, 1 motorcycle, 706.5ms\n",
      "Speed: 8.0ms preprocess, 706.5ms inference, 0.0ms postprocess per image at shape (1, 3, 384, 640)\n",
      "\n"
     ]
    },
    {
     "name": "stdout",
     "output_type": "stream",
     "text": [
      "0.84\n",
      "0.84\n",
      "0.81\n",
      "0.75\n",
      "0.7\n",
      "0.42\n",
      "[     626.13      200.12      660.78      254.16         739]\n",
      "[     556.88      219.29      603.75      256.66         738]\n",
      "[     454.88      227.85      510.99      270.49         734]\n",
      "[     527.12      347.34      622.58      454.09         733]\n",
      "[     179.67      414.72      308.29      481.82         730]\n"
     ]
    },
    {
     "name": "stderr",
     "output_type": "stream",
     "text": [
      "0: 384x640 5 cars, 1 motorcycle, 699.7ms\n",
      "Speed: 0.0ms preprocess, 699.7ms inference, 0.0ms postprocess per image at shape (1, 3, 384, 640)\n",
      "\n"
     ]
    },
    {
     "name": "stdout",
     "output_type": "stream",
     "text": [
      "0.89\n",
      "0.82\n",
      "0.77\n",
      "0.74\n",
      "0.62\n",
      "0.52\n",
      "[     528.07      266.61      552.32      320.38         740]\n",
      "[     622.41      201.54      662.03      264.57         739]\n",
      "[     551.28      226.16       599.4      266.34         738]\n",
      "[     446.41      234.28      504.55      279.23         734]\n",
      "[     510.64       370.1      615.66      472.96         733]\n"
     ]
    },
    {
     "name": "stderr",
     "output_type": "stream",
     "text": [
      "0: 384x640 5 cars, 1 motorcycle, 698.3ms\n",
      "Speed: 7.0ms preprocess, 698.3ms inference, 8.0ms postprocess per image at shape (1, 3, 384, 640)\n",
      "\n"
     ]
    },
    {
     "name": "stdout",
     "output_type": "stream",
     "text": [
      "0.79\n",
      "0.79\n",
      "0.78\n",
      "0.68\n",
      "0.64\n",
      "0.55\n",
      "[     518.32      278.72       543.5       334.7         740]\n",
      "[     617.41      207.95      661.98       278.8         739]\n",
      "[     545.71      233.71       595.5      276.55         738]\n",
      "[     436.37       241.8      496.78      288.98         734]\n",
      "[     496.84      396.73      608.54       482.6         733]\n"
     ]
    },
    {
     "name": "stderr",
     "output_type": "stream",
     "text": [
      "0: 384x640 1 person, 4 cars, 1 motorcycle, 1 truck, 691.1ms\n",
      "Speed: 8.0ms preprocess, 691.1ms inference, 0.0ms postprocess per image at shape (1, 3, 384, 640)\n",
      "\n"
     ]
    },
    {
     "name": "stdout",
     "output_type": "stream",
     "text": [
      "0.86\n",
      "0.83\n",
      "0.72\n",
      "0.67\n",
      "0.59\n",
      "0.55\n",
      "0.35\n",
      "[     508.83      305.02       532.5      355.31         740]\n",
      "[      611.6      216.52      661.92      294.37         739]\n",
      "[     538.83      242.51      591.11      288.58         738]\n",
      "[      425.1      250.68      487.87      299.44         734]\n"
     ]
    },
    {
     "name": "stderr",
     "output_type": "stream",
     "text": [
      "0: 384x640 1 person, 4 cars, 1 motorcycle, 691.9ms\n",
      "Speed: 0.0ms preprocess, 691.9ms inference, 0.0ms postprocess per image at shape (1, 3, 384, 640)\n",
      "\n"
     ]
    },
    {
     "name": "stdout",
     "output_type": "stream",
     "text": [
      "0.87\n",
      "0.85\n",
      "0.74\n",
      "0.66\n",
      "0.61\n",
      "0.53\n",
      "[     549.59      199.08      594.15       227.2         741]\n",
      "[      496.9      323.89      521.99      375.09         740]\n",
      "[     605.95      227.53      660.78      310.65         739]\n",
      "[     531.66      251.93      585.71      300.42         738]\n",
      "[      412.1      259.74      477.86      311.12         734]\n"
     ]
    },
    {
     "name": "stderr",
     "output_type": "stream",
     "text": [
      "0: 384x640 1 person, 3 cars, 1 motorcycle, 1 truck, 714.6ms\n",
      "Speed: 0.5ms preprocess, 714.6ms inference, 0.0ms postprocess per image at shape (1, 3, 384, 640)\n",
      "\n"
     ]
    },
    {
     "name": "stdout",
     "output_type": "stream",
     "text": [
      "0.83\n",
      "0.82\n",
      "0.8\n",
      "0.56\n",
      "0.53\n",
      "0.52\n",
      "[     545.51      200.27      593.21      233.19         741]\n",
      "[     482.33      344.05      510.03      398.34         740]\n",
      "[      600.7      240.16       660.3      329.71         739]\n",
      "[     523.39      262.01      580.94      313.69         738]\n",
      "[      397.3      270.27      466.66      324.46         734]\n"
     ]
    },
    {
     "name": "stderr",
     "output_type": "stream",
     "text": [
      "0: 384x640 1 person, 3 cars, 1 motorcycle, 1 truck, 726.0ms\n",
      "Speed: 0.0ms preprocess, 726.0ms inference, 0.0ms postprocess per image at shape (1, 3, 384, 640)\n",
      "\n"
     ]
    },
    {
     "name": "stdout",
     "output_type": "stream",
     "text": [
      "0.86\n",
      "0.83\n",
      "0.8\n",
      "0.68\n",
      "0.66\n",
      "0.53\n",
      "[     541.42      202.85       591.6      239.22         741]\n",
      "[     465.19      370.08      495.19      426.18         740]\n",
      "[     593.39      253.61      660.27      351.44         739]\n",
      "[     513.79      274.35      574.71      329.42         738]\n",
      "[     380.58      282.13      454.32      339.56         734]\n"
     ]
    },
    {
     "name": "stderr",
     "output_type": "stream",
     "text": [
      "0: 384x640 1 person, 3 cars, 2 motorcycles, 1 truck, 722.3ms\n",
      "Speed: 9.4ms preprocess, 722.3ms inference, 0.0ms postprocess per image at shape (1, 3, 384, 640)\n",
      "\n"
     ]
    },
    {
     "name": "stdout",
     "output_type": "stream",
     "text": [
      "0.86\n",
      "0.83\n",
      "0.81\n",
      "0.67\n",
      "0.45\n",
      "0.35\n",
      "0.29\n",
      "[     536.56      207.55      589.11       247.8         741]\n",
      "[      445.4      398.89      478.43      458.21         740]\n",
      "[     583.63      269.37      659.45       376.7         739]\n",
      "[     502.21      287.07      567.46      346.47         738]\n",
      "[     360.93       295.2      440.53      356.55         734]\n"
     ]
    },
    {
     "name": "stderr",
     "output_type": "stream",
     "text": [
      "0: 384x640 1 person, 4 cars, 2 motorcycles, 1 truck, 697.5ms\n",
      "Speed: 4.1ms preprocess, 697.5ms inference, 0.0ms postprocess per image at shape (1, 3, 384, 640)\n",
      "\n"
     ]
    },
    {
     "name": "stdout",
     "output_type": "stream",
     "text": [
      "0.89\n",
      "0.82\n",
      "0.76\n",
      "0.74\n",
      "0.5\n",
      "0.47\n",
      "0.44\n",
      "0.28\n",
      "[     531.53      213.43      584.87         256         741]\n",
      "[     571.86      288.45      654.81      405.36         739]\n",
      "[     488.99      301.62       558.8      365.57         738]\n",
      "[     339.04      310.47      425.41      377.05         734]\n"
     ]
    },
    {
     "name": "stderr",
     "output_type": "stream",
     "text": [
      "0: 384x640 4 cars, 1 truck, 708.7ms\n",
      "Speed: 7.1ms preprocess, 708.7ms inference, 15.7ms postprocess per image at shape (1, 3, 384, 640)\n",
      "\n"
     ]
    },
    {
     "name": "stdout",
     "output_type": "stream",
     "text": [
      "0.88\n",
      "0.85\n",
      "0.83\n",
      "0.76\n",
      "0.68\n",
      "[        526      219.63      580.49      264.77         741]\n",
      "[     559.16      311.62      651.62      442.24         739]\n",
      "[      474.8      318.22      549.99      387.31         738]\n",
      "[     312.94      327.07      407.33      398.97         734]\n"
     ]
    },
    {
     "name": "stderr",
     "output_type": "stream",
     "text": [
      "0: 384x640 4 cars, 2 trucks, 706.7ms\n",
      "Speed: 0.0ms preprocess, 706.7ms inference, 0.0ms postprocess per image at shape (1, 3, 384, 640)\n",
      "\n"
     ]
    },
    {
     "name": "stdout",
     "output_type": "stream",
     "text": [
      "0.86\n",
      "0.81\n",
      "0.74\n",
      "0.65\n",
      "0.64\n",
      "0.55\n",
      "[     521.11      225.85      576.63      272.41         741]\n",
      "[     540.16      332.85       639.8      466.35         739]\n",
      "[     458.15      337.66      539.32      412.51         738]\n",
      "[     282.36      347.95      385.85      426.09         734]\n"
     ]
    },
    {
     "name": "stderr",
     "output_type": "stream",
     "text": [
      "0: 384x640 4 cars, 1 bus, 1 truck, 693.1ms\n",
      "Speed: 3.0ms preprocess, 693.1ms inference, 6.0ms postprocess per image at shape (1, 3, 384, 640)\n",
      "\n"
     ]
    },
    {
     "name": "stdout",
     "output_type": "stream",
     "text": [
      "0.84\n",
      "0.79\n",
      "0.77\n",
      "0.64\n",
      "0.54\n",
      "0.52\n",
      "[     502.99      199.15      546.16      224.97         743]\n",
      "[     514.42      234.26      571.65      282.81         741]\n",
      "[     521.49      356.06      625.42      480.21         739]\n",
      "[     438.41      360.09      526.89       441.6         738]\n",
      "[     245.71      370.51      360.35      455.05         734]\n"
     ]
    },
    {
     "name": "stderr",
     "output_type": "stream",
     "text": [
      "0: 384x640 5 cars, 1 truck, 678.1ms\n",
      "Speed: 3.8ms preprocess, 678.1ms inference, 0.0ms postprocess per image at shape (1, 3, 384, 640)\n",
      "\n"
     ]
    },
    {
     "name": "stdout",
     "output_type": "stream",
     "text": [
      "0.87\n",
      "0.81\n",
      "0.81\n",
      "0.76\n",
      "0.49\n",
      "0.39\n",
      "[     497.34      201.62      542.81      231.46         743]\n",
      "[     507.09      242.37      566.93      293.94         741]\n",
      "[     508.47      386.22      619.76       486.6         739]\n",
      "[     415.11      381.69      510.99      464.22         738]\n"
     ]
    },
    {
     "name": "stderr",
     "output_type": "stream",
     "text": [
      "0: 384x640 4 cars, 698.1ms\n",
      "Speed: 1.6ms preprocess, 698.1ms inference, 0.0ms postprocess per image at shape (1, 3, 384, 640)\n",
      "\n"
     ]
    },
    {
     "name": "stdout",
     "output_type": "stream",
     "text": [
      "0.82\n",
      "0.81\n",
      "0.8\n",
      "0.7\n",
      "[     178.07      428.01         289       474.3         745]\n",
      "[     491.71      205.99       537.2       237.7         743]\n",
      "[     498.66      251.87       561.2      306.46         741]\n",
      "[     393.41         405       496.8      476.37         738]\n"
     ]
    },
    {
     "name": "stderr",
     "output_type": "stream",
     "text": [
      "0: 384x640 2 cars, 726.4ms\n",
      "Speed: 0.0ms preprocess, 726.4ms inference, 0.0ms postprocess per image at shape (1, 3, 384, 640)\n",
      "\n"
     ]
    },
    {
     "name": "stdout",
     "output_type": "stream",
     "text": [
      "0.8\n",
      "0.71\n",
      "[     485.13      210.59      531.18      244.86         743]\n",
      "[     489.48      261.99      555.46         320         741]\n"
     ]
    },
    {
     "name": "stderr",
     "output_type": "stream",
     "text": [
      "0: 384x640 2 cars, 701.2ms\n",
      "Speed: 1.6ms preprocess, 701.2ms inference, 0.0ms postprocess per image at shape (1, 3, 384, 640)\n",
      "\n"
     ]
    },
    {
     "name": "stdout",
     "output_type": "stream",
     "text": [
      "0.79\n",
      "0.74\n",
      "[     478.31      215.98      526.36      252.97         743]\n",
      "[      478.6      272.27      548.51      333.95         741]\n"
     ]
    },
    {
     "name": "stderr",
     "output_type": "stream",
     "text": [
      "0: 384x640 2 cars, 710.8ms\n",
      "Speed: 0.0ms preprocess, 710.8ms inference, 0.0ms postprocess per image at shape (1, 3, 384, 640)\n",
      "\n"
     ]
    },
    {
     "name": "stdout",
     "output_type": "stream",
     "text": [
      "0.83\n",
      "0.72\n",
      "[     470.53      222.18      519.45      260.81         743]\n",
      "[     466.71      284.41      540.21      349.51         741]\n"
     ]
    },
    {
     "name": "stderr",
     "output_type": "stream",
     "text": [
      "0: 384x640 2 cars, 699.9ms\n",
      "Speed: 7.1ms preprocess, 699.9ms inference, 0.0ms postprocess per image at shape (1, 3, 384, 640)\n",
      "\n"
     ]
    },
    {
     "name": "stdout",
     "output_type": "stream",
     "text": [
      "0.82\n",
      "0.75\n",
      "[     462.43      229.51      513.15       269.7         743]\n",
      "[     452.16      297.84      531.09      367.67         741]\n"
     ]
    },
    {
     "name": "stderr",
     "output_type": "stream",
     "text": [
      "0: 384x640 3 cars, 699.8ms\n",
      "Speed: 8.0ms preprocess, 699.8ms inference, 0.0ms postprocess per image at shape (1, 3, 384, 640)\n",
      "\n"
     ]
    },
    {
     "name": "stdout",
     "output_type": "stream",
     "text": [
      "0.85\n",
      "0.81\n",
      "0.63\n",
      "[     452.54      236.81      505.42      278.71         743]\n",
      "[     436.82       312.8      520.82      387.67         741]\n"
     ]
    },
    {
     "name": "stderr",
     "output_type": "stream",
     "text": [
      "0: 384x640 3 cars, 686.0ms\n",
      "Speed: 3.7ms preprocess, 686.0ms inference, 0.0ms postprocess per image at shape (1, 3, 384, 640)\n",
      "\n"
     ]
    },
    {
     "name": "stdout",
     "output_type": "stream",
     "text": [
      "0.86\n",
      "0.81\n",
      "0.51\n",
      "[     441.69      245.09      496.82       289.4         743]\n",
      "[     419.82      330.33      509.56      410.92         741]\n"
     ]
    },
    {
     "name": "stderr",
     "output_type": "stream",
     "text": [
      "0: 384x640 3 cars, 706.4ms\n",
      "Speed: 0.0ms preprocess, 706.4ms inference, 0.0ms postprocess per image at shape (1, 3, 384, 640)\n",
      "\n"
     ]
    },
    {
     "name": "stdout",
     "output_type": "stream",
     "text": [
      "0.87\n",
      "0.78\n",
      "0.72\n",
      "[     430.12       253.9      487.65      300.51         743]\n",
      "[      399.4      350.15      496.85       438.6         741]\n"
     ]
    },
    {
     "name": "stderr",
     "output_type": "stream",
     "text": [
      "0: 384x640 4 cars, 705.0ms\n",
      "Speed: 2.3ms preprocess, 705.0ms inference, 0.0ms postprocess per image at shape (1, 3, 384, 640)\n",
      "\n"
     ]
    },
    {
     "name": "stdout",
     "output_type": "stream",
     "text": [
      "0.91\n",
      "0.84\n",
      "0.8\n",
      "0.43\n",
      "[     616.09      200.66      656.72      232.03         747]\n",
      "[     416.79      264.17      477.81      313.11         743]\n",
      "[     375.32      369.49      480.76      462.01         741]\n"
     ]
    },
    {
     "name": "stderr",
     "output_type": "stream",
     "text": [
      "0: 384x640 4 cars, 725.0ms\n",
      "Speed: 8.4ms preprocess, 725.0ms inference, 1.0ms postprocess per image at shape (1, 3, 384, 640)\n",
      "\n"
     ]
    },
    {
     "name": "stdout",
     "output_type": "stream",
     "text": [
      "0.91\n",
      "0.86\n",
      "0.72\n",
      "0.6\n",
      "[     614.94      202.74      657.09      238.95         747]\n",
      "[     401.38      274.91      465.88      326.98         743]\n",
      "[     352.08      388.66      463.86      473.89         741]\n"
     ]
    },
    {
     "name": "stderr",
     "output_type": "stream",
     "text": [
      "0: 384x640 4 cars, 740.2ms\n",
      "Speed: 0.0ms preprocess, 740.2ms inference, 1.1ms postprocess per image at shape (1, 3, 384, 640)\n",
      "\n"
     ]
    },
    {
     "name": "stdout",
     "output_type": "stream",
     "text": [
      "0.86\n",
      "0.81\n",
      "0.72\n",
      "0.7\n",
      "[     613.43      207.91      657.65      249.47         747]\n",
      "[     384.02      286.57      453.07      341.85         743]\n",
      "[     326.15      413.95      447.77      480.43         741]\n"
     ]
    },
    {
     "name": "stderr",
     "output_type": "stream",
     "text": [
      "0: 384x640 3 cars, 698.5ms\n",
      "Speed: 0.0ms preprocess, 698.5ms inference, 0.0ms postprocess per image at shape (1, 3, 384, 640)\n",
      "\n"
     ]
    },
    {
     "name": "stdout",
     "output_type": "stream",
     "text": [
      "0.88\n",
      "0.72\n",
      "0.71\n",
      "[     515.16      197.52      547.62      211.42         748]\n",
      "[     611.35      214.59      657.31      260.47         747]\n",
      "[     364.23      300.23      438.39      359.34         743]\n"
     ]
    },
    {
     "name": "stderr",
     "output_type": "stream",
     "text": [
      "0: 384x640 3 cars, 723.4ms\n",
      "Speed: 10.0ms preprocess, 723.4ms inference, 0.0ms postprocess per image at shape (1, 3, 384, 640)\n",
      "\n"
     ]
    },
    {
     "name": "stdout",
     "output_type": "stream",
     "text": [
      "0.9\n",
      "0.74\n",
      "0.67\n",
      "[     513.72      197.77      547.25      213.14         748]\n",
      "[     608.85      221.94      656.22      271.34         747]\n",
      "[     341.04      315.84      420.95       379.2         743]\n"
     ]
    },
    {
     "name": "stderr",
     "output_type": "stream",
     "text": [
      "0: 384x640 4 cars, 702.8ms\n",
      "Speed: 0.0ms preprocess, 702.8ms inference, 0.0ms postprocess per image at shape (1, 3, 384, 640)\n",
      "\n"
     ]
    },
    {
     "name": "stdout",
     "output_type": "stream",
     "text": [
      "0.89\n",
      "0.73\n",
      "0.62\n",
      "0.61\n",
      "[     511.65      198.15      546.64       215.5         748]\n",
      "[     605.33      231.29      655.76      285.13         747]\n",
      "[     315.51      333.55      402.28      401.82         743]\n"
     ]
    },
    {
     "name": "stderr",
     "output_type": "stream",
     "text": [
      "0: 384x640 4 cars, 746.2ms\n",
      "Speed: 0.0ms preprocess, 746.2ms inference, 2.4ms postprocess per image at shape (1, 3, 384, 640)\n",
      "\n"
     ]
    },
    {
     "name": "stdout",
     "output_type": "stream",
     "text": [
      "0.85\n",
      "0.77\n",
      "0.73\n",
      "0.71\n",
      "[     509.59       198.3      545.75      217.61         748]\n",
      "[     602.65      240.91      658.41      299.64         747]\n",
      "[     285.38      354.03       380.4      428.01         743]\n"
     ]
    },
    {
     "name": "stderr",
     "output_type": "stream",
     "text": [
      "0: 384x640 4 cars, 733.4ms\n",
      "Speed: 8.0ms preprocess, 733.4ms inference, 0.0ms postprocess per image at shape (1, 3, 384, 640)\n",
      "\n"
     ]
    },
    {
     "name": "stdout",
     "output_type": "stream",
     "text": [
      "0.86\n",
      "0.79\n",
      "0.77\n",
      "0.73\n",
      "[     507.48      198.57      544.83      220.13         748]\n",
      "[     594.72      253.47       652.3       316.2         747]\n",
      "[     249.63      376.55      354.07      456.46         743]\n"
     ]
    },
    {
     "name": "stderr",
     "output_type": "stream",
     "text": [
      "0: 384x640 4 cars, 1 truck, 700.8ms\n",
      "Speed: 0.0ms preprocess, 700.8ms inference, 0.0ms postprocess per image at shape (1, 3, 384, 640)\n",
      "\n"
     ]
    },
    {
     "name": "stdout",
     "output_type": "stream",
     "text": [
      "0.84\n",
      "0.79\n",
      "0.75\n",
      "0.57\n",
      "0.46\n",
      "[     621.81      199.83      659.39      224.05         749]\n",
      "[     505.18      199.39      542.73      222.96         748]\n",
      "[     588.61      266.95       650.6      334.26         747]\n",
      "[     214.98      398.76       347.8      471.04         743]\n"
     ]
    },
    {
     "name": "stderr",
     "output_type": "stream",
     "text": [
      "0: 384x640 4 cars, 705.2ms\n",
      "Speed: 3.0ms preprocess, 705.2ms inference, 0.0ms postprocess per image at shape (1, 3, 384, 640)\n",
      "\n"
     ]
    },
    {
     "name": "stdout",
     "output_type": "stream",
     "text": [
      "0.82\n",
      "0.81\n",
      "0.79\n",
      "0.32\n",
      "[     619.42      200.82      659.77      229.92         749]\n",
      "[     503.32      199.81      541.73       225.8         748]\n",
      "[     580.44      282.81      646.01      356.08         747]\n"
     ]
    },
    {
     "name": "stderr",
     "output_type": "stream",
     "text": [
      "0: 384x640 3 cars, 706.5ms\n",
      "Speed: 8.0ms preprocess, 706.5ms inference, 0.0ms postprocess per image at shape (1, 3, 384, 640)\n",
      "\n"
     ]
    },
    {
     "name": "stdout",
     "output_type": "stream",
     "text": [
      "0.82\n",
      "0.79\n",
      "0.57\n",
      "[     617.71      203.07      659.46      236.89         749]\n",
      "[     501.48      201.22      540.62      229.53         748]\n",
      "[     570.28      300.78      640.95      381.29         747]\n"
     ]
    },
    {
     "name": "stderr",
     "output_type": "stream",
     "text": [
      "0: 384x640 3 cars, 731.3ms\n",
      "Speed: 3.0ms preprocess, 731.3ms inference, 0.0ms postprocess per image at shape (1, 3, 384, 640)\n",
      "\n"
     ]
    },
    {
     "name": "stdout",
     "output_type": "stream",
     "text": [
      "0.83\n",
      "0.83\n",
      "0.62\n",
      "[     616.09      204.66      659.75      243.78         749]\n",
      "[     499.18      202.77      539.25      233.13         748]\n",
      "[     559.95      321.82      635.84      410.67         747]\n"
     ]
    },
    {
     "name": "stderr",
     "output_type": "stream",
     "text": [
      "0: 384x640 3 cars, 726.4ms\n",
      "Speed: 0.0ms preprocess, 726.4ms inference, 3.5ms postprocess per image at shape (1, 3, 384, 640)\n",
      "\n"
     ]
    },
    {
     "name": "stdout",
     "output_type": "stream",
     "text": [
      "0.8\n",
      "0.72\n",
      "0.46\n",
      "[      614.6      210.27      658.78      252.65         749]\n",
      "[     497.02      204.96      537.49      236.73         748]\n",
      "[     546.49      347.02      629.22      445.75         747]\n"
     ]
    },
    {
     "name": "stderr",
     "output_type": "stream",
     "text": [
      "0: 384x640 4 cars, 681.1ms\n",
      "Speed: 9.1ms preprocess, 681.1ms inference, 8.0ms postprocess per image at shape (1, 3, 384, 640)\n",
      "\n"
     ]
    },
    {
     "name": "stdout",
     "output_type": "stream",
     "text": [
      "0.83\n",
      "0.81\n",
      "0.76\n",
      "0.35\n",
      "[     612.88      216.73         659       262.7         749]\n",
      "[     494.25      207.68      534.93       240.7         748]\n",
      "[     532.53      370.96      620.08      468.55         747]\n"
     ]
    },
    {
     "name": "stderr",
     "output_type": "stream",
     "text": [
      "0: 384x640 5 cars, 694.9ms\n",
      "Speed: 0.0ms preprocess, 694.9ms inference, 8.0ms postprocess per image at shape (1, 3, 384, 640)\n",
      "\n"
     ]
    },
    {
     "name": "stdout",
     "output_type": "stream",
     "text": [
      "0.81\n",
      "0.78\n",
      "0.72\n",
      "0.5\n",
      "0.27\n",
      "[     612.42      222.95      660.34      272.29         749]\n",
      "[     491.97      210.42      532.67       244.3         748]\n",
      "[     521.15      397.94      612.53      481.15         747]\n"
     ]
    },
    {
     "name": "stderr",
     "output_type": "stream",
     "text": [
      "0: 384x640 5 cars, 705.5ms\n",
      "Speed: 2.7ms preprocess, 705.5ms inference, 0.5ms postprocess per image at shape (1, 3, 384, 640)\n",
      "\n"
     ]
    },
    {
     "name": "stdout",
     "output_type": "stream",
     "text": [
      "0.81\n",
      "0.81\n",
      "0.62\n",
      "0.56\n",
      "0.45\n",
      "[     609.06      230.93      660.06      283.84         749]\n",
      "[     489.03      213.06      530.73      248.52         748]\n"
     ]
    },
    {
     "name": "stderr",
     "output_type": "stream",
     "text": [
      "0: 384x640 4 cars, 690.4ms\n",
      "Speed: 8.1ms preprocess, 690.4ms inference, 0.0ms postprocess per image at shape (1, 3, 384, 640)\n",
      "\n"
     ]
    },
    {
     "name": "stdout",
     "output_type": "stream",
     "text": [
      "0.83\n",
      "0.8\n",
      "0.74\n",
      "0.54\n",
      "[     631.67      201.02      666.01      237.87         751]\n",
      "[     605.56      239.79      660.26      296.49         749]\n",
      "[     486.36      215.92      528.39       252.7         748]\n"
     ]
    },
    {
     "name": "stderr",
     "output_type": "stream",
     "text": [
      "0: 384x640 6 cars, 698.0ms\n",
      "Speed: 0.0ms preprocess, 698.0ms inference, 8.0ms postprocess per image at shape (1, 3, 384, 640)\n",
      "\n"
     ]
    },
    {
     "name": "stdout",
     "output_type": "stream",
     "text": [
      "0.82\n",
      "0.79\n",
      "0.76\n",
      "0.61\n",
      "0.5\n",
      "0.27\n",
      "[     575.49      198.87      617.23      219.89         752]\n",
      "[     628.56      203.33       665.6      246.67         751]\n",
      "[     601.63       250.1      658.37       309.7         749]\n",
      "[     482.49      219.79      525.23      257.26         748]\n"
     ]
    },
    {
     "name": "stderr",
     "output_type": "stream",
     "text": [
      "0: 384x640 5 cars, 700.9ms\n",
      "Speed: 8.0ms preprocess, 700.9ms inference, 7.0ms postprocess per image at shape (1, 3, 384, 640)\n",
      "\n"
     ]
    },
    {
     "name": "stdout",
     "output_type": "stream",
     "text": [
      "0.84\n",
      "0.82\n",
      "0.75\n",
      "0.66\n",
      "0.57\n",
      "[     571.89      200.03      615.99      224.75         752]\n",
      "[     623.57      209.04       662.1      256.57         751]\n",
      "[     593.52      261.86      653.77      326.12         749]\n",
      "[     479.02      223.88      522.25       262.1         748]\n"
     ]
    },
    {
     "name": "stderr",
     "output_type": "stream",
     "text": [
      "0: 384x640 6 cars, 701.2ms\n",
      "Speed: 0.0ms preprocess, 701.2ms inference, 0.0ms postprocess per image at shape (1, 3, 384, 640)\n",
      "\n"
     ]
    },
    {
     "name": "stdout",
     "output_type": "stream",
     "text": [
      "0.84\n",
      "0.8\n",
      "0.73\n",
      "0.68\n",
      "0.45\n",
      "0.37\n",
      "[     566.87      201.44      614.59      231.59         752]\n",
      "[     622.18      214.47      661.45      264.47         751]\n",
      "[     587.29      273.57       650.7      341.64         749]\n",
      "[     474.27      228.35      518.79      268.03         748]\n"
     ]
    },
    {
     "name": "stderr",
     "output_type": "stream",
     "text": [
      "0: 384x640 5 cars, 709.9ms\n",
      "Speed: 0.0ms preprocess, 709.9ms inference, 0.0ms postprocess per image at shape (1, 3, 384, 640)\n",
      "\n"
     ]
    },
    {
     "name": "stdout",
     "output_type": "stream",
     "text": [
      "0.83\n",
      "0.82\n",
      "0.76\n",
      "0.71\n",
      "0.65\n",
      "[     508.87      197.76      545.35      216.08         754]\n",
      "[     562.18      203.45      611.67      237.78         752]\n",
      "[     619.44      220.38      662.22      274.57         751]\n",
      "[     579.88      287.55      646.83       360.4         749]\n",
      "[     469.46      232.98      515.41       273.7         748]\n"
     ]
    },
    {
     "name": "stderr",
     "output_type": "stream",
     "text": [
      "0: 384x640 5 cars, 723.6ms\n",
      "Speed: 8.0ms preprocess, 723.6ms inference, 0.0ms postprocess per image at shape (1, 3, 384, 640)\n",
      "\n"
     ]
    },
    {
     "name": "stdout",
     "output_type": "stream",
     "text": [
      "0.88\n",
      "0.82\n",
      "0.76\n",
      "0.72\n",
      "0.65\n",
      "[     507.47       198.7      545.34      218.93         754]\n",
      "[     556.82       207.7      608.36      246.55         752]\n",
      "[     616.67      227.82      663.04      286.07         751]\n",
      "[     570.83      303.88      643.22      383.42         749]\n",
      "[     464.09      237.91      511.93      279.68         748]\n"
     ]
    },
    {
     "name": "stderr",
     "output_type": "stream",
     "text": [
      "0: 384x640 5 cars, 1 truck, 707.6ms\n",
      "Speed: 7.0ms preprocess, 707.6ms inference, 0.0ms postprocess per image at shape (1, 3, 384, 640)\n",
      "\n"
     ]
    },
    {
     "name": "stdout",
     "output_type": "stream",
     "text": [
      "0.89\n",
      "0.85\n",
      "0.77\n",
      "0.72\n",
      "0.51\n",
      "0.46\n",
      "[     504.18      198.55       544.6      221.59         754]\n",
      "[     551.26      212.81      604.23      255.41         752]\n",
      "[     614.05      235.59      664.37      297.56         751]\n",
      "[     560.36      322.41      638.58      409.96         749]\n",
      "[     458.06      242.67      507.59      286.04         748]\n"
     ]
    },
    {
     "name": "stderr",
     "output_type": "stream",
     "text": [
      "0: 384x640 6 cars, 688.4ms\n",
      "Speed: 3.4ms preprocess, 688.4ms inference, 0.0ms postprocess per image at shape (1, 3, 384, 640)\n",
      "\n"
     ]
    },
    {
     "name": "stdout",
     "output_type": "stream",
     "text": [
      "0.87\n",
      "0.83\n",
      "0.83\n",
      "0.78\n",
      "0.69\n",
      "0.4\n",
      "[     502.28      198.62      544.53      224.36         754]\n",
      "[     546.34      219.48      600.47      265.01         752]\n",
      "[     608.68      243.86      663.32      309.97         751]\n",
      "[     545.62      344.58      630.09      440.83         749]\n",
      "[     451.36      247.72      502.69      292.81         748]\n"
     ]
    },
    {
     "name": "stderr",
     "output_type": "stream",
     "text": [
      "0: 384x640 6 cars, 703.2ms\n",
      "Speed: 4.0ms preprocess, 703.2ms inference, 0.0ms postprocess per image at shape (1, 3, 384, 640)\n",
      "\n"
     ]
    },
    {
     "name": "stdout",
     "output_type": "stream",
     "text": [
      "0.89\n",
      "0.86\n",
      "0.82\n",
      "0.79\n",
      "0.72\n",
      "0.58\n",
      "[     500.18      199.99      543.27      228.04         754]\n",
      "[     539.73       226.3      595.42      274.57         752]\n",
      "[     604.24      253.72      662.13      323.92         751]\n",
      "[     529.91      365.39      621.52      464.17         749]\n",
      "[     443.96      253.32       497.4      299.96         748]\n"
     ]
    },
    {
     "name": "stderr",
     "output_type": "stream",
     "text": [
      "0: 384x640 7 cars, 1 truck, 700.6ms\n",
      "Speed: 0.0ms preprocess, 700.6ms inference, 0.0ms postprocess per image at shape (1, 3, 384, 640)\n",
      "\n"
     ]
    },
    {
     "name": "stdout",
     "output_type": "stream",
     "text": [
      "0.84\n",
      "0.8\n",
      "0.79\n",
      "0.76\n",
      "0.67\n",
      "0.62\n",
      "0.48\n",
      "0.42\n",
      "[     498.24      201.78      542.05      232.05         754]\n",
      "[     533.53      234.95      590.91       286.3         752]\n",
      "[     597.83      265.44      661.23      341.11         751]\n",
      "[     516.54      388.32      614.21      476.71         749]\n",
      "[     434.89      259.52      490.75      308.14         748]\n"
     ]
    },
    {
     "name": "stderr",
     "output_type": "stream",
     "text": [
      "0: 384x640 7 cars, 699.4ms\n",
      "Speed: 3.5ms preprocess, 699.4ms inference, 5.2ms postprocess per image at shape (1, 3, 384, 640)\n",
      "\n"
     ]
    },
    {
     "name": "stdout",
     "output_type": "stream",
     "text": [
      "0.86\n",
      "0.8\n",
      "0.79\n",
      "0.75\n",
      "0.68\n",
      "0.61\n",
      "0.55\n",
      "[     580.91      199.71      620.13      225.31         757]\n",
      "[      495.9      204.18      540.63      236.36         754]\n",
      "[     523.71      244.51      584.39      299.21         752]\n",
      "[     591.03      276.99      658.79      357.67         751]\n",
      "[     425.37      266.14      484.09       316.5         748]\n"
     ]
    },
    {
     "name": "stderr",
     "output_type": "stream",
     "text": [
      "0: 384x640 6 cars, 1 truck, 697.9ms\n",
      "Speed: 9.8ms preprocess, 697.9ms inference, 0.0ms postprocess per image at shape (1, 3, 384, 640)\n",
      "\n"
     ]
    },
    {
     "name": "stdout",
     "output_type": "stream",
     "text": [
      "0.86\n",
      "0.78\n",
      "0.77\n",
      "0.76\n",
      "0.65\n",
      "0.52\n",
      "0.41\n",
      "[     577.02      202.18      618.23      231.22         757]\n",
      "[     493.62      206.58      538.28      239.65         754]\n",
      "[      513.9      254.75      577.14      312.84         752]\n",
      "[     582.75      292.19      655.16       378.8         751]\n",
      "[     414.27       273.5      476.26       326.3         748]\n"
     ]
    },
    {
     "name": "stderr",
     "output_type": "stream",
     "text": [
      "0: 384x640 6 cars, 1 truck, 703.5ms\n",
      "Speed: 0.0ms preprocess, 703.5ms inference, 0.0ms postprocess per image at shape (1, 3, 384, 640)\n",
      "\n"
     ]
    },
    {
     "name": "stdout",
     "output_type": "stream",
     "text": [
      "0.86\n",
      "0.81\n",
      "0.79\n",
      "0.77\n",
      "0.68\n",
      "0.48\n",
      "0.41\n",
      "[     627.82      201.46      663.78      235.02         758]\n",
      "[     573.86      207.15      616.15      238.87         757]\n",
      "[      490.4      209.91      535.21      243.61         754]\n",
      "[      500.9      266.82      568.87      329.73         752]\n",
      "[     574.09       307.3      654.22      401.73         751]\n",
      "[     402.85      281.81      467.71       336.6         748]\n"
     ]
    },
    {
     "name": "stderr",
     "output_type": "stream",
     "text": [
      "0: 384x640 6 cars, 1 truck, 705.6ms\n",
      "Speed: 5.2ms preprocess, 705.6ms inference, 8.2ms postprocess per image at shape (1, 3, 384, 640)\n",
      "\n"
     ]
    },
    {
     "name": "stdout",
     "output_type": "stream",
     "text": [
      "0.88\n",
      "0.83\n",
      "0.82\n",
      "0.79\n",
      "0.71\n",
      "0.51\n",
      "0.41\n",
      "[     625.12      202.69      662.93      241.19         758]\n",
      "[     569.83      212.08      613.68      246.37         757]\n",
      "[     487.47      213.63      532.59      247.76         754]\n",
      "[     488.07      279.83      560.22      347.51         752]\n",
      "[     561.55      327.48      646.87      430.02         751]\n",
      "[     389.77      290.23      457.86      347.32         748]\n"
     ]
    },
    {
     "name": "stderr",
     "output_type": "stream",
     "text": [
      "0: 384x640 5 cars, 1 truck, 710.8ms\n",
      "Speed: 0.0ms preprocess, 710.8ms inference, 0.0ms postprocess per image at shape (1, 3, 384, 640)\n",
      "\n"
     ]
    },
    {
     "name": "stdout",
     "output_type": "stream",
     "text": [
      "0.88\n",
      "0.81\n",
      "0.77\n",
      "0.73\n",
      "0.69\n",
      "0.67\n",
      "[     466.71       295.9      549.32      375.19         761]\n",
      "[     621.56      205.74      661.87      248.21         758]\n",
      "[      565.8       218.5      610.81      255.04         757]\n",
      "[     484.07      217.21      530.07      252.26         754]\n",
      "[      546.8      348.15      637.25      457.06         751]\n",
      "[     375.03      299.61      447.27      359.86         748]\n"
     ]
    },
    {
     "name": "stderr",
     "output_type": "stream",
     "text": [
      "0: 384x640 5 cars, 1 truck, 714.4ms\n",
      "Speed: 1.4ms preprocess, 714.4ms inference, 0.0ms postprocess per image at shape (1, 3, 384, 640)\n",
      "\n"
     ]
    },
    {
     "name": "stdout",
     "output_type": "stream",
     "text": [
      "0.87\n",
      "0.85\n",
      "0.81\n",
      "0.72\n",
      "0.66\n",
      "0.56\n",
      "[     446.77      312.77       537.4      399.96         761]\n",
      "[     618.62      210.12      660.57      256.84         758]\n",
      "[     560.71      224.83       607.5      263.98         757]\n",
      "[     480.42      220.64      527.67      256.96         754]\n",
      "[     531.49      368.11       627.2      472.63         751]\n",
      "[     358.77      310.64      435.37      373.75         748]\n"
     ]
    },
    {
     "name": "stderr",
     "output_type": "stream",
     "text": [
      "0: 384x640 5 cars, 1 truck, 703.3ms\n",
      "Speed: 3.9ms preprocess, 703.3ms inference, 0.0ms postprocess per image at shape (1, 3, 384, 640)\n",
      "\n"
     ]
    },
    {
     "name": "stdout",
     "output_type": "stream",
     "text": [
      "0.87\n",
      "0.85\n",
      "0.78\n",
      "0.77\n",
      "0.66\n",
      "0.65\n",
      "[     424.31      334.01      523.13      429.85         761]\n",
      "[     616.39      216.36       660.8      266.62         758]\n",
      "[     554.43       232.8      602.83      274.01         757]\n",
      "[     475.33       225.1      524.02      262.62         754]\n",
      "[     520.36      393.82      621.84      481.71         751]\n",
      "[     340.99      322.42         422      389.29         748]\n"
     ]
    },
    {
     "name": "stderr",
     "output_type": "stream",
     "text": [
      "0: 384x640 5 cars, 1 truck, 710.6ms\n",
      "Speed: 8.0ms preprocess, 710.6ms inference, 2.6ms postprocess per image at shape (1, 3, 384, 640)\n",
      "\n"
     ]
    },
    {
     "name": "stdout",
     "output_type": "stream",
     "text": [
      "0.86\n",
      "0.86\n",
      "0.79\n",
      "0.72\n",
      "0.64\n",
      "0.28\n",
      "[     396.52      356.59      505.72       461.8         761]\n",
      "[     614.74      222.11       661.9      275.11         758]\n",
      "[     547.88      242.06      598.21      285.03         757]\n",
      "[     470.16      229.96      520.14       268.6         754]\n",
      "[     321.29       335.4      407.51      406.47         748]\n"
     ]
    },
    {
     "name": "stderr",
     "output_type": "stream",
     "text": [
      "0: 384x640 5 cars, 1 truck, 711.0ms\n",
      "Speed: 8.4ms preprocess, 711.0ms inference, 0.0ms postprocess per image at shape (1, 3, 384, 640)\n",
      "\n"
     ]
    },
    {
     "name": "stdout",
     "output_type": "stream",
     "text": [
      "0.8\n",
      "0.79\n",
      "0.73\n",
      "0.64\n",
      "0.57\n",
      "0.45\n",
      "[     366.08      379.54      483.44      478.28         761]\n",
      "[     610.94      229.53       660.9      285.32         758]\n",
      "[     540.54      251.16      593.65         297         757]\n",
      "[     464.49      234.49      515.98      274.51         754]\n",
      "[     298.01      350.18      390.92      426.14         748]\n"
     ]
    },
    {
     "name": "stderr",
     "output_type": "stream",
     "text": [
      "0: 384x640 7 cars, 1 truck, 720.0ms\n",
      "Speed: 28.4ms preprocess, 720.0ms inference, 0.0ms postprocess per image at shape (1, 3, 384, 640)\n",
      "\n"
     ]
    },
    {
     "name": "stdout",
     "output_type": "stream",
     "text": [
      "0.81\n",
      "0.76\n",
      "0.76\n",
      "0.73\n",
      "0.63\n",
      "0.54\n",
      "0.52\n",
      "0.4\n",
      "[     336.94      408.34      460.21      485.01         761]\n",
      "[     606.83      237.58      660.68      296.75         758]\n",
      "[     530.09      262.25      587.32      311.21         757]\n",
      "[     458.14      239.97      511.57      281.29         754]\n",
      "[      272.5      365.67       372.5      447.99         748]\n"
     ]
    },
    {
     "name": "stderr",
     "output_type": "stream",
     "text": [
      "0: 384x640 7 cars, 708.2ms\n",
      "Speed: 8.0ms preprocess, 708.2ms inference, 0.0ms postprocess per image at shape (1, 3, 384, 640)\n",
      "\n"
     ]
    },
    {
     "name": "stdout",
     "output_type": "stream",
     "text": [
      "0.85\n",
      "0.8\n",
      "0.77\n",
      "0.76\n",
      "0.62\n",
      "0.54\n",
      "0.53\n",
      "[     601.66      246.98      658.36      308.81         758]\n",
      "[     520.93      274.16      581.89      326.12         757]\n",
      "[     450.79      245.51      506.53      288.66         754]\n",
      "[     243.25      381.63      350.48      464.53         748]\n"
     ]
    },
    {
     "name": "stderr",
     "output_type": "stream",
     "text": [
      "0: 384x640 7 cars, 721.9ms\n",
      "Speed: 0.0ms preprocess, 721.9ms inference, 0.0ms postprocess per image at shape (1, 3, 384, 640)\n",
      "\n"
     ]
    },
    {
     "name": "stdout",
     "output_type": "stream",
     "text": [
      "0.87\n",
      "0.82\n",
      "0.77\n",
      "0.76\n",
      "0.63\n",
      "0.57\n",
      "0.56\n",
      "[     573.44      199.63      611.54      220.91         762]\n",
      "[     595.07      257.39      654.98      323.86         758]\n",
      "[     509.92      287.49       575.2      343.43         757]\n",
      "[     442.37      252.11      500.65      297.17         754]\n",
      "[     216.03      397.31      329.59      473.59         748]\n"
     ]
    },
    {
     "name": "stderr",
     "output_type": "stream",
     "text": [
      "0: 384x640 8 cars, 729.0ms\n",
      "Speed: 0.0ms preprocess, 729.0ms inference, 0.0ms postprocess per image at shape (1, 3, 384, 640)\n",
      "\n"
     ]
    },
    {
     "name": "stdout",
     "output_type": "stream",
     "text": [
      "0.81\n",
      "0.77\n",
      "0.76\n",
      "0.71\n",
      "0.64\n",
      "0.52\n",
      "0.42\n",
      "0.29\n",
      "[     522.17      197.37      557.89      212.63         764]\n",
      "[     569.68      201.55      609.48      225.98         762]\n",
      "[     587.98      269.35      651.85      340.12         758]\n",
      "[     497.11      303.44       567.2      363.44         757]\n",
      "[        434      258.46      494.66      305.43         754]\n",
      "[     185.24      416.43      306.38      478.85         748]\n"
     ]
    },
    {
     "name": "stderr",
     "output_type": "stream",
     "text": [
      "0: 384x640 6 cars, 715.7ms\n",
      "Speed: 0.0ms preprocess, 715.7ms inference, 8.0ms postprocess per image at shape (1, 3, 384, 640)\n",
      "\n"
     ]
    },
    {
     "name": "stdout",
     "output_type": "stream",
     "text": [
      "0.85\n",
      "0.83\n",
      "0.78\n",
      "0.68\n",
      "0.65\n",
      "0.64\n",
      "[     522.83      197.79      560.04      214.77         764]\n",
      "[     565.43      205.52      607.01      232.78         762]\n",
      "[      580.2      281.69      648.05      356.96         758]\n",
      "[     481.04      321.99      556.73      386.74         757]\n",
      "[     424.39         266      487.31       314.9         754]\n"
     ]
    },
    {
     "name": "stderr",
     "output_type": "stream",
     "text": [
      "0: 384x640 6 cars, 707.6ms\n",
      "Speed: 9.7ms preprocess, 707.6ms inference, 0.0ms postprocess per image at shape (1, 3, 384, 640)\n",
      "\n"
     ]
    },
    {
     "name": "stdout",
     "output_type": "stream",
     "text": [
      "0.87\n",
      "0.86\n",
      "0.8\n",
      "0.74\n",
      "0.71\n",
      "0.63\n",
      "[     523.93      198.14      561.17      216.63         764]\n",
      "[     562.01      209.39      604.17      238.62         762]\n",
      "[     570.87       297.8      643.32      379.57         758]\n",
      "[      461.9      343.37      544.58      414.61         757]\n",
      "[     413.07      274.11       479.4      325.36         754]\n",
      "[     639.54      213.05      661.74      243.34         753]\n"
     ]
    },
    {
     "name": "stderr",
     "output_type": "stream",
     "text": [
      "0: 384x640 6 cars, 704.3ms\n",
      "Speed: 3.9ms preprocess, 704.3ms inference, 1.6ms postprocess per image at shape (1, 3, 384, 640)\n",
      "\n"
     ]
    },
    {
     "name": "stdout",
     "output_type": "stream",
     "text": [
      "0.88\n",
      "0.83\n",
      "0.8\n",
      "0.75\n",
      "0.72\n",
      "0.68\n",
      "[     523.25      198.24      561.76      218.62         764]\n",
      "[     557.24      215.42      600.75      246.79         762]\n",
      "[     560.56      315.93      638.68       406.3         758]\n",
      "[     401.23       283.7      471.17       337.5         754]\n",
      "[     639.35      217.85      660.66      249.61         753]\n"
     ]
    },
    {
     "name": "stderr",
     "output_type": "stream",
     "text": [
      "0: 384x640 6 cars, 713.6ms\n",
      "Speed: 0.0ms preprocess, 713.6ms inference, 0.0ms postprocess per image at shape (1, 3, 384, 640)\n",
      "\n"
     ]
    },
    {
     "name": "stdout",
     "output_type": "stream",
     "text": [
      "0.87\n",
      "0.87\n",
      "0.83\n",
      "0.75\n",
      "0.73\n",
      "0.72\n",
      "[     522.46      198.78      561.72      221.52         764]\n",
      "[     553.05      220.35      598.16      254.14         762]\n",
      "[     547.59      336.43      631.14      435.52         758]\n",
      "[     387.39      293.14      461.39      349.67         754]\n",
      "[     638.38      223.98      659.82      258.06         753]\n"
     ]
    },
    {
     "name": "stderr",
     "output_type": "stream",
     "text": [
      "0: 384x640 7 cars, 701.7ms\n",
      "Speed: 10.9ms preprocess, 701.7ms inference, 0.0ms postprocess per image at shape (1, 3, 384, 640)\n",
      "\n"
     ]
    },
    {
     "name": "stdout",
     "output_type": "stream",
     "text": [
      "0.86\n",
      "0.83\n",
      "0.76\n",
      "0.76\n",
      "0.75\n",
      "0.74\n",
      "0.3\n",
      "[     521.52       199.1      561.59      224.41         764]\n",
      "[      547.6      227.38      593.95      263.41         762]\n",
      "[     533.44      356.85      624.03      460.64         758]\n",
      "[     371.42      303.97      449.82      363.63         754]\n",
      "[     637.67      231.24       661.8      267.35         753]\n"
     ]
    },
    {
     "name": "stderr",
     "output_type": "stream",
     "text": [
      "0: 384x640 6 cars, 725.8ms\n",
      "Speed: 8.3ms preprocess, 725.8ms inference, 1.1ms postprocess per image at shape (1, 3, 384, 640)\n",
      "\n"
     ]
    },
    {
     "name": "stdout",
     "output_type": "stream",
     "text": [
      "0.81\n",
      "0.8\n",
      "0.79\n",
      "0.76\n",
      "0.71\n",
      "0.55\n",
      "[     520.02      198.89      560.61      226.37         764]\n",
      "[     541.47      234.09      589.38      271.72         762]\n",
      "[     519.67      378.75       616.3      474.74         758]\n",
      "[     353.64      316.71      437.31      380.12         754]\n",
      "[     635.65      238.96      662.98      278.18         753]\n"
     ]
    },
    {
     "name": "stderr",
     "output_type": "stream",
     "text": [
      "0: 384x640 7 cars, 706.4ms\n",
      "Speed: 0.0ms preprocess, 706.4ms inference, 0.0ms postprocess per image at shape (1, 3, 384, 640)\n",
      "\n"
     ]
    },
    {
     "name": "stdout",
     "output_type": "stream",
     "text": [
      "0.88\n",
      "0.83\n",
      "0.82\n",
      "0.82\n",
      "0.77\n",
      "0.63\n",
      "0.6\n",
      "[     518.36      199.59      559.98      229.58         764]\n",
      "[     535.37      241.51      585.11      281.48         762]\n",
      "[     333.74      330.89      423.32      398.77         754]\n",
      "[     632.52      248.22      664.48      290.81         753]\n"
     ]
    },
    {
     "name": "stderr",
     "output_type": "stream",
     "text": [
      "0: 384x640 6 cars, 716.6ms\n",
      "Speed: 0.0ms preprocess, 716.6ms inference, 0.0ms postprocess per image at shape (1, 3, 384, 640)\n",
      "\n"
     ]
    },
    {
     "name": "stdout",
     "output_type": "stream",
     "text": [
      "0.81\n",
      "0.79\n",
      "0.74\n",
      "0.73\n",
      "0.73\n",
      "0.72\n",
      "[     630.27      199.32      666.29       220.7         767]\n",
      "[     516.15      200.35      559.32      232.86         764]\n",
      "[      526.5      250.13      579.09      292.81         762]\n",
      "[     310.72      346.75       407.2      419.67         754]\n",
      "[     628.49      258.06      664.61      303.42         753]\n"
     ]
    },
    {
     "name": "stderr",
     "output_type": "stream",
     "text": [
      "0: 384x640 6 cars, 1 truck, 699.1ms\n",
      "Speed: 0.0ms preprocess, 699.1ms inference, 0.0ms postprocess per image at shape (1, 3, 384, 640)\n",
      "\n"
     ]
    },
    {
     "name": "stdout",
     "output_type": "stream",
     "text": [
      "0.84\n",
      "0.81\n",
      "0.76\n",
      "0.75\n",
      "0.66\n",
      "0.58\n",
      "0.46\n",
      "[     628.64       200.1      667.87      225.74         767]\n",
      "[     513.36      201.69      557.72      236.26         764]\n",
      "[      518.1       259.2      573.59      304.67         762]\n",
      "[     284.05      364.97      388.89      444.22         754]\n",
      "[     622.38      269.09       662.7      317.62         753]\n"
     ]
    },
    {
     "name": "stderr",
     "output_type": "stream",
     "text": [
      "0: 384x640 6 cars, 1 truck, 735.5ms\n",
      "Speed: 0.0ms preprocess, 735.5ms inference, 0.0ms postprocess per image at shape (1, 3, 384, 640)\n",
      "\n"
     ]
    },
    {
     "name": "stdout",
     "output_type": "stream",
     "text": [
      "0.84\n",
      "0.81\n",
      "0.77\n",
      "0.76\n",
      "0.66\n",
      "0.6\n",
      "0.47\n",
      "[     579.88      198.77      617.54      221.93         768]\n",
      "[     626.53      203.13      666.33      231.64         767]\n",
      "[     510.35      202.84      555.78      239.43         764]\n",
      "[     508.62      269.55      566.95      317.57         762]\n",
      "[     254.31      382.04      367.58         463         754]\n",
      "[     615.65      281.96      660.52      334.25         753]\n"
     ]
    },
    {
     "name": "stderr",
     "output_type": "stream",
     "text": [
      "0: 384x640 5 cars, 1 truck, 702.9ms\n",
      "Speed: 3.9ms preprocess, 702.9ms inference, 0.0ms postprocess per image at shape (1, 3, 384, 640)\n",
      "\n"
     ]
    },
    {
     "name": "stdout",
     "output_type": "stream",
     "text": [
      "0.81\n",
      "0.81\n",
      "0.76\n",
      "0.76\n",
      "0.76\n",
      "0.72\n",
      "[     576.61      200.44      616.17      227.02         768]\n",
      "[      623.9      208.79      663.53       239.4         767]\n",
      "[     507.43      204.73      554.24      243.68         764]\n",
      "[     497.67      280.89      559.63      332.28         762]\n",
      "[     608.97       296.6      657.98      352.64         753]\n"
     ]
    },
    {
     "name": "stderr",
     "output_type": "stream",
     "text": [
      "0: 384x640 6 cars, 707.4ms\n",
      "Speed: 1.7ms preprocess, 707.4ms inference, 0.0ms postprocess per image at shape (1, 3, 384, 640)\n",
      "\n"
     ]
    },
    {
     "name": "stdout",
     "output_type": "stream",
     "text": [
      "0.84\n",
      "0.75\n",
      "0.74\n",
      "0.72\n",
      "0.72\n",
      "0.7\n",
      "[     573.24      203.59      614.67      233.12         768]\n",
      "[     621.91      214.11      661.62      246.82         767]\n",
      "[     504.21      206.52      551.86      247.38         764]\n",
      "[     484.31      294.23      550.67      349.28         762]\n",
      "[      602.1      313.19      658.81      374.28         753]\n"
     ]
    },
    {
     "name": "stderr",
     "output_type": "stream",
     "text": [
      "0: 384x640 5 cars, 724.6ms\n",
      "Speed: 5.0ms preprocess, 724.6ms inference, 0.0ms postprocess per image at shape (1, 3, 384, 640)\n",
      "\n"
     ]
    },
    {
     "name": "stdout",
     "output_type": "stream",
     "text": [
      "0.86\n",
      "0.79\n",
      "0.79\n",
      "0.74\n",
      "0.68\n",
      "[     569.54      207.14      611.99      238.79         768]\n",
      "[     619.61      219.57      661.28      254.48         767]\n",
      "[     500.18      208.28      549.24      250.87         764]\n",
      "[     469.79      308.95      540.73      367.79         762]\n",
      "[     592.01      332.24      654.93      398.64         753]\n"
     ]
    },
    {
     "name": "stderr",
     "output_type": "stream",
     "text": [
      "0: 384x640 5 cars, 704.2ms\n",
      "Speed: 0.0ms preprocess, 704.2ms inference, 0.0ms postprocess per image at shape (1, 3, 384, 640)\n",
      "\n"
     ]
    },
    {
     "name": "stdout",
     "output_type": "stream",
     "text": [
      "0.82\n",
      "0.81\n",
      "0.78\n",
      "0.75\n",
      "0.53\n",
      "[     565.14      211.73      608.83      245.48         768]\n",
      "[      617.4      226.85      660.61       263.8         767]\n",
      "[     496.05      210.76      546.34      254.84         764]\n",
      "[     452.28      325.31      528.42      388.96         762]\n",
      "[     578.72      355.48      646.68      428.52         753]\n"
     ]
    },
    {
     "name": "stderr",
     "output_type": "stream",
     "text": [
      "0: 384x640 6 cars, 701.5ms\n",
      "Speed: 4.5ms preprocess, 701.5ms inference, 0.0ms postprocess per image at shape (1, 3, 384, 640)\n",
      "\n"
     ]
    },
    {
     "name": "stdout",
     "output_type": "stream",
     "text": [
      "0.87\n",
      "0.8\n",
      "0.79\n",
      "0.72\n",
      "0.55\n",
      "0.53\n",
      "[     559.99      217.83      605.33      253.39         768]\n",
      "[     614.77      234.08      659.61      273.05         767]\n",
      "[     491.43      214.19      543.14      259.63         764]\n",
      "[     432.12      344.85      514.81      414.44         762]\n",
      "[     558.36      379.62      632.89      456.54         753]\n"
     ]
    },
    {
     "name": "stderr",
     "output_type": "stream",
     "text": [
      "0: 384x640 6 cars, 734.6ms\n",
      "Speed: 0.0ms preprocess, 734.6ms inference, 0.0ms postprocess per image at shape (1, 3, 384, 640)\n",
      "\n"
     ]
    },
    {
     "name": "stdout",
     "output_type": "stream",
     "text": [
      "0.78\n",
      "0.77\n",
      "0.68\n",
      "0.63\n",
      "0.54\n",
      "0.51\n",
      "[     554.09      223.56      600.87      261.23         768]\n",
      "[     610.52      242.48      657.27      284.37         767]\n",
      "[     486.38      217.72      539.43      264.96         764]\n",
      "[     408.27      367.86       498.9      445.07         762]\n"
     ]
    },
    {
     "name": "stderr",
     "output_type": "stream",
     "text": [
      "0: 384x640 5 cars, 711.0ms\n",
      "Speed: 0.0ms preprocess, 711.0ms inference, 0.0ms postprocess per image at shape (1, 3, 384, 640)\n",
      "\n"
     ]
    },
    {
     "name": "stdout",
     "output_type": "stream",
     "text": [
      "0.87\n",
      "0.8\n",
      "0.74\n",
      "0.63\n",
      "0.62\n",
      "[     548.42      230.51      596.93      269.67         768]\n",
      "[     606.09      251.38      655.38      296.36         767]\n",
      "[     480.78      221.29      535.29      269.83         764]\n",
      "[     381.11      389.66       479.5      466.35         762]\n"
     ]
    },
    {
     "name": "stderr",
     "output_type": "stream",
     "text": [
      "0: 384x640 6 cars, 713.8ms\n",
      "Speed: 0.0ms preprocess, 713.8ms inference, 0.0ms postprocess per image at shape (1, 3, 384, 640)\n",
      "\n"
     ]
    },
    {
     "name": "stdout",
     "output_type": "stream",
     "text": [
      "0.83\n",
      "0.78\n",
      "0.64\n",
      "0.63\n",
      "0.53\n",
      "0.51\n",
      "[     634.99      234.34      661.96      270.02         771]\n",
      "[      541.4      238.19      591.97      278.68         768]\n",
      "[     600.56      262.13      652.04      309.52         767]\n",
      "[     474.92      225.32      531.05      275.37         764]\n"
     ]
    },
    {
     "name": "stderr",
     "output_type": "stream",
     "text": [
      "0: 384x640 6 cars, 707.3ms\n",
      "Speed: 0.0ms preprocess, 707.3ms inference, 6.1ms postprocess per image at shape (1, 3, 384, 640)\n",
      "\n"
     ]
    },
    {
     "name": "stdout",
     "output_type": "stream",
     "text": [
      "0.87\n",
      "0.82\n",
      "0.73\n",
      "0.52\n",
      "0.43\n",
      "0.41\n",
      "[     631.71      242.53      664.04      283.34         771]\n",
      "[     533.39      246.04      585.81      288.63         768]\n",
      "[     468.28      229.68      526.17      281.67         764]\n"
     ]
    },
    {
     "name": "stderr",
     "output_type": "stream",
     "text": [
      "0: 384x640 6 cars, 1 truck, 704.6ms\n",
      "Speed: 0.0ms preprocess, 704.6ms inference, 0.0ms postprocess per image at shape (1, 3, 384, 640)\n",
      "\n"
     ]
    },
    {
     "name": "stdout",
     "output_type": "stream",
     "text": [
      "0.85\n",
      "0.82\n",
      "0.76\n",
      "0.53\n",
      "0.47\n",
      "0.45\n",
      "0.4\n",
      "[     628.54      250.86      666.19      297.04         771]\n",
      "[      524.7      255.33      580.22      300.15         768]\n",
      "[      461.5      234.71      521.55      288.98         764]\n"
     ]
    },
    {
     "name": "stderr",
     "output_type": "stream",
     "text": [
      "0: 384x640 6 cars, 715.9ms\n",
      "Speed: 8.0ms preprocess, 715.9ms inference, 1.4ms postprocess per image at shape (1, 3, 384, 640)\n",
      "\n"
     ]
    },
    {
     "name": "stdout",
     "output_type": "stream",
     "text": [
      "0.85\n",
      "0.82\n",
      "0.74\n",
      "0.61\n",
      "0.61\n",
      "0.58\n",
      "[     638.24       210.6      669.69      242.81         772]\n",
      "[     623.78      261.14      666.41      310.34         771]\n",
      "[     514.31      265.57      573.01      313.14         768]\n",
      "[     578.45      303.81      640.25      362.96         765]\n",
      "[      454.3      238.95      516.13       295.1         764]\n"
     ]
    },
    {
     "name": "stderr",
     "output_type": "stream",
     "text": [
      "0: 384x640 6 cars, 713.6ms\n",
      "Speed: 0.0ms preprocess, 713.6ms inference, 0.0ms postprocess per image at shape (1, 3, 384, 640)\n",
      "\n"
     ]
    },
    {
     "name": "stdout",
     "output_type": "stream",
     "text": [
      "0.86\n",
      "0.82\n",
      "0.82\n",
      "0.73\n",
      "0.65\n",
      "0.63\n",
      "[     520.51      197.47      551.64      215.48         773]\n",
      "[      636.5      215.81      666.85      248.97         772]\n",
      "[     618.35      272.62      665.45      325.69         771]\n",
      "[     503.52      276.52      565.64      326.95         768]\n",
      "[     568.28      322.26      634.47      387.01         765]\n",
      "[     446.05      244.41      509.99       302.5         764]\n"
     ]
    },
    {
     "name": "stderr",
     "output_type": "stream",
     "text": [
      "0: 384x640 6 cars, 743.9ms\n",
      "Speed: 0.0ms preprocess, 743.9ms inference, 4.0ms postprocess per image at shape (1, 3, 384, 640)\n",
      "\n"
     ]
    },
    {
     "name": "stdout",
     "output_type": "stream",
     "text": [
      "0.87\n",
      "0.81\n",
      "0.74\n",
      "0.72\n",
      "0.64\n",
      "0.51\n",
      "[     520.34      197.57      553.38      217.39         773]\n",
      "[     634.89      222.25      664.99      256.62         772]\n",
      "[     609.74       285.3      662.96      342.97         771]\n",
      "[     490.53      288.71      556.37      342.66         768]\n",
      "[     557.26      344.38      629.79      415.28         765]\n",
      "[     437.88       249.8       505.1      310.24         764]\n"
     ]
    },
    {
     "name": "stderr",
     "output_type": "stream",
     "text": [
      "0: 384x640 7 cars, 710.4ms\n",
      "Speed: 0.0ms preprocess, 710.4ms inference, 1.0ms postprocess per image at shape (1, 3, 384, 640)\n",
      "\n"
     ]
    },
    {
     "name": "stdout",
     "output_type": "stream",
     "text": [
      "0.87\n",
      "0.84\n",
      "0.82\n",
      "0.78\n",
      "0.74\n",
      "0.58\n",
      "0.46\n",
      "[     520.13      198.31      554.04      219.41         773]\n",
      "[     633.18      229.94      663.59      265.95         772]\n",
      "[     604.74      301.21      664.06      363.48         771]\n",
      "[     475.91       302.5      546.54      360.56         768]\n",
      "[     428.92      256.04      498.24      319.18         764]\n"
     ]
    },
    {
     "name": "stderr",
     "output_type": "stream",
     "text": [
      "0: 384x640 8 cars, 712.0ms\n",
      "Speed: 0.0ms preprocess, 712.0ms inference, 0.0ms postprocess per image at shape (1, 3, 384, 640)\n",
      "\n"
     ]
    },
    {
     "name": "stdout",
     "output_type": "stream",
     "text": [
      "0.89\n",
      "0.83\n",
      "0.79\n",
      "0.76\n",
      "0.71\n",
      "0.7\n",
      "0.7\n",
      "0.59\n",
      "[     519.55      199.14      554.01      222.25         773]\n",
      "[      631.6      237.73      664.94      276.79         772]\n",
      "[     596.64      319.15      662.83      386.91         771]\n",
      "[     459.68       318.3      535.59      381.09         768]\n",
      "[     418.61      261.69      491.07      326.86         764]\n"
     ]
    },
    {
     "name": "stderr",
     "output_type": "stream",
     "text": [
      "0: 384x640 8 cars, 707.4ms\n",
      "Speed: 6.7ms preprocess, 707.4ms inference, 0.0ms postprocess per image at shape (1, 3, 384, 640)\n",
      "\n"
     ]
    },
    {
     "name": "stdout",
     "output_type": "stream",
     "text": [
      "0.84\n",
      "0.84\n",
      "0.8\n",
      "0.8\n",
      "0.75\n",
      "0.72\n",
      "0.71\n",
      "0.53\n",
      "[      518.3       199.5      554.32      225.16         773]\n",
      "[     629.08      245.54      666.85      288.11         772]\n",
      "[     582.23      339.96      656.57      414.53         771]\n",
      "[     440.72      336.64      523.09      404.71         768]\n",
      "[     406.71      268.63       482.9      336.45         764]\n"
     ]
    },
    {
     "name": "stderr",
     "output_type": "stream",
     "text": [
      "0: 384x640 6 cars, 1 truck, 709.1ms\n",
      "Speed: 0.0ms preprocess, 709.1ms inference, 0.0ms postprocess per image at shape (1, 3, 384, 640)\n",
      "\n"
     ]
    },
    {
     "name": "stdout",
     "output_type": "stream",
     "text": [
      "0.84\n",
      "0.81\n",
      "0.8\n",
      "0.75\n",
      "0.73\n",
      "0.61\n",
      "0.49\n",
      "[     581.44       199.1      618.54         222         775]\n",
      "[     517.31      200.55      554.26      227.92         773]\n",
      "[     625.27      254.68      666.49      299.58         772]\n",
      "[     570.16      366.18      648.51      447.21         771]\n",
      "[     418.42      358.74      509.11      433.17         768]\n",
      "[     394.21      276.83      473.74      347.93         764]\n"
     ]
    },
    {
     "name": "stderr",
     "output_type": "stream",
     "text": [
      "0: 384x640 7 cars, 1 truck, 706.0ms\n",
      "Speed: 4.3ms preprocess, 706.0ms inference, 8.5ms postprocess per image at shape (1, 3, 384, 640)\n",
      "\n"
     ]
    },
    {
     "name": "stdout",
     "output_type": "stream",
     "text": [
      "0.85\n",
      "0.82\n",
      "0.78\n",
      "0.69\n",
      "0.65\n",
      "0.58\n",
      "0.47\n",
      "0.47\n",
      "[     643.26      208.24      671.59       239.7         776]\n",
      "[     577.56      198.65      617.39      224.91         775]\n",
      "[     515.41      202.71      552.38       231.1         773]\n",
      "[     620.66      264.77      665.64      312.61         772]\n",
      "[     391.65      381.07      491.28      459.34         768]\n",
      "[     380.13       284.1      464.28      358.25         764]\n"
     ]
    },
    {
     "name": "stderr",
     "output_type": "stream",
     "text": [
      "0: 384x640 7 cars, 704.1ms\n",
      "Speed: 4.9ms preprocess, 704.1ms inference, 5.0ms postprocess per image at shape (1, 3, 384, 640)\n",
      "\n"
     ]
    },
    {
     "name": "stdout",
     "output_type": "stream",
     "text": [
      "0.83\n",
      "0.79\n",
      "0.72\n",
      "0.69\n",
      "0.67\n",
      "0.57\n",
      "0.55\n",
      "[     641.76      213.64      668.99      247.54         776]\n",
      "[     574.46      199.96      616.22      230.08         775]\n",
      "[     513.57      204.79      550.82      234.23         773]\n",
      "[     615.37      277.37      663.67      328.68         772]\n",
      "[     364.59      293.97      453.64      372.32         764]\n"
     ]
    },
    {
     "name": "stderr",
     "output_type": "stream",
     "text": [
      "0: 384x640 6 cars, 698.6ms\n",
      "Speed: 0.0ms preprocess, 698.6ms inference, 8.1ms postprocess per image at shape (1, 3, 384, 640)\n",
      "\n"
     ]
    },
    {
     "name": "stdout",
     "output_type": "stream",
     "text": [
      "0.84\n",
      "0.79\n",
      "0.61\n",
      "0.61\n",
      "0.58\n",
      "0.26\n",
      "[     640.28      218.52      667.23      255.09         776]\n",
      "[     572.14      200.49      615.22      234.37         775]\n",
      "[     511.58      208.02       548.9      238.15         773]\n",
      "[     608.62      291.26      659.85      346.11         772]\n",
      "[     347.07      304.58      442.06      388.05         764]\n"
     ]
    },
    {
     "name": "stderr",
     "output_type": "stream",
     "text": [
      "0: 384x640 5 cars, 699.9ms\n",
      "Speed: 0.0ms preprocess, 699.9ms inference, 3.2ms postprocess per image at shape (1, 3, 384, 640)\n",
      "\n"
     ]
    },
    {
     "name": "stdout",
     "output_type": "stream",
     "text": [
      "0.82\n",
      "0.8\n",
      "0.64\n",
      "0.64\n",
      "0.56\n",
      "[     638.54      225.51      665.24      264.56         776]\n",
      "[      568.8      200.83      614.14       238.3         775]\n",
      "[     509.15      210.23      547.25       241.8         773]\n",
      "[     602.94       306.8      661.06       366.8         772]\n",
      "[     328.85      315.47      429.46      403.72         764]\n"
     ]
    },
    {
     "name": "stderr",
     "output_type": "stream",
     "text": [
      "0: 384x640 7 cars, 710.9ms\n",
      "Speed: 0.0ms preprocess, 710.9ms inference, 4.5ms postprocess per image at shape (1, 3, 384, 640)\n",
      "\n"
     ]
    },
    {
     "name": "stdout",
     "output_type": "stream",
     "text": [
      "0.82\n",
      "0.79\n",
      "0.76\n",
      "0.68\n",
      "0.58\n",
      "0.34\n",
      "0.32\n",
      "[     637.04      233.54      666.34      277.06         776]\n",
      "[     564.47      205.66      610.22      245.78         775]\n",
      "[     506.35      212.91      545.26       245.8         773]\n",
      "[     595.79      325.37       661.4      391.49         772]\n",
      "[     308.45      327.16      415.81      421.24         764]\n"
     ]
    },
    {
     "name": "stderr",
     "output_type": "stream",
     "text": [
      "0: 384x640 9 cars, 708.7ms\n",
      "Speed: 0.0ms preprocess, 708.7ms inference, 0.0ms postprocess per image at shape (1, 3, 384, 640)\n",
      "\n"
     ]
    },
    {
     "name": "stdout",
     "output_type": "stream",
     "text": [
      "0.83\n",
      "0.81\n",
      "0.7\n",
      "0.67\n",
      "0.56\n",
      "0.54\n",
      "0.33\n",
      "0.29\n",
      "0.26\n",
      "[     635.34      240.41      668.76      288.63         776]\n",
      "[     562.06      206.05      609.15      246.95         775]\n",
      "[     503.27      216.29      542.64      250.07         773]\n",
      "[      284.2       340.9      399.63      441.59         764]\n"
     ]
    },
    {
     "name": "stderr",
     "output_type": "stream",
     "text": [
      "0: 384x640 8 cars, 697.3ms\n",
      "Speed: 1.3ms preprocess, 697.3ms inference, 0.0ms postprocess per image at shape (1, 3, 384, 640)\n",
      "\n"
     ]
    },
    {
     "name": "stdout",
     "output_type": "stream",
     "text": [
      "0.84\n",
      "0.8\n",
      "0.79\n",
      "0.79\n",
      "0.63\n",
      "0.63\n",
      "0.46\n",
      "0.39\n",
      "[     631.67      249.19      669.43      301.56         776]\n",
      "[     562.24      206.12      609.25      244.54         775]\n",
      "[     499.81      219.47      540.08      254.21         773]\n",
      "[     258.76      355.01      382.25      460.11         764]\n"
     ]
    },
    {
     "name": "stderr",
     "output_type": "stream",
     "text": [
      "0: 384x640 9 cars, 698.9ms\n",
      "Speed: 0.0ms preprocess, 698.9ms inference, 0.0ms postprocess per image at shape (1, 3, 384, 640)\n",
      "\n"
     ]
    },
    {
     "name": "stdout",
     "output_type": "stream",
     "text": [
      "0.85\n",
      "0.79\n",
      "0.77\n",
      "0.72\n",
      "0.72\n",
      "0.69\n",
      "0.68\n",
      "0.51\n",
      "0.3\n",
      "[     537.97      198.95      571.07      219.09         780]\n",
      "[     627.48      259.98      669.28      316.98         776]\n",
      "[     565.07      209.49      609.37      246.79         775]\n",
      "[     495.63      222.74      537.47       258.8         773]\n",
      "[     557.67      396.97      637.93      468.96         767]\n",
      "[      231.1       367.2      363.01      470.15         764]\n"
     ]
    },
    {
     "name": "stderr",
     "output_type": "stream",
     "text": [
      "0: 384x640 9 cars, 723.5ms\n",
      "Speed: 0.0ms preprocess, 723.5ms inference, 0.0ms postprocess per image at shape (1, 3, 384, 640)\n",
      "\n"
     ]
    },
    {
     "name": "stdout",
     "output_type": "stream",
     "text": [
      "0.8\n",
      "0.8\n",
      "0.8\n",
      "0.73\n",
      "0.69\n",
      "0.66\n",
      "0.63\n",
      "0.62\n",
      "0.37\n",
      "[     633.61      214.98         664      248.01         783]\n",
      "[     544.34      227.02      591.33      277.01         782]\n",
      "[     532.72      199.83      569.53      224.32         780]\n",
      "[     621.64      272.08      668.27      334.69         776]\n",
      "[     565.33      213.72      607.71      250.48         775]\n",
      "[     491.23       226.5      534.14      263.74         773]\n",
      "[     197.87       382.1      340.66      476.13         764]\n"
     ]
    },
    {
     "name": "stderr",
     "output_type": "stream",
     "text": [
      "0: 384x640 8 cars, 2 trucks, 700.5ms\n",
      "Speed: 5.5ms preprocess, 700.5ms inference, 0.0ms postprocess per image at shape (1, 3, 384, 640)\n",
      "\n"
     ]
    },
    {
     "name": "stdout",
     "output_type": "stream",
     "text": [
      "0.8\n",
      "0.79\n",
      "0.68\n",
      "0.65\n",
      "0.59\n",
      "0.56\n",
      "0.45\n",
      "0.39\n",
      "0.37\n",
      "0.33\n",
      "[     629.77      219.27      663.51      255.93         783]\n",
      "[      537.9      231.33      587.94      285.65         782]\n",
      "[     528.54      199.92      568.21      228.17         780]\n",
      "[     607.76      284.93      664.42      354.23         776]\n",
      "[     564.47      219.01      605.52      255.94         775]\n",
      "[     486.34      230.63      530.33      269.28         773]\n",
      "[     177.27      400.01      324.67      480.53         764]\n"
     ]
    },
    {
     "name": "stderr",
     "output_type": "stream",
     "text": [
      "0: 384x640 7 cars, 708.1ms\n",
      "Speed: 8.0ms preprocess, 708.1ms inference, 0.0ms postprocess per image at shape (1, 3, 384, 640)\n",
      "\n"
     ]
    },
    {
     "name": "stdout",
     "output_type": "stream",
     "text": [
      "0.83\n",
      "0.82\n",
      "0.75\n",
      "0.73\n",
      "0.71\n",
      "0.71\n",
      "0.69\n",
      "[     588.56      201.55      623.64      231.21         784]\n",
      "[     626.87      226.62      663.01      266.67         783]\n",
      "[     530.33      237.58      583.36      296.09         782]\n",
      "[     524.14      200.17      565.36      231.89         780]\n",
      "[     601.51      300.65      664.83      375.77         776]\n",
      "[     563.57      225.91      603.39      263.47         775]\n",
      "[     480.79      234.83      526.15      275.09         773]\n"
     ]
    },
    {
     "name": "stderr",
     "output_type": "stream",
     "text": [
      "0: 384x640 7 cars, 1 truck, 695.9ms\n",
      "Speed: 1.5ms preprocess, 695.9ms inference, 0.5ms postprocess per image at shape (1, 3, 384, 640)\n",
      "\n"
     ]
    },
    {
     "name": "stdout",
     "output_type": "stream",
     "text": [
      "0.84\n",
      "0.77\n",
      "0.76\n",
      "0.75\n",
      "0.69\n",
      "0.62\n",
      "0.53\n",
      "0.48\n",
      "[     585.37       203.5      622.04       235.5         784]\n",
      "[     622.76      234.01      663.32      277.64         783]\n",
      "[     521.98      243.72      578.87      307.02         782]\n",
      "[     519.81      200.46      561.86      235.59         780]\n",
      "[     591.42      318.74      663.01      401.31         776]\n",
      "[     559.57      231.88      599.78      270.64         775]\n",
      "[     474.63      239.53      520.91      281.18         773]\n"
     ]
    },
    {
     "name": "stderr",
     "output_type": "stream",
     "text": [
      "0: 384x640 7 cars, 1 truck, 780.6ms\n",
      "Speed: 1.3ms preprocess, 780.6ms inference, 0.0ms postprocess per image at shape (1, 3, 384, 640)\n",
      "\n"
     ]
    },
    {
     "name": "stdout",
     "output_type": "stream",
     "text": [
      "0.85\n",
      "0.8\n",
      "0.78\n",
      "0.73\n",
      "0.7\n",
      "0.62\n",
      "0.55\n",
      "0.45\n",
      "[     583.15      208.86      620.74      242.11         784]\n",
      "[     620.72      241.68       664.9      287.65         783]\n",
      "[     512.93      251.05      572.78      318.24         782]\n",
      "[     515.46      201.73      558.88      240.36         780]\n",
      "[     581.15      341.71       659.1      432.84         776]\n",
      "[      555.8      238.57      596.85      278.54         775]\n",
      "[     468.18      244.58      516.01      287.85         773]\n"
     ]
    },
    {
     "name": "stderr",
     "output_type": "stream",
     "text": [
      "0: 384x640 7 cars, 1 truck, 710.1ms\n",
      "Speed: 7.2ms preprocess, 710.1ms inference, 0.0ms postprocess per image at shape (1, 3, 384, 640)\n",
      "\n"
     ]
    },
    {
     "name": "stdout",
     "output_type": "stream",
     "text": [
      "0.86\n",
      "0.81\n",
      "0.81\n",
      "0.78\n",
      "0.72\n",
      "0.66\n",
      "0.56\n",
      "0.51\n",
      "[     501.68      260.76      565.94      332.74         785]\n",
      "[     579.12      213.48      618.06      248.31         784]\n",
      "[     615.65      251.06      665.84      300.45         783]\n",
      "[     510.59      204.32      555.94      245.91         780]\n",
      "[     570.14      365.44      651.82      460.34         776]\n",
      "[     551.37      245.53       593.6      286.68         775]\n",
      "[     460.88      249.72      510.69      294.77         773]\n"
     ]
    },
    {
     "name": "stderr",
     "output_type": "stream",
     "text": [
      "0: 384x640 7 cars, 1 truck, 699.4ms\n",
      "Speed: 4.2ms preprocess, 699.4ms inference, 0.0ms postprocess per image at shape (1, 3, 384, 640)\n",
      "\n"
     ]
    },
    {
     "name": "stdout",
     "output_type": "stream",
     "text": [
      "0.83\n",
      "0.79\n",
      "0.79\n",
      "0.75\n",
      "0.71\n",
      "0.7\n",
      "0.59\n",
      "0.43\n",
      "[     489.37       270.7      558.16      347.62         785]\n",
      "[     576.49       218.9      616.44      254.66         784]\n",
      "[      611.3      261.14       666.1      313.41         783]\n",
      "[      505.3      208.68      551.23      251.76         780]\n",
      "[     554.46       390.1      641.14      475.06         776]\n",
      "[     544.51      253.06      589.18       296.4         775]\n",
      "[     452.34      255.72      504.18      302.91         773]\n"
     ]
    },
    {
     "name": "stderr",
     "output_type": "stream",
     "text": [
      "0: 384x640 8 cars, 1 truck, 704.4ms\n",
      "Speed: 7.0ms preprocess, 704.4ms inference, 0.0ms postprocess per image at shape (1, 3, 384, 640)\n",
      "\n"
     ]
    },
    {
     "name": "stdout",
     "output_type": "stream",
     "text": [
      "0.82\n",
      "0.81\n",
      "0.79\n",
      "0.78\n",
      "0.77\n",
      "0.63\n",
      "0.49\n",
      "0.48\n",
      "0.47\n",
      "[     476.49      281.69      550.07      364.01         785]\n",
      "[     572.13      223.97       613.3      261.67         784]\n",
      "[     605.78      272.95      661.51      328.27         783]\n",
      "[     499.79      210.99      547.29      257.04         780]\n",
      "[     537.23      261.61      585.12      307.19         775]\n",
      "[     443.74      261.58      498.15      310.64         773]\n"
     ]
    },
    {
     "name": "stderr",
     "output_type": "stream",
     "text": [
      "0: 384x640 7 cars, 1 truck, 710.2ms\n",
      "Speed: 2.6ms preprocess, 710.2ms inference, 2.0ms postprocess per image at shape (1, 3, 384, 640)\n",
      "\n"
     ]
    },
    {
     "name": "stdout",
     "output_type": "stream",
     "text": [
      "0.82\n",
      "0.82\n",
      "0.82\n",
      "0.78\n",
      "0.74\n",
      "0.68\n",
      "0.64\n",
      "0.55\n",
      "[     566.51      199.16      602.32      223.19         787]\n",
      "[     460.96      294.24      540.18      382.39         785]\n",
      "[     568.01      229.41      610.13      268.37         784]\n",
      "[     598.96      286.03      658.03       345.8         783]\n",
      "[     494.54      214.32       543.3      262.98         780]\n",
      "[     529.01      270.71      580.71      318.84         775]\n",
      "[     433.51      269.12      490.66       320.4         773]\n"
     ]
    },
    {
     "name": "stderr",
     "output_type": "stream",
     "text": [
      "0: 384x640 7 cars, 1 truck, 694.8ms\n",
      "Speed: 3.4ms preprocess, 694.8ms inference, 5.0ms postprocess per image at shape (1, 3, 384, 640)\n",
      "\n"
     ]
    },
    {
     "name": "stdout",
     "output_type": "stream",
     "text": [
      "0.84\n",
      "0.83\n",
      "0.83\n",
      "0.79\n",
      "0.73\n",
      "0.67\n",
      "0.6\n",
      "0.53\n",
      "[     560.86      199.67      599.36      227.33         787]\n",
      "[     442.96      308.44      528.55      403.68         785]\n",
      "[     563.77      235.33      607.85      275.95         784]\n",
      "[     591.78      301.56      653.56      364.91         783]\n",
      "[     488.08       218.9      537.97      270.26         780]\n",
      "[        520      281.31      575.32      332.11         775]\n",
      "[     422.32      276.25      481.67      329.33         773]\n"
     ]
    },
    {
     "name": "stderr",
     "output_type": "stream",
     "text": [
      "0: 384x640 7 cars, 1 bus, 1 truck, 706.6ms\n",
      "Speed: 0.0ms preprocess, 706.6ms inference, 0.0ms postprocess per image at shape (1, 3, 384, 640)\n",
      "\n"
     ]
    },
    {
     "name": "stdout",
     "output_type": "stream",
     "text": [
      "0.83\n",
      "0.81\n",
      "0.8\n",
      "0.8\n",
      "0.74\n",
      "0.68\n",
      "0.61\n",
      "0.44\n",
      "0.39\n",
      "[      632.9      200.52      673.93      225.65         788]\n",
      "[     555.15       201.6       595.4      231.78         787]\n",
      "[     421.58      324.81      514.84      429.08         785]\n",
      "[     558.82       242.8      604.57      285.11         784]\n",
      "[     580.94      319.77       648.3      390.08         783]\n",
      "[     480.93      222.84       532.4      276.49         780]\n",
      "[     508.96      292.03      569.34      346.39         775]\n",
      "[     410.26      284.88      472.66       340.2         773]\n"
     ]
    },
    {
     "name": "stderr",
     "output_type": "stream",
     "text": [
      "0: 384x640 7 cars, 1 bus, 2 trucks, 715.9ms\n",
      "Speed: 8.0ms preprocess, 715.9ms inference, 8.3ms postprocess per image at shape (1, 3, 384, 640)\n",
      "\n"
     ]
    },
    {
     "name": "stdout",
     "output_type": "stream",
     "text": [
      "0.87\n",
      "0.86\n",
      "0.84\n",
      "0.79\n",
      "0.74\n",
      "0.59\n",
      "0.53\n",
      "0.5\n",
      "0.43\n",
      "0.41\n",
      "[     632.44      201.96      674.12      230.82         788]\n",
      "[     549.73      205.07      590.84      237.35         787]\n",
      "[     396.98      343.26      499.11      455.88         785]\n",
      "[     553.19      250.13       600.7      294.23         784]\n",
      "[     572.18       341.1      644.64      418.59         783]\n",
      "[     472.71      227.82      526.23      284.31         780]\n",
      "[     497.72       304.7      563.25      363.05         775]\n"
     ]
    },
    {
     "name": "stderr",
     "output_type": "stream",
     "text": [
      "0: 384x640 7 cars, 2 trucks, 710.1ms\n",
      "Speed: 8.0ms preprocess, 710.1ms inference, 0.0ms postprocess per image at shape (1, 3, 384, 640)\n",
      "\n"
     ]
    },
    {
     "name": "stdout",
     "output_type": "stream",
     "text": [
      "0.87\n",
      "0.84\n",
      "0.81\n",
      "0.76\n",
      "0.75\n",
      "0.67\n",
      "0.66\n",
      "0.48\n",
      "0.36\n",
      "[     631.22      204.23      673.12      236.22         788]\n",
      "[     542.82      207.69      585.61      242.53         787]\n",
      "[     546.94       257.5      596.97      303.86         784]\n",
      "[     559.37      364.74       637.2      449.74         783]\n",
      "[     464.08       233.4      519.88      292.51         780]\n",
      "[      484.9      319.52      555.39      382.42         775]\n"
     ]
    },
    {
     "name": "stderr",
     "output_type": "stream",
     "text": [
      "0: 384x640 7 cars, 1 bus, 2 trucks, 734.1ms\n",
      "Speed: 7.3ms preprocess, 734.1ms inference, 0.0ms postprocess per image at shape (1, 3, 384, 640)\n",
      "\n"
     ]
    },
    {
     "name": "stdout",
     "output_type": "stream",
     "text": [
      "0.83\n",
      "0.83\n",
      "0.82\n",
      "0.79\n",
      "0.75\n",
      "0.71\n",
      "0.6\n",
      "0.54\n",
      "0.52\n",
      "0.41\n",
      "[     335.56      386.92       452.8      475.98         789]\n",
      "[     629.57      208.31      671.24      242.97         788]\n",
      "[     536.32       211.1      579.93      247.82         787]\n",
      "[     539.42      266.49      591.73       314.7         784]\n",
      "[     545.74      388.93      630.97      470.25         783]\n",
      "[     364.06      313.42      442.36      379.49         778]\n",
      "[     470.28      335.78      546.77      404.09         775]\n"
     ]
    },
    {
     "name": "stderr",
     "output_type": "stream",
     "text": [
      "0: 384x640 7 cars, 1 truck, 931.7ms\n",
      "Speed: 2.5ms preprocess, 931.7ms inference, 8.0ms postprocess per image at shape (1, 3, 384, 640)\n",
      "\n"
     ]
    },
    {
     "name": "stdout",
     "output_type": "stream",
     "text": [
      "0.86\n",
      "0.81\n",
      "0.77\n",
      "0.74\n",
      "0.71\n",
      "0.66\n",
      "0.61\n",
      "0.6\n",
      "[     442.63       245.9      505.89       312.8         790]\n",
      "[     627.76      211.45       669.8      249.57         788]\n",
      "[     529.14      215.59      574.25      254.36         787]\n",
      "[     530.11         276      587.25      327.37         784]\n",
      "[     345.57      325.97      428.21      395.48         778]\n",
      "[     453.85      355.36      537.74      430.35         775]\n"
     ]
    },
    {
     "name": "stderr",
     "output_type": "stream",
     "text": [
      "0: 384x640 5 cars, 2 trucks, 799.4ms\n",
      "Speed: 0.0ms preprocess, 799.4ms inference, 0.0ms postprocess per image at shape (1, 3, 384, 640)\n",
      "\n"
     ]
    },
    {
     "name": "stdout",
     "output_type": "stream",
     "text": [
      "0.85\n",
      "0.79\n",
      "0.76\n",
      "0.76\n",
      "0.73\n",
      "0.7\n",
      "0.66\n",
      "[     432.29      252.82      498.27      322.65         790]\n",
      "[      626.4      215.72      668.02      256.69         788]\n",
      "[     520.96       219.8      568.02      260.66         787]\n",
      "[     520.75      284.77      581.81       340.3         784]\n",
      "[     324.66      340.54      412.54      414.61         778]\n",
      "[     434.39      375.79      525.71      456.71         775]\n"
     ]
    },
    {
     "name": "stderr",
     "output_type": "stream",
     "text": [
      "0: 384x640 6 cars, 1 truck, 740.6ms\n",
      "Speed: 0.0ms preprocess, 740.6ms inference, 1.2ms postprocess per image at shape (1, 3, 384, 640)\n",
      "\n"
     ]
    },
    {
     "name": "stdout",
     "output_type": "stream",
     "text": [
      "0.85\n",
      "0.8\n",
      "0.8\n",
      "0.78\n",
      "0.75\n",
      "0.74\n",
      "0.63\n",
      "[     583.55      198.38      622.82      224.14         791]\n",
      "[     420.39      261.03      489.88      333.68         790]\n",
      "[      623.9      221.57      666.09      265.49         788]\n",
      "[     512.43      224.22      561.59      266.53         787]\n",
      "[     509.82      297.82      574.94      356.62         784]\n",
      "[     299.83      357.37      394.18      436.59         778]\n",
      "[     412.47      394.93      511.29      470.27         775]\n"
     ]
    },
    {
     "name": "stderr",
     "output_type": "stream",
     "text": [
      "0: 384x640 6 cars, 1 truck, 714.7ms\n",
      "Speed: 0.0ms preprocess, 714.7ms inference, 0.0ms postprocess per image at shape (1, 3, 384, 640)\n",
      "\n"
     ]
    },
    {
     "name": "stdout",
     "output_type": "stream",
     "text": [
      "0.84\n",
      "0.83\n",
      "0.79\n",
      "0.78\n",
      "0.77\n",
      "0.77\n",
      "0.57\n",
      "[      580.8      199.58      621.95      228.89         791]\n",
      "[     406.21      268.33      480.25       345.6         790]\n",
      "[     621.66      228.48      666.79      275.73         788]\n",
      "[     502.62      229.39       553.6      273.55         787]\n",
      "[      497.5      310.71      567.06      373.34         784]\n",
      "[     271.79      374.48      373.42      457.44         778]\n",
      "[     391.71      418.14       499.8      477.63         775]\n"
     ]
    },
    {
     "name": "stderr",
     "output_type": "stream",
     "text": [
      "0: 384x640 5 cars, 1 truck, 786.4ms\n",
      "Speed: 2.2ms preprocess, 786.4ms inference, 0.0ms postprocess per image at shape (1, 3, 384, 640)\n",
      "\n"
     ]
    },
    {
     "name": "stdout",
     "output_type": "stream",
     "text": [
      "0.85\n",
      "0.82\n",
      "0.82\n",
      "0.82\n",
      "0.78\n",
      "0.75\n",
      "[     577.95      200.79      620.93      233.74         791]\n",
      "[     390.85      277.56         470      359.74         790]\n",
      "[      619.1      235.68      667.55      286.56         788]\n",
      "[     491.98      235.03      544.76      280.77         787]\n",
      "[     483.19      325.72      557.03      391.91         784]\n",
      "[     242.27         389      350.19      467.96         778]\n"
     ]
    },
    {
     "name": "stderr",
     "output_type": "stream",
     "text": [
      "0: 384x640 6 cars, 1 truck, 884.8ms\n",
      "Speed: 3.4ms preprocess, 884.8ms inference, 0.0ms postprocess per image at shape (1, 3, 384, 640)\n",
      "\n"
     ]
    },
    {
     "name": "stdout",
     "output_type": "stream",
     "text": [
      "0.85\n",
      "0.85\n",
      "0.84\n",
      "0.83\n",
      "0.77\n",
      "0.77\n",
      "0.5\n",
      "[     573.18      203.54      617.47      239.21         791]\n",
      "[     373.17      286.71       458.1      373.98         790]\n",
      "[      615.1      243.91      666.98      297.93         788]\n",
      "[     480.68      241.21      535.97      289.03         787]\n",
      "[     466.25      342.69      546.13      414.56         784]\n"
     ]
    },
    {
     "name": "stderr",
     "output_type": "stream",
     "text": [
      "0: 384x640 5 cars, 1 truck, 1027.9ms\n",
      "Speed: 7.5ms preprocess, 1027.9ms inference, 0.0ms postprocess per image at shape (1, 3, 384, 640)\n",
      "\n"
     ]
    },
    {
     "name": "stdout",
     "output_type": "stream",
     "text": [
      "0.83\n",
      "0.83\n",
      "0.82\n",
      "0.8\n",
      "0.76\n",
      "0.44\n",
      "[     569.62      207.84      614.88       245.9         791]\n",
      "[     353.73      297.38      444.57      390.03         790]\n",
      "[     610.45      253.12      666.04      310.89         788]\n",
      "[     468.69      247.54      526.38      297.69         787]\n",
      "[     447.47      361.83      534.48      440.52         784]\n"
     ]
    },
    {
     "name": "stderr",
     "output_type": "stream",
     "text": [
      "0: 384x640 6 cars, 1 truck, 752.7ms\n",
      "Speed: 4.2ms preprocess, 752.7ms inference, 1.1ms postprocess per image at shape (1, 3, 384, 640)\n",
      "\n"
     ]
    },
    {
     "name": "stdout",
     "output_type": "stream",
     "text": [
      "0.87\n",
      "0.82\n",
      "0.8\n",
      "0.8\n",
      "0.67\n",
      "0.29\n",
      "0.27\n",
      "[     565.97      212.64      612.42      253.01         791]\n",
      "[     332.18       309.1         430      407.53         790]\n",
      "[     603.95      263.83      664.59       327.2         788]\n",
      "[     455.08      254.13      515.88      306.28         787]\n",
      "[     425.18      380.29      519.54      461.98         784]\n"
     ]
    },
    {
     "name": "stderr",
     "output_type": "stream",
     "text": [
      "0: 384x640 7 cars, 1 truck, 731.8ms\n",
      "Speed: 0.0ms preprocess, 731.8ms inference, 0.0ms postprocess per image at shape (1, 3, 384, 640)\n",
      "\n"
     ]
    },
    {
     "name": "stdout",
     "output_type": "stream",
     "text": [
      "0.89\n",
      "0.81\n",
      "0.81\n",
      "0.76\n",
      "0.76\n",
      "0.6\n",
      "0.48\n",
      "0.35\n",
      "[     641.41      199.58      680.72      225.29         792]\n",
      "[     561.63      216.76      609.35      259.04         791]\n",
      "[     307.48      323.04      412.83      428.35         790]\n",
      "[     598.59      275.74      663.12      343.42         788]\n",
      "[     440.36      261.26      504.27      315.69         787]\n",
      "[     402.63      401.25       504.3      473.67         784]\n"
     ]
    },
    {
     "name": "stderr",
     "output_type": "stream",
     "text": [
      "0: 384x640 7 cars, 1 truck, 706.3ms\n",
      "Speed: 0.0ms preprocess, 706.3ms inference, 0.0ms postprocess per image at shape (1, 3, 384, 640)\n",
      "\n"
     ]
    },
    {
     "name": "stdout",
     "output_type": "stream",
     "text": [
      "0.88\n",
      "0.83\n",
      "0.83\n",
      "0.83\n",
      "0.8\n",
      "0.73\n",
      "0.71\n",
      "0.56\n",
      "[     640.24      201.06      680.72      230.41         792]\n",
      "[     556.99      221.36      606.09      265.26         791]\n",
      "[     278.81      339.53      392.94       452.6         790]\n",
      "[     590.65      289.62       659.4       363.3         788]\n",
      "[     425.22      269.37      492.29      326.59         787]\n"
     ]
    },
    {
     "name": "stderr",
     "output_type": "stream",
     "text": [
      "0: 384x640 6 cars, 1 truck, 699.7ms\n",
      "Speed: 0.0ms preprocess, 699.7ms inference, 7.0ms postprocess per image at shape (1, 3, 384, 640)\n",
      "\n"
     ]
    },
    {
     "name": "stdout",
     "output_type": "stream",
     "text": [
      "0.86\n",
      "0.84\n",
      "0.8\n",
      "0.76\n",
      "0.76\n",
      "0.73\n",
      "0.63\n",
      "[      536.6      198.23      575.61      221.42         793]\n",
      "[     639.57      203.74      678.87      235.44         792]\n",
      "[     550.53      227.63      601.83      273.37         791]\n",
      "[     246.57      354.44       369.6      469.29         790]\n",
      "[     581.34      306.21       655.9      387.12         788]\n"
     ]
    },
    {
     "name": "stderr",
     "output_type": "stream",
     "text": [
      "0: 384x640 6 cars, 1 truck, 822.1ms\n",
      "Speed: 4.2ms preprocess, 822.1ms inference, 0.0ms postprocess per image at shape (1, 3, 384, 640)\n",
      "\n"
     ]
    },
    {
     "name": "stdout",
     "output_type": "stream",
     "text": [
      "0.89\n",
      "0.85\n",
      "0.81\n",
      "0.81\n",
      "0.74\n",
      "0.73\n",
      "0.38\n",
      "[        581      204.48      616.22      233.01         794]\n",
      "[      531.9      198.72      572.57      225.15         793]\n",
      "[        637      207.44      674.96      240.47         792]\n",
      "[     545.39      234.75      598.55       282.6         791]\n",
      "[        203      370.35       341.2      476.89         790]\n",
      "[     570.76      325.24      651.32      414.23         788]\n"
     ]
    },
    {
     "name": "stderr",
     "output_type": "stream",
     "text": [
      "0: 384x640 6 cars, 1 truck, 965.4ms\n",
      "Speed: 0.0ms preprocess, 965.4ms inference, 8.0ms postprocess per image at shape (1, 3, 384, 640)\n",
      "\n"
     ]
    },
    {
     "name": "stdout",
     "output_type": "stream",
     "text": [
      "0.87\n",
      "0.82\n",
      "0.82\n",
      "0.75\n",
      "0.73\n",
      "0.68\n",
      "0.43\n",
      "[     578.93      208.16      614.59      237.77         794]\n",
      "[     526.98      199.63      568.75      229.06         793]\n",
      "[     635.29         211       672.4      246.65         792]\n",
      "[     538.54      241.89      593.87      291.85         791]\n",
      "[     177.51       390.4      319.06      482.56         790]\n",
      "[     557.19      347.92      642.96      445.64         788]\n",
      "[     370.55      295.18      451.15      366.71         780]\n"
     ]
    },
    {
     "name": "stderr",
     "output_type": "stream",
     "text": [
      "0: 384x640 6 cars, 798.4ms\n",
      "Speed: 8.0ms preprocess, 798.4ms inference, 0.0ms postprocess per image at shape (1, 3, 384, 640)\n",
      "\n"
     ]
    },
    {
     "name": "stdout",
     "output_type": "stream",
     "text": [
      "0.86\n",
      "0.8\n",
      "0.79\n",
      "0.72\n",
      "0.64\n",
      "0.54\n",
      "[     574.99      211.54      612.44      243.26         794]\n",
      "[     522.01      200.27      565.41       233.4         793]\n",
      "[     634.06      214.59      671.54      253.11         792]\n",
      "[     529.96      250.16      588.47      303.23         791]\n",
      "[     541.33      368.66      633.06      466.19         788]\n",
      "[     349.18      307.67      434.45      381.98         780]\n"
     ]
    },
    {
     "name": "stderr",
     "output_type": "stream",
     "text": [
      "0: 384x640 6 cars, 910.2ms\n",
      "Speed: 10.7ms preprocess, 910.2ms inference, 0.0ms postprocess per image at shape (1, 3, 384, 640)\n",
      "\n"
     ]
    },
    {
     "name": "stdout",
     "output_type": "stream",
     "text": [
      "0.88\n",
      "0.82\n",
      "0.82\n",
      "0.81\n",
      "0.7\n",
      "0.52\n",
      "[     571.02       216.5      609.63      249.43         794]\n",
      "[     517.07      200.73      562.22      237.97         793]\n",
      "[     631.46      219.98      668.75      261.24         792]\n",
      "[      522.1      258.41      583.42      314.51         791]\n",
      "[     531.21      393.23      628.47      477.99         788]\n",
      "[     325.27      320.22       415.6      398.56         780]\n"
     ]
    },
    {
     "name": "stderr",
     "output_type": "stream",
     "text": [
      "0: 384x640 4 cars, 2 trucks, 791.4ms\n",
      "Speed: 1.5ms preprocess, 791.4ms inference, 1.0ms postprocess per image at shape (1, 3, 384, 640)\n",
      "\n"
     ]
    },
    {
     "name": "stdout",
     "output_type": "stream",
     "text": [
      "0.78\n",
      "0.7\n",
      "0.68\n",
      "0.61\n",
      "0.42\n",
      "0.35\n",
      "[      566.5      221.07      607.14      256.01         794]\n",
      "[     511.72      201.81      559.49         244         793]\n",
      "[     629.15      224.92      667.18      269.03         792]\n",
      "[     512.57      268.33      576.53      327.99         791]\n",
      "[     298.24      334.69      394.87      418.29         780]\n"
     ]
    },
    {
     "name": "stderr",
     "output_type": "stream",
     "text": [
      "0: 384x640 5 cars, 2 trucks, 774.3ms\n",
      "Speed: 0.0ms preprocess, 774.3ms inference, 0.0ms postprocess per image at shape (1, 3, 384, 640)\n",
      "\n"
     ]
    },
    {
     "name": "stdout",
     "output_type": "stream",
     "text": [
      "0.81\n",
      "0.73\n",
      "0.69\n",
      "0.52\n",
      "0.44\n",
      "0.43\n",
      "0.33\n",
      "[     561.52      226.55      603.68      263.04         794]\n",
      "[     505.69      209.82      552.73      251.93         793]\n",
      "[      626.3      231.49      667.37      278.87         792]\n",
      "[     501.62      279.06       569.1      343.39         791]\n",
      "[     268.84      351.18      372.11       441.1         780]\n"
     ]
    },
    {
     "name": "stderr",
     "output_type": "stream",
     "text": [
      "0: 384x640 5 cars, 1 truck, 761.3ms\n",
      "Speed: 3.0ms preprocess, 761.3ms inference, 5.0ms postprocess per image at shape (1, 3, 384, 640)\n",
      "\n"
     ]
    },
    {
     "name": "stdout",
     "output_type": "stream",
     "text": [
      "0.8\n",
      "0.75\n",
      "0.61\n",
      "0.54\n",
      "0.52\n",
      "0.27\n",
      "[     556.42      232.38      599.86      270.18         794]\n",
      "[     625.24      237.48       668.9       287.3         792]\n",
      "[     489.65      290.62      561.33       359.6         791]\n",
      "[     235.36      367.13      346.63      460.45         780]\n"
     ]
    },
    {
     "name": "stderr",
     "output_type": "stream",
     "text": [
      "0: 384x640 6 cars, 741.0ms\n",
      "Speed: 0.0ms preprocess, 741.0ms inference, 0.0ms postprocess per image at shape (1, 3, 384, 640)\n",
      "\n"
     ]
    },
    {
     "name": "stdout",
     "output_type": "stream",
     "text": [
      "0.83\n",
      "0.82\n",
      "0.76\n",
      "0.69\n",
      "0.4\n",
      "0.37\n",
      "[     550.98      238.97      596.21      278.05         794]\n",
      "[     622.48      244.62       669.3      297.77         792]\n",
      "[     475.82      304.19      552.31      378.31         791]\n",
      "[     199.02      382.89      319.58      471.21         780]\n"
     ]
    },
    {
     "name": "stderr",
     "output_type": "stream",
     "text": [
      "0: 384x640 5 cars, 1 truck, 745.1ms\n",
      "Speed: 5.3ms preprocess, 745.1ms inference, 3.0ms postprocess per image at shape (1, 3, 384, 640)\n",
      "\n"
     ]
    },
    {
     "name": "stdout",
     "output_type": "stream",
     "text": [
      "0.87\n",
      "0.81\n",
      "0.74\n",
      "0.52\n",
      "0.51\n",
      "0.47\n",
      "[     545.07      246.38      592.33      287.62         794]\n",
      "[     616.78      252.35      668.93      309.48         792]\n",
      "[     459.99      319.13       542.2      399.92         791]\n",
      "[     176.52      400.81      297.38      478.39         780]\n"
     ]
    },
    {
     "name": "stderr",
     "output_type": "stream",
     "text": [
      "0: 384x640 4 cars, 1 truck, 777.9ms\n",
      "Speed: 6.8ms preprocess, 777.9ms inference, 0.0ms postprocess per image at shape (1, 3, 384, 640)\n",
      "\n"
     ]
    },
    {
     "name": "stdout",
     "output_type": "stream",
     "text": [
      "0.85\n",
      "0.83\n",
      "0.79\n",
      "0.68\n",
      "0.49\n",
      "[     529.64      198.92       580.1      219.94         798]\n",
      "[     538.88       254.3      587.82      297.58         794]\n",
      "[     479.04       222.4      533.66      276.74         793]\n",
      "[     613.87      261.55      669.66      321.68         792]\n",
      "[     441.32       336.3      530.52      424.14         791]\n"
     ]
    },
    {
     "name": "stderr",
     "output_type": "stream",
     "text": [
      "0: 384x640 5 cars, 1 truck, 742.7ms\n",
      "Speed: 0.0ms preprocess, 742.7ms inference, 0.5ms postprocess per image at shape (1, 3, 384, 640)\n",
      "\n"
     ]
    },
    {
     "name": "stdout",
     "output_type": "stream",
     "text": [
      "0.8\n",
      "0.77\n",
      "0.75\n",
      "0.67\n",
      "0.64\n",
      "0.51\n",
      "[     525.13      199.29      578.02      222.83         798]\n",
      "[     530.73      262.79      582.31      307.94         794]\n",
      "[     470.33      225.38      528.05      285.53         793]\n",
      "[     606.94      272.13      666.67      336.51         792]\n",
      "[     419.26      356.51      517.34      452.31         791]\n"
     ]
    },
    {
     "name": "stderr",
     "output_type": "stream",
     "text": [
      "0: 384x640 5 cars, 1 truck, 775.1ms\n",
      "Speed: 6.7ms preprocess, 775.1ms inference, 5.0ms postprocess per image at shape (1, 3, 384, 640)\n",
      "\n"
     ]
    },
    {
     "name": "stdout",
     "output_type": "stream",
     "text": [
      "0.81\n",
      "0.8\n",
      "0.78\n",
      "0.74\n",
      "0.52\n",
      "0.5\n",
      "[     521.78      199.74       578.9       226.9         798]\n",
      "[     522.91      271.96      576.68      319.26         794]\n",
      "[     459.81      222.19      521.67      291.55         793]\n",
      "[     599.69      283.17      663.05      351.67         792]\n",
      "[     392.98      374.65       500.7      468.11         791]\n"
     ]
    },
    {
     "name": "stderr",
     "output_type": "stream",
     "text": [
      "0: 384x640 5 cars, 2 trucks, 787.0ms\n",
      "Speed: 4.0ms preprocess, 787.0ms inference, 0.0ms postprocess per image at shape (1, 3, 384, 640)\n",
      "\n"
     ]
    },
    {
     "name": "stdout",
     "output_type": "stream",
     "text": [
      "0.84\n",
      "0.83\n",
      "0.77\n",
      "0.7\n",
      "0.66\n",
      "0.59\n",
      "0.44\n",
      "[     516.66       199.4      578.48      230.73         798]\n",
      "[     513.92       282.9      570.37      332.04         794]\n",
      "[     450.24      230.75      514.04      304.17         793]\n",
      "[     593.64      296.05      660.53      369.19         792]\n",
      "[     368.42      397.26      484.08      477.83         791]\n"
     ]
    },
    {
     "name": "stderr",
     "output_type": "stream",
     "text": [
      "0: 384x640 6 cars, 1 truck, 827.4ms\n",
      "Speed: 1.7ms preprocess, 827.4ms inference, 8.0ms postprocess per image at shape (1, 3, 384, 640)\n",
      "\n"
     ]
    },
    {
     "name": "stdout",
     "output_type": "stream",
     "text": [
      "0.78\n",
      "0.73\n",
      "0.67\n",
      "0.66\n",
      "0.65\n",
      "0.49\n",
      "0.29\n",
      "[     595.55      198.57      630.65      221.62         799]\n",
      "[     510.79      200.02      576.38      235.33         798]\n",
      "[     439.97      239.01      505.72      314.14         793]\n",
      "[     586.78      310.09      661.68       389.7         792]\n"
     ]
    },
    {
     "name": "stderr",
     "output_type": "stream",
     "text": [
      "0: 384x640 4 cars, 1 truck, 797.4ms\n",
      "Speed: 0.0ms preprocess, 797.4ms inference, 0.0ms postprocess per image at shape (1, 3, 384, 640)\n",
      "\n"
     ]
    },
    {
     "name": "stdout",
     "output_type": "stream",
     "text": [
      "0.85\n",
      "0.81\n",
      "0.77\n",
      "0.64\n",
      "0.62\n",
      "[     590.83      199.57      629.02      226.74         799]\n",
      "[      505.7       200.2      574.73      240.28         798]\n",
      "[     426.72      245.88       496.6      326.32         793]\n",
      "[     577.72       327.5      657.61      414.26         792]\n"
     ]
    },
    {
     "name": "stderr",
     "output_type": "stream",
     "text": [
      "0: 384x640 4 cars, 1 truck, 848.5ms\n",
      "Speed: 2.1ms preprocess, 848.5ms inference, 0.0ms postprocess per image at shape (1, 3, 384, 640)\n",
      "\n"
     ]
    },
    {
     "name": "stdout",
     "output_type": "stream",
     "text": [
      "0.86\n",
      "0.84\n",
      "0.77\n",
      "0.75\n",
      "0.54\n",
      "[     587.14      200.03      627.24      230.93         799]\n",
      "[     500.72      200.34      572.77      245.24         798]\n",
      "[     473.78      321.02      544.24      382.66         797]\n",
      "[     413.53      250.53      487.98      337.71         793]\n",
      "[     565.03      347.72      649.79      442.67         792]\n"
     ]
    },
    {
     "name": "stderr",
     "output_type": "stream",
     "text": [
      "0: 384x640 4 cars, 2 trucks, 705.8ms\n",
      "Speed: 0.0ms preprocess, 705.8ms inference, 0.0ms postprocess per image at shape (1, 3, 384, 640)\n",
      "\n"
     ]
    },
    {
     "name": "stdout",
     "output_type": "stream",
     "text": [
      "0.82\n",
      "0.79\n",
      "0.69\n",
      "0.55\n",
      "0.43\n",
      "0.41\n",
      "[      583.7      200.71      625.49      235.88         799]\n",
      "[     495.17      200.55      569.27      249.42         798]\n",
      "[     456.21         339      532.03      404.62         797]\n",
      "[      397.9      256.03      477.47      351.01         793]\n",
      "[     550.23      365.81         640      463.21         792]\n"
     ]
    },
    {
     "name": "stderr",
     "output_type": "stream",
     "text": [
      "0: 384x640 3 cars, 1 bus, 3 trucks, 700.0ms\n",
      "Speed: 5.5ms preprocess, 700.0ms inference, 0.0ms postprocess per image at shape (1, 3, 384, 640)\n"
     ]
    },
    {
     "name": "stdout",
     "output_type": "stream",
     "text": [
      "0.81\n",
      "0.77\n",
      "0.71\n",
      "0.59\n",
      "0.42\n",
      "0.42\n",
      "0.35\n",
      "[     581.68      201.77      623.83      240.74         799]\n",
      "[      490.8      200.79      567.18      253.98         798]\n",
      "[      435.2      360.28      517.35      431.43         797]\n",
      "[     379.29      260.97      465.71       365.9         793]\n",
      "[     535.75      385.23      633.66      474.65         792]\n"
     ]
    }
   ],
   "source": [
    "while True:\n",
    "    success, img = cap.read()\n",
    "    #overlay mask on the image/webcam feed\n",
    "    imageRegion = cv2.bitwise_and(img,mask)\n",
    "    # results = model(img,stream=True)\n",
    "    results = model(imageRegion,stream=True)\n",
    "    \n",
    "    detections = np.empty((0,5))\n",
    "    \n",
    "    for r in results:\n",
    "        boxes = r.boxes\n",
    "        for box in boxes:\n",
    "            # xy1 are points and xy2 are height and width\n",
    "            x1,y1,x2,y2 = box.xyxy[0]\n",
    "            # converting them into integers instead for tensor \n",
    "            x1,y1,x2,y2 = int(x1),int(y1),int(x2),int(y2)\n",
    "            # cv2.rectangle(img,(x1,y1),(x2,y2),(255,0,255),3) #using cv2 reactangle\n",
    "            w,h = x2-x1 , y2-y1\n",
    "            bbox = int(x1),int(y1),int(w),int(h)\n",
    "            \n",
    "            # print(x1,y1,x2,y2)\n",
    "            \n",
    "            # cvzone.cornerRect(img,(x1,y1,w,h),l=9) #using cvzone rectange\n",
    "            \n",
    "            #confidence\n",
    "            conf = math.ceil((box.conf[0]*100))/100 #for confidence values\n",
    "            print(conf)\n",
    "            #classnames\n",
    "            cls = int(box.cls[0])\n",
    "            #to display conf and object class on webcam\n",
    "            currentclass = classNames[cls]\n",
    "            \n",
    "            if currentclass == \"car\" or currentclass == \"truck\" or currentclass == \"bus\" or currentclass == \"motorbike\" and conf>0.3 :\n",
    "                # cvzone.putTextRect(img,f'{currentclass} {conf}',(max(0,x1),max(35,y1)) , scale=0.6,thickness=1,offset=3)\n",
    "                # cvzone.cornerRect(img,(x1,y1,w,h),l=9 , rt=5) #using cvzone rectange\n",
    "                currentArrays = np.array([x1,y1,x2,y2,conf])\n",
    "                detections = np.vstack((detections,currentArrays))\n",
    "            \n",
    "    resultsTracker = tracker.update(detections)\n",
    "    \n",
    "    cv2.line(img,(limits[0],limits[1]),(limits[2],limits[3]),(0,0,255),5)\n",
    "    \n",
    "    for result in resultsTracker:\n",
    "        x1,y1,x2,y2,id = result\n",
    "        # converting them into integers instead for tensor \n",
    "        x1,y1,x2,y2 = int(x1),int(y1),int(x2),int(y2)\n",
    "        print(result)\n",
    "        w,h = x2-x1 , y2-y1\n",
    "        cvzone.cornerRect(img,(x1,y1,w,h),l=9 , rt=2,colorR=(255,0,0))\n",
    "        # cvzone.putTextRect(img,f' {int(id)}',(max(0,x1),max(35,y1)) , scale=2,thickness=3,offset=10)\n",
    "        \n",
    "        cx , cy = x1+w//2,y1+h//2\n",
    "        cv2.circle(img,(cx,cy),5,(255,0,255),cv2.FILLED)\n",
    "        \n",
    "        if limits[0] <cx< limits[2] and limits[1]-20<cy<limits[1]+20:\n",
    "            # totalcounts.append(id)\n",
    "            # cvzone.putTextRect(img,f' {int(totalcounts)}',(max(0,x1),max(35,y1)) , scale=2,thickness=3,offset=10)\n",
    "            if totalcounts.count(id)==0:\n",
    "                totalcounts.append(id)\n",
    "                cvzone.putTextRect(img,f' {len(totalcounts)}',(max(0,x1),max(35,y1)) , scale=2,thickness=3,offset=10)\n",
    "                \n",
    "        \n",
    "    cvzone.putTextRect(img,f'Count : {len(totalcounts)}',(90,90)) \n",
    "    \n",
    "    cv2.imshow(\"Image\",img)\n",
    "    # cv2.imshow(\"ImageRegion\",imageRegion)\n",
    "    # cv2.waitKey(1)\n",
    "    # Wait for a key event, but only for a short duration (10 milliseconds)\n",
    "    # If the key is Esc (27), then break out of the loop and close the webcam\n",
    "    if cv2.waitKey(1) == 27:\n",
    "        break\n",
    "\n",
    "# Release the webcam and close all OpenCV windows\n",
    "cap.release()\n",
    "cv2.destroyAllWindows()"
   ]
  }
 ],
 "metadata": {
  "kernelspec": {
   "display_name": "Python 3",
   "language": "python",
   "name": "python3"
  },
  "language_info": {
   "codemirror_mode": {
    "name": "ipython",
    "version": 3
   },
   "file_extension": ".py",
   "mimetype": "text/x-python",
   "name": "python",
   "nbconvert_exporter": "python",
   "pygments_lexer": "ipython3",
   "version": "3.10.4"
  },
  "orig_nbformat": 4
 },
 "nbformat": 4,
 "nbformat_minor": 2
}
