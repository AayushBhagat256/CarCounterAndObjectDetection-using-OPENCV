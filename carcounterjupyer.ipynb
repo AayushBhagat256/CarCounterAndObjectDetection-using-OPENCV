{
 "cells": [
  {
   "cell_type": "code",
   "execution_count": 84,
   "metadata": {},
   "outputs": [],
   "source": [
    "import cv2\n",
    "from ultralytics import YOLO\n",
    "import cvzone\n",
    "import math"
   ]
  },
  {
   "cell_type": "code",
   "execution_count": 85,
   "metadata": {},
   "outputs": [],
   "source": [
    "# creating web cam object\n",
    "# cap = cv2.VideoCapture(0)\n",
    "cap = cv2.VideoCapture('./Videos/cars.mp4')\n",
    "#cap.set(3,1280) # for width\n",
    "#cap.set(4,720) #for height"
   ]
  },
  {
   "cell_type": "code",
   "execution_count": 86,
   "metadata": {},
   "outputs": [],
   "source": [
    "model = YOLO('./Yolo-Weights/yolov8l.pt')"
   ]
  },
  {
   "cell_type": "code",
   "execution_count": 87,
   "metadata": {},
   "outputs": [],
   "source": [
    "# classes that will be detected and displayed\n",
    "classNames = [\"person\", \"bicycle\", \"car\", \"motorbike\", \"aeroplane\", \"bus\", \"train\", \"truck\", \"boat\",\n",
    "              \"traffic light\", \"fire hydrant\", \"stop sign\", \"parking meter\", \"bench\", \"bird\", \"cat\",\n",
    "              \"dog\", \"horse\", \"sheep\", \"cow\", \"elephant\", \"bear\", \"zebra\", \"giraffe\", \"backpack\", \"umbrella\",\n",
    "              \"handbag\", \"tie\", \"suitcase\", \"frisbee\", \"skis\", \"snowboard\", \"sports ball\", \"kite\", \"baseball bat\",\n",
    "              \"baseball glove\", \"skateboard\", \"surfboard\", \"tennis racket\", \"bottle\", \"wine glass\", \"cup\",\n",
    "              \"fork\", \"knife\", \"spoon\", \"bowl\", \"banana\", \"apple\", \"sandwich\", \"orange\", \"broccoli\",\n",
    "              \"carrot\", \"hot dog\", \"pizza\", \"donut\", \"cake\", \"chair\", \"sofa\", \"pottedplant\", \"bed\",\n",
    "              \"diningtable\", \"toilet\", \"tvmonitor\", \"laptop\", \"mouse\", \"remote\", \"keyboard\", \"cell phone\",\n",
    "              \"microwave\", \"oven\", \"toaster\", \"sink\", \"refrigerator\", \"book\", \"clock\", \"vase\", \"scissors\",\n",
    "              \"teddy bear\", \"hair drier\", \"toothbrush\" , \"pen\"\n",
    "              ]"
   ]
  },
  {
   "cell_type": "code",
   "execution_count": 88,
   "metadata": {},
   "outputs": [
    {
     "name": "stderr",
     "output_type": "stream",
     "text": [
      "\n",
      "0: 384x640 1 person, 14 cars, 1 truck, 1 traffic light, 1 stop sign, 739.7ms\n",
      "Speed: 3.5ms preprocess, 739.7ms inference, 2.0ms postprocess per image at shape (1, 3, 384, 640)\n",
      "\n"
     ]
    },
    {
     "name": "stdout",
     "output_type": "stream",
     "text": [
      "0.88\n",
      "0.85\n",
      "0.85\n",
      "0.83\n",
      "0.7\n",
      "0.68\n",
      "0.66\n",
      "0.64\n",
      "0.57\n",
      "0.53\n",
      "0.5\n",
      "0.44\n",
      "0.38\n",
      "0.37\n",
      "0.36\n",
      "0.35\n",
      "0.28\n",
      "0.27\n"
     ]
    },
    {
     "name": "stderr",
     "output_type": "stream",
     "text": [
      "0: 384x640 1 person, 14 cars, 1 truck, 1 traffic light, 1 stop sign, 779.7ms\n",
      "Speed: 3.1ms preprocess, 779.7ms inference, 1.0ms postprocess per image at shape (1, 3, 384, 640)\n",
      "\n"
     ]
    },
    {
     "name": "stdout",
     "output_type": "stream",
     "text": [
      "0.9\n",
      "0.85\n",
      "0.84\n",
      "0.84\n",
      "0.83\n",
      "0.69\n",
      "0.65\n",
      "0.62\n",
      "0.56\n",
      "0.53\n",
      "0.42\n",
      "0.42\n",
      "0.41\n",
      "0.39\n",
      "0.35\n",
      "0.31\n",
      "0.3\n",
      "0.29\n"
     ]
    },
    {
     "name": "stderr",
     "output_type": "stream",
     "text": [
      "0: 384x640 1 person, 16 cars, 1 truck, 1 traffic light, 1 stop sign, 709.8ms\n",
      "Speed: 2.3ms preprocess, 709.8ms inference, 1.0ms postprocess per image at shape (1, 3, 384, 640)\n",
      "\n"
     ]
    },
    {
     "name": "stdout",
     "output_type": "stream",
     "text": [
      "0.9\n",
      "0.85\n",
      "0.84\n",
      "0.84\n",
      "0.82\n",
      "0.66\n",
      "0.66\n",
      "0.57\n",
      "0.51\n",
      "0.5\n",
      "0.45\n",
      "0.41\n",
      "0.38\n",
      "0.36\n",
      "0.34\n",
      "0.33\n",
      "0.28\n",
      "0.28\n",
      "0.27\n",
      "0.26\n"
     ]
    },
    {
     "name": "stderr",
     "output_type": "stream",
     "text": [
      "0: 384x640 1 person, 16 cars, 1 traffic light, 1 stop sign, 706.4ms\n",
      "Speed: 2.0ms preprocess, 706.4ms inference, 1.0ms postprocess per image at shape (1, 3, 384, 640)\n",
      "\n"
     ]
    },
    {
     "name": "stdout",
     "output_type": "stream",
     "text": [
      "0.9\n",
      "0.87\n",
      "0.84\n",
      "0.8\n",
      "0.75\n",
      "0.71\n",
      "0.58\n",
      "0.52\n",
      "0.51\n",
      "0.44\n",
      "0.43\n",
      "0.41\n",
      "0.31\n",
      "0.31\n",
      "0.3\n",
      "0.29\n",
      "0.29\n",
      "0.28\n",
      "0.26\n"
     ]
    },
    {
     "name": "stderr",
     "output_type": "stream",
     "text": [
      "0: 384x640 13 cars, 2 trucks, 1 traffic light, 713.5ms\n",
      "Speed: 4.0ms preprocess, 713.5ms inference, 1.0ms postprocess per image at shape (1, 3, 384, 640)\n",
      "\n"
     ]
    },
    {
     "name": "stdout",
     "output_type": "stream",
     "text": [
      "0.89\n",
      "0.86\n",
      "0.85\n",
      "0.79\n",
      "0.78\n",
      "0.73\n",
      "0.68\n",
      "0.48\n",
      "0.48\n",
      "0.44\n",
      "0.43\n",
      "0.39\n",
      "0.37\n",
      "0.34\n",
      "0.32\n",
      "0.27\n"
     ]
    },
    {
     "name": "stderr",
     "output_type": "stream",
     "text": [
      "0: 384x640 12 cars, 2 trucks, 1 traffic light, 688.8ms\n",
      "Speed: 2.0ms preprocess, 688.8ms inference, 1.0ms postprocess per image at shape (1, 3, 384, 640)\n",
      "\n"
     ]
    },
    {
     "name": "stdout",
     "output_type": "stream",
     "text": [
      "0.86\n",
      "0.85\n",
      "0.79\n",
      "0.78\n",
      "0.74\n",
      "0.72\n",
      "0.7\n",
      "0.52\n",
      "0.5\n",
      "0.45\n",
      "0.44\n",
      "0.38\n",
      "0.38\n",
      "0.35\n",
      "0.34\n"
     ]
    },
    {
     "name": "stderr",
     "output_type": "stream",
     "text": [
      "0: 384x640 15 cars, 1 bus, 1 truck, 1 traffic light, 1 stop sign, 684.3ms\n",
      "Speed: 2.5ms preprocess, 684.3ms inference, 2.0ms postprocess per image at shape (1, 3, 384, 640)\n",
      "\n"
     ]
    },
    {
     "name": "stdout",
     "output_type": "stream",
     "text": [
      "0.88\n",
      "0.85\n",
      "0.82\n",
      "0.81\n",
      "0.76\n",
      "0.7\n",
      "0.64\n",
      "0.49\n",
      "0.48\n",
      "0.44\n",
      "0.39\n",
      "0.36\n",
      "0.33\n",
      "0.32\n",
      "0.28\n",
      "0.28\n",
      "0.27\n",
      "0.27\n",
      "0.26\n"
     ]
    },
    {
     "name": "stderr",
     "output_type": "stream",
     "text": [
      "0: 384x640 15 cars, 1 traffic light, 1 stop sign, 722.6ms\n",
      "Speed: 3.3ms preprocess, 722.6ms inference, 1.2ms postprocess per image at shape (1, 3, 384, 640)\n",
      "\n"
     ]
    },
    {
     "name": "stdout",
     "output_type": "stream",
     "text": [
      "0.86\n",
      "0.86\n",
      "0.86\n",
      "0.82\n",
      "0.78\n",
      "0.7\n",
      "0.66\n",
      "0.55\n",
      "0.48\n",
      "0.46\n",
      "0.42\n",
      "0.33\n",
      "0.32\n",
      "0.31\n",
      "0.28\n",
      "0.27\n",
      "0.26\n"
     ]
    },
    {
     "name": "stderr",
     "output_type": "stream",
     "text": [
      "0: 384x640 13 cars, 1 traffic light, 1 stop sign, 726.7ms\n",
      "Speed: 2.0ms preprocess, 726.7ms inference, 1.0ms postprocess per image at shape (1, 3, 384, 640)\n",
      "\n"
     ]
    },
    {
     "name": "stdout",
     "output_type": "stream",
     "text": [
      "0.9\n",
      "0.88\n",
      "0.86\n",
      "0.8\n",
      "0.79\n",
      "0.73\n",
      "0.63\n",
      "0.63\n",
      "0.53\n",
      "0.49\n",
      "0.44\n",
      "0.36\n",
      "0.3\n",
      "0.29\n",
      "0.26\n"
     ]
    },
    {
     "name": "stderr",
     "output_type": "stream",
     "text": [
      "0: 384x640 15 cars, 1 truck, 1 traffic light, 1 stop sign, 670.5ms\n",
      "Speed: 2.1ms preprocess, 670.5ms inference, 2.0ms postprocess per image at shape (1, 3, 384, 640)\n",
      "\n"
     ]
    },
    {
     "name": "stdout",
     "output_type": "stream",
     "text": [
      "0.88\n",
      "0.86\n",
      "0.81\n",
      "0.8\n",
      "0.72\n",
      "0.67\n",
      "0.65\n",
      "0.65\n",
      "0.59\n",
      "0.53\n",
      "0.48\n",
      "0.44\n",
      "0.41\n",
      "0.4\n",
      "0.37\n",
      "0.33\n",
      "0.31\n",
      "0.29\n"
     ]
    },
    {
     "name": "stderr",
     "output_type": "stream",
     "text": [
      "0: 384x640 14 cars, 1 traffic light, 1 stop sign, 684.6ms\n",
      "Speed: 3.9ms preprocess, 684.6ms inference, 1.0ms postprocess per image at shape (1, 3, 384, 640)\n",
      "\n"
     ]
    },
    {
     "name": "stdout",
     "output_type": "stream",
     "text": [
      "0.89\n",
      "0.87\n",
      "0.82\n",
      "0.81\n",
      "0.76\n",
      "0.74\n",
      "0.74\n",
      "0.71\n",
      "0.62\n",
      "0.61\n",
      "0.55\n",
      "0.53\n",
      "0.38\n",
      "0.38\n",
      "0.3\n",
      "0.26\n"
     ]
    },
    {
     "name": "stderr",
     "output_type": "stream",
     "text": [
      "0: 384x640 13 cars, 1 traffic light, 1 stop sign, 699.5ms\n",
      "Speed: 2.5ms preprocess, 699.5ms inference, 2.0ms postprocess per image at shape (1, 3, 384, 640)\n",
      "\n"
     ]
    },
    {
     "name": "stdout",
     "output_type": "stream",
     "text": [
      "0.9\n",
      "0.87\n",
      "0.85\n",
      "0.81\n",
      "0.78\n",
      "0.71\n",
      "0.69\n",
      "0.67\n",
      "0.62\n",
      "0.56\n",
      "0.54\n",
      "0.38\n",
      "0.37\n",
      "0.29\n",
      "0.27\n"
     ]
    },
    {
     "name": "stderr",
     "output_type": "stream",
     "text": [
      "0: 384x640 13 cars, 1 traffic light, 1 stop sign, 698.3ms\n",
      "Speed: 2.2ms preprocess, 698.3ms inference, 1.0ms postprocess per image at shape (1, 3, 384, 640)\n",
      "\n"
     ]
    },
    {
     "name": "stdout",
     "output_type": "stream",
     "text": [
      "0.88\n",
      "0.87\n",
      "0.85\n",
      "0.81\n",
      "0.79\n",
      "0.77\n",
      "0.61\n",
      "0.6\n",
      "0.6\n",
      "0.59\n",
      "0.5\n",
      "0.44\n",
      "0.34\n",
      "0.31\n",
      "0.28\n"
     ]
    },
    {
     "name": "stderr",
     "output_type": "stream",
     "text": [
      "0: 384x640 13 cars, 1 traffic light, 1 stop sign, 691.7ms\n",
      "Speed: 2.0ms preprocess, 691.7ms inference, 2.0ms postprocess per image at shape (1, 3, 384, 640)\n",
      "\n"
     ]
    },
    {
     "name": "stdout",
     "output_type": "stream",
     "text": [
      "0.88\n",
      "0.86\n",
      "0.83\n",
      "0.82\n",
      "0.81\n",
      "0.78\n",
      "0.63\n",
      "0.63\n",
      "0.59\n",
      "0.58\n",
      "0.52\n",
      "0.41\n",
      "0.41\n",
      "0.33\n",
      "0.27\n"
     ]
    },
    {
     "name": "stderr",
     "output_type": "stream",
     "text": [
      "0: 384x640 14 cars, 1 motorcycle, 1 traffic light, 1 stop sign, 722.8ms\n",
      "Speed: 4.0ms preprocess, 722.8ms inference, 1.0ms postprocess per image at shape (1, 3, 384, 640)\n",
      "\n"
     ]
    },
    {
     "name": "stdout",
     "output_type": "stream",
     "text": [
      "0.86\n",
      "0.85\n",
      "0.83\n",
      "0.81\n",
      "0.8\n",
      "0.78\n",
      "0.63\n",
      "0.6\n",
      "0.58\n",
      "0.57\n",
      "0.47\n",
      "0.44\n",
      "0.43\n",
      "0.41\n",
      "0.35\n",
      "0.33\n",
      "0.33\n"
     ]
    },
    {
     "name": "stderr",
     "output_type": "stream",
     "text": [
      "0: 384x640 16 cars, 1 motorcycle, 1 traffic light, 1 stop sign, 753.8ms\n",
      "Speed: 5.2ms preprocess, 753.8ms inference, 1.6ms postprocess per image at shape (1, 3, 384, 640)\n",
      "\n"
     ]
    },
    {
     "name": "stdout",
     "output_type": "stream",
     "text": [
      "0.91\n",
      "0.88\n",
      "0.87\n",
      "0.86\n",
      "0.78\n",
      "0.75\n",
      "0.62\n",
      "0.6\n",
      "0.56\n",
      "0.53\n",
      "0.48\n",
      "0.47\n",
      "0.46\n",
      "0.39\n",
      "0.38\n",
      "0.37\n",
      "0.27\n",
      "0.26\n",
      "0.26\n"
     ]
    },
    {
     "name": "stderr",
     "output_type": "stream",
     "text": [
      "0: 384x640 15 cars, 1 motorcycle, 1 stop sign, 724.4ms\n",
      "Speed: 3.0ms preprocess, 724.4ms inference, 1.5ms postprocess per image at shape (1, 3, 384, 640)\n",
      "\n"
     ]
    },
    {
     "name": "stdout",
     "output_type": "stream",
     "text": [
      "0.89\n",
      "0.88\n",
      "0.85\n",
      "0.84\n",
      "0.8\n",
      "0.69\n",
      "0.68\n",
      "0.63\n",
      "0.6\n",
      "0.49\n",
      "0.48\n",
      "0.45\n",
      "0.42\n",
      "0.4\n",
      "0.37\n",
      "0.32\n",
      "0.27\n"
     ]
    },
    {
     "name": "stderr",
     "output_type": "stream",
     "text": [
      "0: 384x640 15 cars, 2 motorcycles, 1025.9ms\n",
      "Speed: 3.3ms preprocess, 1025.9ms inference, 1.0ms postprocess per image at shape (1, 3, 384, 640)\n",
      "\n"
     ]
    },
    {
     "name": "stdout",
     "output_type": "stream",
     "text": [
      "0.89\n",
      "0.86\n",
      "0.81\n",
      "0.81\n",
      "0.75\n",
      "0.73\n",
      "0.6\n",
      "0.59\n",
      "0.52\n",
      "0.48\n",
      "0.45\n",
      "0.37\n",
      "0.37\n",
      "0.35\n",
      "0.34\n",
      "0.33\n",
      "0.28\n"
     ]
    },
    {
     "name": "stderr",
     "output_type": "stream",
     "text": [
      "0: 384x640 12 cars, 1 motorcycle, 1 truck, 682.4ms\n",
      "Speed: 2.5ms preprocess, 682.4ms inference, 1.0ms postprocess per image at shape (1, 3, 384, 640)\n",
      "\n"
     ]
    },
    {
     "name": "stdout",
     "output_type": "stream",
     "text": [
      "0.9\n",
      "0.88\n",
      "0.82\n",
      "0.81\n",
      "0.79\n",
      "0.74\n",
      "0.65\n",
      "0.57\n",
      "0.54\n",
      "0.51\n",
      "0.4\n",
      "0.31\n",
      "0.3\n",
      "0.3\n"
     ]
    },
    {
     "name": "stderr",
     "output_type": "stream",
     "text": [
      "0: 384x640 1 person, 12 cars, 1 motorcycle, 1 truck, 666.1ms\n",
      "Speed: 3.0ms preprocess, 666.1ms inference, 1.5ms postprocess per image at shape (1, 3, 384, 640)\n",
      "\n"
     ]
    },
    {
     "name": "stdout",
     "output_type": "stream",
     "text": [
      "0.85\n",
      "0.82\n",
      "0.82\n",
      "0.81\n",
      "0.81\n",
      "0.76\n",
      "0.68\n",
      "0.66\n",
      "0.63\n",
      "0.6\n",
      "0.5\n",
      "0.5\n",
      "0.43\n",
      "0.34\n",
      "0.34\n"
     ]
    },
    {
     "name": "stderr",
     "output_type": "stream",
     "text": [
      "0: 384x640 1 person, 13 cars, 1 motorcycle, 1 truck, 1 stop sign, 717.8ms\n",
      "Speed: 4.6ms preprocess, 717.8ms inference, 1.6ms postprocess per image at shape (1, 3, 384, 640)\n",
      "\n"
     ]
    },
    {
     "name": "stdout",
     "output_type": "stream",
     "text": [
      "0.9\n",
      "0.89\n",
      "0.88\n",
      "0.84\n",
      "0.82\n",
      "0.8\n",
      "0.75\n",
      "0.65\n",
      "0.62\n",
      "0.58\n",
      "0.57\n",
      "0.53\n",
      "0.47\n",
      "0.41\n",
      "0.4\n",
      "0.36\n",
      "0.35\n"
     ]
    },
    {
     "name": "stderr",
     "output_type": "stream",
     "text": [
      "0: 384x640 1 person, 15 cars, 1 motorcycle, 1 truck, 1 stop sign, 663.3ms\n",
      "Speed: 3.5ms preprocess, 663.3ms inference, 1.0ms postprocess per image at shape (1, 3, 384, 640)\n",
      "\n"
     ]
    },
    {
     "name": "stdout",
     "output_type": "stream",
     "text": [
      "0.85\n",
      "0.84\n",
      "0.84\n",
      "0.84\n",
      "0.79\n",
      "0.78\n",
      "0.75\n",
      "0.63\n",
      "0.63\n",
      "0.63\n",
      "0.59\n",
      "0.57\n",
      "0.5\n",
      "0.45\n",
      "0.34\n",
      "0.32\n",
      "0.29\n",
      "0.26\n",
      "0.26\n"
     ]
    },
    {
     "name": "stderr",
     "output_type": "stream",
     "text": [
      "0: 384x640 1 person, 12 cars, 1 motorcycle, 1 truck, 1 stop sign, 712.0ms\n",
      "Speed: 3.0ms preprocess, 712.0ms inference, 1.0ms postprocess per image at shape (1, 3, 384, 640)\n",
      "\n"
     ]
    },
    {
     "name": "stdout",
     "output_type": "stream",
     "text": [
      "0.85\n",
      "0.84\n",
      "0.83\n",
      "0.78\n",
      "0.75\n",
      "0.7\n",
      "0.69\n",
      "0.62\n",
      "0.57\n",
      "0.48\n",
      "0.47\n",
      "0.46\n",
      "0.41\n",
      "0.4\n",
      "0.29\n",
      "0.27\n"
     ]
    },
    {
     "name": "stderr",
     "output_type": "stream",
     "text": [
      "0: 384x640 13 cars, 1 motorcycle, 1 truck, 1 stop sign, 708.5ms\n",
      "Speed: 4.0ms preprocess, 708.5ms inference, 1.0ms postprocess per image at shape (1, 3, 384, 640)\n",
      "\n"
     ]
    },
    {
     "name": "stdout",
     "output_type": "stream",
     "text": [
      "0.87\n",
      "0.85\n",
      "0.84\n",
      "0.82\n",
      "0.77\n",
      "0.64\n",
      "0.64\n",
      "0.58\n",
      "0.54\n",
      "0.53\n",
      "0.5\n",
      "0.48\n",
      "0.47\n",
      "0.39\n",
      "0.37\n",
      "0.3\n"
     ]
    },
    {
     "name": "stderr",
     "output_type": "stream",
     "text": [
      "0: 384x640 1 person, 12 cars, 1 motorcycle, 1 truck, 1 stop sign, 710.8ms\n",
      "Speed: 3.1ms preprocess, 710.8ms inference, 1.0ms postprocess per image at shape (1, 3, 384, 640)\n",
      "\n"
     ]
    },
    {
     "name": "stdout",
     "output_type": "stream",
     "text": [
      "0.88\n",
      "0.84\n",
      "0.82\n",
      "0.77\n",
      "0.75\n",
      "0.71\n",
      "0.62\n",
      "0.59\n",
      "0.55\n",
      "0.53\n",
      "0.5\n",
      "0.5\n",
      "0.4\n",
      "0.35\n",
      "0.31\n",
      "0.3\n"
     ]
    },
    {
     "name": "stderr",
     "output_type": "stream",
     "text": [
      "0: 384x640 1 person, 13 cars, 1 motorcycle, 1 truck, 1 stop sign, 682.4ms\n",
      "Speed: 2.0ms preprocess, 682.4ms inference, 1.6ms postprocess per image at shape (1, 3, 384, 640)\n",
      "\n"
     ]
    },
    {
     "name": "stdout",
     "output_type": "stream",
     "text": [
      "0.89\n",
      "0.85\n",
      "0.84\n",
      "0.83\n",
      "0.77\n",
      "0.71\n",
      "0.7\n",
      "0.69\n",
      "0.65\n",
      "0.54\n",
      "0.46\n",
      "0.44\n",
      "0.41\n",
      "0.4\n",
      "0.32\n",
      "0.28\n",
      "0.28\n"
     ]
    },
    {
     "name": "stderr",
     "output_type": "stream",
     "text": [
      "0: 384x640 13 cars, 2 motorcycles, 1 truck, 1 stop sign, 672.1ms\n",
      "Speed: 3.0ms preprocess, 672.1ms inference, 1.0ms postprocess per image at shape (1, 3, 384, 640)\n",
      "\n"
     ]
    },
    {
     "name": "stdout",
     "output_type": "stream",
     "text": [
      "0.89\n",
      "0.84\n",
      "0.82\n",
      "0.78\n",
      "0.77\n",
      "0.77\n",
      "0.66\n",
      "0.5\n",
      "0.45\n",
      "0.45\n",
      "0.37\n",
      "0.32\n",
      "0.29\n",
      "0.28\n",
      "0.27\n",
      "0.27\n",
      "0.26\n"
     ]
    },
    {
     "name": "stderr",
     "output_type": "stream",
     "text": [
      "0: 384x640 1 person, 11 cars, 1 motorcycle, 2 trucks, 715.1ms\n",
      "Speed: 3.9ms preprocess, 715.1ms inference, 1.0ms postprocess per image at shape (1, 3, 384, 640)\n",
      "\n"
     ]
    },
    {
     "name": "stdout",
     "output_type": "stream",
     "text": [
      "0.87\n",
      "0.85\n",
      "0.84\n",
      "0.79\n",
      "0.79\n",
      "0.66\n",
      "0.58\n",
      "0.57\n",
      "0.55\n",
      "0.54\n",
      "0.5\n",
      "0.43\n",
      "0.43\n",
      "0.39\n",
      "0.35\n"
     ]
    },
    {
     "name": "stderr",
     "output_type": "stream",
     "text": [
      "0: 384x640 1 person, 12 cars, 1 truck, 682.5ms\n",
      "Speed: 2.0ms preprocess, 682.5ms inference, 1.0ms postprocess per image at shape (1, 3, 384, 640)\n"
     ]
    },
    {
     "name": "stdout",
     "output_type": "stream",
     "text": [
      "0.88\n",
      "0.84\n",
      "0.83\n",
      "0.81\n",
      "0.8\n",
      "0.77\n",
      "0.69\n",
      "0.52\n",
      "0.42\n",
      "0.39\n",
      "0.35\n",
      "0.34\n",
      "0.34\n",
      "0.34\n"
     ]
    }
   ],
   "source": [
    "while True:\n",
    "    success, img = cap.read()\n",
    "    results = model(img,stream=True)\n",
    "    for r in results:\n",
    "        boxes = r.boxes\n",
    "        for box in boxes:\n",
    "            # xy1 are points and xy2 are height and width\n",
    "            x1,y1,x2,y2 = box.xyxy[0]\n",
    "            # converting them into integers instead for tensor \n",
    "            x1,y1,x2,y2 = int(x1),int(y1),int(x2),int(y2)\n",
    "            # cv2.rectangle(img,(x1,y1),(x2,y2),(255,0,255),3) #using cv2 reactangle\n",
    "            w,h = x2-x1 , y2-y1\n",
    "            bbox = int(x1),int(y1),int(w),int(h)\n",
    "            \n",
    "            # print(x1,y1,x2,y2)\n",
    "            \n",
    "            # cvzone.cornerRect(img,(x1,y1,w,h),l=9) #using cvzone rectange\n",
    "            \n",
    "            #confidence\n",
    "            conf = math.ceil((box.conf[0]*100))/100 #for confidence values\n",
    "            print(conf)\n",
    "            #classnames\n",
    "            cls = int(box.cls[0])\n",
    "            #to display conf and object class on webcam\n",
    "            currentclass = classNames[cls]\n",
    "            \n",
    "            if currentclass == \"car\" or currentclass == \"truck\" or currentclass == \"bus\" or currentclass == \"motorbike\" and conf>0.3 :\n",
    "                cvzone.putTextRect(img,f'{currentclass} {conf}',(max(0,x1),max(35,y1)) , scale=0.6,thickness=1,offset=3)\n",
    "                cvzone.cornerRect(img,(x1,y1,w,h),l=9) #using cvzone rectange\n",
    "            \n",
    "    cv2.imshow(\"Image\",img)\n",
    "    # cv2.waitKey(1)\n",
    "    # Wait for a key event, but only for a short duration (10 milliseconds)\n",
    "    # If the key is Esc (27), then break out of the loop and close the webcam\n",
    "    if cv2.waitKey(1) == 27:\n",
    "        break\n",
    "\n",
    "# Release the webcam and close all OpenCV windows\n",
    "cap.release()\n",
    "cv2.destroyAllWindows()"
   ]
  }
 ],
 "metadata": {
  "kernelspec": {
   "display_name": "Python 3",
   "language": "python",
   "name": "python3"
  },
  "language_info": {
   "codemirror_mode": {
    "name": "ipython",
    "version": 3
   },
   "file_extension": ".py",
   "mimetype": "text/x-python",
   "name": "python",
   "nbconvert_exporter": "python",
   "pygments_lexer": "ipython3",
   "version": "3.10.4"
  },
  "orig_nbformat": 4
 },
 "nbformat": 4,
 "nbformat_minor": 2
}
