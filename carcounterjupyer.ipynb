{
 "cells": [
  {
   "cell_type": "code",
   "execution_count": 120,
   "metadata": {},
   "outputs": [],
   "source": [
    "import cv2\n",
    "from ultralytics import YOLO\n",
    "import cvzone\n",
    "import math\n",
    "\n",
    "from sort import *"
   ]
  },
  {
   "cell_type": "code",
   "execution_count": 121,
   "metadata": {},
   "outputs": [],
   "source": [
    "# creating web cam object\n",
    "# cap = cv2.VideoCapture(0)\n",
    "cap = cv2.VideoCapture('./Videos/cars.mp4')\n",
    "#cap.set(3,1280) # for width\n",
    "#cap.set(4,720) #for height"
   ]
  },
  {
   "cell_type": "code",
   "execution_count": 122,
   "metadata": {},
   "outputs": [],
   "source": [
    "model = YOLO('./Yolo-Weights/yolov8l.pt')"
   ]
  },
  {
   "cell_type": "code",
   "execution_count": 123,
   "metadata": {},
   "outputs": [],
   "source": [
    "# classes that will be detected and displayed\n",
    "classNames = [\"person\", \"bicycle\", \"car\", \"motorbike\", \"aeroplane\", \"bus\", \"train\", \"truck\", \"boat\",\n",
    "              \"traffic light\", \"fire hydrant\", \"stop sign\", \"parking meter\", \"bench\", \"bird\", \"cat\",\n",
    "              \"dog\", \"horse\", \"sheep\", \"cow\", \"elephant\", \"bear\", \"zebra\", \"giraffe\", \"backpack\", \"umbrella\",\n",
    "              \"handbag\", \"tie\", \"suitcase\", \"frisbee\", \"skis\", \"snowboard\", \"sports ball\", \"kite\", \"baseball bat\",\n",
    "              \"baseball glove\", \"skateboard\", \"surfboard\", \"tennis racket\", \"bottle\", \"wine glass\", \"cup\",\n",
    "              \"fork\", \"knife\", \"spoon\", \"bowl\", \"banana\", \"apple\", \"sandwich\", \"orange\", \"broccoli\",\n",
    "              \"carrot\", \"hot dog\", \"pizza\", \"donut\", \"cake\", \"chair\", \"sofa\", \"pottedplant\", \"bed\",\n",
    "              \"diningtable\", \"toilet\", \"tvmonitor\", \"laptop\", \"mouse\", \"remote\", \"keyboard\", \"cell phone\",\n",
    "              \"microwave\", \"oven\", \"toaster\", \"sink\", \"refrigerator\", \"book\", \"clock\", \"vase\", \"scissors\",\n",
    "              \"teddy bear\", \"hair drier\", \"toothbrush\" , \"pen\"\n",
    "              ]"
   ]
  },
  {
   "cell_type": "code",
   "execution_count": 124,
   "metadata": {},
   "outputs": [],
   "source": [
    "mask = cv2.imread('./mask.png')"
   ]
  },
  {
   "cell_type": "code",
   "execution_count": 125,
   "metadata": {},
   "outputs": [],
   "source": [
    "# creating a instance for tracking\n",
    "tracker = Sort(max_age=20,min_hits=3,iou_threshold=0.3)\n",
    "\n",
    "# we will make a line and count after that \n",
    "limits = [400,297,673,297]\n",
    "totalcounts=[]"
   ]
  },
  {
   "cell_type": "code",
   "execution_count": 126,
   "metadata": {},
   "outputs": [
    {
     "name": "stderr",
     "output_type": "stream",
     "text": [
      "\n",
      "0: 384x640 3 cars, 830.9ms\n",
      "Speed: 14.6ms preprocess, 830.9ms inference, 24.6ms postprocess per image at shape (1, 3, 384, 640)\n",
      "\n"
     ]
    },
    {
     "name": "stdout",
     "output_type": "stream",
     "text": [
      "0.81\n",
      "0.8\n",
      "0.67\n",
      "[        571         316         651         429         692]\n",
      "[        378         348         495         457         691]\n",
      "[        458         226         509         270         690]\n"
     ]
    },
    {
     "name": "stderr",
     "output_type": "stream",
     "text": [
      "0: 384x640 3 cars, 932.9ms\n",
      "Speed: 8.0ms preprocess, 932.9ms inference, 0.0ms postprocess per image at shape (1, 3, 384, 640)\n",
      "\n"
     ]
    },
    {
     "name": "stdout",
     "output_type": "stream",
     "text": [
      "0.88\n",
      "0.83\n",
      "0.82\n",
      "[     568.92      322.12      649.08      435.88         692]\n",
      "[     373.98      352.02      493.02      462.98         691]\n",
      "[     456.14      227.88      506.86      271.12         690]\n"
     ]
    },
    {
     "name": "stderr",
     "output_type": "stream",
     "text": [
      "0: 384x640 4 cars, 740.5ms\n",
      "Speed: 0.0ms preprocess, 740.5ms inference, 0.0ms postprocess per image at shape (1, 3, 384, 640)\n",
      "\n"
     ]
    },
    {
     "name": "stdout",
     "output_type": "stream",
     "text": [
      "0.89\n",
      "0.84\n",
      "0.78\n",
      "0.4\n",
      "[        624         198         653         214         693]\n",
      "[     559.26      345.51      647.22      465.01         692]\n",
      "[     355.99      366.25      476.77      470.04         691]\n",
      "[     449.35         234      502.12      279.29         690]\n"
     ]
    },
    {
     "name": "stderr",
     "output_type": "stream",
     "text": [
      "0: 384x640 5 cars, 738.5ms\n",
      "Speed: 8.0ms preprocess, 738.5ms inference, 0.0ms postprocess per image at shape (1, 3, 384, 640)\n",
      "\n"
     ]
    },
    {
     "name": "stdout",
     "output_type": "stream",
     "text": [
      "0.84\n",
      "0.82\n",
      "0.75\n",
      "0.74\n",
      "0.56\n",
      "[     548.26      386.26      630.01      477.31         692]\n",
      "[     331.78       390.1      452.71      473.44         691]\n",
      "[     438.11      241.99      494.47      290.71         690]\n"
     ]
    },
    {
     "name": "stderr",
     "output_type": "stream",
     "text": [
      "0: 384x640 5 cars, 721.0ms\n",
      "Speed: 6.8ms preprocess, 721.0ms inference, 0.0ms postprocess per image at shape (1, 3, 384, 640)\n",
      "\n"
     ]
    },
    {
     "name": "stdout",
     "output_type": "stream",
     "text": [
      "0.86\n",
      "0.82\n",
      "0.68\n",
      "0.54\n",
      "0.41\n",
      "[     323.07      414.46         433      474.06         691]\n",
      "[     427.65      251.39      486.44       302.2         690]\n"
     ]
    },
    {
     "name": "stderr",
     "output_type": "stream",
     "text": [
      "0: 384x640 4 cars, 705.5ms\n",
      "Speed: 5.2ms preprocess, 705.5ms inference, 0.0ms postprocess per image at shape (1, 3, 384, 640)\n",
      "\n"
     ]
    },
    {
     "name": "stdout",
     "output_type": "stream",
     "text": [
      "0.76\n",
      "0.74\n",
      "0.69\n",
      "0.35\n",
      "[     612.44      200.77      660.84      240.05         693]\n",
      "[     416.82      259.33      478.98      313.22         690]\n"
     ]
    },
    {
     "name": "stderr",
     "output_type": "stream",
     "text": [
      "0: 384x640 3 cars, 747.2ms\n",
      "Speed: 3.5ms preprocess, 747.2ms inference, 0.0ms postprocess per image at shape (1, 3, 384, 640)\n",
      "\n"
     ]
    },
    {
     "name": "stdout",
     "output_type": "stream",
     "text": [
      "0.87\n",
      "0.85\n",
      "0.76\n",
      "[     508.66      198.23      548.12      213.81         694]\n",
      "[     610.06      205.82      662.84      251.21         693]\n",
      "[     404.34      268.07      469.71      324.95         690]\n"
     ]
    },
    {
     "name": "stderr",
     "output_type": "stream",
     "text": [
      "0: 384x640 4 cars, 725.5ms\n",
      "Speed: 8.0ms preprocess, 725.5ms inference, 0.0ms postprocess per image at shape (1, 3, 384, 640)\n",
      "\n"
     ]
    },
    {
     "name": "stdout",
     "output_type": "stream",
     "text": [
      "0.85\n",
      "0.82\n",
      "0.76\n",
      "0.5\n",
      "[     503.99      198.79      547.62       217.8         694]\n",
      "[     606.76      212.94      663.09       263.4         693]\n",
      "[     391.16      276.93      460.74      337.04         690]\n"
     ]
    },
    {
     "name": "stderr",
     "output_type": "stream",
     "text": [
      "0: 384x640 4 cars, 1 motorcycle, 830.9ms\n",
      "Speed: 8.0ms preprocess, 830.9ms inference, 0.0ms postprocess per image at shape (1, 3, 384, 640)\n",
      "\n"
     ]
    },
    {
     "name": "stdout",
     "output_type": "stream",
     "text": [
      "0.85\n",
      "0.8\n",
      "0.76\n",
      "0.3\n",
      "0.29\n",
      "[     499.42      199.23      545.73      221.57         694]\n",
      "[        602      221.48      662.59      277.13         693]\n",
      "[     376.62      287.98      450.31      351.19         690]\n"
     ]
    },
    {
     "name": "stderr",
     "output_type": "stream",
     "text": [
      "0: 384x640 4 cars, 759.7ms\n",
      "Speed: 3.3ms preprocess, 759.7ms inference, 0.0ms postprocess per image at shape (1, 3, 384, 640)\n",
      "\n"
     ]
    },
    {
     "name": "stdout",
     "output_type": "stream",
     "text": [
      "0.88\n",
      "0.79\n",
      "0.76\n",
      "0.41\n",
      "[     495.08      199.74      543.92      225.85         694]\n",
      "[     598.94      231.02       662.5      290.74         693]\n",
      "[     360.39      299.94      438.56      366.59         690]\n"
     ]
    },
    {
     "name": "stderr",
     "output_type": "stream",
     "text": [
      "0: 384x640 4 cars, 713.0ms\n",
      "Speed: 7.5ms preprocess, 713.0ms inference, 0.0ms postprocess per image at shape (1, 3, 384, 640)\n",
      "\n"
     ]
    },
    {
     "name": "stdout",
     "output_type": "stream",
     "text": [
      "0.89\n",
      "0.8\n",
      "0.72\n",
      "0.66\n",
      "[     491.09      201.02      541.16      230.26         694]\n",
      "[     592.07      242.59      657.35      305.97         693]\n",
      "[      341.7      312.76      425.58      384.53         690]\n"
     ]
    },
    {
     "name": "stderr",
     "output_type": "stream",
     "text": [
      "0: 384x640 4 cars, 745.4ms\n",
      "Speed: 11.1ms preprocess, 745.4ms inference, 0.0ms postprocess per image at shape (1, 3, 384, 640)\n",
      "\n"
     ]
    },
    {
     "name": "stdout",
     "output_type": "stream",
     "text": [
      "0.89\n",
      "0.84\n",
      "0.81\n",
      "0.62\n",
      "[     486.58      203.99      537.36         236         694]\n",
      "[      584.9      255.12      653.48      323.48         693]\n",
      "[     321.03       326.3      411.27      402.96         690]\n"
     ]
    },
    {
     "name": "stderr",
     "output_type": "stream",
     "text": [
      "0: 384x640 5 cars, 752.3ms\n",
      "Speed: 8.0ms preprocess, 752.3ms inference, 0.0ms postprocess per image at shape (1, 3, 384, 640)\n",
      "\n"
     ]
    },
    {
     "name": "stdout",
     "output_type": "stream",
     "text": [
      "0.88\n",
      "0.85\n",
      "0.77\n",
      "0.69\n",
      "0.52\n",
      "[     572.43      200.38      617.21      224.49         698]\n",
      "[     481.31      207.08      533.09         242         694]\n",
      "[     577.31      269.18      649.77      343.25         693]\n",
      "[     297.61      342.61      395.23      424.97         690]\n"
     ]
    },
    {
     "name": "stderr",
     "output_type": "stream",
     "text": [
      "0: 384x640 5 cars, 713.0ms\n",
      "Speed: 5.3ms preprocess, 713.0ms inference, 3.0ms postprocess per image at shape (1, 3, 384, 640)\n",
      "\n"
     ]
    },
    {
     "name": "stdout",
     "output_type": "stream",
     "text": [
      "0.86\n",
      "0.83\n",
      "0.78\n",
      "0.74\n",
      "0.5\n",
      "[     568.93       202.2      614.68      230.48         698]\n",
      "[     476.39      211.65      528.71      248.63         694]\n",
      "[     567.95      285.23      645.78      366.34         693]\n",
      "[     271.03      360.17       376.8      449.36         690]\n"
     ]
    },
    {
     "name": "stderr",
     "output_type": "stream",
     "text": [
      "0: 384x640 5 cars, 1 motorcycle, 710.2ms\n",
      "Speed: 0.0ms preprocess, 710.2ms inference, 0.0ms postprocess per image at shape (1, 3, 384, 640)\n",
      "\n"
     ]
    },
    {
     "name": "stdout",
     "output_type": "stream",
     "text": [
      "0.89\n",
      "0.84\n",
      "0.81\n",
      "0.77\n",
      "0.56\n",
      "0.45\n",
      "[     565.71      207.21       611.8      238.65         698]\n",
      "[     470.31      216.77      523.61      256.13         694]\n",
      "[     557.39      302.92      640.96      392.31         693]\n",
      "[     241.31      376.35      354.89      467.17         690]\n"
     ]
    },
    {
     "name": "stderr",
     "output_type": "stream",
     "text": [
      "0: 384x640 1 person, 5 cars, 1 motorcycle, 695.2ms\n",
      "Speed: 0.0ms preprocess, 695.2ms inference, 0.0ms postprocess per image at shape (1, 3, 384, 640)\n",
      "\n"
     ]
    },
    {
     "name": "stdout",
     "output_type": "stream",
     "text": [
      "0.88\n",
      "0.86\n",
      "0.83\n",
      "0.78\n",
      "0.61\n",
      "0.51\n",
      "0.27\n",
      "[     629.52      199.82      658.42       243.5         699]\n",
      "[     561.59      212.26       608.4      246.92         698]\n",
      "[     462.69      222.11      517.35      263.23         694]\n",
      "[     543.12       324.1      631.18      421.67         693]\n",
      "[     209.38      393.24      330.83      476.59         690]\n"
     ]
    },
    {
     "name": "stderr",
     "output_type": "stream",
     "text": [
      "0: 384x640 5 cars, 1 motorcycle, 717.1ms\n",
      "Speed: 3.6ms preprocess, 717.1ms inference, 8.0ms postprocess per image at shape (1, 3, 384, 640)\n",
      "\n"
     ]
    },
    {
     "name": "stdout",
     "output_type": "stream",
     "text": [
      "0.84\n",
      "0.84\n",
      "0.81\n",
      "0.75\n",
      "0.7\n",
      "0.42\n",
      "[     626.13      200.12      660.78      254.16         699]\n",
      "[     556.88      219.29      603.75      256.66         698]\n",
      "[     454.88      227.85      510.99      270.49         694]\n",
      "[     527.12      347.34      622.58      454.09         693]\n",
      "[     179.67      414.72      308.29      481.82         690]\n"
     ]
    },
    {
     "name": "stderr",
     "output_type": "stream",
     "text": [
      "0: 384x640 5 cars, 1 motorcycle, 709.7ms\n",
      "Speed: 0.0ms preprocess, 709.7ms inference, 0.0ms postprocess per image at shape (1, 3, 384, 640)\n",
      "\n"
     ]
    },
    {
     "name": "stdout",
     "output_type": "stream",
     "text": [
      "0.89\n",
      "0.82\n",
      "0.77\n",
      "0.74\n",
      "0.62\n",
      "0.52\n",
      "[     528.07      266.61      552.32      320.38         700]\n",
      "[     622.41      201.54      662.03      264.57         699]\n",
      "[     551.28      226.16       599.4      266.34         698]\n",
      "[     446.41      234.28      504.55      279.23         694]\n",
      "[     510.64       370.1      615.66      472.96         693]\n"
     ]
    },
    {
     "name": "stderr",
     "output_type": "stream",
     "text": [
      "0: 384x640 5 cars, 1 motorcycle, 708.3ms\n",
      "Speed: 0.0ms preprocess, 708.3ms inference, 0.0ms postprocess per image at shape (1, 3, 384, 640)\n",
      "\n"
     ]
    },
    {
     "name": "stdout",
     "output_type": "stream",
     "text": [
      "0.79\n",
      "0.79\n",
      "0.78\n",
      "0.68\n",
      "0.64\n",
      "0.55\n",
      "[     518.32      278.72       543.5       334.7         700]\n",
      "[     617.41      207.95      661.98       278.8         699]\n",
      "[     545.71      233.71       595.5      276.55         698]\n",
      "[     436.37       241.8      496.78      288.98         694]\n",
      "[     496.84      396.73      608.54       482.6         693]\n"
     ]
    },
    {
     "name": "stderr",
     "output_type": "stream",
     "text": [
      "0: 384x640 1 person, 4 cars, 1 motorcycle, 1 truck, 704.3ms\n",
      "Speed: 1.1ms preprocess, 704.3ms inference, 6.7ms postprocess per image at shape (1, 3, 384, 640)\n",
      "\n"
     ]
    },
    {
     "name": "stdout",
     "output_type": "stream",
     "text": [
      "0.86\n",
      "0.83\n",
      "0.72\n",
      "0.67\n",
      "0.59\n",
      "0.55\n",
      "0.35\n",
      "[     508.83      305.02       532.5      355.31         700]\n",
      "[      611.6      216.52      661.92      294.37         699]\n",
      "[     538.83      242.51      591.11      288.58         698]\n",
      "[      425.1      250.68      487.87      299.44         694]\n"
     ]
    },
    {
     "name": "stderr",
     "output_type": "stream",
     "text": [
      "0: 384x640 1 person, 4 cars, 1 motorcycle, 696.2ms\n",
      "Speed: 7.6ms preprocess, 696.2ms inference, 8.0ms postprocess per image at shape (1, 3, 384, 640)\n",
      "\n"
     ]
    },
    {
     "name": "stdout",
     "output_type": "stream",
     "text": [
      "0.87\n",
      "0.85\n",
      "0.74\n",
      "0.66\n",
      "0.61\n",
      "0.53\n",
      "[     549.59      199.08      594.15       227.2         701]\n",
      "[      496.9      323.89      521.99      375.09         700]\n",
      "[     605.95      227.53      660.78      310.65         699]\n",
      "[     531.66      251.93      585.71      300.42         698]\n",
      "[      412.1      259.74      477.86      311.12         694]\n"
     ]
    },
    {
     "name": "stderr",
     "output_type": "stream",
     "text": [
      "0: 384x640 1 person, 3 cars, 1 motorcycle, 1 truck, 714.1ms\n",
      "Speed: 3.0ms preprocess, 714.1ms inference, 8.0ms postprocess per image at shape (1, 3, 384, 640)\n",
      "\n"
     ]
    },
    {
     "name": "stdout",
     "output_type": "stream",
     "text": [
      "0.83\n",
      "0.82\n",
      "0.8\n",
      "0.56\n",
      "0.53\n",
      "0.52\n",
      "[     545.51      200.27      593.21      233.19         701]\n",
      "[     482.33      344.05      510.03      398.34         700]\n",
      "[      600.7      240.16       660.3      329.71         699]\n",
      "[     523.39      262.01      580.94      313.69         698]\n",
      "[      397.3      270.27      466.66      324.46         694]\n"
     ]
    },
    {
     "name": "stderr",
     "output_type": "stream",
     "text": [
      "0: 384x640 1 person, 3 cars, 1 motorcycle, 1 truck, 743.1ms\n",
      "Speed: 0.0ms preprocess, 743.1ms inference, 6.9ms postprocess per image at shape (1, 3, 384, 640)\n",
      "\n"
     ]
    },
    {
     "name": "stdout",
     "output_type": "stream",
     "text": [
      "0.86\n",
      "0.83\n",
      "0.8\n",
      "0.68\n",
      "0.66\n",
      "0.53\n",
      "[     541.42      202.85       591.6      239.22         701]\n",
      "[     465.19      370.08      495.19      426.18         700]\n",
      "[     593.39      253.61      660.27      351.44         699]\n",
      "[     513.79      274.35      574.71      329.42         698]\n",
      "[     380.58      282.13      454.32      339.56         694]\n"
     ]
    },
    {
     "name": "stderr",
     "output_type": "stream",
     "text": [
      "0: 384x640 1 person, 3 cars, 2 motorcycles, 1 truck, 713.7ms\n",
      "Speed: 8.0ms preprocess, 713.7ms inference, 1.9ms postprocess per image at shape (1, 3, 384, 640)\n",
      "\n"
     ]
    },
    {
     "name": "stdout",
     "output_type": "stream",
     "text": [
      "0.86\n",
      "0.83\n",
      "0.81\n",
      "0.67\n",
      "0.45\n",
      "0.35\n",
      "0.29\n",
      "[     536.56      207.55      589.11       247.8         701]\n",
      "[      445.4      398.89      478.43      458.21         700]\n",
      "[     583.63      269.37      659.45       376.7         699]\n",
      "[     502.21      287.07      567.46      346.47         698]\n",
      "[     360.93       295.2      440.53      356.55         694]\n"
     ]
    },
    {
     "name": "stderr",
     "output_type": "stream",
     "text": [
      "0: 384x640 1 person, 4 cars, 2 motorcycles, 1 truck, 695.1ms\n",
      "Speed: 3.3ms preprocess, 695.1ms inference, 0.0ms postprocess per image at shape (1, 3, 384, 640)\n",
      "\n"
     ]
    },
    {
     "name": "stdout",
     "output_type": "stream",
     "text": [
      "0.89\n",
      "0.82\n",
      "0.76\n",
      "0.74\n",
      "0.5\n",
      "0.47\n",
      "0.44\n",
      "0.28\n",
      "[     531.53      213.43      584.87         256         701]\n",
      "[     571.86      288.45      654.81      405.36         699]\n",
      "[     488.99      301.62       558.8      365.57         698]\n",
      "[     339.04      310.47      425.41      377.05         694]\n"
     ]
    },
    {
     "name": "stderr",
     "output_type": "stream",
     "text": [
      "0: 384x640 4 cars, 1 truck, 711.2ms\n",
      "Speed: 5.3ms preprocess, 711.2ms inference, 8.0ms postprocess per image at shape (1, 3, 384, 640)\n",
      "\n"
     ]
    },
    {
     "name": "stdout",
     "output_type": "stream",
     "text": [
      "0.88\n",
      "0.85\n",
      "0.83\n",
      "0.76\n",
      "0.68\n",
      "[        526      219.63      580.49      264.77         701]\n",
      "[     559.16      311.62      651.62      442.24         699]\n",
      "[      474.8      318.22      549.99      387.31         698]\n",
      "[     312.94      327.07      407.33      398.97         694]\n"
     ]
    },
    {
     "name": "stderr",
     "output_type": "stream",
     "text": [
      "0: 384x640 4 cars, 2 trucks, 770.8ms\n",
      "Speed: 1.5ms preprocess, 770.8ms inference, 0.0ms postprocess per image at shape (1, 3, 384, 640)\n",
      "\n"
     ]
    },
    {
     "name": "stdout",
     "output_type": "stream",
     "text": [
      "0.86\n",
      "0.81\n",
      "0.74\n",
      "0.65\n",
      "0.64\n",
      "0.55\n",
      "[     521.11      225.85      576.63      272.41         701]\n",
      "[     540.16      332.85       639.8      466.35         699]\n",
      "[     458.15      337.66      539.32      412.51         698]\n",
      "[     282.36      347.95      385.85      426.09         694]\n"
     ]
    },
    {
     "name": "stderr",
     "output_type": "stream",
     "text": [
      "0: 384x640 4 cars, 1 bus, 1 truck, 713.1ms\n",
      "Speed: 5.0ms preprocess, 713.1ms inference, 8.0ms postprocess per image at shape (1, 3, 384, 640)\n",
      "\n"
     ]
    },
    {
     "name": "stdout",
     "output_type": "stream",
     "text": [
      "0.84\n",
      "0.79\n",
      "0.77\n",
      "0.64\n",
      "0.54\n",
      "0.52\n",
      "[     502.99      199.15      546.16      224.97         703]\n",
      "[     514.42      234.26      571.65      282.81         701]\n",
      "[     521.49      356.06      625.42      480.21         699]\n",
      "[     438.41      360.09      526.89       441.6         698]\n",
      "[     245.71      370.51      360.35      455.05         694]\n"
     ]
    },
    {
     "name": "stderr",
     "output_type": "stream",
     "text": [
      "0: 384x640 5 cars, 1 truck, 684.4ms\n",
      "Speed: 0.0ms preprocess, 684.4ms inference, 0.0ms postprocess per image at shape (1, 3, 384, 640)\n",
      "\n"
     ]
    },
    {
     "name": "stdout",
     "output_type": "stream",
     "text": [
      "0.87\n",
      "0.81\n",
      "0.81\n",
      "0.76\n",
      "0.49\n",
      "0.39\n",
      "[     497.34      201.62      542.81      231.46         703]\n",
      "[     507.09      242.37      566.93      293.94         701]\n",
      "[     508.47      386.22      619.76       486.6         699]\n",
      "[     415.11      381.69      510.99      464.22         698]\n"
     ]
    },
    {
     "name": "stderr",
     "output_type": "stream",
     "text": [
      "0: 384x640 4 cars, 696.1ms\n",
      "Speed: 5.8ms preprocess, 696.1ms inference, 8.0ms postprocess per image at shape (1, 3, 384, 640)\n",
      "\n"
     ]
    },
    {
     "name": "stdout",
     "output_type": "stream",
     "text": [
      "0.82\n",
      "0.81\n",
      "0.8\n",
      "0.7\n",
      "[     178.07      428.01         289       474.3         705]\n",
      "[     491.71      205.99       537.2       237.7         703]\n",
      "[     498.66      251.87       561.2      306.46         701]\n",
      "[     393.41         405       496.8      476.37         698]\n"
     ]
    },
    {
     "name": "stderr",
     "output_type": "stream",
     "text": [
      "0: 384x640 2 cars, 712.7ms\n",
      "Speed: 2.5ms preprocess, 712.7ms inference, 0.5ms postprocess per image at shape (1, 3, 384, 640)\n",
      "\n"
     ]
    },
    {
     "name": "stdout",
     "output_type": "stream",
     "text": [
      "0.8\n",
      "0.71\n",
      "[     485.13      210.59      531.18      244.86         703]\n",
      "[     489.48      261.99      555.46         320         701]\n"
     ]
    },
    {
     "name": "stderr",
     "output_type": "stream",
     "text": [
      "0: 384x640 2 cars, 733.4ms\n",
      "Speed: 0.0ms preprocess, 733.4ms inference, 5.1ms postprocess per image at shape (1, 3, 384, 640)\n",
      "\n"
     ]
    },
    {
     "name": "stdout",
     "output_type": "stream",
     "text": [
      "0.79\n",
      "0.74\n",
      "[     478.31      215.98      526.36      252.97         703]\n",
      "[      478.6      272.27      548.51      333.95         701]\n"
     ]
    },
    {
     "name": "stderr",
     "output_type": "stream",
     "text": [
      "0: 384x640 2 cars, 704.9ms\n",
      "Speed: 3.2ms preprocess, 704.9ms inference, 0.0ms postprocess per image at shape (1, 3, 384, 640)\n",
      "\n"
     ]
    },
    {
     "name": "stdout",
     "output_type": "stream",
     "text": [
      "0.83\n",
      "0.72\n",
      "[     470.53      222.18      519.45      260.81         703]\n",
      "[     466.71      284.41      540.21      349.51         701]\n"
     ]
    },
    {
     "name": "stderr",
     "output_type": "stream",
     "text": [
      "0: 384x640 2 cars, 708.0ms\n",
      "Speed: 0.0ms preprocess, 708.0ms inference, 0.0ms postprocess per image at shape (1, 3, 384, 640)\n",
      "\n"
     ]
    },
    {
     "name": "stdout",
     "output_type": "stream",
     "text": [
      "0.82\n",
      "0.75\n",
      "[     462.43      229.51      513.15       269.7         703]\n",
      "[     452.16      297.84      531.09      367.67         701]\n"
     ]
    },
    {
     "name": "stderr",
     "output_type": "stream",
     "text": [
      "0: 384x640 3 cars, 701.7ms\n",
      "Speed: 0.0ms preprocess, 701.7ms inference, 9.5ms postprocess per image at shape (1, 3, 384, 640)\n",
      "\n"
     ]
    },
    {
     "name": "stdout",
     "output_type": "stream",
     "text": [
      "0.85\n",
      "0.81\n",
      "0.63\n",
      "[     452.54      236.81      505.42      278.71         703]\n",
      "[     436.82       312.8      520.82      387.67         701]\n"
     ]
    },
    {
     "name": "stderr",
     "output_type": "stream",
     "text": [
      "0: 384x640 3 cars, 704.5ms\n",
      "Speed: 7.2ms preprocess, 704.5ms inference, 0.0ms postprocess per image at shape (1, 3, 384, 640)\n",
      "\n"
     ]
    },
    {
     "name": "stdout",
     "output_type": "stream",
     "text": [
      "0.86\n",
      "0.81\n",
      "0.51\n",
      "[     441.69      245.09      496.82       289.4         703]\n",
      "[     419.82      330.33      509.56      410.92         701]\n"
     ]
    },
    {
     "name": "stderr",
     "output_type": "stream",
     "text": [
      "0: 384x640 3 cars, 701.5ms\n",
      "Speed: 3.2ms preprocess, 701.5ms inference, 0.0ms postprocess per image at shape (1, 3, 384, 640)\n",
      "\n"
     ]
    },
    {
     "name": "stdout",
     "output_type": "stream",
     "text": [
      "0.87\n",
      "0.78\n",
      "0.72\n",
      "[     430.12       253.9      487.65      300.51         703]\n",
      "[      399.4      350.15      496.85       438.6         701]\n"
     ]
    },
    {
     "name": "stderr",
     "output_type": "stream",
     "text": [
      "0: 384x640 4 cars, 706.7ms\n",
      "Speed: 0.0ms preprocess, 706.7ms inference, 0.0ms postprocess per image at shape (1, 3, 384, 640)\n",
      "\n"
     ]
    },
    {
     "name": "stdout",
     "output_type": "stream",
     "text": [
      "0.91\n",
      "0.84\n",
      "0.8\n",
      "0.43\n",
      "[     616.09      200.66      656.72      232.03         707]\n",
      "[     416.79      264.17      477.81      313.11         703]\n",
      "[     375.32      369.49      480.76      462.01         701]\n"
     ]
    },
    {
     "name": "stderr",
     "output_type": "stream",
     "text": [
      "0: 384x640 4 cars, 709.4ms\n",
      "Speed: 8.0ms preprocess, 709.4ms inference, 0.0ms postprocess per image at shape (1, 3, 384, 640)\n",
      "\n"
     ]
    },
    {
     "name": "stdout",
     "output_type": "stream",
     "text": [
      "0.91\n",
      "0.86\n",
      "0.72\n",
      "0.6\n",
      "[     614.94      202.74      657.09      238.95         707]\n",
      "[     401.38      274.91      465.88      326.98         703]\n",
      "[     352.08      388.66      463.86      473.89         701]\n"
     ]
    },
    {
     "name": "stderr",
     "output_type": "stream",
     "text": [
      "0: 384x640 4 cars, 697.0ms\n",
      "Speed: 9.2ms preprocess, 697.0ms inference, 0.0ms postprocess per image at shape (1, 3, 384, 640)\n",
      "\n"
     ]
    },
    {
     "name": "stdout",
     "output_type": "stream",
     "text": [
      "0.86\n",
      "0.81\n",
      "0.72\n",
      "0.7\n",
      "[     613.43      207.91      657.65      249.47         707]\n",
      "[     384.02      286.57      453.07      341.85         703]\n",
      "[     326.15      413.95      447.77      480.43         701]\n"
     ]
    },
    {
     "name": "stderr",
     "output_type": "stream",
     "text": [
      "0: 384x640 3 cars, 684.4ms\n",
      "Speed: 6.6ms preprocess, 684.4ms inference, 5.0ms postprocess per image at shape (1, 3, 384, 640)\n",
      "\n"
     ]
    },
    {
     "name": "stdout",
     "output_type": "stream",
     "text": [
      "0.88\n",
      "0.72\n",
      "0.71\n",
      "[     515.16      197.52      547.62      211.42         708]\n",
      "[     611.35      214.59      657.31      260.47         707]\n",
      "[     364.23      300.23      438.39      359.34         703]\n"
     ]
    },
    {
     "name": "stderr",
     "output_type": "stream",
     "text": [
      "0: 384x640 3 cars, 701.4ms\n",
      "Speed: 8.0ms preprocess, 701.4ms inference, 6.0ms postprocess per image at shape (1, 3, 384, 640)\n",
      "\n"
     ]
    },
    {
     "name": "stdout",
     "output_type": "stream",
     "text": [
      "0.9\n",
      "0.74\n",
      "0.67\n",
      "[     513.72      197.77      547.25      213.14         708]\n",
      "[     608.85      221.94      656.22      271.34         707]\n",
      "[     341.04      315.84      420.95       379.2         703]\n"
     ]
    },
    {
     "name": "stderr",
     "output_type": "stream",
     "text": [
      "0: 384x640 4 cars, 707.5ms\n",
      "Speed: 5.9ms preprocess, 707.5ms inference, 8.0ms postprocess per image at shape (1, 3, 384, 640)\n",
      "\n"
     ]
    },
    {
     "name": "stdout",
     "output_type": "stream",
     "text": [
      "0.89\n",
      "0.73\n",
      "0.62\n",
      "0.61\n",
      "[     511.65      198.15      546.64       215.5         708]\n",
      "[     605.33      231.29      655.76      285.13         707]\n",
      "[     315.51      333.55      402.28      401.82         703]\n"
     ]
    },
    {
     "name": "stderr",
     "output_type": "stream",
     "text": [
      "0: 384x640 4 cars, 679.7ms\n",
      "Speed: 2.3ms preprocess, 679.7ms inference, 0.8ms postprocess per image at shape (1, 3, 384, 640)\n",
      "\n"
     ]
    },
    {
     "name": "stdout",
     "output_type": "stream",
     "text": [
      "0.85\n",
      "0.77\n",
      "0.73\n",
      "0.71\n",
      "[     509.59       198.3      545.75      217.61         708]\n",
      "[     602.65      240.91      658.41      299.64         707]\n",
      "[     285.38      354.03       380.4      428.01         703]\n"
     ]
    },
    {
     "name": "stderr",
     "output_type": "stream",
     "text": [
      "0: 384x640 4 cars, 717.9ms\n",
      "Speed: 2.3ms preprocess, 717.9ms inference, 0.0ms postprocess per image at shape (1, 3, 384, 640)\n",
      "\n"
     ]
    },
    {
     "name": "stdout",
     "output_type": "stream",
     "text": [
      "0.86\n",
      "0.79\n",
      "0.77\n",
      "0.73\n",
      "[     507.48      198.57      544.83      220.13         708]\n",
      "[     594.72      253.47       652.3       316.2         707]\n",
      "[     249.63      376.55      354.07      456.46         703]\n"
     ]
    },
    {
     "name": "stderr",
     "output_type": "stream",
     "text": [
      "0: 384x640 4 cars, 1 truck, 693.9ms\n",
      "Speed: 8.0ms preprocess, 693.9ms inference, 0.0ms postprocess per image at shape (1, 3, 384, 640)\n",
      "\n"
     ]
    },
    {
     "name": "stdout",
     "output_type": "stream",
     "text": [
      "0.84\n",
      "0.79\n",
      "0.75\n",
      "0.57\n",
      "0.46\n",
      "[     621.81      199.83      659.39      224.05         709]\n",
      "[     505.18      199.39      542.73      222.96         708]\n",
      "[     588.61      266.95       650.6      334.26         707]\n",
      "[     214.98      398.76       347.8      471.04         703]\n"
     ]
    },
    {
     "name": "stderr",
     "output_type": "stream",
     "text": [
      "0: 384x640 4 cars, 759.1ms\n",
      "Speed: 0.0ms preprocess, 759.1ms inference, 5.5ms postprocess per image at shape (1, 3, 384, 640)\n",
      "\n"
     ]
    },
    {
     "name": "stdout",
     "output_type": "stream",
     "text": [
      "0.82\n",
      "0.81\n",
      "0.79\n",
      "0.32\n",
      "[     619.42      200.82      659.77      229.92         709]\n",
      "[     503.32      199.81      541.73       225.8         708]\n",
      "[     580.44      282.81      646.01      356.08         707]\n"
     ]
    },
    {
     "name": "stderr",
     "output_type": "stream",
     "text": [
      "0: 384x640 3 cars, 703.4ms\n",
      "Speed: 6.5ms preprocess, 703.4ms inference, 1.5ms postprocess per image at shape (1, 3, 384, 640)\n",
      "\n"
     ]
    },
    {
     "name": "stdout",
     "output_type": "stream",
     "text": [
      "0.82\n",
      "0.79\n",
      "0.57\n",
      "[     617.71      203.07      659.46      236.89         709]\n",
      "[     501.48      201.22      540.62      229.53         708]\n",
      "[     570.28      300.78      640.95      381.29         707]\n"
     ]
    },
    {
     "name": "stderr",
     "output_type": "stream",
     "text": [
      "0: 384x640 3 cars, 712.3ms\n",
      "Speed: 8.0ms preprocess, 712.3ms inference, 0.0ms postprocess per image at shape (1, 3, 384, 640)\n",
      "\n"
     ]
    },
    {
     "name": "stdout",
     "output_type": "stream",
     "text": [
      "0.83\n",
      "0.83\n",
      "0.62\n",
      "[     616.09      204.66      659.75      243.78         709]\n",
      "[     499.18      202.77      539.25      233.13         708]\n",
      "[     559.95      321.82      635.84      410.67         707]\n"
     ]
    },
    {
     "name": "stderr",
     "output_type": "stream",
     "text": [
      "0: 384x640 3 cars, 737.8ms\n",
      "Speed: 8.0ms preprocess, 737.8ms inference, 0.0ms postprocess per image at shape (1, 3, 384, 640)\n",
      "\n"
     ]
    },
    {
     "name": "stdout",
     "output_type": "stream",
     "text": [
      "0.8\n",
      "0.72\n",
      "0.46\n",
      "[      614.6      210.27      658.78      252.65         709]\n",
      "[     497.02      204.96      537.49      236.73         708]\n",
      "[     546.49      347.02      629.22      445.75         707]\n"
     ]
    },
    {
     "name": "stderr",
     "output_type": "stream",
     "text": [
      "0: 384x640 4 cars, 700.2ms\n",
      "Speed: 5.8ms preprocess, 700.2ms inference, 0.0ms postprocess per image at shape (1, 3, 384, 640)\n",
      "\n"
     ]
    },
    {
     "name": "stdout",
     "output_type": "stream",
     "text": [
      "0.83\n",
      "0.81\n",
      "0.76\n",
      "0.35\n",
      "[     612.88      216.73         659       262.7         709]\n",
      "[     494.25      207.68      534.93       240.7         708]\n",
      "[     532.53      370.96      620.08      468.55         707]\n"
     ]
    },
    {
     "name": "stderr",
     "output_type": "stream",
     "text": [
      "0: 384x640 5 cars, 709.1ms\n",
      "Speed: 4.7ms preprocess, 709.1ms inference, 0.0ms postprocess per image at shape (1, 3, 384, 640)\n",
      "\n"
     ]
    },
    {
     "name": "stdout",
     "output_type": "stream",
     "text": [
      "0.81\n",
      "0.78\n",
      "0.72\n",
      "0.5\n",
      "0.27\n",
      "[     612.42      222.95      660.34      272.29         709]\n",
      "[     491.97      210.42      532.67       244.3         708]\n",
      "[     521.15      397.94      612.53      481.15         707]\n"
     ]
    },
    {
     "name": "stderr",
     "output_type": "stream",
     "text": [
      "0: 384x640 5 cars, 702.4ms\n",
      "Speed: 6.8ms preprocess, 702.4ms inference, 0.0ms postprocess per image at shape (1, 3, 384, 640)\n",
      "\n"
     ]
    },
    {
     "name": "stdout",
     "output_type": "stream",
     "text": [
      "0.81\n",
      "0.81\n",
      "0.62\n",
      "0.56\n",
      "0.45\n",
      "[     609.06      230.93      660.06      283.84         709]\n",
      "[     489.03      213.06      530.73      248.52         708]\n"
     ]
    },
    {
     "name": "stderr",
     "output_type": "stream",
     "text": [
      "0: 384x640 4 cars, 715.8ms\n",
      "Speed: 4.0ms preprocess, 715.8ms inference, 0.0ms postprocess per image at shape (1, 3, 384, 640)\n",
      "\n"
     ]
    },
    {
     "name": "stdout",
     "output_type": "stream",
     "text": [
      "0.83\n",
      "0.8\n",
      "0.74\n",
      "0.54\n",
      "[     631.67      201.02      666.01      237.87         711]\n",
      "[     605.56      239.79      660.26      296.49         709]\n",
      "[     486.36      215.92      528.39       252.7         708]\n"
     ]
    },
    {
     "name": "stderr",
     "output_type": "stream",
     "text": [
      "0: 384x640 6 cars, 709.2ms\n",
      "Speed: 2.5ms preprocess, 709.2ms inference, 0.0ms postprocess per image at shape (1, 3, 384, 640)\n",
      "\n"
     ]
    },
    {
     "name": "stdout",
     "output_type": "stream",
     "text": [
      "0.82\n",
      "0.79\n",
      "0.76\n",
      "0.61\n",
      "0.5\n",
      "0.27\n",
      "[     575.49      198.87      617.23      219.89         712]\n",
      "[     628.56      203.33       665.6      246.67         711]\n",
      "[     601.63       250.1      658.37       309.7         709]\n",
      "[     482.49      219.79      525.23      257.26         708]\n"
     ]
    },
    {
     "name": "stderr",
     "output_type": "stream",
     "text": [
      "0: 384x640 5 cars, 721.8ms\n",
      "Speed: 2.1ms preprocess, 721.8ms inference, 0.0ms postprocess per image at shape (1, 3, 384, 640)\n",
      "\n"
     ]
    },
    {
     "name": "stdout",
     "output_type": "stream",
     "text": [
      "0.84\n",
      "0.82\n",
      "0.75\n",
      "0.66\n",
      "0.57\n",
      "[     571.89      200.03      615.99      224.75         712]\n",
      "[     623.57      209.04       662.1      256.57         711]\n",
      "[     593.52      261.86      653.77      326.12         709]\n",
      "[     479.02      223.88      522.25       262.1         708]\n"
     ]
    },
    {
     "name": "stderr",
     "output_type": "stream",
     "text": [
      "0: 384x640 6 cars, 743.9ms\n",
      "Speed: 3.5ms preprocess, 743.9ms inference, 5.0ms postprocess per image at shape (1, 3, 384, 640)\n",
      "\n"
     ]
    },
    {
     "name": "stdout",
     "output_type": "stream",
     "text": [
      "0.84\n",
      "0.8\n",
      "0.73\n",
      "0.68\n",
      "0.45\n",
      "0.37\n",
      "[     566.87      201.44      614.59      231.59         712]\n",
      "[     622.18      214.47      661.45      264.47         711]\n",
      "[     587.29      273.57       650.7      341.64         709]\n",
      "[     474.27      228.35      518.79      268.03         708]\n"
     ]
    },
    {
     "name": "stderr",
     "output_type": "stream",
     "text": [
      "0: 384x640 5 cars, 728.5ms\n",
      "Speed: 1.5ms preprocess, 728.5ms inference, 1.0ms postprocess per image at shape (1, 3, 384, 640)\n",
      "\n"
     ]
    },
    {
     "name": "stdout",
     "output_type": "stream",
     "text": [
      "0.83\n",
      "0.82\n",
      "0.76\n",
      "0.71\n",
      "0.65\n",
      "[     508.87      197.76      545.35      216.08         714]\n",
      "[     562.18      203.45      611.67      237.78         712]\n",
      "[     619.44      220.38      662.22      274.57         711]\n",
      "[     579.88      287.55      646.83       360.4         709]\n",
      "[     469.46      232.98      515.41       273.7         708]\n"
     ]
    },
    {
     "name": "stderr",
     "output_type": "stream",
     "text": [
      "0: 384x640 5 cars, 696.7ms\n",
      "Speed: 4.9ms preprocess, 696.7ms inference, 0.0ms postprocess per image at shape (1, 3, 384, 640)\n",
      "\n"
     ]
    },
    {
     "name": "stdout",
     "output_type": "stream",
     "text": [
      "0.88\n",
      "0.82\n",
      "0.76\n",
      "0.72\n",
      "0.65\n",
      "[     507.47       198.7      545.34      218.93         714]\n",
      "[     556.82       207.7      608.36      246.55         712]\n",
      "[     616.67      227.82      663.04      286.07         711]\n",
      "[     570.83      303.88      643.22      383.42         709]\n",
      "[     464.09      237.91      511.93      279.68         708]\n"
     ]
    },
    {
     "name": "stderr",
     "output_type": "stream",
     "text": [
      "0: 384x640 5 cars, 1 truck, 725.0ms\n",
      "Speed: 7.0ms preprocess, 725.0ms inference, 0.5ms postprocess per image at shape (1, 3, 384, 640)\n",
      "\n"
     ]
    },
    {
     "name": "stdout",
     "output_type": "stream",
     "text": [
      "0.89\n",
      "0.85\n",
      "0.77\n",
      "0.72\n",
      "0.51\n",
      "0.46\n",
      "[     504.18      198.55       544.6      221.59         714]\n",
      "[     551.26      212.81      604.23      255.41         712]\n",
      "[     614.05      235.59      664.37      297.56         711]\n",
      "[     560.36      322.41      638.58      409.96         709]\n",
      "[     458.06      242.67      507.59      286.04         708]\n"
     ]
    },
    {
     "name": "stderr",
     "output_type": "stream",
     "text": [
      "0: 384x640 6 cars, 717.5ms\n",
      "Speed: 8.0ms preprocess, 717.5ms inference, 0.0ms postprocess per image at shape (1, 3, 384, 640)\n",
      "\n"
     ]
    },
    {
     "name": "stdout",
     "output_type": "stream",
     "text": [
      "0.87\n",
      "0.83\n",
      "0.83\n",
      "0.78\n",
      "0.69\n",
      "0.4\n",
      "[     502.28      198.62      544.53      224.36         714]\n",
      "[     546.34      219.48      600.47      265.01         712]\n",
      "[     608.68      243.86      663.32      309.97         711]\n",
      "[     545.62      344.58      630.09      440.83         709]\n",
      "[     451.36      247.72      502.69      292.81         708]\n"
     ]
    },
    {
     "name": "stderr",
     "output_type": "stream",
     "text": [
      "0: 384x640 6 cars, 686.4ms\n",
      "Speed: 3.1ms preprocess, 686.4ms inference, 13.5ms postprocess per image at shape (1, 3, 384, 640)\n",
      "\n"
     ]
    },
    {
     "name": "stdout",
     "output_type": "stream",
     "text": [
      "0.89\n",
      "0.86\n",
      "0.82\n",
      "0.79\n",
      "0.72\n",
      "0.58\n",
      "[     500.18      199.99      543.27      228.04         714]\n",
      "[     539.73       226.3      595.42      274.57         712]\n",
      "[     604.24      253.72      662.13      323.92         711]\n",
      "[     529.91      365.39      621.52      464.17         709]\n",
      "[     443.96      253.32       497.4      299.96         708]\n"
     ]
    },
    {
     "name": "stderr",
     "output_type": "stream",
     "text": [
      "0: 384x640 7 cars, 1 truck, 703.1ms\n",
      "Speed: 2.5ms preprocess, 703.1ms inference, 0.0ms postprocess per image at shape (1, 3, 384, 640)\n",
      "\n"
     ]
    },
    {
     "name": "stdout",
     "output_type": "stream",
     "text": [
      "0.84\n",
      "0.8\n",
      "0.79\n",
      "0.76\n",
      "0.67\n",
      "0.62\n",
      "0.48\n",
      "0.42\n",
      "[     498.24      201.78      542.05      232.05         714]\n",
      "[     533.53      234.95      590.91       286.3         712]\n",
      "[     597.83      265.44      661.23      341.11         711]\n",
      "[     516.54      388.32      614.21      476.71         709]\n",
      "[     434.89      259.52      490.75      308.14         708]\n"
     ]
    },
    {
     "name": "stderr",
     "output_type": "stream",
     "text": [
      "0: 384x640 7 cars, 718.5ms\n",
      "Speed: 0.0ms preprocess, 718.5ms inference, 3.5ms postprocess per image at shape (1, 3, 384, 640)\n",
      "\n"
     ]
    },
    {
     "name": "stdout",
     "output_type": "stream",
     "text": [
      "0.86\n",
      "0.8\n",
      "0.79\n",
      "0.75\n",
      "0.68\n",
      "0.61\n",
      "0.55\n",
      "[     580.91      199.71      620.13      225.31         717]\n",
      "[      495.9      204.18      540.63      236.36         714]\n",
      "[     523.71      244.51      584.39      299.21         712]\n",
      "[     591.03      276.99      658.79      357.67         711]\n",
      "[     425.37      266.14      484.09       316.5         708]\n"
     ]
    },
    {
     "name": "stderr",
     "output_type": "stream",
     "text": [
      "0: 384x640 6 cars, 1 truck, 730.6ms\n",
      "Speed: 0.0ms preprocess, 730.6ms inference, 0.0ms postprocess per image at shape (1, 3, 384, 640)\n",
      "\n"
     ]
    },
    {
     "name": "stdout",
     "output_type": "stream",
     "text": [
      "0.86\n",
      "0.78\n",
      "0.77\n",
      "0.76\n",
      "0.65\n",
      "0.52\n",
      "0.41\n",
      "[     577.02      202.18      618.23      231.22         717]\n",
      "[     493.62      206.58      538.28      239.65         714]\n",
      "[      513.9      254.75      577.14      312.84         712]\n",
      "[     582.75      292.19      655.16       378.8         711]\n",
      "[     414.27       273.5      476.26       326.3         708]\n"
     ]
    },
    {
     "name": "stderr",
     "output_type": "stream",
     "text": [
      "0: 384x640 6 cars, 1 truck, 714.9ms\n",
      "Speed: 8.0ms preprocess, 714.9ms inference, 2.0ms postprocess per image at shape (1, 3, 384, 640)\n",
      "\n"
     ]
    },
    {
     "name": "stdout",
     "output_type": "stream",
     "text": [
      "0.86\n",
      "0.81\n",
      "0.79\n",
      "0.77\n",
      "0.68\n",
      "0.48\n",
      "0.41\n",
      "[     627.82      201.46      663.78      235.02         718]\n",
      "[     573.86      207.15      616.15      238.87         717]\n",
      "[      490.4      209.91      535.21      243.61         714]\n",
      "[      500.9      266.82      568.87      329.73         712]\n",
      "[     574.09       307.3      654.22      401.73         711]\n",
      "[     402.85      281.81      467.71       336.6         708]\n"
     ]
    },
    {
     "name": "stderr",
     "output_type": "stream",
     "text": [
      "0: 384x640 6 cars, 1 truck, 698.4ms\n",
      "Speed: 0.0ms preprocess, 698.4ms inference, 8.0ms postprocess per image at shape (1, 3, 384, 640)\n",
      "\n"
     ]
    },
    {
     "name": "stdout",
     "output_type": "stream",
     "text": [
      "0.88\n",
      "0.83\n",
      "0.82\n",
      "0.79\n",
      "0.71\n",
      "0.51\n",
      "0.41\n",
      "[     625.12      202.69      662.93      241.19         718]\n",
      "[     569.83      212.08      613.68      246.37         717]\n",
      "[     487.47      213.63      532.59      247.76         714]\n",
      "[     488.07      279.83      560.22      347.51         712]\n",
      "[     561.55      327.48      646.87      430.02         711]\n",
      "[     389.77      290.23      457.86      347.32         708]\n"
     ]
    },
    {
     "name": "stderr",
     "output_type": "stream",
     "text": [
      "0: 384x640 5 cars, 1 truck, 703.4ms\n",
      "Speed: 2.0ms preprocess, 703.4ms inference, 0.0ms postprocess per image at shape (1, 3, 384, 640)\n",
      "\n"
     ]
    },
    {
     "name": "stdout",
     "output_type": "stream",
     "text": [
      "0.88\n",
      "0.81\n",
      "0.77\n",
      "0.73\n",
      "0.69\n",
      "0.67\n",
      "[     466.71       295.9      549.32      375.19         721]\n",
      "[     621.56      205.74      661.87      248.21         718]\n",
      "[      565.8       218.5      610.81      255.04         717]\n",
      "[     484.07      217.21      530.07      252.26         714]\n",
      "[      546.8      348.15      637.25      457.06         711]\n",
      "[     375.03      299.61      447.27      359.86         708]\n"
     ]
    },
    {
     "name": "stderr",
     "output_type": "stream",
     "text": [
      "0: 384x640 5 cars, 1 truck, 718.4ms\n",
      "Speed: 0.0ms preprocess, 718.4ms inference, 0.0ms postprocess per image at shape (1, 3, 384, 640)\n",
      "\n"
     ]
    },
    {
     "name": "stdout",
     "output_type": "stream",
     "text": [
      "0.87\n",
      "0.85\n",
      "0.81\n",
      "0.72\n",
      "0.66\n",
      "0.56\n",
      "[     446.77      312.77       537.4      399.96         721]\n",
      "[     618.62      210.12      660.57      256.84         718]\n",
      "[     560.71      224.83       607.5      263.98         717]\n",
      "[     480.42      220.64      527.67      256.96         714]\n",
      "[     531.49      368.11       627.2      472.63         711]\n",
      "[     358.77      310.64      435.37      373.75         708]\n"
     ]
    },
    {
     "name": "stderr",
     "output_type": "stream",
     "text": [
      "0: 384x640 5 cars, 1 truck, 702.9ms\n",
      "Speed: 0.0ms preprocess, 702.9ms inference, 4.0ms postprocess per image at shape (1, 3, 384, 640)\n",
      "\n"
     ]
    },
    {
     "name": "stdout",
     "output_type": "stream",
     "text": [
      "0.87\n",
      "0.85\n",
      "0.78\n",
      "0.77\n",
      "0.66\n",
      "0.65\n",
      "[     424.31      334.01      523.13      429.85         721]\n",
      "[     616.39      216.36       660.8      266.62         718]\n",
      "[     554.43       232.8      602.83      274.01         717]\n",
      "[     475.33       225.1      524.02      262.62         714]\n",
      "[     520.36      393.82      621.84      481.71         711]\n",
      "[     340.99      322.42         422      389.29         708]\n"
     ]
    },
    {
     "name": "stderr",
     "output_type": "stream",
     "text": [
      "0: 384x640 5 cars, 1 truck, 714.0ms\n",
      "Speed: 2.8ms preprocess, 714.0ms inference, 0.0ms postprocess per image at shape (1, 3, 384, 640)\n",
      "\n"
     ]
    },
    {
     "name": "stdout",
     "output_type": "stream",
     "text": [
      "0.86\n",
      "0.86\n",
      "0.79\n",
      "0.72\n",
      "0.64\n",
      "0.28\n",
      "[     396.52      356.59      505.72       461.8         721]\n",
      "[     614.74      222.11       661.9      275.11         718]\n",
      "[     547.88      242.06      598.21      285.03         717]\n",
      "[     470.16      229.96      520.14       268.6         714]\n",
      "[     321.29       335.4      407.51      406.47         708]\n"
     ]
    },
    {
     "name": "stderr",
     "output_type": "stream",
     "text": [
      "0: 384x640 5 cars, 1 truck, 724.0ms\n",
      "Speed: 0.0ms preprocess, 724.0ms inference, 0.0ms postprocess per image at shape (1, 3, 384, 640)\n",
      "\n"
     ]
    },
    {
     "name": "stdout",
     "output_type": "stream",
     "text": [
      "0.8\n",
      "0.79\n",
      "0.73\n",
      "0.64\n",
      "0.57\n",
      "0.45\n",
      "[     366.08      379.54      483.44      478.28         721]\n",
      "[     610.94      229.53       660.9      285.32         718]\n",
      "[     540.54      251.16      593.65         297         717]\n",
      "[     464.49      234.49      515.98      274.51         714]\n",
      "[     298.01      350.18      390.92      426.14         708]\n"
     ]
    },
    {
     "name": "stderr",
     "output_type": "stream",
     "text": [
      "0: 384x640 7 cars, 1 truck, 711.0ms\n",
      "Speed: 0.0ms preprocess, 711.0ms inference, 0.0ms postprocess per image at shape (1, 3, 384, 640)\n",
      "\n"
     ]
    },
    {
     "name": "stdout",
     "output_type": "stream",
     "text": [
      "0.81\n",
      "0.76\n",
      "0.76\n",
      "0.73\n",
      "0.63\n",
      "0.54\n",
      "0.52\n",
      "0.4\n",
      "[     336.94      408.34      460.21      485.01         721]\n",
      "[     606.83      237.58      660.68      296.75         718]\n",
      "[     530.09      262.25      587.32      311.21         717]\n",
      "[     458.14      239.97      511.57      281.29         714]\n",
      "[      272.5      365.67       372.5      447.99         708]\n"
     ]
    },
    {
     "name": "stderr",
     "output_type": "stream",
     "text": [
      "0: 384x640 7 cars, 731.8ms\n",
      "Speed: 0.0ms preprocess, 731.8ms inference, 1.9ms postprocess per image at shape (1, 3, 384, 640)\n",
      "\n"
     ]
    },
    {
     "name": "stdout",
     "output_type": "stream",
     "text": [
      "0.85\n",
      "0.8\n",
      "0.77\n",
      "0.76\n",
      "0.62\n",
      "0.54\n",
      "0.53\n",
      "[     601.66      246.98      658.36      308.81         718]\n",
      "[     520.93      274.16      581.89      326.12         717]\n",
      "[     450.79      245.51      506.53      288.66         714]\n",
      "[     243.25      381.63      350.48      464.53         708]\n"
     ]
    },
    {
     "name": "stderr",
     "output_type": "stream",
     "text": [
      "0: 384x640 7 cars, 728.7ms\n",
      "Speed: 0.0ms preprocess, 728.7ms inference, 4.0ms postprocess per image at shape (1, 3, 384, 640)\n",
      "\n"
     ]
    },
    {
     "name": "stdout",
     "output_type": "stream",
     "text": [
      "0.87\n",
      "0.82\n",
      "0.77\n",
      "0.76\n",
      "0.63\n",
      "0.57\n",
      "0.56\n",
      "[     573.44      199.63      611.54      220.91         722]\n",
      "[     595.07      257.39      654.98      323.86         718]\n",
      "[     509.92      287.49       575.2      343.43         717]\n",
      "[     442.37      252.11      500.65      297.17         714]\n",
      "[     216.03      397.31      329.59      473.59         708]\n"
     ]
    },
    {
     "name": "stderr",
     "output_type": "stream",
     "text": [
      "0: 384x640 8 cars, 749.6ms\n",
      "Speed: 3.3ms preprocess, 749.6ms inference, 0.0ms postprocess per image at shape (1, 3, 384, 640)\n",
      "\n"
     ]
    },
    {
     "name": "stdout",
     "output_type": "stream",
     "text": [
      "0.81\n",
      "0.77\n",
      "0.76\n",
      "0.71\n",
      "0.64\n",
      "0.52\n",
      "0.42\n",
      "0.29\n",
      "[     522.17      197.37      557.89      212.63         724]\n",
      "[     569.68      201.55      609.48      225.98         722]\n",
      "[     587.98      269.35      651.85      340.12         718]\n",
      "[     497.11      303.44       567.2      363.44         717]\n",
      "[        434      258.46      494.66      305.43         714]\n",
      "[     185.24      416.43      306.38      478.85         708]\n"
     ]
    },
    {
     "name": "stderr",
     "output_type": "stream",
     "text": [
      "0: 384x640 6 cars, 726.9ms\n",
      "Speed: 7.5ms preprocess, 726.9ms inference, 1.8ms postprocess per image at shape (1, 3, 384, 640)\n",
      "\n"
     ]
    },
    {
     "name": "stdout",
     "output_type": "stream",
     "text": [
      "0.85\n",
      "0.83\n",
      "0.78\n",
      "0.68\n",
      "0.65\n",
      "0.64\n",
      "[     522.83      197.79      560.04      214.77         724]\n",
      "[     565.43      205.52      607.01      232.78         722]\n",
      "[      580.2      281.69      648.05      356.96         718]\n",
      "[     481.04      321.99      556.73      386.74         717]\n",
      "[     424.39         266      487.31       314.9         714]\n"
     ]
    },
    {
     "name": "stderr",
     "output_type": "stream",
     "text": [
      "0: 384x640 6 cars, 732.1ms\n",
      "Speed: 1.6ms preprocess, 732.1ms inference, 0.0ms postprocess per image at shape (1, 3, 384, 640)\n",
      "\n"
     ]
    },
    {
     "name": "stdout",
     "output_type": "stream",
     "text": [
      "0.87\n",
      "0.86\n",
      "0.8\n",
      "0.74\n",
      "0.71\n",
      "0.63\n",
      "[     523.93      198.14      561.17      216.63         724]\n",
      "[     562.01      209.39      604.17      238.62         722]\n",
      "[     570.87       297.8      643.32      379.57         718]\n",
      "[      461.9      343.37      544.58      414.61         717]\n",
      "[     413.07      274.11       479.4      325.36         714]\n",
      "[     639.54      213.05      661.74      243.34         713]\n"
     ]
    },
    {
     "name": "stderr",
     "output_type": "stream",
     "text": [
      "0: 384x640 6 cars, 705.6ms\n",
      "Speed: 2.5ms preprocess, 705.6ms inference, 1.5ms postprocess per image at shape (1, 3, 384, 640)\n"
     ]
    },
    {
     "name": "stdout",
     "output_type": "stream",
     "text": [
      "0.88\n",
      "0.83\n",
      "0.8\n",
      "0.75\n",
      "0.72\n",
      "0.68\n",
      "[     523.25      198.24      561.76      218.62         724]\n",
      "[     557.24      215.42      600.75      246.79         722]\n",
      "[     560.56      315.93      638.68       406.3         718]\n",
      "[     401.23       283.7      471.17       337.5         714]\n",
      "[     639.35      217.85      660.66      249.61         713]\n"
     ]
    },
    {
     "name": "stderr",
     "output_type": "stream",
     "text": [
      "\n",
      "0: 384x640 6 cars, 714.1ms\n",
      "Speed: 3.7ms preprocess, 714.1ms inference, 0.0ms postprocess per image at shape (1, 3, 384, 640)\n",
      "\n"
     ]
    },
    {
     "name": "stdout",
     "output_type": "stream",
     "text": [
      "0.87\n",
      "0.87\n",
      "0.83\n",
      "0.75\n",
      "0.73\n",
      "0.72\n",
      "[     522.46      198.78      561.72      221.52         724]\n",
      "[     553.05      220.35      598.16      254.14         722]\n",
      "[     547.59      336.43      631.14      435.52         718]\n",
      "[     387.39      293.14      461.39      349.67         714]\n",
      "[     638.38      223.98      659.82      258.06         713]\n"
     ]
    },
    {
     "name": "stderr",
     "output_type": "stream",
     "text": [
      "0: 384x640 7 cars, 728.3ms\n",
      "Speed: 0.0ms preprocess, 728.3ms inference, 0.0ms postprocess per image at shape (1, 3, 384, 640)\n",
      "\n"
     ]
    },
    {
     "name": "stdout",
     "output_type": "stream",
     "text": [
      "0.86\n",
      "0.83\n",
      "0.76\n",
      "0.76\n",
      "0.75\n",
      "0.74\n",
      "0.3\n",
      "[     521.52       199.1      561.59      224.41         724]\n",
      "[      547.6      227.38      593.95      263.41         722]\n",
      "[     533.44      356.85      624.03      460.64         718]\n",
      "[     371.42      303.97      449.82      363.63         714]\n",
      "[     637.67      231.24       661.8      267.35         713]\n"
     ]
    },
    {
     "name": "stderr",
     "output_type": "stream",
     "text": [
      "0: 384x640 6 cars, 715.4ms\n",
      "Speed: 1.5ms preprocess, 715.4ms inference, 0.9ms postprocess per image at shape (1, 3, 384, 640)\n",
      "\n"
     ]
    },
    {
     "name": "stdout",
     "output_type": "stream",
     "text": [
      "0.81\n",
      "0.8\n",
      "0.79\n",
      "0.76\n",
      "0.71\n",
      "0.55\n",
      "[     520.02      198.89      560.61      226.37         724]\n",
      "[     541.47      234.09      589.38      271.72         722]\n",
      "[     519.67      378.75       616.3      474.74         718]\n",
      "[     353.64      316.71      437.31      380.12         714]\n",
      "[     635.65      238.96      662.98      278.18         713]\n"
     ]
    },
    {
     "name": "stderr",
     "output_type": "stream",
     "text": [
      "0: 384x640 7 cars, 705.1ms\n",
      "Speed: 0.0ms preprocess, 705.1ms inference, 1.8ms postprocess per image at shape (1, 3, 384, 640)\n",
      "\n"
     ]
    },
    {
     "name": "stdout",
     "output_type": "stream",
     "text": [
      "0.88\n",
      "0.83\n",
      "0.82\n",
      "0.82\n",
      "0.77\n",
      "0.63\n",
      "0.6\n",
      "[     518.36      199.59      559.98      229.58         724]\n",
      "[     535.37      241.51      585.11      281.48         722]\n",
      "[     333.74      330.89      423.32      398.77         714]\n",
      "[     632.52      248.22      664.48      290.81         713]\n"
     ]
    },
    {
     "name": "stderr",
     "output_type": "stream",
     "text": [
      "0: 384x640 6 cars, 723.4ms\n",
      "Speed: 1.2ms preprocess, 723.4ms inference, 1.3ms postprocess per image at shape (1, 3, 384, 640)\n",
      "\n"
     ]
    },
    {
     "name": "stdout",
     "output_type": "stream",
     "text": [
      "0.81\n",
      "0.79\n",
      "0.74\n",
      "0.73\n",
      "0.73\n",
      "0.72\n",
      "[     630.27      199.32      666.29       220.7         727]\n",
      "[     516.15      200.35      559.32      232.86         724]\n",
      "[      526.5      250.13      579.09      292.81         722]\n",
      "[     310.72      346.75       407.2      419.67         714]\n",
      "[     628.49      258.06      664.61      303.42         713]\n"
     ]
    },
    {
     "name": "stderr",
     "output_type": "stream",
     "text": [
      "0: 384x640 6 cars, 1 truck, 717.7ms\n",
      "Speed: 3.5ms preprocess, 717.7ms inference, 0.0ms postprocess per image at shape (1, 3, 384, 640)\n",
      "\n"
     ]
    },
    {
     "name": "stdout",
     "output_type": "stream",
     "text": [
      "0.84\n",
      "0.81\n",
      "0.76\n",
      "0.75\n",
      "0.66\n",
      "0.58\n",
      "0.46\n",
      "[     628.64       200.1      667.87      225.74         727]\n",
      "[     513.36      201.69      557.72      236.26         724]\n",
      "[      518.1       259.2      573.59      304.67         722]\n",
      "[     284.05      364.97      388.89      444.22         714]\n",
      "[     622.38      269.09       662.7      317.62         713]\n"
     ]
    },
    {
     "name": "stderr",
     "output_type": "stream",
     "text": [
      "0: 384x640 6 cars, 1 truck, 709.4ms\n",
      "Speed: 8.0ms preprocess, 709.4ms inference, 0.0ms postprocess per image at shape (1, 3, 384, 640)\n"
     ]
    },
    {
     "name": "stdout",
     "output_type": "stream",
     "text": [
      "0.84\n",
      "0.81\n",
      "0.77\n",
      "0.76\n",
      "0.66\n",
      "0.6\n",
      "0.47\n",
      "[     579.88      198.77      617.54      221.93         728]\n",
      "[     626.53      203.13      666.33      231.64         727]\n",
      "[     510.35      202.84      555.78      239.43         724]\n",
      "[     508.62      269.55      566.95      317.57         722]\n",
      "[     254.31      382.04      367.58         463         714]\n",
      "[     615.65      281.96      660.52      334.25         713]\n"
     ]
    }
   ],
   "source": [
    "while True:\n",
    "    success, img = cap.read()\n",
    "    #overlay mask on the image/webcam feed\n",
    "    imageRegion = cv2.bitwise_and(img,mask)\n",
    "    # results = model(img,stream=True)\n",
    "    results = model(imageRegion,stream=True)\n",
    "    \n",
    "    detections = np.empty((0,5))\n",
    "    \n",
    "    for r in results:\n",
    "        boxes = r.boxes\n",
    "        for box in boxes:\n",
    "            # xy1 are points and xy2 are height and width\n",
    "            x1,y1,x2,y2 = box.xyxy[0]\n",
    "            # converting them into integers instead for tensor \n",
    "            x1,y1,x2,y2 = int(x1),int(y1),int(x2),int(y2)\n",
    "            # cv2.rectangle(img,(x1,y1),(x2,y2),(255,0,255),3) #using cv2 reactangle\n",
    "            w,h = x2-x1 , y2-y1\n",
    "            bbox = int(x1),int(y1),int(w),int(h)\n",
    "            \n",
    "            # print(x1,y1,x2,y2)\n",
    "            \n",
    "            # cvzone.cornerRect(img,(x1,y1,w,h),l=9) #using cvzone rectange\n",
    "            \n",
    "            #confidence\n",
    "            conf = math.ceil((box.conf[0]*100))/100 #for confidence values\n",
    "            print(conf)\n",
    "            #classnames\n",
    "            cls = int(box.cls[0])\n",
    "            #to display conf and object class on webcam\n",
    "            currentclass = classNames[cls]\n",
    "            \n",
    "            if currentclass == \"car\" or currentclass == \"truck\" or currentclass == \"bus\" or currentclass == \"motorbike\" and conf>0.3 :\n",
    "                # cvzone.putTextRect(img,f'{currentclass} {conf}',(max(0,x1),max(35,y1)) , scale=0.6,thickness=1,offset=3)\n",
    "                # cvzone.cornerRect(img,(x1,y1,w,h),l=9 , rt=5) #using cvzone rectange\n",
    "                currentArrays = np.array([x1,y1,x2,y2,conf])\n",
    "                detections = np.vstack((detections,currentArrays))\n",
    "            \n",
    "    resultsTracker = tracker.update(detections)\n",
    "    \n",
    "    cv2.line(img,(limits[0],limits[1]),(limits[2],limits[3]),(0,0,255),5)\n",
    "    \n",
    "    for result in resultsTracker:\n",
    "        x1,y1,x2,y2,id = result\n",
    "        # converting them into integers instead for tensor \n",
    "        x1,y1,x2,y2 = int(x1),int(y1),int(x2),int(y2)\n",
    "        print(result)\n",
    "        w,h = x2-x1 , y2-y1\n",
    "        cvzone.cornerRect(img,(x1,y1,w,h),l=9 , rt=2,colorR=(255,0,0))\n",
    "        # cvzone.putTextRect(img,f' {int(id)}',(max(0,x1),max(35,y1)) , scale=2,thickness=3,offset=10)\n",
    "        \n",
    "        cx , cy = x1+w//2,y1+h//2\n",
    "        cv2.circle(img,(cx,cy),5,(255,0,255),cv2.FILLED)\n",
    "        \n",
    "        if limits[0] <cx< limits[2] and limits[1]-20<cy<limits[1]+20:\n",
    "            # totalcounts.append(id)\n",
    "            # cvzone.putTextRect(img,f' {int(totalcounts)}',(max(0,x1),max(35,y1)) , scale=2,thickness=3,offset=10)\n",
    "            if totalcounts.count(id)==0:\n",
    "                totalcounts.append(id)\n",
    "                cvzone.putTextRect(img,f' {len(totalcounts)}',(max(0,x1),max(35,y1)) , scale=2,thickness=3,offset=10)\n",
    "                \n",
    "        \n",
    "    cvzone.putTextRect(img,f'Count : {len(totalcounts)}',(90,90)) \n",
    "    \n",
    "    cv2.imshow(\"Image\",img)\n",
    "    # cv2.imshow(\"ImageRegion\",imageRegion)\n",
    "    # cv2.waitKey(1)\n",
    "    # Wait for a key event, but only for a short duration (10 milliseconds)\n",
    "    # If the key is Esc (27), then break out of the loop and close the webcam\n",
    "    if cv2.waitKey(1) == 27:\n",
    "        break\n",
    "\n",
    "# Release the webcam and close all OpenCV windows\n",
    "cap.release()\n",
    "cv2.destroyAllWindows()"
   ]
  }
 ],
 "metadata": {
  "kernelspec": {
   "display_name": "Python 3",
   "language": "python",
   "name": "python3"
  },
  "language_info": {
   "codemirror_mode": {
    "name": "ipython",
    "version": 3
   },
   "file_extension": ".py",
   "mimetype": "text/x-python",
   "name": "python",
   "nbconvert_exporter": "python",
   "pygments_lexer": "ipython3",
   "version": "3.10.4"
  },
  "orig_nbformat": 4
 },
 "nbformat": 4,
 "nbformat_minor": 2
}
