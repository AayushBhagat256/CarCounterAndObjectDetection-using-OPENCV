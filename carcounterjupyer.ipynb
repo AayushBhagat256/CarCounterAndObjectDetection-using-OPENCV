{
 "cells": [
  {
   "cell_type": "code",
   "execution_count": 29,
   "metadata": {},
   "outputs": [],
   "source": [
    "import cv2\n",
    "from ultralytics import YOLO\n",
    "import cvzone\n",
    "import math\n",
    "\n",
    "from sort import *"
   ]
  },
  {
   "cell_type": "code",
   "execution_count": 30,
   "metadata": {},
   "outputs": [],
   "source": [
    "# creating web cam object\n",
    "# cap = cv2.VideoCapture(0)\n",
    "cap = cv2.VideoCapture('./Videos/cars.mp4')\n",
    "#cap.set(3,1280) # for width\n",
    "#cap.set(4,720) #for height"
   ]
  },
  {
   "cell_type": "code",
   "execution_count": 31,
   "metadata": {},
   "outputs": [],
   "source": [
    "model = YOLO('./Yolo-Weights/yolov8l.pt')"
   ]
  },
  {
   "cell_type": "code",
   "execution_count": 32,
   "metadata": {},
   "outputs": [],
   "source": [
    "# classes that will be detected and displayed\n",
    "classNames = [\"person\", \"bicycle\", \"car\", \"motorbike\", \"aeroplane\", \"bus\", \"train\", \"truck\", \"boat\",\n",
    "              \"traffic light\", \"fire hydrant\", \"stop sign\", \"parking meter\", \"bench\", \"bird\", \"cat\",\n",
    "              \"dog\", \"horse\", \"sheep\", \"cow\", \"elephant\", \"bear\", \"zebra\", \"giraffe\", \"backpack\", \"umbrella\",\n",
    "              \"handbag\", \"tie\", \"suitcase\", \"frisbee\", \"skis\", \"snowboard\", \"sports ball\", \"kite\", \"baseball bat\",\n",
    "              \"baseball glove\", \"skateboard\", \"surfboard\", \"tennis racket\", \"bottle\", \"wine glass\", \"cup\",\n",
    "              \"fork\", \"knife\", \"spoon\", \"bowl\", \"banana\", \"apple\", \"sandwich\", \"orange\", \"broccoli\",\n",
    "              \"carrot\", \"hot dog\", \"pizza\", \"donut\", \"cake\", \"chair\", \"sofa\", \"pottedplant\", \"bed\",\n",
    "              \"diningtable\", \"toilet\", \"tvmonitor\", \"laptop\", \"mouse\", \"remote\", \"keyboard\", \"cell phone\",\n",
    "              \"microwave\", \"oven\", \"toaster\", \"sink\", \"refrigerator\", \"book\", \"clock\", \"vase\", \"scissors\",\n",
    "              \"teddy bear\", \"hair drier\", \"toothbrush\" , \"pen\"\n",
    "              ]"
   ]
  },
  {
   "cell_type": "code",
   "execution_count": 33,
   "metadata": {},
   "outputs": [],
   "source": [
    "mask = cv2.imread('./mask.png')"
   ]
  },
  {
   "cell_type": "code",
   "execution_count": 34,
   "metadata": {},
   "outputs": [],
   "source": [
    "# creating a instance for tracking\n",
    "tracker = Sort(max_age=20,min_hits=3,iou_threshold=0.3)"
   ]
  },
  {
   "cell_type": "code",
   "execution_count": 35,
   "metadata": {},
   "outputs": [
    {
     "name": "stderr",
     "output_type": "stream",
     "text": [
      "\n",
      "0: 384x640 3 cars, 766.9ms\n",
      "Speed: 8.0ms preprocess, 766.9ms inference, 8.0ms postprocess per image at shape (1, 3, 384, 640)\n",
      "\n"
     ]
    },
    {
     "name": "stdout",
     "output_type": "stream",
     "text": [
      "0.81\n",
      "0.8\n",
      "0.67\n",
      "[        571         316         651         429          49]\n",
      "[        378         348         495         457          48]\n",
      "[        458         226         509         270          47]\n"
     ]
    },
    {
     "name": "stderr",
     "output_type": "stream",
     "text": [
      "0: 384x640 3 cars, 830.1ms\n",
      "Speed: 8.0ms preprocess, 830.1ms inference, 0.0ms postprocess per image at shape (1, 3, 384, 640)\n",
      "\n"
     ]
    },
    {
     "name": "stdout",
     "output_type": "stream",
     "text": [
      "0.88\n",
      "0.83\n",
      "0.82\n",
      "[     568.92      322.12      649.08      435.88          49]\n",
      "[     373.98      352.02      493.02      462.98          48]\n",
      "[     456.14      227.88      506.86      271.12          47]\n"
     ]
    },
    {
     "name": "stderr",
     "output_type": "stream",
     "text": [
      "0: 384x640 4 cars, 767.9ms\n",
      "Speed: 0.0ms preprocess, 767.9ms inference, 0.0ms postprocess per image at shape (1, 3, 384, 640)\n",
      "\n"
     ]
    },
    {
     "name": "stdout",
     "output_type": "stream",
     "text": [
      "0.89\n",
      "0.84\n",
      "0.78\n",
      "0.4\n",
      "[        624         198         653         214          50]\n",
      "[     559.26      345.51      647.22      465.01          49]\n",
      "[     355.99      366.25      476.77      470.04          48]\n",
      "[     449.35         234      502.12      279.29          47]\n"
     ]
    },
    {
     "name": "stderr",
     "output_type": "stream",
     "text": [
      "0: 384x640 5 cars, 819.9ms\n",
      "Speed: 0.0ms preprocess, 819.9ms inference, 0.0ms postprocess per image at shape (1, 3, 384, 640)\n",
      "\n"
     ]
    },
    {
     "name": "stdout",
     "output_type": "stream",
     "text": [
      "0.84\n",
      "0.82\n",
      "0.75\n",
      "0.74\n",
      "0.56\n",
      "[     548.26      386.26      630.01      477.31          49]\n",
      "[     331.78       390.1      452.71      473.44          48]\n",
      "[     438.11      241.99      494.47      290.71          47]\n"
     ]
    },
    {
     "name": "stderr",
     "output_type": "stream",
     "text": [
      "0: 384x640 5 cars, 816.6ms\n",
      "Speed: 2.0ms preprocess, 816.6ms inference, 0.0ms postprocess per image at shape (1, 3, 384, 640)\n",
      "\n"
     ]
    },
    {
     "name": "stdout",
     "output_type": "stream",
     "text": [
      "0.86\n",
      "0.82\n",
      "0.68\n",
      "0.54\n",
      "0.41\n",
      "[     323.07      414.46         433      474.06          48]\n",
      "[     427.65      251.39      486.44       302.2          47]\n"
     ]
    },
    {
     "name": "stderr",
     "output_type": "stream",
     "text": [
      "0: 384x640 4 cars, 876.7ms\n",
      "Speed: 6.4ms preprocess, 876.7ms inference, 0.0ms postprocess per image at shape (1, 3, 384, 640)\n",
      "\n"
     ]
    },
    {
     "name": "stdout",
     "output_type": "stream",
     "text": [
      "0.76\n",
      "0.74\n",
      "0.69\n",
      "0.35\n",
      "[     612.44      200.77      660.84      240.05          50]\n",
      "[     416.82      259.33      478.98      313.22          47]\n"
     ]
    },
    {
     "name": "stderr",
     "output_type": "stream",
     "text": [
      "0: 384x640 3 cars, 777.5ms\n",
      "Speed: 0.0ms preprocess, 777.5ms inference, 0.0ms postprocess per image at shape (1, 3, 384, 640)\n",
      "\n"
     ]
    },
    {
     "name": "stdout",
     "output_type": "stream",
     "text": [
      "0.87\n",
      "0.85\n",
      "0.76\n",
      "[     508.66      198.23      548.12      213.81          51]\n",
      "[     610.06      205.82      662.84      251.21          50]\n",
      "[     404.34      268.07      469.71      324.95          47]\n"
     ]
    },
    {
     "name": "stderr",
     "output_type": "stream",
     "text": [
      "0: 384x640 4 cars, 782.4ms\n",
      "Speed: 5.0ms preprocess, 782.4ms inference, 0.0ms postprocess per image at shape (1, 3, 384, 640)\n",
      "\n"
     ]
    },
    {
     "name": "stdout",
     "output_type": "stream",
     "text": [
      "0.85\n",
      "0.82\n",
      "0.76\n",
      "0.5\n",
      "[     503.99      198.79      547.62       217.8          51]\n",
      "[     606.76      212.94      663.09       263.4          50]\n",
      "[     391.16      276.93      460.74      337.04          47]\n"
     ]
    },
    {
     "name": "stderr",
     "output_type": "stream",
     "text": [
      "0: 384x640 4 cars, 1 motorcycle, 795.4ms\n",
      "Speed: 0.0ms preprocess, 795.4ms inference, 0.0ms postprocess per image at shape (1, 3, 384, 640)\n",
      "\n"
     ]
    },
    {
     "name": "stdout",
     "output_type": "stream",
     "text": [
      "0.85\n",
      "0.8\n",
      "0.76\n",
      "0.3\n",
      "0.29\n",
      "[     499.42      199.23      545.73      221.57          51]\n",
      "[        602      221.48      662.59      277.13          50]\n",
      "[     376.62      287.98      450.31      351.19          47]\n"
     ]
    },
    {
     "name": "stderr",
     "output_type": "stream",
     "text": [
      "0: 384x640 4 cars, 777.4ms\n",
      "Speed: 0.0ms preprocess, 777.4ms inference, 2.2ms postprocess per image at shape (1, 3, 384, 640)\n",
      "\n"
     ]
    },
    {
     "name": "stdout",
     "output_type": "stream",
     "text": [
      "0.88\n",
      "0.79\n",
      "0.76\n",
      "0.41\n",
      "[     495.08      199.74      543.92      225.85          51]\n",
      "[     598.94      231.02       662.5      290.74          50]\n",
      "[     360.39      299.94      438.56      366.59          47]\n"
     ]
    },
    {
     "name": "stderr",
     "output_type": "stream",
     "text": [
      "0: 384x640 4 cars, 811.3ms\n",
      "Speed: 0.0ms preprocess, 811.3ms inference, 0.0ms postprocess per image at shape (1, 3, 384, 640)\n",
      "\n"
     ]
    },
    {
     "name": "stdout",
     "output_type": "stream",
     "text": [
      "0.89\n",
      "0.8\n",
      "0.72\n",
      "0.66\n",
      "[     491.09      201.02      541.16      230.26          51]\n",
      "[     592.07      242.59      657.35      305.97          50]\n",
      "[      341.7      312.76      425.58      384.53          47]\n"
     ]
    },
    {
     "name": "stderr",
     "output_type": "stream",
     "text": [
      "0: 384x640 4 cars, 754.8ms\n",
      "Speed: 0.0ms preprocess, 754.8ms inference, 0.0ms postprocess per image at shape (1, 3, 384, 640)\n",
      "\n"
     ]
    },
    {
     "name": "stdout",
     "output_type": "stream",
     "text": [
      "0.89\n",
      "0.84\n",
      "0.81\n",
      "0.62\n",
      "[     486.58      203.99      537.36         236          51]\n",
      "[      584.9      255.12      653.48      323.48          50]\n",
      "[     321.03       326.3      411.27      402.96          47]\n"
     ]
    },
    {
     "name": "stderr",
     "output_type": "stream",
     "text": [
      "0: 384x640 5 cars, 762.1ms\n",
      "Speed: 0.0ms preprocess, 762.1ms inference, 0.0ms postprocess per image at shape (1, 3, 384, 640)\n",
      "\n"
     ]
    },
    {
     "name": "stdout",
     "output_type": "stream",
     "text": [
      "0.88\n",
      "0.85\n",
      "0.77\n",
      "0.69\n",
      "0.52\n",
      "[     572.43      200.38      617.21      224.49          55]\n",
      "[     481.31      207.08      533.09         242          51]\n",
      "[     577.31      269.18      649.77      343.25          50]\n",
      "[     297.61      342.61      395.23      424.97          47]\n"
     ]
    },
    {
     "name": "stderr",
     "output_type": "stream",
     "text": [
      "0: 384x640 5 cars, 752.2ms\n",
      "Speed: 3.9ms preprocess, 752.2ms inference, 6.5ms postprocess per image at shape (1, 3, 384, 640)\n",
      "\n"
     ]
    },
    {
     "name": "stdout",
     "output_type": "stream",
     "text": [
      "0.86\n",
      "0.83\n",
      "0.78\n",
      "0.74\n",
      "0.5\n",
      "[     568.93       202.2      614.68      230.48          55]\n",
      "[     476.39      211.65      528.71      248.63          51]\n",
      "[     567.95      285.23      645.78      366.34          50]\n",
      "[     271.03      360.17       376.8      449.36          47]\n"
     ]
    },
    {
     "name": "stderr",
     "output_type": "stream",
     "text": [
      "0: 384x640 5 cars, 1 motorcycle, 747.2ms\n",
      "Speed: 0.0ms preprocess, 747.2ms inference, 0.0ms postprocess per image at shape (1, 3, 384, 640)\n",
      "\n"
     ]
    },
    {
     "name": "stdout",
     "output_type": "stream",
     "text": [
      "0.89\n",
      "0.84\n",
      "0.81\n",
      "0.77\n",
      "0.56\n",
      "0.45\n",
      "[     565.71      207.21       611.8      238.65          55]\n",
      "[     470.31      216.77      523.61      256.13          51]\n",
      "[     557.39      302.92      640.96      392.31          50]\n",
      "[     241.31      376.35      354.89      467.17          47]\n"
     ]
    },
    {
     "name": "stderr",
     "output_type": "stream",
     "text": [
      "0: 384x640 1 person, 5 cars, 1 motorcycle, 777.9ms\n",
      "Speed: 8.0ms preprocess, 777.9ms inference, 0.0ms postprocess per image at shape (1, 3, 384, 640)\n",
      "\n"
     ]
    },
    {
     "name": "stdout",
     "output_type": "stream",
     "text": [
      "0.88\n",
      "0.86\n",
      "0.83\n",
      "0.78\n",
      "0.61\n",
      "0.51\n",
      "0.27\n",
      "[     629.52      199.82      658.42       243.5          56]\n",
      "[     561.59      212.26       608.4      246.92          55]\n",
      "[     462.69      222.11      517.35      263.23          51]\n",
      "[     543.12       324.1      631.18      421.67          50]\n",
      "[     209.38      393.24      330.83      476.59          47]\n"
     ]
    },
    {
     "name": "stderr",
     "output_type": "stream",
     "text": [
      "0: 384x640 5 cars, 1 motorcycle, 765.5ms\n",
      "Speed: 1.5ms preprocess, 765.5ms inference, 0.0ms postprocess per image at shape (1, 3, 384, 640)\n",
      "\n"
     ]
    },
    {
     "name": "stdout",
     "output_type": "stream",
     "text": [
      "0.84\n",
      "0.84\n",
      "0.81\n",
      "0.75\n",
      "0.7\n",
      "0.42\n",
      "[     626.13      200.12      660.78      254.16          56]\n",
      "[     556.88      219.29      603.75      256.66          55]\n",
      "[     454.88      227.85      510.99      270.49          51]\n",
      "[     527.12      347.34      622.58      454.09          50]\n",
      "[     179.67      414.72      308.29      481.82          47]\n"
     ]
    },
    {
     "name": "stderr",
     "output_type": "stream",
     "text": [
      "0: 384x640 5 cars, 1 motorcycle, 784.6ms\n",
      "Speed: 3.8ms preprocess, 784.6ms inference, 8.0ms postprocess per image at shape (1, 3, 384, 640)\n",
      "\n"
     ]
    },
    {
     "name": "stdout",
     "output_type": "stream",
     "text": [
      "0.89\n",
      "0.82\n",
      "0.77\n",
      "0.74\n",
      "0.62\n",
      "0.52\n",
      "[     528.07      266.61      552.32      320.38          57]\n",
      "[     622.41      201.54      662.03      264.57          56]\n",
      "[     551.28      226.16       599.4      266.34          55]\n",
      "[     446.41      234.28      504.55      279.23          51]\n",
      "[     510.64       370.1      615.66      472.96          50]\n"
     ]
    },
    {
     "name": "stderr",
     "output_type": "stream",
     "text": [
      "0: 384x640 5 cars, 1 motorcycle, 774.2ms\n",
      "Speed: 7.2ms preprocess, 774.2ms inference, 1.9ms postprocess per image at shape (1, 3, 384, 640)\n",
      "\n"
     ]
    },
    {
     "name": "stdout",
     "output_type": "stream",
     "text": [
      "0.79\n",
      "0.79\n",
      "0.78\n",
      "0.68\n",
      "0.64\n",
      "0.55\n",
      "[     518.32      278.72       543.5       334.7          57]\n",
      "[     617.41      207.95      661.98       278.8          56]\n",
      "[     545.71      233.71       595.5      276.55          55]\n",
      "[     436.37       241.8      496.78      288.98          51]\n",
      "[     496.84      396.73      608.54       482.6          50]\n"
     ]
    },
    {
     "name": "stderr",
     "output_type": "stream",
     "text": [
      "0: 384x640 1 person, 4 cars, 1 motorcycle, 1 truck, 759.7ms\n",
      "Speed: 1.9ms preprocess, 759.7ms inference, 4.6ms postprocess per image at shape (1, 3, 384, 640)\n",
      "\n"
     ]
    },
    {
     "name": "stdout",
     "output_type": "stream",
     "text": [
      "0.86\n",
      "0.83\n",
      "0.72\n",
      "0.67\n",
      "0.59\n",
      "0.55\n",
      "0.35\n",
      "[     508.83      305.02       532.5      355.31          57]\n",
      "[      611.6      216.52      661.92      294.37          56]\n",
      "[     538.83      242.51      591.11      288.58          55]\n",
      "[      425.1      250.68      487.87      299.44          51]\n"
     ]
    },
    {
     "name": "stderr",
     "output_type": "stream",
     "text": [
      "0: 384x640 1 person, 4 cars, 1 motorcycle, 750.1ms\n",
      "Speed: 0.0ms preprocess, 750.1ms inference, 0.0ms postprocess per image at shape (1, 3, 384, 640)\n",
      "\n"
     ]
    },
    {
     "name": "stdout",
     "output_type": "stream",
     "text": [
      "0.87\n",
      "0.85\n",
      "0.74\n",
      "0.66\n",
      "0.61\n",
      "0.53\n",
      "[     549.59      199.08      594.15       227.2          58]\n",
      "[      496.9      323.89      521.99      375.09          57]\n",
      "[     605.95      227.53      660.78      310.65          56]\n",
      "[     531.66      251.93      585.71      300.42          55]\n",
      "[      412.1      259.74      477.86      311.12          51]\n"
     ]
    },
    {
     "name": "stderr",
     "output_type": "stream",
     "text": [
      "0: 384x640 1 person, 3 cars, 1 motorcycle, 1 truck, 773.3ms\n",
      "Speed: 3.1ms preprocess, 773.3ms inference, 2.4ms postprocess per image at shape (1, 3, 384, 640)\n",
      "\n"
     ]
    },
    {
     "name": "stdout",
     "output_type": "stream",
     "text": [
      "0.83\n",
      "0.82\n",
      "0.8\n",
      "0.56\n",
      "0.53\n",
      "0.52\n",
      "[     545.51      200.27      593.21      233.19          58]\n",
      "[     482.33      344.05      510.03      398.34          57]\n",
      "[      600.7      240.16       660.3      329.71          56]\n",
      "[     523.39      262.01      580.94      313.69          55]\n",
      "[      397.3      270.27      466.66      324.46          51]\n"
     ]
    },
    {
     "name": "stderr",
     "output_type": "stream",
     "text": [
      "0: 384x640 1 person, 3 cars, 1 motorcycle, 1 truck, 739.6ms\n",
      "Speed: 4.1ms preprocess, 739.6ms inference, 0.0ms postprocess per image at shape (1, 3, 384, 640)\n",
      "\n"
     ]
    },
    {
     "name": "stdout",
     "output_type": "stream",
     "text": [
      "0.86\n",
      "0.83\n",
      "0.8\n",
      "0.68\n",
      "0.66\n",
      "0.53\n",
      "[     541.42      202.85       591.6      239.22          58]\n",
      "[     465.19      370.08      495.19      426.18          57]\n",
      "[     593.39      253.61      660.27      351.44          56]\n",
      "[     513.79      274.35      574.71      329.42          55]\n",
      "[     380.58      282.13      454.32      339.56          51]\n"
     ]
    },
    {
     "name": "stderr",
     "output_type": "stream",
     "text": [
      "0: 384x640 1 person, 3 cars, 2 motorcycles, 1 truck, 748.6ms\n",
      "Speed: 3.4ms preprocess, 748.6ms inference, 0.0ms postprocess per image at shape (1, 3, 384, 640)\n",
      "\n"
     ]
    },
    {
     "name": "stdout",
     "output_type": "stream",
     "text": [
      "0.86\n",
      "0.83\n",
      "0.81\n",
      "0.67\n",
      "0.45\n",
      "0.35\n",
      "0.29\n",
      "[     536.56      207.55      589.11       247.8          58]\n",
      "[      445.4      398.89      478.43      458.21          57]\n",
      "[     583.63      269.37      659.45       376.7          56]\n",
      "[     502.21      287.07      567.46      346.47          55]\n",
      "[     360.93       295.2      440.53      356.55          51]\n"
     ]
    },
    {
     "name": "stderr",
     "output_type": "stream",
     "text": [
      "0: 384x640 1 person, 4 cars, 2 motorcycles, 1 truck, 776.0ms\n",
      "Speed: 1.6ms preprocess, 776.0ms inference, 0.0ms postprocess per image at shape (1, 3, 384, 640)\n",
      "\n"
     ]
    },
    {
     "name": "stdout",
     "output_type": "stream",
     "text": [
      "0.89\n",
      "0.82\n",
      "0.76\n",
      "0.74\n",
      "0.5\n",
      "0.47\n",
      "0.44\n",
      "0.28\n",
      "[     531.53      213.43      584.87         256          58]\n",
      "[     571.86      288.45      654.81      405.36          56]\n",
      "[     488.99      301.62       558.8      365.57          55]\n",
      "[     339.04      310.47      425.41      377.05          51]\n"
     ]
    },
    {
     "name": "stderr",
     "output_type": "stream",
     "text": [
      "0: 384x640 4 cars, 1 truck, 747.4ms\n",
      "Speed: 3.0ms preprocess, 747.4ms inference, 0.0ms postprocess per image at shape (1, 3, 384, 640)\n",
      "\n"
     ]
    },
    {
     "name": "stdout",
     "output_type": "stream",
     "text": [
      "0.88\n",
      "0.85\n",
      "0.83\n",
      "0.76\n",
      "0.68\n",
      "[        526      219.63      580.49      264.77          58]\n",
      "[     559.16      311.62      651.62      442.24          56]\n",
      "[      474.8      318.22      549.99      387.31          55]\n",
      "[     312.94      327.07      407.33      398.97          51]\n"
     ]
    },
    {
     "name": "stderr",
     "output_type": "stream",
     "text": [
      "0: 384x640 4 cars, 2 trucks, 754.0ms\n",
      "Speed: 3.9ms preprocess, 754.0ms inference, 0.0ms postprocess per image at shape (1, 3, 384, 640)\n",
      "\n"
     ]
    },
    {
     "name": "stdout",
     "output_type": "stream",
     "text": [
      "0.86\n",
      "0.81\n",
      "0.74\n",
      "0.65\n",
      "0.64\n",
      "0.55\n",
      "[     521.11      225.85      576.63      272.41          58]\n",
      "[     540.16      332.85       639.8      466.35          56]\n",
      "[     458.15      337.66      539.32      412.51          55]\n",
      "[     282.36      347.95      385.85      426.09          51]\n"
     ]
    },
    {
     "name": "stderr",
     "output_type": "stream",
     "text": [
      "0: 384x640 4 cars, 1 bus, 1 truck, 768.7ms\n",
      "Speed: 0.0ms preprocess, 768.7ms inference, 0.0ms postprocess per image at shape (1, 3, 384, 640)\n",
      "\n"
     ]
    },
    {
     "name": "stdout",
     "output_type": "stream",
     "text": [
      "0.84\n",
      "0.79\n",
      "0.77\n",
      "0.64\n",
      "0.54\n",
      "0.52\n",
      "[     502.99      199.15      546.16      224.97          60]\n",
      "[     514.42      234.26      571.65      282.81          58]\n",
      "[     521.49      356.06      625.42      480.21          56]\n",
      "[     438.41      360.09      526.89       441.6          55]\n",
      "[     245.71      370.51      360.35      455.05          51]\n"
     ]
    },
    {
     "name": "stderr",
     "output_type": "stream",
     "text": [
      "0: 384x640 5 cars, 1 truck, 746.0ms\n",
      "Speed: 0.0ms preprocess, 746.0ms inference, 8.0ms postprocess per image at shape (1, 3, 384, 640)\n",
      "\n"
     ]
    },
    {
     "name": "stdout",
     "output_type": "stream",
     "text": [
      "0.87\n",
      "0.81\n",
      "0.81\n",
      "0.76\n",
      "0.49\n",
      "0.39\n",
      "[     497.34      201.62      542.81      231.46          60]\n",
      "[     507.09      242.37      566.93      293.94          58]\n",
      "[     508.47      386.22      619.76       486.6          56]\n",
      "[     415.11      381.69      510.99      464.22          55]\n"
     ]
    },
    {
     "name": "stderr",
     "output_type": "stream",
     "text": [
      "0: 384x640 4 cars, 765.7ms\n",
      "Speed: 0.0ms preprocess, 765.7ms inference, 1.0ms postprocess per image at shape (1, 3, 384, 640)\n",
      "\n"
     ]
    },
    {
     "name": "stdout",
     "output_type": "stream",
     "text": [
      "0.82\n",
      "0.81\n",
      "0.8\n",
      "0.7\n",
      "[     178.07      428.01         289       474.3          62]\n",
      "[     491.71      205.99       537.2       237.7          60]\n",
      "[     498.66      251.87       561.2      306.46          58]\n",
      "[     393.41         405       496.8      476.37          55]\n"
     ]
    },
    {
     "name": "stderr",
     "output_type": "stream",
     "text": [
      "0: 384x640 2 cars, 773.7ms\n",
      "Speed: 8.0ms preprocess, 773.7ms inference, 0.0ms postprocess per image at shape (1, 3, 384, 640)\n",
      "\n"
     ]
    },
    {
     "name": "stdout",
     "output_type": "stream",
     "text": [
      "0.8\n",
      "0.71\n",
      "[     485.13      210.59      531.18      244.86          60]\n",
      "[     489.48      261.99      555.46         320          58]\n"
     ]
    },
    {
     "name": "stderr",
     "output_type": "stream",
     "text": [
      "0: 384x640 2 cars, 743.9ms\n",
      "Speed: 3.4ms preprocess, 743.9ms inference, 8.0ms postprocess per image at shape (1, 3, 384, 640)\n",
      "\n"
     ]
    },
    {
     "name": "stdout",
     "output_type": "stream",
     "text": [
      "0.79\n",
      "0.74\n",
      "[     478.31      215.98      526.36      252.97          60]\n",
      "[      478.6      272.27      548.51      333.95          58]\n"
     ]
    },
    {
     "name": "stderr",
     "output_type": "stream",
     "text": [
      "0: 384x640 2 cars, 740.0ms\n",
      "Speed: 8.0ms preprocess, 740.0ms inference, 8.4ms postprocess per image at shape (1, 3, 384, 640)\n"
     ]
    },
    {
     "name": "stdout",
     "output_type": "stream",
     "text": [
      "0.83\n",
      "0.72\n",
      "[     470.53      222.18      519.45      260.81          60]\n",
      "[     466.71      284.41      540.21      349.51          58]\n"
     ]
    }
   ],
   "source": [
    "while True:\n",
    "    success, img = cap.read()\n",
    "    #overlay mask on the image/webcam feed\n",
    "    imageRegion = cv2.bitwise_and(img,mask)\n",
    "    # results = model(img,stream=True)\n",
    "    results = model(imageRegion,stream=True)\n",
    "    \n",
    "    detections = np.empty((0,5))\n",
    "    \n",
    "    for r in results:\n",
    "        boxes = r.boxes\n",
    "        for box in boxes:\n",
    "            # xy1 are points and xy2 are height and width\n",
    "            x1,y1,x2,y2 = box.xyxy[0]\n",
    "            # converting them into integers instead for tensor \n",
    "            x1,y1,x2,y2 = int(x1),int(y1),int(x2),int(y2)\n",
    "            # cv2.rectangle(img,(x1,y1),(x2,y2),(255,0,255),3) #using cv2 reactangle\n",
    "            w,h = x2-x1 , y2-y1\n",
    "            bbox = int(x1),int(y1),int(w),int(h)\n",
    "            \n",
    "            # print(x1,y1,x2,y2)\n",
    "            \n",
    "            # cvzone.cornerRect(img,(x1,y1,w,h),l=9) #using cvzone rectange\n",
    "            \n",
    "            #confidence\n",
    "            conf = math.ceil((box.conf[0]*100))/100 #for confidence values\n",
    "            print(conf)\n",
    "            #classnames\n",
    "            cls = int(box.cls[0])\n",
    "            #to display conf and object class on webcam\n",
    "            currentclass = classNames[cls]\n",
    "            \n",
    "            if currentclass == \"car\" or currentclass == \"truck\" or currentclass == \"bus\" or currentclass == \"motorbike\" and conf>0.3 :\n",
    "                # cvzone.putTextRect(img,f'{currentclass} {conf}',(max(0,x1),max(35,y1)) , scale=0.6,thickness=1,offset=3)\n",
    "                cvzone.cornerRect(img,(x1,y1,w,h),l=9 , rt=5) #using cvzone rectange\n",
    "                currentArrays = np.array([x1,y1,x2,y2,conf])\n",
    "                detections = np.vstack((detections,currentArrays))\n",
    "            \n",
    "    resultsTracker = tracker.update(detections)\n",
    "    \n",
    "    for result in resultsTracker:\n",
    "        x1,y1,x2,y2,id = result\n",
    "        # converting them into integers instead for tensor \n",
    "        x1,y1,x2,y2 = int(x1),int(y1),int(x2),int(y2)\n",
    "        print(result)\n",
    "        w,h = x2-x1 , y2-y1\n",
    "        cvzone.cornerRect(img,(x1,y1,w,h),l=9 , rt=2,colorR=(255,0,0))\n",
    "        cvzone.putTextRect(img,f' {id}',(max(0,x1),max(35,y1)) , scale=2,thickness=3,offset=10)\n",
    "    \n",
    "    cv2.imshow(\"Image\",img)\n",
    "    # cv2.imshow(\"ImageRegion\",imageRegion)\n",
    "    # cv2.waitKey(1)\n",
    "    # Wait for a key event, but only for a short duration (10 milliseconds)\n",
    "    # If the key is Esc (27), then break out of the loop and close the webcam\n",
    "    if cv2.waitKey(1) == 27:\n",
    "        break\n",
    "\n",
    "# Release the webcam and close all OpenCV windows\n",
    "cap.release()\n",
    "cv2.destroyAllWindows()"
   ]
  }
 ],
 "metadata": {
  "kernelspec": {
   "display_name": "Python 3",
   "language": "python",
   "name": "python3"
  },
  "language_info": {
   "codemirror_mode": {
    "name": "ipython",
    "version": 3
   },
   "file_extension": ".py",
   "mimetype": "text/x-python",
   "name": "python",
   "nbconvert_exporter": "python",
   "pygments_lexer": "ipython3",
   "version": "3.10.4"
  },
  "orig_nbformat": 4
 },
 "nbformat": 4,
 "nbformat_minor": 2
}
