{
 "cells": [
  {
   "cell_type": "code",
   "execution_count": 85,
   "metadata": {},
   "outputs": [],
   "source": [
    "import cv2\n",
    "from ultralytics import YOLO\n",
    "import cvzone\n",
    "import math\n",
    "\n",
    "from sort import *"
   ]
  },
  {
   "cell_type": "code",
   "execution_count": 86,
   "metadata": {},
   "outputs": [],
   "source": [
    "# creating web cam object\n",
    "# cap = cv2.VideoCapture(0)\n",
    "cap = cv2.VideoCapture('./Videos/cars.mp4')\n",
    "#cap.set(3,1280) # for width\n",
    "#cap.set(4,720) #for height"
   ]
  },
  {
   "cell_type": "code",
   "execution_count": 87,
   "metadata": {},
   "outputs": [],
   "source": [
    "model = YOLO('./Yolo-Weights/yolov8n.pt')"
   ]
  },
  {
   "cell_type": "code",
   "execution_count": 88,
   "metadata": {},
   "outputs": [],
   "source": [
    "# classes that will be detected and displayed\n",
    "classNames = [\"person\", \"bicycle\", \"car\", \"motorbike\", \"aeroplane\", \"bus\", \"train\", \"truck\", \"boat\",\n",
    "              \"traffic light\", \"fire hydrant\", \"stop sign\", \"parking meter\", \"bench\", \"bird\", \"cat\",\n",
    "              \"dog\", \"horse\", \"sheep\", \"cow\", \"elephant\", \"bear\", \"zebra\", \"giraffe\", \"backpack\", \"umbrella\",\n",
    "              \"handbag\", \"tie\", \"suitcase\", \"frisbee\", \"skis\", \"snowboard\", \"sports ball\", \"kite\", \"baseball bat\",\n",
    "              \"baseball glove\", \"skateboard\", \"surfboard\", \"tennis racket\", \"bottle\", \"wine glass\", \"cup\",\n",
    "              \"fork\", \"knife\", \"spoon\", \"bowl\", \"banana\", \"apple\", \"sandwich\", \"orange\", \"broccoli\",\n",
    "              \"carrot\", \"hot dog\", \"pizza\", \"donut\", \"cake\", \"chair\", \"sofa\", \"pottedplant\", \"bed\",\n",
    "              \"diningtable\", \"toilet\", \"tvmonitor\", \"laptop\", \"mouse\", \"remote\", \"keyboard\", \"cell phone\",\n",
    "              \"microwave\", \"oven\", \"toaster\", \"sink\", \"refrigerator\", \"book\", \"clock\", \"vase\", \"scissors\",\n",
    "              \"teddy bear\", \"hair drier\", \"toothbrush\" , \"pen\"\n",
    "              ]"
   ]
  },
  {
   "cell_type": "code",
   "execution_count": 89,
   "metadata": {},
   "outputs": [],
   "source": [
    "mask = cv2.imread('./mask.png')"
   ]
  },
  {
   "cell_type": "code",
   "execution_count": 90,
   "metadata": {},
   "outputs": [],
   "source": [
    "# creating a instance for tracking\n",
    "tracker = Sort(max_age=20,min_hits=3,iou_threshold=0.3)\n",
    "\n",
    "# we will make a line and count after that \n",
    "limits = [400,297,673,297]\n",
    "totalcounts=0"
   ]
  },
  {
   "cell_type": "code",
   "execution_count": 91,
   "metadata": {},
   "outputs": [
    {
     "name": "stderr",
     "output_type": "stream",
     "text": [
      "\n",
      "0: 384x640 4 cars, 162.5ms\n",
      "Speed: 8.0ms preprocess, 162.5ms inference, 0.0ms postprocess per image at shape (1, 3, 384, 640)\n"
     ]
    },
    {
     "name": "stdout",
     "output_type": "stream",
     "text": [
      "0.82\n",
      "0.79\n",
      "0.49\n",
      "0.39\n",
      "[        572         322         651         429         331]\n",
      "[        573         364         626         429         330]\n",
      "[        378         348         497         457         329]\n",
      "[        456         225         510         270         328]\n"
     ]
    },
    {
     "name": "stderr",
     "output_type": "stream",
     "text": [
      "\n",
      "0: 384x640 4 cars, 100.0ms\n",
      "Speed: 2.9ms preprocess, 100.0ms inference, 0.0ms postprocess per image at shape (1, 3, 384, 640)\n"
     ]
    },
    {
     "name": "stdout",
     "output_type": "stream",
     "text": [
      "0.8\n",
      "0.77\n",
      "0.53\n",
      "0.52\n",
      "[     568.48      320.73      651.52      436.27         331]\n",
      "[     572.26      371.69      627.74      438.31         330]\n",
      "[     373.12      349.89      492.88      459.11         329]\n",
      "[     454.74      228.22      508.26      273.78         328]\n"
     ]
    },
    {
     "name": "stderr",
     "output_type": "stream",
     "text": [
      "\n",
      "0: 384x640 2 cars, 152.8ms\n",
      "Speed: 7.0ms preprocess, 152.8ms inference, 0.0ms postprocess per image at shape (1, 3, 384, 640)\n",
      "\n",
      "0: 384x640 3 cars, 80.9ms\n",
      "Speed: 0.0ms preprocess, 80.9ms inference, 3.0ms postprocess per image at shape (1, 3, 384, 640)\n"
     ]
    },
    {
     "name": "stdout",
     "output_type": "stream",
     "text": [
      "0.84\n",
      "0.8\n",
      "[     355.68      365.44      476.85      468.27         329]\n",
      "[     447.68      233.63      501.97      279.13         328]\n",
      "0.53\n",
      "0.53\n",
      "0.38\n",
      "[     340.18      389.65      456.14      471.21         329]\n",
      "[     437.23      243.33      494.88       291.5         328]\n"
     ]
    },
    {
     "name": "stderr",
     "output_type": "stream",
     "text": [
      "\n",
      "0: 384x640 2 cars, 81.4ms\n",
      "Speed: 8.0ms preprocess, 81.4ms inference, 7.5ms postprocess per image at shape (1, 3, 384, 640)\n"
     ]
    },
    {
     "name": "stdout",
     "output_type": "stream",
     "text": [
      "0.62\n",
      "0.33\n",
      "[     329.19      415.66      431.62      473.23         329]\n",
      "[     425.72       251.9      488.28      303.79         328]\n"
     ]
    },
    {
     "name": "stderr",
     "output_type": "stream",
     "text": [
      "\n",
      "0: 384x640 2 cars, 86.6ms\n",
      "Speed: 0.0ms preprocess, 86.6ms inference, 0.0ms postprocess per image at shape (1, 3, 384, 640)\n",
      "\n"
     ]
    },
    {
     "name": "stdout",
     "output_type": "stream",
     "text": [
      "0.81\n",
      "0.64\n",
      "[     414.95      260.16      478.66      313.73         328]\n"
     ]
    },
    {
     "name": "stderr",
     "output_type": "stream",
     "text": [
      "0: 384x640 3 cars, 87.7ms\n",
      "Speed: 0.0ms preprocess, 87.7ms inference, 0.0ms postprocess per image at shape (1, 3, 384, 640)\n"
     ]
    },
    {
     "name": "stdout",
     "output_type": "stream",
     "text": [
      "0.85\n",
      "0.66\n",
      "0.38\n",
      "[     403.36       268.9      470.65       325.2         328]\n"
     ]
    },
    {
     "name": "stderr",
     "output_type": "stream",
     "text": [
      "\n",
      "0: 384x640 3 cars, 106.7ms\n",
      "Speed: 1.1ms preprocess, 106.7ms inference, 4.5ms postprocess per image at shape (1, 3, 384, 640)\n",
      "\n"
     ]
    },
    {
     "name": "stdout",
     "output_type": "stream",
     "text": [
      "0.81\n",
      "0.78\n",
      "0.4\n",
      "[     391.16      277.99      461.47      336.97         328]\n"
     ]
    },
    {
     "name": "stderr",
     "output_type": "stream",
     "text": [
      "0: 384x640 3 cars, 81.6ms\n",
      "Speed: 0.0ms preprocess, 81.6ms inference, 8.0ms postprocess per image at shape (1, 3, 384, 640)\n"
     ]
    },
    {
     "name": "stdout",
     "output_type": "stream",
     "text": [
      "0.87\n",
      "0.83\n",
      "0.65\n",
      "[     604.53      221.37      660.48      279.16         332]\n",
      "[      375.2      287.28      450.66      351.49         328]\n"
     ]
    },
    {
     "name": "stderr",
     "output_type": "stream",
     "text": [
      "\n",
      "0: 384x640 3 cars, 116.1ms\n",
      "Speed: 3.0ms preprocess, 116.1ms inference, 0.0ms postprocess per image at shape (1, 3, 384, 640)\n"
     ]
    },
    {
     "name": "stdout",
     "output_type": "stream",
     "text": [
      "0.9\n",
      "0.82\n",
      "0.68\n",
      "[     494.81      198.91      541.78      227.66         333]\n",
      "[     600.32      231.93      660.04      293.02         332]\n",
      "[     359.19      299.31       439.4      367.66         328]\n"
     ]
    },
    {
     "name": "stderr",
     "output_type": "stream",
     "text": [
      "\n",
      "0: 384x640 4 cars, 88.3ms\n",
      "Speed: 0.0ms preprocess, 88.3ms inference, 8.0ms postprocess per image at shape (1, 3, 384, 640)\n"
     ]
    },
    {
     "name": "stdout",
     "output_type": "stream",
     "text": [
      "0.87\n",
      "0.85\n",
      "0.68\n",
      "0.32\n",
      "[     489.11      199.67      538.32      232.06         333]\n",
      "[     592.72      243.59      655.27      308.58         332]\n",
      "[     340.76      311.86      427.07      385.53         328]\n"
     ]
    },
    {
     "name": "stderr",
     "output_type": "stream",
     "text": [
      "\n",
      "0: 384x640 3 cars, 96.2ms\n",
      "Speed: 0.0ms preprocess, 96.2ms inference, 0.0ms postprocess per image at shape (1, 3, 384, 640)\n"
     ]
    },
    {
     "name": "stdout",
     "output_type": "stream",
     "text": [
      "0.85\n",
      "0.63\n",
      "0.56\n",
      "[     484.86      203.33      535.69      238.66         333]\n",
      "[     585.29      254.56      653.08      325.61         332]\n",
      "[     320.84      325.91      412.35      403.99         328]\n"
     ]
    },
    {
     "name": "stderr",
     "output_type": "stream",
     "text": [
      "\n",
      "0: 384x640 4 cars, 96.9ms\n",
      "Speed: 5.4ms preprocess, 96.9ms inference, 1.3ms postprocess per image at shape (1, 3, 384, 640)\n",
      "\n"
     ]
    },
    {
     "name": "stdout",
     "output_type": "stream",
     "text": [
      "0.87\n",
      "0.82\n",
      "0.71\n",
      "0.45\n",
      "[     480.47      205.39      531.74      243.35         333]\n",
      "[     578.04      268.94      652.39      346.41         332]\n",
      "[     296.59      342.28      394.62      425.48         328]\n"
     ]
    },
    {
     "name": "stderr",
     "output_type": "stream",
     "text": [
      "0: 384x640 4 cars, 83.0ms\n",
      "Speed: 1.0ms preprocess, 83.0ms inference, 0.0ms postprocess per image at shape (1, 3, 384, 640)\n",
      "\n"
     ]
    },
    {
     "name": "stdout",
     "output_type": "stream",
     "text": [
      "0.86\n",
      "0.77\n",
      "0.75\n",
      "0.6\n",
      "[     475.45      209.69      527.24      249.49         333]\n",
      "[     570.86       284.7      654.98      370.28         332]\n",
      "[     270.79      358.68      375.77      448.23         328]\n"
     ]
    },
    {
     "name": "stderr",
     "output_type": "stream",
     "text": [
      "0: 384x640 4 cars, 93.2ms\n",
      "Speed: 3.2ms preprocess, 93.2ms inference, 0.0ms postprocess per image at shape (1, 3, 384, 640)\n"
     ]
    },
    {
     "name": "stdout",
     "output_type": "stream",
     "text": [
      "0.76\n",
      "0.75\n",
      "0.71\n",
      "0.54\n",
      "[     569.45      205.93      608.21      237.79         334]\n",
      "[     468.96      216.06      521.76      256.86         333]\n",
      "[     556.32      302.74      643.06      394.69         332]\n",
      "[     237.52       376.3      352.94       467.5         328]\n"
     ]
    },
    {
     "name": "stderr",
     "output_type": "stream",
     "text": [
      "\n",
      "0: 384x640 6 cars, 92.1ms\n",
      "Speed: 1.6ms preprocess, 92.1ms inference, 2.0ms postprocess per image at shape (1, 3, 384, 640)\n",
      "\n",
      "0: 384x640 5 cars, 79.3ms\n"
     ]
    },
    {
     "name": "stdout",
     "output_type": "stream",
     "text": [
      "0.81\n",
      "0.77\n",
      "0.57\n",
      "0.48\n",
      "0.33\n",
      "0.27\n",
      "[     566.59      213.18      604.94      245.77         334]\n",
      "[     462.11      222.16      516.46      264.96         333]\n",
      "[     541.03      324.57      632.09      424.97         332]\n",
      "[     199.79       392.6      327.73      477.97         328]\n",
      "0.76\n",
      "0.75\n",
      "0.72\n",
      "0.68\n",
      "0.36\n"
     ]
    },
    {
     "name": "stderr",
     "output_type": "stream",
     "text": [
      "Speed: 1.2ms preprocess, 79.3ms inference, 0.0ms postprocess per image at shape (1, 3, 384, 640)\n"
     ]
    },
    {
     "name": "stdout",
     "output_type": "stream",
     "text": [
      "[     560.37      220.51      600.68       255.4         334]\n",
      "[     453.93      228.74      508.43      272.69         333]\n",
      "[     526.23      347.52       623.5      456.22         332]\n"
     ]
    },
    {
     "name": "stderr",
     "output_type": "stream",
     "text": [
      "\n",
      "0: 384x640 4 cars, 91.9ms\n",
      "Speed: 5.5ms preprocess, 91.9ms inference, 0.0ms postprocess per image at shape (1, 3, 384, 640)\n"
     ]
    },
    {
     "name": "stdout",
     "output_type": "stream",
     "text": [
      "0.81\n",
      "0.73\n",
      "0.7\n",
      "0.64\n",
      "[     554.43      227.52      596.94      265.75         334]\n",
      "[     445.59      234.36      503.11      281.37         333]\n",
      "[     510.66      370.03      612.19      473.24         332]\n"
     ]
    },
    {
     "name": "stderr",
     "output_type": "stream",
     "text": [
      "\n",
      "0: 384x640 5 cars, 1 truck, 95.0ms\n",
      "Speed: 3.8ms preprocess, 95.0ms inference, 0.0ms postprocess per image at shape (1, 3, 384, 640)\n",
      "\n"
     ]
    },
    {
     "name": "stdout",
     "output_type": "stream",
     "text": [
      "0.88\n",
      "0.76\n",
      "0.72\n",
      "0.59\n",
      "0.47\n",
      "0.29\n",
      "[     616.58      206.36      659.81       278.2         336]\n",
      "[     548.11      234.61       593.2      275.37         334]\n",
      "[     435.36      241.14      495.33      290.19         333]\n",
      "[     495.38      396.39      600.68      482.21         332]\n"
     ]
    },
    {
     "name": "stderr",
     "output_type": "stream",
     "text": [
      "0: 384x640 1 person, 5 cars, 85.7ms\n",
      "Speed: 1.7ms preprocess, 85.7ms inference, 0.5ms postprocess per image at shape (1, 3, 384, 640)\n"
     ]
    },
    {
     "name": "stdout",
     "output_type": "stream",
     "text": [
      "0.87\n",
      "0.85\n",
      "0.69\n",
      "0.47\n",
      "0.45\n",
      "0.33\n",
      "[     612.81      221.12      660.92       294.3         336]\n",
      "[     540.47      242.77      588.66      287.05         334]\n",
      "[     424.74      248.97      487.68       300.4         333]\n"
     ]
    },
    {
     "name": "stderr",
     "output_type": "stream",
     "text": [
      "\n",
      "0: 384x640 4 cars, 94.1ms\n",
      "Speed: 1.1ms preprocess, 94.1ms inference, 0.0ms postprocess per image at shape (1, 3, 384, 640)\n"
     ]
    },
    {
     "name": "stdout",
     "output_type": "stream",
     "text": [
      "0.85\n",
      "0.83\n",
      "0.67\n",
      "0.66\n",
      "[     606.76      230.36       660.4      310.78         336]\n",
      "[     532.97      252.22      583.91      299.85         334]\n",
      "[     411.73      258.64      477.74      312.96         333]\n"
     ]
    },
    {
     "name": "stderr",
     "output_type": "stream",
     "text": [
      "\n",
      "0: 384x640 4 cars, 96.0ms\n",
      "Speed: 4.0ms preprocess, 96.0ms inference, 3.0ms postprocess per image at shape (1, 3, 384, 640)\n",
      "\n"
     ]
    },
    {
     "name": "stdout",
     "output_type": "stream",
     "text": [
      "0.86\n",
      "0.86\n",
      "0.73\n",
      "0.73\n",
      "[     545.29      201.49      594.04       233.8         338]\n",
      "[     598.61      241.14      657.95         329         336]\n",
      "[     524.13      262.52       578.5      313.29         334]\n",
      "[     396.97      268.35      466.52      325.03         333]\n"
     ]
    },
    {
     "name": "stderr",
     "output_type": "stream",
     "text": [
      "0: 384x640 1 person, 4 cars, 87.2ms\n",
      "Speed: 9.6ms preprocess, 87.2ms inference, 3.1ms postprocess per image at shape (1, 3, 384, 640)\n"
     ]
    },
    {
     "name": "stdout",
     "output_type": "stream",
     "text": [
      "0.8\n",
      "0.74\n",
      "0.65\n",
      "0.52\n",
      "0.29\n",
      "[     541.45      206.36      590.84      240.14         338]\n",
      "[     591.61      253.86      657.97      350.48         336]\n",
      "[     514.42      273.06      572.59      327.66         334]\n",
      "[     379.68      281.12       454.1      341.72         333]\n"
     ]
    },
    {
     "name": "stderr",
     "output_type": "stream",
     "text": [
      "\n",
      "0: 384x640 1 person, 4 cars, 95.3ms\n",
      "Speed: 3.2ms preprocess, 95.3ms inference, 0.0ms postprocess per image at shape (1, 3, 384, 640)\n",
      "\n"
     ]
    },
    {
     "name": "stdout",
     "output_type": "stream",
     "text": [
      "0.88\n",
      "0.84\n",
      "0.83\n",
      "0.61\n",
      "0.34\n",
      "[     535.79         209      587.96      248.04         338]\n",
      "[     581.64      270.52       656.1      376.57         336]\n",
      "[     503.23      286.86       565.7      345.78         334]\n",
      "[     360.42      294.23      440.98      358.95         333]\n"
     ]
    },
    {
     "name": "stderr",
     "output_type": "stream",
     "text": [
      "0: 384x640 5 cars, 88.8ms\n",
      "Speed: 1.5ms preprocess, 88.8ms inference, 0.0ms postprocess per image at shape (1, 3, 384, 640)\n"
     ]
    },
    {
     "name": "stdout",
     "output_type": "stream",
     "text": [
      "0.85\n",
      "0.83\n",
      "0.82\n",
      "0.44\n",
      "0.31\n",
      "[     531.63      213.02      584.59         255         338]\n",
      "[     571.06      289.41      653.13      406.06         336]\n",
      "[     490.71      302.15      557.93       366.3         334]\n",
      "[     338.28      308.86      425.22      378.87         333]\n"
     ]
    },
    {
     "name": "stderr",
     "output_type": "stream",
     "text": [
      "\n",
      "0: 384x640 5 cars, 81.6ms\n",
      "Speed: 7.1ms preprocess, 81.6ms inference, 8.3ms postprocess per image at shape (1, 3, 384, 640)\n"
     ]
    },
    {
     "name": "stdout",
     "output_type": "stream",
     "text": [
      "0.86\n",
      "0.82\n",
      "0.75\n",
      "0.47\n",
      "0.27\n",
      "[     526.61      219.11      581.04      264.21         338]\n",
      "[     555.27      313.97      642.69      442.52         336]\n",
      "[     476.89      318.34      548.69      387.95         334]\n",
      "[     311.87      326.94       407.1      402.12         333]\n"
     ]
    },
    {
     "name": "stderr",
     "output_type": "stream",
     "text": [
      "\n",
      "0: 384x640 4 cars, 96.2ms\n",
      "Speed: 8.0ms preprocess, 96.2ms inference, 0.0ms postprocess per image at shape (1, 3, 384, 640)\n",
      "\n"
     ]
    },
    {
     "name": "stdout",
     "output_type": "stream",
     "text": [
      "0.83\n",
      "0.82\n",
      "0.72\n",
      "0.58\n",
      "[     520.08      227.07      575.89      273.66         338]\n",
      "[      538.8      334.25      632.38      465.67         336]\n",
      "[     458.92      337.32         538      413.42         334]\n",
      "[     281.08      347.26       385.7      428.89         333]\n"
     ]
    },
    {
     "name": "stderr",
     "output_type": "stream",
     "text": [
      "0: 384x640 4 cars, 82.5ms\n",
      "Speed: 2.4ms preprocess, 82.5ms inference, 5.5ms postprocess per image at shape (1, 3, 384, 640)\n",
      "\n"
     ]
    },
    {
     "name": "stdout",
     "output_type": "stream",
     "text": [
      "0.8\n",
      "0.73\n",
      "0.5\n",
      "0.46\n",
      "[     513.82      234.47      571.44      283.68         338]\n",
      "[     439.82      359.87      525.06      442.99         334]\n",
      "[     247.07      368.52      360.79      455.52         333]\n"
     ]
    },
    {
     "name": "stderr",
     "output_type": "stream",
     "text": [
      "0: 384x640 4 cars, 84.8ms\n",
      "Speed: 6.5ms preprocess, 84.8ms inference, 0.0ms postprocess per image at shape (1, 3, 384, 640)\n",
      "\n"
     ]
    },
    {
     "name": "stdout",
     "output_type": "stream",
     "text": [
      "0.88\n",
      "0.77\n",
      "0.48\n",
      "0.38\n",
      "[      506.7      243.09      566.19      293.79         338]\n",
      "[     418.06      381.22      510.31      464.08         334]\n",
      "[      203.6      391.22      329.81      472.39         333]\n"
     ]
    },
    {
     "name": "stderr",
     "output_type": "stream",
     "text": [
      "0: 384x640 3 cars, 81.3ms\n",
      "Speed: 6.0ms preprocess, 81.3ms inference, 8.0ms postprocess per image at shape (1, 3, 384, 640)\n"
     ]
    },
    {
     "name": "stdout",
     "output_type": "stream",
     "text": [
      "0.84\n",
      "0.52\n",
      "0.5\n",
      "[     493.27      205.24      535.09      237.64         340]\n",
      "[     497.78      252.34      560.17      306.36         338]\n",
      "[     396.41      404.98      495.78      476.39         334]\n"
     ]
    },
    {
     "name": "stderr",
     "output_type": "stream",
     "text": [
      "\n",
      "0: 384x640 2 cars, 99.7ms\n",
      "Speed: 5.9ms preprocess, 99.7ms inference, 10.4ms postprocess per image at shape (1, 3, 384, 640)\n",
      "\n",
      "0: 384x640 2 cars, 82.7ms\n"
     ]
    },
    {
     "name": "stdout",
     "output_type": "stream",
     "text": [
      "0.86\n",
      "0.75\n",
      "[     487.24      210.07      530.31      244.65         340]\n",
      "[     488.99      261.15      554.43      317.82         338]\n",
      "0.9\n",
      "0.8\n"
     ]
    },
    {
     "name": "stderr",
     "output_type": "stream",
     "text": [
      "Speed: 3.5ms preprocess, 82.7ms inference, 3.0ms postprocess per image at shape (1, 3, 384, 640)\n"
     ]
    },
    {
     "name": "stdout",
     "output_type": "stream",
     "text": [
      "[      479.5      214.97      524.83      251.89         340]\n",
      "[     478.81       271.1      548.27      332.15         338]\n"
     ]
    },
    {
     "name": "stderr",
     "output_type": "stream",
     "text": [
      "\n",
      "0: 384x640 2 cars, 91.8ms\n",
      "Speed: 0.0ms preprocess, 91.8ms inference, 0.0ms postprocess per image at shape (1, 3, 384, 640)\n",
      "\n"
     ]
    },
    {
     "name": "stdout",
     "output_type": "stream",
     "text": [
      "0.87\n",
      "0.8\n",
      "[     471.22      222.01      517.76      260.56         340]\n",
      "[     466.73      283.64      540.06      348.66         338]\n"
     ]
    },
    {
     "name": "stderr",
     "output_type": "stream",
     "text": [
      "0: 384x640 2 cars, 87.8ms\n",
      "Speed: 4.0ms preprocess, 87.8ms inference, 0.0ms postprocess per image at shape (1, 3, 384, 640)\n",
      "\n",
      "0: 384x640 2 cars, 82.1ms\n"
     ]
    },
    {
     "name": "stdout",
     "output_type": "stream",
     "text": [
      "0.9\n",
      "0.78\n",
      "[     462.39      230.16      511.27      269.97         340]\n",
      "[      451.9      297.82      531.17      369.22         338]\n",
      "0.9\n",
      "0.86\n"
     ]
    },
    {
     "name": "stderr",
     "output_type": "stream",
     "text": [
      "Speed: 5.0ms preprocess, 82.1ms inference, 0.0ms postprocess per image at shape (1, 3, 384, 640)\n",
      "\n"
     ]
    },
    {
     "name": "stdout",
     "output_type": "stream",
     "text": [
      "[     452.11      237.56      504.24      280.02         340]\n",
      "[     436.87      311.74       521.9      388.83         338]\n"
     ]
    },
    {
     "name": "stderr",
     "output_type": "stream",
     "text": [
      "0: 384x640 2 cars, 86.9ms\n",
      "Speed: 7.0ms preprocess, 86.9ms inference, 0.0ms postprocess per image at shape (1, 3, 384, 640)\n"
     ]
    },
    {
     "name": "stdout",
     "output_type": "stream",
     "text": [
      "0.9\n",
      "0.84\n",
      "[      440.9      245.43      495.44      290.18         340]\n",
      "[     419.02      329.63      510.02      413.13         338]\n"
     ]
    },
    {
     "name": "stderr",
     "output_type": "stream",
     "text": [
      "\n",
      "0: 384x640 2 cars, 96.5ms\n",
      "Speed: 0.0ms preprocess, 96.5ms inference, 0.0ms postprocess per image at shape (1, 3, 384, 640)\n"
     ]
    },
    {
     "name": "stdout",
     "output_type": "stream",
     "text": [
      "0.88\n",
      "0.83\n",
      "[     430.16      254.05      487.92      301.11         340]\n",
      "[      398.3       350.6      497.05      442.15         338]\n"
     ]
    },
    {
     "name": "stderr",
     "output_type": "stream",
     "text": [
      "\n",
      "0: 384x640 3 cars, 95.3ms\n",
      "Speed: 3.2ms preprocess, 95.3ms inference, 4.0ms postprocess per image at shape (1, 3, 384, 640)\n"
     ]
    },
    {
     "name": "stdout",
     "output_type": "stream",
     "text": [
      "0.84\n",
      "0.83\n",
      "0.41\n",
      "[     415.99      264.31      477.17      313.59         340]\n",
      "[     375.16      368.57      481.12      461.96         338]\n"
     ]
    },
    {
     "name": "stderr",
     "output_type": "stream",
     "text": [
      "\n",
      "0: 384x640 3 cars, 96.2ms\n",
      "Speed: 8.0ms preprocess, 96.2ms inference, 0.0ms postprocess per image at shape (1, 3, 384, 640)\n"
     ]
    },
    {
     "name": "stdout",
     "output_type": "stream",
     "text": [
      "0.85\n",
      "0.79\n",
      "0.56\n",
      "[     399.67      275.37      464.82       328.4         340]\n",
      "[     352.74      388.74      464.47      474.22         338]\n"
     ]
    },
    {
     "name": "stderr",
     "output_type": "stream",
     "text": [
      "\n",
      "0: 384x640 3 cars, 104.3ms\n",
      "Speed: 6.0ms preprocess, 104.3ms inference, 0.0ms postprocess per image at shape (1, 3, 384, 640)\n"
     ]
    },
    {
     "name": "stdout",
     "output_type": "stream",
     "text": [
      "0.83\n",
      "0.73\n",
      "0.35\n",
      "[     382.19       286.5      452.29      342.27         340]\n",
      "[      330.7      406.11      444.89      480.02         338]\n"
     ]
    },
    {
     "name": "stderr",
     "output_type": "stream",
     "text": [
      "\n",
      "0: 384x640 2 cars, 107.4ms\n",
      "Speed: 4.7ms preprocess, 107.4ms inference, 0.0ms postprocess per image at shape (1, 3, 384, 640)\n",
      "\n",
      "0: 384x640 3 cars, 85.3ms\n",
      "Speed: 5.3ms preprocess, 85.3ms inference, 0.0ms postprocess per image at shape (1, 3, 384, 640)\n"
     ]
    },
    {
     "name": "stdout",
     "output_type": "stream",
     "text": [
      "0.82\n",
      "0.69\n",
      "[     614.63      213.65      655.24      258.92         341]\n",
      "[     361.79      301.34      437.62      360.64         340]\n",
      "0.8\n",
      "0.78\n",
      "0.33\n",
      "[     611.21      223.17      656.82      273.28         341]\n",
      "[     339.65      316.37      420.88      379.88         340]\n"
     ]
    },
    {
     "name": "stderr",
     "output_type": "stream",
     "text": [
      "\n",
      "0: 384x640 2 cars, 89.7ms\n",
      "Speed: 6.5ms preprocess, 89.7ms inference, 4.0ms postprocess per image at shape (1, 3, 384, 640)\n",
      "\n",
      "0: 384x640 3 cars, 83.1ms\n"
     ]
    },
    {
     "name": "stdout",
     "output_type": "stream",
     "text": [
      "0.77\n",
      "0.77\n",
      "[     606.18      232.37      654.72      285.46         341]\n",
      "[     313.72      333.46      402.64      402.64         340]\n",
      "0.87\n",
      "0.85\n",
      "0.28\n"
     ]
    },
    {
     "name": "stderr",
     "output_type": "stream",
     "text": [
      "Speed: 8.0ms preprocess, 83.1ms inference, 0.0ms postprocess per image at shape (1, 3, 384, 640)\n",
      "\n",
      "0: 384x640 3 cars, 82.4ms\n",
      "Speed: 5.5ms preprocess, 82.4ms inference, 0.0ms postprocess per image at shape (1, 3, 384, 640)\n"
     ]
    },
    {
     "name": "stdout",
     "output_type": "stream",
     "text": [
      "[     601.67      241.12      655.52      299.39         341]\n",
      "[     283.29      354.83      379.73      429.74         340]\n",
      "0.82\n",
      "0.64\n",
      "0.27\n"
     ]
    },
    {
     "name": "stderr",
     "output_type": "stream",
     "text": [
      "\n"
     ]
    },
    {
     "name": "stdout",
     "output_type": "stream",
     "text": [
      "[      594.2      253.53      650.69      316.33         341]\n",
      "[     249.65      376.96      354.72      456.61         340]\n"
     ]
    },
    {
     "name": "stderr",
     "output_type": "stream",
     "text": [
      "0: 384x640 3 cars, 110.9ms\n",
      "Speed: 2.0ms preprocess, 110.9ms inference, 0.0ms postprocess per image at shape (1, 3, 384, 640)\n"
     ]
    },
    {
     "name": "stdout",
     "output_type": "stream",
     "text": [
      "0.79\n",
      "0.62\n",
      "0.26\n",
      "[     504.86      199.96      541.54      225.99         342]\n",
      "[     588.86      266.29      649.04      333.77         341]\n",
      "[     203.45      399.86      321.36      473.66         340]\n"
     ]
    },
    {
     "name": "stderr",
     "output_type": "stream",
     "text": [
      "\n",
      "0: 384x640 2 cars, 91.6ms\n",
      "Speed: 4.3ms preprocess, 91.6ms inference, 1.0ms postprocess per image at shape (1, 3, 384, 640)\n"
     ]
    },
    {
     "name": "stdout",
     "output_type": "stream",
     "text": [
      "0.72\n",
      "0.65\n",
      "[      502.1      200.12      540.13      228.37         342]\n",
      "[     580.02      282.18      645.38      356.43         341]\n"
     ]
    },
    {
     "name": "stderr",
     "output_type": "stream",
     "text": [
      "\n",
      "0: 384x640 3 cars, 99.5ms\n",
      "Speed: 5.3ms preprocess, 99.5ms inference, 0.0ms postprocess per image at shape (1, 3, 384, 640)\n"
     ]
    },
    {
     "name": "stdout",
     "output_type": "stream",
     "text": [
      "0.68\n",
      "0.66\n",
      "0.3\n",
      "[     499.94      200.68      538.94      230.62         342]\n",
      "[     570.05      300.97      638.87      381.82         341]\n"
     ]
    },
    {
     "name": "stderr",
     "output_type": "stream",
     "text": [
      "\n",
      "0: 384x640 3 cars, 93.4ms\n",
      "Speed: 3.3ms preprocess, 93.4ms inference, 0.0ms postprocess per image at shape (1, 3, 384, 640)\n",
      "\n",
      "0: 384x640 3 cars, 84.8ms\n",
      "Speed: 3.5ms preprocess, 84.8ms inference, 0.0ms postprocess per image at shape (1, 3, 384, 640)\n"
     ]
    },
    {
     "name": "stdout",
     "output_type": "stream",
     "text": [
      "0.77\n",
      "0.56\n",
      "0.55\n",
      "[     497.62      202.03      537.46       234.3         342]\n",
      "[     559.57      322.97      631.47      411.28         341]\n",
      "0.7\n",
      "0.6\n",
      "0.58\n",
      "[     496.08      202.65      536.44      237.37         342]\n",
      "[     546.04      347.37      625.33      445.57         341]\n"
     ]
    },
    {
     "name": "stderr",
     "output_type": "stream",
     "text": [
      "\n",
      "0: 384x640 3 cars, 80.9ms\n",
      "Speed: 0.0ms preprocess, 80.9ms inference, 0.0ms postprocess per image at shape (1, 3, 384, 640)\n",
      "\n",
      "0: 384x640 2 cars, 81.6ms\n",
      "Speed: 0.0ms preprocess, 81.6ms inference, 0.0ms postprocess per image at shape (1, 3, 384, 640)\n"
     ]
    },
    {
     "name": "stdout",
     "output_type": "stream",
     "text": [
      "0.42\n",
      "0.4\n",
      "0.35\n",
      "[     617.17      215.28      657.72      263.98         343]\n",
      "[     494.32      205.15      534.71       241.5         342]\n",
      "[     534.14      371.47      616.29      468.11         341]\n",
      "0.72\n",
      "0.7\n",
      "[     615.48      225.38      659.18      274.16         343]\n",
      "[      491.4      209.23      531.76      245.78         342]\n"
     ]
    },
    {
     "name": "stderr",
     "output_type": "stream",
     "text": [
      "\n",
      "0: 384x640 2 cars, 96.6ms\n",
      "Speed: 8.0ms preprocess, 96.6ms inference, 0.0ms postprocess per image at shape (1, 3, 384, 640)\n",
      "\n",
      "0: 384x640 2 cars, 81.2ms\n",
      "Speed: 0.0ms preprocess, 81.2ms inference, 0.0ms postprocess per image at shape (1, 3, 384, 640)\n"
     ]
    },
    {
     "name": "stdout",
     "output_type": "stream",
     "text": [
      "0.77\n",
      "0.7\n",
      "[     611.06      232.89      659.15      285.45         343]\n",
      "[     488.36      211.66      528.74      248.94         342]\n",
      "0.84\n",
      "0.59\n",
      "[     606.84      240.38      659.81      297.69         343]\n",
      "[     485.52      215.69      526.15      253.47         342]\n"
     ]
    },
    {
     "name": "stderr",
     "output_type": "stream",
     "text": [
      "\n",
      "0: 384x640 4 cars, 93.2ms\n",
      "Speed: 3.1ms preprocess, 93.2ms inference, 2.5ms postprocess per image at shape (1, 3, 384, 640)\n"
     ]
    },
    {
     "name": "stdout",
     "output_type": "stream",
     "text": [
      "0.73\n",
      "0.72\n",
      "0.38\n",
      "0.34\n",
      "[     601.38      249.53      657.14      309.97         343]\n",
      "[     481.88       219.8      523.93      258.36         342]\n"
     ]
    },
    {
     "name": "stderr",
     "output_type": "stream",
     "text": [
      "\n",
      "0: 384x640 5 cars, 106.1ms\n",
      "Speed: 6.6ms preprocess, 106.1ms inference, 0.0ms postprocess per image at shape (1, 3, 384, 640)\n"
     ]
    },
    {
     "name": "stdout",
     "output_type": "stream",
     "text": [
      "0.82\n",
      "0.77\n",
      "0.57\n",
      "0.55\n",
      "0.47\n",
      "[     593.56      261.51      652.55      325.44         343]\n",
      "[     478.21      223.33      520.93      262.63         342]\n"
     ]
    },
    {
     "name": "stderr",
     "output_type": "stream",
     "text": [
      "\n",
      "0: 384x640 5 cars, 90.8ms\n",
      "Speed: 4.1ms preprocess, 90.8ms inference, 6.0ms postprocess per image at shape (1, 3, 384, 640)\n"
     ]
    },
    {
     "name": "stdout",
     "output_type": "stream",
     "text": [
      "0.83\n",
      "0.79\n",
      "0.74\n",
      "0.5\n",
      "0.33\n",
      "[     587.31      274.12      651.06      343.05         343]\n",
      "[     473.71      228.02      518.46      268.59         342]\n"
     ]
    },
    {
     "name": "stderr",
     "output_type": "stream",
     "text": [
      "\n",
      "0: 384x640 5 cars, 96.4ms\n",
      "Speed: 8.3ms preprocess, 96.4ms inference, 8.0ms postprocess per image at shape (1, 3, 384, 640)\n"
     ]
    },
    {
     "name": "stdout",
     "output_type": "stream",
     "text": [
      "0.84\n",
      "0.82\n",
      "0.77\n",
      "0.74\n",
      "0.41\n",
      "[     562.87      202.38      609.62      239.81         345]\n",
      "[     620.22      225.22      661.41      273.62         344]\n",
      "[     579.05      287.69      649.27      363.32         343]\n",
      "[     469.01      232.65      514.78      273.68         342]\n"
     ]
    },
    {
     "name": "stderr",
     "output_type": "stream",
     "text": [
      "\n",
      "0: 384x640 5 cars, 90.0ms\n",
      "Speed: 1.0ms preprocess, 90.0ms inference, 8.0ms postprocess per image at shape (1, 3, 384, 640)\n",
      "\n",
      "0: 384x640 5 cars, 90.6ms\n"
     ]
    },
    {
     "name": "stdout",
     "output_type": "stream",
     "text": [
      "0.85\n",
      "0.77\n",
      "0.75\n",
      "0.73\n",
      "0.45\n",
      "[     557.65      206.61      606.72      247.91         345]\n",
      "[     615.98      234.08      662.27      287.78         344]\n",
      "[     569.63      304.16      642.47      385.27         343]\n",
      "[     463.55       238.5      510.68      280.47         342]\n",
      "0.85\n",
      "0.75\n",
      "0.74\n",
      "0.63\n",
      "0.61\n"
     ]
    },
    {
     "name": "stderr",
     "output_type": "stream",
     "text": [
      "Speed: 0.0ms preprocess, 90.6ms inference, 1.0ms postprocess per image at shape (1, 3, 384, 640)\n",
      "\n"
     ]
    },
    {
     "name": "stdout",
     "output_type": "stream",
     "text": [
      "[      502.9      200.29       542.9      223.14         347]\n",
      "[     551.91      212.92      602.89      257.61         345]\n",
      "[     610.97      238.17       663.4      299.62         344]\n",
      "[     558.73      322.33      635.59      411.13         343]\n",
      "[     457.03       243.3      505.89      287.43         342]\n"
     ]
    },
    {
     "name": "stderr",
     "output_type": "stream",
     "text": [
      "0: 384x640 6 cars, 85.6ms\n",
      "Speed: 2.8ms preprocess, 85.6ms inference, 0.0ms postprocess per image at shape (1, 3, 384, 640)\n"
     ]
    },
    {
     "name": "stdout",
     "output_type": "stream",
     "text": [
      "0.88\n",
      "0.76\n",
      "0.7\n",
      "0.65\n",
      "0.63\n",
      "0.42\n",
      "[     501.94      200.74      543.87      226.32         347]\n",
      "[     545.62      220.86      598.49      268.11         345]\n",
      "[      607.9      244.82      663.89      310.27         344]\n",
      "[        545      344.38      628.36      441.72         343]\n",
      "[     451.24      247.69      502.36      293.13         342]\n"
     ]
    }
   ],
   "source": [
    "while True:\n",
    "    success, img = cap.read()\n",
    "    #overlay mask on the image/webcam feed\n",
    "    imageRegion = cv2.bitwise_and(img,mask)\n",
    "    # results = model(img,stream=True)\n",
    "    results = model(imageRegion,stream=True)\n",
    "    \n",
    "    detections = np.empty((0,5))\n",
    "    \n",
    "    for r in results:\n",
    "        boxes = r.boxes\n",
    "        for box in boxes:\n",
    "            # xy1 are points and xy2 are height and width\n",
    "            x1,y1,x2,y2 = box.xyxy[0]\n",
    "            # converting them into integers instead for tensor \n",
    "            x1,y1,x2,y2 = int(x1),int(y1),int(x2),int(y2)\n",
    "            # cv2.rectangle(img,(x1,y1),(x2,y2),(255,0,255),3) #using cv2 reactangle\n",
    "            w,h = x2-x1 , y2-y1\n",
    "            bbox = int(x1),int(y1),int(w),int(h)\n",
    "            \n",
    "            # print(x1,y1,x2,y2)\n",
    "            \n",
    "            # cvzone.cornerRect(img,(x1,y1,w,h),l=9) #using cvzone rectange\n",
    "            \n",
    "            #confidence\n",
    "            conf = math.ceil((box.conf[0]*100))/100 #for confidence values\n",
    "            print(conf)\n",
    "            #classnames\n",
    "            cls = int(box.cls[0])\n",
    "            #to display conf and object class on webcam\n",
    "            currentclass = classNames[cls]\n",
    "            \n",
    "            if currentclass == \"car\" or currentclass == \"truck\" or currentclass == \"bus\" or currentclass == \"motorbike\" and conf>0.3 :\n",
    "                # cvzone.putTextRect(img,f'{currentclass} {conf}',(max(0,x1),max(35,y1)) , scale=0.6,thickness=1,offset=3)\n",
    "                # cvzone.cornerRect(img,(x1,y1,w,h),l=9 , rt=5) #using cvzone rectange\n",
    "                currentArrays = np.array([x1,y1,x2,y2,conf])\n",
    "                detections = np.vstack((detections,currentArrays))\n",
    "            \n",
    "    resultsTracker = tracker.update(detections)\n",
    "    \n",
    "    cv2.line(img,(limits[0],limits[1]),(limits[2],limits[3]),(0,0,255),5)\n",
    "    \n",
    "    for result in resultsTracker:\n",
    "        x1,y1,x2,y2,id = result\n",
    "        # converting them into integers instead for tensor \n",
    "        x1,y1,x2,y2 = int(x1),int(y1),int(x2),int(y2)\n",
    "        print(result)\n",
    "        w,h = x2-x1 , y2-y1\n",
    "        cvzone.cornerRect(img,(x1,y1,w,h),l=9 , rt=2,colorR=(255,0,0))\n",
    "        # cvzone.putTextRect(img,f' {int(id)}',(max(0,x1),max(35,y1)) , scale=2,thickness=3,offset=10)\n",
    "        \n",
    "        cx , cy = x1+w//2,y1+h//2\n",
    "        cv2.circle(img,(cx,cy),5,(255,0,255),cv2.FILLED)\n",
    "        \n",
    "        if limits[0] <cx< limits[2] and limits[1]-20<cy<limits[1]+20:\n",
    "            totalcounts += 1\n",
    "            cvzone.putTextRect(img,f' {int(totalcounts)}',(max(0,x1),max(35,y1)) , scale=2,thickness=3,offset=10)\n",
    "        \n",
    "    cvzone.putTextRect(img,f'Count : {totalcounts}',(90,90)) \n",
    "    \n",
    "    cv2.imshow(\"Image\",img)\n",
    "    # cv2.imshow(\"ImageRegion\",imageRegion)\n",
    "    # cv2.waitKey(1)\n",
    "    # Wait for a key event, but only for a short duration (10 milliseconds)\n",
    "    # If the key is Esc (27), then break out of the loop and close the webcam\n",
    "    if cv2.waitKey(0) == 27:\n",
    "        break\n",
    "\n",
    "# Release the webcam and close all OpenCV windows\n",
    "cap.release()\n",
    "cv2.destroyAllWindows()"
   ]
  }
 ],
 "metadata": {
  "kernelspec": {
   "display_name": "Python 3",
   "language": "python",
   "name": "python3"
  },
  "language_info": {
   "codemirror_mode": {
    "name": "ipython",
    "version": 3
   },
   "file_extension": ".py",
   "mimetype": "text/x-python",
   "name": "python",
   "nbconvert_exporter": "python",
   "pygments_lexer": "ipython3",
   "version": "3.10.4"
  },
  "orig_nbformat": 4
 },
 "nbformat": 4,
 "nbformat_minor": 2
}
