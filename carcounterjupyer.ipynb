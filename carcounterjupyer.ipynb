{
 "cells": [
  {
   "cell_type": "code",
   "execution_count": 105,
   "metadata": {},
   "outputs": [],
   "source": [
    "import cv2\n",
    "from ultralytics import YOLO\n",
    "import cvzone\n",
    "import math\n",
    "\n",
    "from sort import *"
   ]
  },
  {
   "cell_type": "code",
   "execution_count": 106,
   "metadata": {},
   "outputs": [],
   "source": [
    "# creating web cam object\n",
    "# cap = cv2.VideoCapture(0)\n",
    "cap = cv2.VideoCapture('./Videos/cars.mp4')\n",
    "#cap.set(3,1280) # for width\n",
    "#cap.set(4,720) #for height"
   ]
  },
  {
   "cell_type": "code",
   "execution_count": 107,
   "metadata": {},
   "outputs": [],
   "source": [
    "model = YOLO('./Yolo-Weights/yolov8l.pt')"
   ]
  },
  {
   "cell_type": "code",
   "execution_count": 108,
   "metadata": {},
   "outputs": [],
   "source": [
    "# classes that will be detected and displayed\n",
    "classNames = [\"person\", \"bicycle\", \"car\", \"motorbike\", \"aeroplane\", \"bus\", \"train\", \"truck\", \"boat\",\n",
    "              \"traffic light\", \"fire hydrant\", \"stop sign\", \"parking meter\", \"bench\", \"bird\", \"cat\",\n",
    "              \"dog\", \"horse\", \"sheep\", \"cow\", \"elephant\", \"bear\", \"zebra\", \"giraffe\", \"backpack\", \"umbrella\",\n",
    "              \"handbag\", \"tie\", \"suitcase\", \"frisbee\", \"skis\", \"snowboard\", \"sports ball\", \"kite\", \"baseball bat\",\n",
    "              \"baseball glove\", \"skateboard\", \"surfboard\", \"tennis racket\", \"bottle\", \"wine glass\", \"cup\",\n",
    "              \"fork\", \"knife\", \"spoon\", \"bowl\", \"banana\", \"apple\", \"sandwich\", \"orange\", \"broccoli\",\n",
    "              \"carrot\", \"hot dog\", \"pizza\", \"donut\", \"cake\", \"chair\", \"sofa\", \"pottedplant\", \"bed\",\n",
    "              \"diningtable\", \"toilet\", \"tvmonitor\", \"laptop\", \"mouse\", \"remote\", \"keyboard\", \"cell phone\",\n",
    "              \"microwave\", \"oven\", \"toaster\", \"sink\", \"refrigerator\", \"book\", \"clock\", \"vase\", \"scissors\",\n",
    "              \"teddy bear\", \"hair drier\", \"toothbrush\" , \"pen\"\n",
    "              ]"
   ]
  },
  {
   "cell_type": "code",
   "execution_count": 109,
   "metadata": {},
   "outputs": [],
   "source": [
    "mask = cv2.imread('./mask.png')"
   ]
  },
  {
   "cell_type": "code",
   "execution_count": 110,
   "metadata": {},
   "outputs": [],
   "source": [
    "# creating a instance for tracking\n",
    "tracker = Sort(max_age=20,min_hits=3,iou_threshold=0.3)"
   ]
  },
  {
   "cell_type": "code",
   "execution_count": 111,
   "metadata": {},
   "outputs": [
    {
     "name": "stderr",
     "output_type": "stream",
     "text": [
      "\n",
      "0: 384x640 3 cars, 881.9ms\n",
      "Speed: 31.3ms preprocess, 881.9ms inference, 22.2ms postprocess per image at shape (1, 3, 384, 640)\n",
      "\n"
     ]
    },
    {
     "name": "stdout",
     "output_type": "stream",
     "text": [
      "0.81\n",
      "0.8\n",
      "0.67\n",
      "[        571         316         651         429           3]\n",
      "[        378         348         495         457           2]\n",
      "[        458         226         509         270           1]\n"
     ]
    },
    {
     "name": "stderr",
     "output_type": "stream",
     "text": [
      "0: 384x640 3 cars, 846.6ms\n",
      "Speed: 7.0ms preprocess, 846.6ms inference, 1.4ms postprocess per image at shape (1, 3, 384, 640)\n",
      "\n"
     ]
    },
    {
     "name": "stdout",
     "output_type": "stream",
     "text": [
      "0.88\n",
      "0.83\n",
      "0.82\n",
      "[     568.92      322.12      649.08      435.88           3]\n",
      "[     373.98      352.02      493.02      462.98           2]\n",
      "[     456.14      227.88      506.86      271.12           1]\n"
     ]
    },
    {
     "name": "stderr",
     "output_type": "stream",
     "text": [
      "0: 384x640 4 cars, 703.3ms\n",
      "Speed: 2.7ms preprocess, 703.3ms inference, 1.0ms postprocess per image at shape (1, 3, 384, 640)\n",
      "\n"
     ]
    },
    {
     "name": "stdout",
     "output_type": "stream",
     "text": [
      "0.89\n",
      "0.84\n",
      "0.78\n",
      "0.4\n",
      "[        624         198         653         214           4]\n",
      "[     559.26      345.51      647.22      465.01           3]\n",
      "[     355.99      366.25      476.77      470.04           2]\n",
      "[     449.35         234      502.12      279.29           1]\n"
     ]
    },
    {
     "name": "stderr",
     "output_type": "stream",
     "text": [
      "0: 384x640 5 cars, 705.1ms\n",
      "Speed: 2.0ms preprocess, 705.1ms inference, 3.0ms postprocess per image at shape (1, 3, 384, 640)\n",
      "\n"
     ]
    },
    {
     "name": "stdout",
     "output_type": "stream",
     "text": [
      "0.84\n",
      "0.82\n",
      "0.75\n",
      "0.74\n",
      "0.56\n",
      "[     548.26      386.26      630.01      477.31           3]\n",
      "[     331.78       390.1      452.71      473.44           2]\n",
      "[     438.11      241.99      494.47      290.71           1]\n"
     ]
    },
    {
     "name": "stderr",
     "output_type": "stream",
     "text": [
      "0: 384x640 5 cars, 713.8ms\n",
      "Speed: 2.0ms preprocess, 713.8ms inference, 1.0ms postprocess per image at shape (1, 3, 384, 640)\n"
     ]
    },
    {
     "name": "stdout",
     "output_type": "stream",
     "text": [
      "0.86\n",
      "0.82\n",
      "0.68\n",
      "0.54\n",
      "0.41\n",
      "[     323.07      414.46         433      474.06           2]\n",
      "[     427.65      251.39      486.44       302.2           1]\n"
     ]
    },
    {
     "name": "stderr",
     "output_type": "stream",
     "text": [
      "\n",
      "0: 384x640 4 cars, 789.8ms\n",
      "Speed: 2.3ms preprocess, 789.8ms inference, 1.0ms postprocess per image at shape (1, 3, 384, 640)\n",
      "\n"
     ]
    },
    {
     "name": "stdout",
     "output_type": "stream",
     "text": [
      "0.76\n",
      "0.74\n",
      "0.69\n",
      "0.35\n",
      "[     612.44      200.77      660.84      240.05           4]\n",
      "[     416.82      259.33      478.98      313.22           1]\n"
     ]
    },
    {
     "name": "stderr",
     "output_type": "stream",
     "text": [
      "0: 384x640 3 cars, 701.0ms\n",
      "Speed: 3.5ms preprocess, 701.0ms inference, 1.0ms postprocess per image at shape (1, 3, 384, 640)\n",
      "\n"
     ]
    },
    {
     "name": "stdout",
     "output_type": "stream",
     "text": [
      "0.87\n",
      "0.85\n",
      "0.76\n",
      "[     508.66      198.23      548.12      213.81           5]\n",
      "[     610.06      205.82      662.84      251.21           4]\n",
      "[     404.34      268.07      469.71      324.95           1]\n"
     ]
    },
    {
     "name": "stderr",
     "output_type": "stream",
     "text": [
      "0: 384x640 4 cars, 715.8ms\n",
      "Speed: 2.4ms preprocess, 715.8ms inference, 2.0ms postprocess per image at shape (1, 3, 384, 640)\n"
     ]
    },
    {
     "name": "stdout",
     "output_type": "stream",
     "text": [
      "0.85\n",
      "0.82\n",
      "0.76\n",
      "0.5\n",
      "[     503.99      198.79      547.62       217.8           5]\n",
      "[     606.76      212.94      663.09       263.4           4]\n",
      "[     391.16      276.93      460.74      337.04           1]\n"
     ]
    },
    {
     "name": "stderr",
     "output_type": "stream",
     "text": [
      "\n",
      "0: 384x640 4 cars, 1 motorcycle, 847.3ms\n",
      "Speed: 3.1ms preprocess, 847.3ms inference, 1.0ms postprocess per image at shape (1, 3, 384, 640)\n",
      "\n"
     ]
    },
    {
     "name": "stdout",
     "output_type": "stream",
     "text": [
      "0.85\n",
      "0.8\n",
      "0.76\n",
      "0.3\n",
      "0.29\n",
      "[     499.42      199.23      545.73      221.57           5]\n",
      "[        602      221.48      662.59      277.13           4]\n",
      "[     376.62      287.98      450.31      351.19           1]\n"
     ]
    },
    {
     "name": "stderr",
     "output_type": "stream",
     "text": [
      "0: 384x640 4 cars, 724.7ms\n",
      "Speed: 3.0ms preprocess, 724.7ms inference, 0.9ms postprocess per image at shape (1, 3, 384, 640)\n",
      "\n"
     ]
    },
    {
     "name": "stdout",
     "output_type": "stream",
     "text": [
      "0.88\n",
      "0.79\n",
      "0.76\n",
      "0.41\n",
      "[     495.08      199.74      543.92      225.85           5]\n",
      "[     598.94      231.02       662.5      290.74           4]\n",
      "[     360.39      299.94      438.56      366.59           1]\n"
     ]
    },
    {
     "name": "stderr",
     "output_type": "stream",
     "text": [
      "0: 384x640 4 cars, 756.9ms\n",
      "Speed: 3.0ms preprocess, 756.9ms inference, 2.0ms postprocess per image at shape (1, 3, 384, 640)\n",
      "\n"
     ]
    },
    {
     "name": "stdout",
     "output_type": "stream",
     "text": [
      "0.89\n",
      "0.8\n",
      "0.72\n",
      "0.66\n",
      "[     491.09      201.02      541.16      230.26           5]\n",
      "[     592.07      242.59      657.35      305.97           4]\n",
      "[      341.7      312.76      425.58      384.53           1]\n"
     ]
    },
    {
     "name": "stderr",
     "output_type": "stream",
     "text": [
      "0: 384x640 4 cars, 746.1ms\n",
      "Speed: 3.2ms preprocess, 746.1ms inference, 2.5ms postprocess per image at shape (1, 3, 384, 640)\n",
      "\n"
     ]
    },
    {
     "name": "stdout",
     "output_type": "stream",
     "text": [
      "0.89\n",
      "0.84\n",
      "0.81\n",
      "0.62\n",
      "[     486.58      203.99      537.36         236           5]\n",
      "[      584.9      255.12      653.48      323.48           4]\n",
      "[     321.03       326.3      411.27      402.96           1]\n"
     ]
    },
    {
     "name": "stderr",
     "output_type": "stream",
     "text": [
      "0: 384x640 5 cars, 795.3ms\n",
      "Speed: 3.5ms preprocess, 795.3ms inference, 2.0ms postprocess per image at shape (1, 3, 384, 640)\n",
      "\n"
     ]
    },
    {
     "name": "stdout",
     "output_type": "stream",
     "text": [
      "0.88\n",
      "0.85\n",
      "0.77\n",
      "0.69\n",
      "0.52\n",
      "[     572.43      200.38      617.21      224.49           9]\n",
      "[     481.31      207.08      533.09         242           5]\n",
      "[     577.31      269.18      649.77      343.25           4]\n",
      "[     297.61      342.61      395.23      424.97           1]\n"
     ]
    },
    {
     "name": "stderr",
     "output_type": "stream",
     "text": [
      "0: 384x640 5 cars, 714.0ms\n",
      "Speed: 2.0ms preprocess, 714.0ms inference, 1.0ms postprocess per image at shape (1, 3, 384, 640)\n"
     ]
    },
    {
     "name": "stdout",
     "output_type": "stream",
     "text": [
      "0.86\n",
      "0.83\n",
      "0.78\n",
      "0.74\n",
      "0.5\n",
      "[     568.93       202.2      614.68      230.48           9]\n",
      "[     476.39      211.65      528.71      248.63           5]\n",
      "[     567.95      285.23      645.78      366.34           4]\n",
      "[     271.03      360.17       376.8      449.36           1]\n"
     ]
    },
    {
     "name": "stderr",
     "output_type": "stream",
     "text": [
      "\n",
      "0: 384x640 5 cars, 1 motorcycle, 703.5ms\n",
      "Speed: 2.1ms preprocess, 703.5ms inference, 1.5ms postprocess per image at shape (1, 3, 384, 640)\n",
      "\n"
     ]
    },
    {
     "name": "stdout",
     "output_type": "stream",
     "text": [
      "0.89\n",
      "0.84\n",
      "0.81\n",
      "0.77\n",
      "0.56\n",
      "0.45\n",
      "[     565.71      207.21       611.8      238.65           9]\n",
      "[     470.31      216.77      523.61      256.13           5]\n",
      "[     557.39      302.92      640.96      392.31           4]\n",
      "[     241.31      376.35      354.89      467.17           1]\n"
     ]
    },
    {
     "name": "stderr",
     "output_type": "stream",
     "text": [
      "0: 384x640 1 person, 5 cars, 1 motorcycle, 723.7ms\n",
      "Speed: 3.5ms preprocess, 723.7ms inference, 0.5ms postprocess per image at shape (1, 3, 384, 640)\n",
      "\n"
     ]
    },
    {
     "name": "stdout",
     "output_type": "stream",
     "text": [
      "0.88\n",
      "0.86\n",
      "0.83\n",
      "0.78\n",
      "0.61\n",
      "0.51\n",
      "0.27\n",
      "[     629.52      199.82      658.42       243.5          10]\n",
      "[     561.59      212.26       608.4      246.92           9]\n",
      "[     462.69      222.11      517.35      263.23           5]\n",
      "[     543.12       324.1      631.18      421.67           4]\n",
      "[     209.38      393.24      330.83      476.59           1]\n"
     ]
    },
    {
     "name": "stderr",
     "output_type": "stream",
     "text": [
      "0: 384x640 5 cars, 1 motorcycle, 687.5ms\n",
      "Speed: 5.1ms preprocess, 687.5ms inference, 1.0ms postprocess per image at shape (1, 3, 384, 640)\n",
      "\n"
     ]
    },
    {
     "name": "stdout",
     "output_type": "stream",
     "text": [
      "0.84\n",
      "0.84\n",
      "0.81\n",
      "0.75\n",
      "0.7\n",
      "0.42\n",
      "[     626.13      200.12      660.78      254.16          10]\n",
      "[     556.88      219.29      603.75      256.66           9]\n",
      "[     454.88      227.85      510.99      270.49           5]\n",
      "[     527.12      347.34      622.58      454.09           4]\n",
      "[     179.67      414.72      308.29      481.82           1]\n"
     ]
    },
    {
     "name": "stderr",
     "output_type": "stream",
     "text": [
      "0: 384x640 5 cars, 1 motorcycle, 696.5ms\n",
      "Speed: 5.2ms preprocess, 696.5ms inference, 8.0ms postprocess per image at shape (1, 3, 384, 640)\n",
      "\n"
     ]
    },
    {
     "name": "stdout",
     "output_type": "stream",
     "text": [
      "0.89\n",
      "0.82\n",
      "0.77\n",
      "0.74\n",
      "0.62\n",
      "0.52\n",
      "[     528.07      266.61      552.32      320.38          11]\n",
      "[     622.41      201.54      662.03      264.57          10]\n",
      "[     551.28      226.16       599.4      266.34           9]\n",
      "[     446.41      234.28      504.55      279.23           5]\n",
      "[     510.64       370.1      615.66      472.96           4]\n"
     ]
    },
    {
     "name": "stderr",
     "output_type": "stream",
     "text": [
      "0: 384x640 5 cars, 1 motorcycle, 706.7ms\n",
      "Speed: 4.2ms preprocess, 706.7ms inference, 1.5ms postprocess per image at shape (1, 3, 384, 640)\n",
      "\n"
     ]
    },
    {
     "name": "stdout",
     "output_type": "stream",
     "text": [
      "0.79\n",
      "0.79\n",
      "0.78\n",
      "0.68\n",
      "0.64\n",
      "0.55\n",
      "[     518.32      278.72       543.5       334.7          11]\n",
      "[     617.41      207.95      661.98       278.8          10]\n",
      "[     545.71      233.71       595.5      276.55           9]\n",
      "[     436.37       241.8      496.78      288.98           5]\n",
      "[     496.84      396.73      608.54       482.6           4]\n"
     ]
    },
    {
     "name": "stderr",
     "output_type": "stream",
     "text": [
      "0: 384x640 1 person, 4 cars, 1 motorcycle, 1 truck, 758.3ms\n",
      "Speed: 2.0ms preprocess, 758.3ms inference, 2.3ms postprocess per image at shape (1, 3, 384, 640)\n",
      "\n"
     ]
    },
    {
     "name": "stdout",
     "output_type": "stream",
     "text": [
      "0.86\n",
      "0.83\n",
      "0.72\n",
      "0.67\n",
      "0.59\n",
      "0.55\n",
      "0.35\n",
      "[     508.83      305.02       532.5      355.31          11]\n",
      "[      611.6      216.52      661.92      294.37          10]\n",
      "[     538.83      242.51      591.11      288.58           9]\n",
      "[      425.1      250.68      487.87      299.44           5]\n"
     ]
    },
    {
     "name": "stderr",
     "output_type": "stream",
     "text": [
      "0: 384x640 1 person, 4 cars, 1 motorcycle, 718.1ms\n",
      "Speed: 2.7ms preprocess, 718.1ms inference, 8.1ms postprocess per image at shape (1, 3, 384, 640)\n",
      "\n"
     ]
    },
    {
     "name": "stdout",
     "output_type": "stream",
     "text": [
      "0.87\n",
      "0.85\n",
      "0.74\n",
      "0.66\n",
      "0.61\n",
      "0.53\n",
      "[     549.59      199.08      594.15       227.2          12]\n",
      "[      496.9      323.89      521.99      375.09          11]\n",
      "[     605.95      227.53      660.78      310.65          10]\n",
      "[     531.66      251.93      585.71      300.42           9]\n",
      "[      412.1      259.74      477.86      311.12           5]\n"
     ]
    },
    {
     "name": "stderr",
     "output_type": "stream",
     "text": [
      "0: 384x640 1 person, 3 cars, 1 motorcycle, 1 truck, 691.2ms\n",
      "Speed: 3.0ms preprocess, 691.2ms inference, 2.0ms postprocess per image at shape (1, 3, 384, 640)\n",
      "\n"
     ]
    },
    {
     "name": "stdout",
     "output_type": "stream",
     "text": [
      "0.83\n",
      "0.82\n",
      "0.8\n",
      "0.56\n",
      "0.53\n",
      "0.52\n",
      "[     545.51      200.27      593.21      233.19          12]\n",
      "[     482.33      344.05      510.03      398.34          11]\n",
      "[      600.7      240.16       660.3      329.71          10]\n",
      "[     523.39      262.01      580.94      313.69           9]\n",
      "[      397.3      270.27      466.66      324.46           5]\n"
     ]
    },
    {
     "name": "stderr",
     "output_type": "stream",
     "text": [
      "0: 384x640 1 person, 3 cars, 1 motorcycle, 1 truck, 700.8ms\n",
      "Speed: 2.5ms preprocess, 700.8ms inference, 1.0ms postprocess per image at shape (1, 3, 384, 640)\n",
      "\n"
     ]
    },
    {
     "name": "stdout",
     "output_type": "stream",
     "text": [
      "0.86\n",
      "0.83\n",
      "0.8\n",
      "0.68\n",
      "0.66\n",
      "0.53\n",
      "[     541.42      202.85       591.6      239.22          12]\n",
      "[     465.19      370.08      495.19      426.18          11]\n",
      "[     593.39      253.61      660.27      351.44          10]\n",
      "[     513.79      274.35      574.71      329.42           9]\n",
      "[     380.58      282.13      454.32      339.56           5]\n"
     ]
    },
    {
     "name": "stderr",
     "output_type": "stream",
     "text": [
      "0: 384x640 1 person, 3 cars, 2 motorcycles, 1 truck, 710.1ms\n",
      "Speed: 3.0ms preprocess, 710.1ms inference, 1.1ms postprocess per image at shape (1, 3, 384, 640)\n"
     ]
    },
    {
     "name": "stdout",
     "output_type": "stream",
     "text": [
      "0.86\n",
      "0.83\n",
      "0.81\n",
      "0.67\n",
      "0.45\n",
      "0.35\n",
      "0.29\n",
      "[     536.56      207.55      589.11       247.8          12]\n",
      "[      445.4      398.89      478.43      458.21          11]\n",
      "[     583.63      269.37      659.45       376.7          10]\n",
      "[     502.21      287.07      567.46      346.47           9]\n",
      "[     360.93       295.2      440.53      356.55           5]\n"
     ]
    }
   ],
   "source": [
    "while True:\n",
    "    success, img = cap.read()\n",
    "    #overlay mask on the image/webcam feed\n",
    "    imageRegion = cv2.bitwise_and(img,mask)\n",
    "    # results = model(img,stream=True)\n",
    "    results = model(imageRegion,stream=True)\n",
    "    \n",
    "    detections = np.empty((0,5))\n",
    "    \n",
    "    for r in results:\n",
    "        boxes = r.boxes\n",
    "        for box in boxes:\n",
    "            # xy1 are points and xy2 are height and width\n",
    "            x1,y1,x2,y2 = box.xyxy[0]\n",
    "            # converting them into integers instead for tensor \n",
    "            x1,y1,x2,y2 = int(x1),int(y1),int(x2),int(y2)\n",
    "            # cv2.rectangle(img,(x1,y1),(x2,y2),(255,0,255),3) #using cv2 reactangle\n",
    "            w,h = x2-x1 , y2-y1\n",
    "            bbox = int(x1),int(y1),int(w),int(h)\n",
    "            \n",
    "            # print(x1,y1,x2,y2)\n",
    "            \n",
    "            # cvzone.cornerRect(img,(x1,y1,w,h),l=9) #using cvzone rectange\n",
    "            \n",
    "            #confidence\n",
    "            conf = math.ceil((box.conf[0]*100))/100 #for confidence values\n",
    "            print(conf)\n",
    "            #classnames\n",
    "            cls = int(box.cls[0])\n",
    "            #to display conf and object class on webcam\n",
    "            currentclass = classNames[cls]\n",
    "            \n",
    "            if currentclass == \"car\" or currentclass == \"truck\" or currentclass == \"bus\" or currentclass == \"motorbike\" and conf>0.3 :\n",
    "                cvzone.putTextRect(img,f'{currentclass} {conf}',(max(0,x1),max(35,y1)) , scale=0.6,thickness=1,offset=3)\n",
    "                cvzone.cornerRect(img,(x1,y1,w,h),l=9) #using cvzone rectange\n",
    "                currentArrays = np.array([x1,y1,x2,y2,conf])\n",
    "                detections = np.vstack((detections,currentArrays))\n",
    "            \n",
    "    resultsTracker = tracker.update(detections)\n",
    "    \n",
    "    for result in resultsTracker:\n",
    "        x1,y1,x2,y2,id = result\n",
    "        print(result)\n",
    "    \n",
    "    cv2.imshow(\"Image\",img)\n",
    "    # cv2.imshow(\"ImageRegion\",imageRegion)\n",
    "    # cv2.waitKey(1)\n",
    "    # Wait for a key event, but only for a short duration (10 milliseconds)\n",
    "    # If the key is Esc (27), then break out of the loop and close the webcam\n",
    "    if cv2.waitKey(1) == 27:\n",
    "        break\n",
    "\n",
    "# Release the webcam and close all OpenCV windows\n",
    "cap.release()\n",
    "cv2.destroyAllWindows()"
   ]
  }
 ],
 "metadata": {
  "kernelspec": {
   "display_name": "Python 3",
   "language": "python",
   "name": "python3"
  },
  "language_info": {
   "codemirror_mode": {
    "name": "ipython",
    "version": 3
   },
   "file_extension": ".py",
   "mimetype": "text/x-python",
   "name": "python",
   "nbconvert_exporter": "python",
   "pygments_lexer": "ipython3",
   "version": "3.10.4"
  },
  "orig_nbformat": 4
 },
 "nbformat": 4,
 "nbformat_minor": 2
}
