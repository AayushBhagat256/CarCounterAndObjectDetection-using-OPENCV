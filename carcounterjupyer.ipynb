{
 "cells": [
  {
   "cell_type": "code",
   "execution_count": 57,
   "metadata": {},
   "outputs": [],
   "source": [
    "import cv2\n",
    "from ultralytics import YOLO\n",
    "import cvzone\n",
    "import math\n",
    "\n",
    "from sort import *"
   ]
  },
  {
   "cell_type": "code",
   "execution_count": 58,
   "metadata": {},
   "outputs": [],
   "source": [
    "# creating web cam object\n",
    "# cap = cv2.VideoCapture(0)\n",
    "cap = cv2.VideoCapture('./Videos/cars.mp4')\n",
    "#cap.set(3,1280) # for width\n",
    "#cap.set(4,720) #for height"
   ]
  },
  {
   "cell_type": "code",
   "execution_count": 59,
   "metadata": {},
   "outputs": [],
   "source": [
    "model = YOLO('./Yolo-Weights/yolov8n.pt')"
   ]
  },
  {
   "cell_type": "code",
   "execution_count": 60,
   "metadata": {},
   "outputs": [],
   "source": [
    "# classes that will be detected and displayed\n",
    "classNames = [\"person\", \"bicycle\", \"car\", \"motorbike\", \"aeroplane\", \"bus\", \"train\", \"truck\", \"boat\",\n",
    "              \"traffic light\", \"fire hydrant\", \"stop sign\", \"parking meter\", \"bench\", \"bird\", \"cat\",\n",
    "              \"dog\", \"horse\", \"sheep\", \"cow\", \"elephant\", \"bear\", \"zebra\", \"giraffe\", \"backpack\", \"umbrella\",\n",
    "              \"handbag\", \"tie\", \"suitcase\", \"frisbee\", \"skis\", \"snowboard\", \"sports ball\", \"kite\", \"baseball bat\",\n",
    "              \"baseball glove\", \"skateboard\", \"surfboard\", \"tennis racket\", \"bottle\", \"wine glass\", \"cup\",\n",
    "              \"fork\", \"knife\", \"spoon\", \"bowl\", \"banana\", \"apple\", \"sandwich\", \"orange\", \"broccoli\",\n",
    "              \"carrot\", \"hot dog\", \"pizza\", \"donut\", \"cake\", \"chair\", \"sofa\", \"pottedplant\", \"bed\",\n",
    "              \"diningtable\", \"toilet\", \"tvmonitor\", \"laptop\", \"mouse\", \"remote\", \"keyboard\", \"cell phone\",\n",
    "              \"microwave\", \"oven\", \"toaster\", \"sink\", \"refrigerator\", \"book\", \"clock\", \"vase\", \"scissors\",\n",
    "              \"teddy bear\", \"hair drier\", \"toothbrush\" , \"pen\"\n",
    "              ]"
   ]
  },
  {
   "cell_type": "code",
   "execution_count": 61,
   "metadata": {},
   "outputs": [],
   "source": [
    "mask = cv2.imread('./mask.png')"
   ]
  },
  {
   "cell_type": "code",
   "execution_count": 62,
   "metadata": {},
   "outputs": [],
   "source": [
    "# creating a instance for tracking\n",
    "tracker = Sort(max_age=20,min_hits=3,iou_threshold=0.3)\n",
    "\n",
    "# we will make a line and count after that \n",
    "limits = [423,297,673,297]"
   ]
  },
  {
   "cell_type": "code",
   "execution_count": 63,
   "metadata": {},
   "outputs": [
    {
     "name": "stderr",
     "output_type": "stream",
     "text": [
      "\n"
     ]
    },
    {
     "name": "stdout",
     "output_type": "stream",
     "text": [
      "0.82\n",
      "0.79\n",
      "0.49\n",
      "0.39\n"
     ]
    },
    {
     "name": "stderr",
     "output_type": "stream",
     "text": [
      "0: 384x640 4 cars, 146.2ms\n",
      "Speed: 17.8ms preprocess, 146.2ms inference, 16.3ms postprocess per image at shape (1, 3, 384, 640)\n"
     ]
    },
    {
     "name": "stdout",
     "output_type": "stream",
     "text": [
      "[        572         322         651         429         245]\n",
      "[        573         364         626         429         244]\n",
      "[        378         348         497         457         243]\n",
      "[        456         225         510         270         242]\n"
     ]
    },
    {
     "name": "stderr",
     "output_type": "stream",
     "text": [
      "\n",
      "0: 384x640 4 cars, 85.1ms\n",
      "Speed: 3.3ms preprocess, 85.1ms inference, 1.0ms postprocess per image at shape (1, 3, 384, 640)\n"
     ]
    },
    {
     "name": "stdout",
     "output_type": "stream",
     "text": [
      "0.8\n",
      "0.77\n",
      "0.53\n",
      "0.52\n",
      "[     568.48      320.73      651.52      436.27         245]\n",
      "[     572.26      371.69      627.74      438.31         244]\n",
      "[     373.12      349.89      492.88      459.11         243]\n",
      "[     454.74      228.22      508.26      273.78         242]\n"
     ]
    },
    {
     "name": "stderr",
     "output_type": "stream",
     "text": [
      "\n",
      "0: 384x640 2 cars, 77.4ms\n",
      "Speed: 2.0ms preprocess, 77.4ms inference, 1.0ms postprocess per image at shape (1, 3, 384, 640)\n"
     ]
    },
    {
     "name": "stdout",
     "output_type": "stream",
     "text": [
      "0.84\n",
      "0.8\n",
      "[     355.68      365.44      476.85      468.27         243]\n",
      "[     447.68      233.63      501.97      279.13         242]\n"
     ]
    },
    {
     "name": "stderr",
     "output_type": "stream",
     "text": [
      "\n",
      "0: 384x640 3 cars, 80.7ms\n",
      "Speed: 3.0ms preprocess, 80.7ms inference, 1.0ms postprocess per image at shape (1, 3, 384, 640)\n"
     ]
    },
    {
     "name": "stdout",
     "output_type": "stream",
     "text": [
      "0.53\n",
      "0.53\n",
      "0.38\n",
      "[     340.18      389.65      456.14      471.21         243]\n",
      "[     437.23      243.33      494.88       291.5         242]\n"
     ]
    },
    {
     "name": "stderr",
     "output_type": "stream",
     "text": [
      "\n",
      "0: 384x640 2 cars, 77.8ms\n",
      "Speed: 2.1ms preprocess, 77.8ms inference, 1.0ms postprocess per image at shape (1, 3, 384, 640)\n"
     ]
    },
    {
     "name": "stdout",
     "output_type": "stream",
     "text": [
      "0.62\n",
      "0.33\n",
      "[     329.19      415.66      431.62      473.23         243]\n",
      "[     425.72       251.9      488.28      303.79         242]\n"
     ]
    },
    {
     "name": "stderr",
     "output_type": "stream",
     "text": [
      "\n",
      "0: 384x640 2 cars, 76.8ms\n",
      "Speed: 3.1ms preprocess, 76.8ms inference, 1.0ms postprocess per image at shape (1, 3, 384, 640)\n",
      "\n"
     ]
    },
    {
     "name": "stdout",
     "output_type": "stream",
     "text": [
      "0.81\n",
      "0.64\n",
      "[     414.95      260.16      478.66      313.73         242]\n"
     ]
    },
    {
     "name": "stderr",
     "output_type": "stream",
     "text": [
      "0: 384x640 3 cars, 73.7ms\n",
      "Speed: 2.0ms preprocess, 73.7ms inference, 1.0ms postprocess per image at shape (1, 3, 384, 640)\n"
     ]
    },
    {
     "name": "stdout",
     "output_type": "stream",
     "text": [
      "0.85\n",
      "0.66\n",
      "0.38\n",
      "[     403.36       268.9      470.65       325.2         242]\n"
     ]
    },
    {
     "name": "stderr",
     "output_type": "stream",
     "text": [
      "\n",
      "0: 384x640 3 cars, 78.2ms\n",
      "Speed: 3.1ms preprocess, 78.2ms inference, 1.0ms postprocess per image at shape (1, 3, 384, 640)\n"
     ]
    },
    {
     "name": "stdout",
     "output_type": "stream",
     "text": [
      "0.81\n",
      "0.78\n",
      "0.4\n",
      "[     391.16      277.99      461.47      336.97         242]\n"
     ]
    },
    {
     "name": "stderr",
     "output_type": "stream",
     "text": [
      "\n",
      "0: 384x640 3 cars, 79.8ms\n",
      "Speed: 1.4ms preprocess, 79.8ms inference, 1.0ms postprocess per image at shape (1, 3, 384, 640)\n"
     ]
    },
    {
     "name": "stdout",
     "output_type": "stream",
     "text": [
      "0.87\n",
      "0.83\n",
      "0.65\n",
      "[     604.53      221.37      660.48      279.16         246]\n",
      "[      375.2      287.28      450.66      351.49         242]\n"
     ]
    },
    {
     "name": "stderr",
     "output_type": "stream",
     "text": [
      "\n",
      "0: 384x640 3 cars, 82.9ms\n",
      "Speed: 2.0ms preprocess, 82.9ms inference, 1.0ms postprocess per image at shape (1, 3, 384, 640)\n"
     ]
    },
    {
     "name": "stdout",
     "output_type": "stream",
     "text": [
      "0.9\n",
      "0.82\n",
      "0.68\n",
      "[     494.81      198.91      541.78      227.66         247]\n",
      "[     600.32      231.93      660.04      293.02         246]\n",
      "[     359.19      299.31       439.4      367.66         242]\n"
     ]
    },
    {
     "name": "stderr",
     "output_type": "stream",
     "text": [
      "\n",
      "0: 384x640 4 cars, 101.5ms\n",
      "Speed: 3.0ms preprocess, 101.5ms inference, 2.0ms postprocess per image at shape (1, 3, 384, 640)\n",
      "\n"
     ]
    },
    {
     "name": "stdout",
     "output_type": "stream",
     "text": [
      "0.87\n",
      "0.85\n",
      "0.68\n",
      "0.32\n",
      "[     489.11      199.67      538.32      232.06         247]\n",
      "[     592.72      243.59      655.27      308.58         246]\n",
      "[     340.76      311.86      427.07      385.53         242]\n"
     ]
    },
    {
     "name": "stderr",
     "output_type": "stream",
     "text": [
      "0: 384x640 3 cars, 68.7ms\n",
      "Speed: 2.0ms preprocess, 68.7ms inference, 1.5ms postprocess per image at shape (1, 3, 384, 640)\n",
      "\n"
     ]
    },
    {
     "name": "stdout",
     "output_type": "stream",
     "text": [
      "0.85\n",
      "0.63\n",
      "0.56\n",
      "[     484.86      203.33      535.69      238.66         247]\n",
      "[     585.29      254.56      653.08      325.61         246]\n",
      "[     320.84      325.91      412.35      403.99         242]\n"
     ]
    },
    {
     "name": "stderr",
     "output_type": "stream",
     "text": [
      "0: 384x640 4 cars, 77.1ms\n",
      "Speed: 2.0ms preprocess, 77.1ms inference, 2.0ms postprocess per image at shape (1, 3, 384, 640)\n",
      "\n"
     ]
    },
    {
     "name": "stdout",
     "output_type": "stream",
     "text": [
      "0.87\n",
      "0.82\n",
      "0.71\n",
      "0.45\n",
      "[     480.47      205.39      531.74      243.35         247]\n",
      "[     578.04      268.94      652.39      346.41         246]\n",
      "[     296.59      342.28      394.62      425.48         242]\n",
      "0.86\n",
      "0.77\n",
      "0.75\n",
      "0.6\n"
     ]
    },
    {
     "name": "stderr",
     "output_type": "stream",
     "text": [
      "0: 384x640 4 cars, 73.0ms\n",
      "Speed: 2.5ms preprocess, 73.0ms inference, 2.0ms postprocess per image at shape (1, 3, 384, 640)\n",
      "\n",
      "0: 384x640 4 cars, 74.4ms\n",
      "Speed: 1.1ms preprocess, 74.4ms inference, 1.0ms postprocess per image at shape (1, 3, 384, 640)\n"
     ]
    },
    {
     "name": "stdout",
     "output_type": "stream",
     "text": [
      "[     475.45      209.69      527.24      249.49         247]\n",
      "[     570.86       284.7      654.98      370.28         246]\n",
      "[     270.79      358.68      375.77      448.23         242]\n",
      "0.76\n",
      "0.75\n",
      "0.71\n",
      "0.54\n",
      "[     569.45      205.93      608.21      237.79         248]\n",
      "[     468.96      216.06      521.76      256.86         247]\n",
      "[     556.32      302.74      643.06      394.69         246]\n",
      "[     237.52       376.3      352.94       467.5         242]\n"
     ]
    },
    {
     "name": "stderr",
     "output_type": "stream",
     "text": [
      "\n",
      "0: 384x640 6 cars, 78.7ms\n",
      "Speed: 2.0ms preprocess, 78.7ms inference, 1.0ms postprocess per image at shape (1, 3, 384, 640)\n"
     ]
    },
    {
     "name": "stdout",
     "output_type": "stream",
     "text": [
      "0.81\n",
      "0.77\n",
      "0.57\n",
      "0.48\n",
      "0.33\n",
      "0.27\n",
      "[     566.59      213.18      604.94      245.77         248]\n",
      "[     462.11      222.16      516.46      264.96         247]\n",
      "[     541.03      324.57      632.09      424.97         246]\n",
      "[     199.79       392.6      327.73      477.97         242]\n"
     ]
    },
    {
     "name": "stderr",
     "output_type": "stream",
     "text": [
      "\n",
      "0: 384x640 5 cars, 77.1ms\n",
      "Speed: 3.2ms preprocess, 77.1ms inference, 2.0ms postprocess per image at shape (1, 3, 384, 640)\n",
      "\n"
     ]
    },
    {
     "name": "stdout",
     "output_type": "stream",
     "text": [
      "0.76\n",
      "0.75\n",
      "0.72\n",
      "0.68\n",
      "0.36\n",
      "[     560.37      220.51      600.68       255.4         248]\n",
      "[     453.93      228.74      508.43      272.69         247]\n",
      "[     526.23      347.52       623.5      456.22         246]\n",
      "0.81\n",
      "0.73\n",
      "0.7\n",
      "0.64\n"
     ]
    },
    {
     "name": "stderr",
     "output_type": "stream",
     "text": [
      "0: 384x640 4 cars, 68.5ms\n",
      "Speed: 3.6ms preprocess, 68.5ms inference, 2.0ms postprocess per image at shape (1, 3, 384, 640)\n"
     ]
    },
    {
     "name": "stdout",
     "output_type": "stream",
     "text": [
      "[     554.43      227.52      596.94      265.75         248]\n",
      "[     445.59      234.36      503.11      281.37         247]\n",
      "[     510.66      370.03      612.19      473.24         246]\n"
     ]
    },
    {
     "name": "stderr",
     "output_type": "stream",
     "text": [
      "\n",
      "0: 384x640 5 cars, 1 truck, 74.8ms\n",
      "Speed: 2.0ms preprocess, 74.8ms inference, 1.0ms postprocess per image at shape (1, 3, 384, 640)\n"
     ]
    },
    {
     "name": "stdout",
     "output_type": "stream",
     "text": [
      "0.88\n",
      "0.76\n",
      "0.72\n",
      "0.59\n",
      "0.47\n",
      "0.29\n",
      "[     616.58      206.36      659.81       278.2         250]\n",
      "[     548.11      234.61       593.2      275.37         248]\n",
      "[     435.36      241.14      495.33      290.19         247]\n",
      "[     495.38      396.39      600.68      482.21         246]\n"
     ]
    },
    {
     "name": "stderr",
     "output_type": "stream",
     "text": [
      "\n",
      "0: 384x640 1 person, 5 cars, 92.1ms\n",
      "Speed: 2.0ms preprocess, 92.1ms inference, 0.5ms postprocess per image at shape (1, 3, 384, 640)\n",
      "\n",
      "0: 384x640 4 cars, 70.0ms\n",
      "Speed: 2.5ms preprocess, 70.0ms inference, 1.0ms postprocess per image at shape (1, 3, 384, 640)\n"
     ]
    },
    {
     "name": "stdout",
     "output_type": "stream",
     "text": [
      "0.87\n",
      "0.85\n",
      "0.69\n",
      "0.47\n",
      "0.45\n",
      "0.33\n",
      "[     612.81      221.12      660.92       294.3         250]\n",
      "[     540.47      242.77      588.66      287.05         248]\n",
      "[     424.74      248.97      487.68       300.4         247]\n",
      "0.85\n",
      "0.83\n",
      "0.67\n",
      "0.66\n",
      "[     606.76      230.36       660.4      310.78         250]\n",
      "[     532.97      252.22      583.91      299.85         248]\n",
      "[     411.73      258.64      477.74      312.96         247]\n"
     ]
    },
    {
     "name": "stderr",
     "output_type": "stream",
     "text": [
      "\n",
      "0: 384x640 4 cars, 99.4ms\n",
      "Speed: 3.0ms preprocess, 99.4ms inference, 1.4ms postprocess per image at shape (1, 3, 384, 640)\n",
      "\n",
      "0: 384x640 1 person, 4 cars, 71.8ms\n"
     ]
    },
    {
     "name": "stdout",
     "output_type": "stream",
     "text": [
      "0.86\n",
      "0.86\n",
      "0.73\n",
      "0.73\n",
      "[     545.29      201.49      594.04       233.8         252]\n",
      "[     598.61      241.14      657.95         329         250]\n",
      "[     524.13      262.52       578.5      313.29         248]\n",
      "[     396.97      268.35      466.52      325.03         247]\n",
      "0.8\n",
      "0.74\n",
      "0.65\n",
      "0.52\n",
      "0.29\n"
     ]
    },
    {
     "name": "stderr",
     "output_type": "stream",
     "text": [
      "Speed: 2.2ms preprocess, 71.8ms inference, 1.0ms postprocess per image at shape (1, 3, 384, 640)\n",
      "\n",
      "0: 384x640 1 person, 4 cars, 73.3ms\n"
     ]
    },
    {
     "name": "stdout",
     "output_type": "stream",
     "text": [
      "[     541.45      206.36      590.84      240.14         252]\n",
      "[     591.61      253.86      657.97      350.48         250]\n",
      "[     514.42      273.06      572.59      327.66         248]\n",
      "[     379.68      281.12       454.1      341.72         247]\n",
      "0.88\n",
      "0.84\n",
      "0.83\n",
      "0.61\n",
      "0.34\n"
     ]
    },
    {
     "name": "stderr",
     "output_type": "stream",
     "text": [
      "Speed: 1.4ms preprocess, 73.3ms inference, 1.5ms postprocess per image at shape (1, 3, 384, 640)\n",
      "\n",
      "0: 384x640 5 cars, 69.1ms\n",
      "Speed: 2.1ms preprocess, 69.1ms inference, 1.0ms postprocess per image at shape (1, 3, 384, 640)\n"
     ]
    },
    {
     "name": "stdout",
     "output_type": "stream",
     "text": [
      "[     535.79         209      587.96      248.04         252]\n",
      "[     581.64      270.52       656.1      376.57         250]\n",
      "[     503.23      286.86       565.7      345.78         248]\n",
      "[     360.42      294.23      440.98      358.95         247]\n",
      "0.85\n",
      "0.83\n",
      "0.82\n",
      "0.44\n",
      "0.31\n",
      "[     531.63      213.02      584.59         255         252]\n",
      "[     571.06      289.41      653.13      406.06         250]\n",
      "[     490.71      302.15      557.93       366.3         248]\n",
      "[     338.28      308.86      425.22      378.87         247]\n"
     ]
    },
    {
     "name": "stderr",
     "output_type": "stream",
     "text": [
      "\n",
      "0: 384x640 5 cars, 74.4ms\n",
      "Speed: 2.3ms preprocess, 74.4ms inference, 1.0ms postprocess per image at shape (1, 3, 384, 640)\n",
      "\n"
     ]
    },
    {
     "name": "stdout",
     "output_type": "stream",
     "text": [
      "0.86\n",
      "0.82\n",
      "0.75\n",
      "0.47\n",
      "0.27\n",
      "[     526.61      219.11      581.04      264.21         252]\n",
      "[     555.27      313.97      642.69      442.52         250]\n",
      "[     476.89      318.34      548.69      387.95         248]\n",
      "[     311.87      326.94       407.1      402.12         247]\n",
      "0.83\n",
      "0.82\n",
      "0.72\n",
      "0.58\n"
     ]
    },
    {
     "name": "stderr",
     "output_type": "stream",
     "text": [
      "0: 384x640 4 cars, 83.6ms\n",
      "Speed: 3.0ms preprocess, 83.6ms inference, 1.0ms postprocess per image at shape (1, 3, 384, 640)\n",
      "\n",
      "0: 384x640 4 cars, 73.8ms\n",
      "Speed: 2.0ms preprocess, 73.8ms inference, 1.0ms postprocess per image at shape (1, 3, 384, 640)\n"
     ]
    },
    {
     "name": "stdout",
     "output_type": "stream",
     "text": [
      "[     520.08      227.07      575.89      273.66         252]\n",
      "[      538.8      334.25      632.38      465.67         250]\n",
      "[     458.92      337.32         538      413.42         248]\n",
      "[     281.08      347.26       385.7      428.89         247]\n",
      "0.8\n",
      "0.73\n",
      "0.5\n",
      "0.46\n",
      "[     513.82      234.47      571.44      283.68         252]\n",
      "[     439.82      359.87      525.06      442.99         248]\n",
      "[     247.07      368.52      360.79      455.52         247]\n"
     ]
    },
    {
     "name": "stderr",
     "output_type": "stream",
     "text": [
      "\n",
      "0: 384x640 4 cars, 67.1ms\n",
      "Speed: 2.4ms preprocess, 67.1ms inference, 2.3ms postprocess per image at shape (1, 3, 384, 640)\n",
      "\n"
     ]
    },
    {
     "name": "stdout",
     "output_type": "stream",
     "text": [
      "0.88\n",
      "0.77\n",
      "0.48\n",
      "0.38\n",
      "[      506.7      243.09      566.19      293.79         252]\n",
      "[     418.06      381.22      510.31      464.08         248]\n",
      "[      203.6      391.22      329.81      472.39         247]\n",
      "0.84\n",
      "0.52\n"
     ]
    },
    {
     "name": "stderr",
     "output_type": "stream",
     "text": [
      "0: 384x640 3 cars, 74.4ms\n",
      "Speed: 2.4ms preprocess, 74.4ms inference, 0.5ms postprocess per image at shape (1, 3, 384, 640)\n",
      "\n"
     ]
    },
    {
     "name": "stdout",
     "output_type": "stream",
     "text": [
      "0.5\n",
      "[     493.27      205.24      535.09      237.64         254]\n",
      "[     497.78      252.34      560.17      306.36         252]\n",
      "[     396.41      404.98      495.78      476.39         248]\n"
     ]
    },
    {
     "name": "stderr",
     "output_type": "stream",
     "text": [
      "0: 384x640 2 cars, 83.3ms\n",
      "Speed: 2.0ms preprocess, 83.3ms inference, 1.0ms postprocess per image at shape (1, 3, 384, 640)\n"
     ]
    },
    {
     "name": "stdout",
     "output_type": "stream",
     "text": [
      "0.86\n",
      "0.75\n",
      "[     487.24      210.07      530.31      244.65         254]\n",
      "[     488.99      261.15      554.43      317.82         252]\n"
     ]
    },
    {
     "name": "stderr",
     "output_type": "stream",
     "text": [
      "\n",
      "0: 384x640 2 cars, 87.9ms\n",
      "Speed: 2.0ms preprocess, 87.9ms inference, 1.0ms postprocess per image at shape (1, 3, 384, 640)\n",
      "\n"
     ]
    },
    {
     "name": "stdout",
     "output_type": "stream",
     "text": [
      "0.9\n",
      "0.8\n",
      "[      479.5      214.97      524.83      251.89         254]\n",
      "[     478.81       271.1      548.27      332.15         252]\n"
     ]
    },
    {
     "name": "stderr",
     "output_type": "stream",
     "text": [
      "0: 384x640 2 cars, 74.9ms\n",
      "Speed: 2.2ms preprocess, 74.9ms inference, 1.0ms postprocess per image at shape (1, 3, 384, 640)\n",
      "\n"
     ]
    },
    {
     "name": "stdout",
     "output_type": "stream",
     "text": [
      "0.87\n",
      "0.8\n",
      "[     471.22      222.01      517.76      260.56         254]\n",
      "[     466.73      283.64      540.06      348.66         252]\n",
      "0.9\n",
      "0.78\n"
     ]
    },
    {
     "name": "stderr",
     "output_type": "stream",
     "text": [
      "0: 384x640 2 cars, 70.4ms\n",
      "Speed: 2.0ms preprocess, 70.4ms inference, 1.6ms postprocess per image at shape (1, 3, 384, 640)\n"
     ]
    },
    {
     "name": "stdout",
     "output_type": "stream",
     "text": [
      "[     462.39      230.16      511.27      269.97         254]\n",
      "[      451.9      297.82      531.17      369.22         252]\n"
     ]
    },
    {
     "name": "stderr",
     "output_type": "stream",
     "text": [
      "\n",
      "0: 384x640 2 cars, 111.2ms\n",
      "Speed: 4.6ms preprocess, 111.2ms inference, 1.1ms postprocess per image at shape (1, 3, 384, 640)\n"
     ]
    },
    {
     "name": "stdout",
     "output_type": "stream",
     "text": [
      "0.9\n",
      "0.86\n",
      "[     452.11      237.56      504.24      280.02         254]\n",
      "[     436.87      311.74       521.9      388.83         252]\n"
     ]
    },
    {
     "name": "stderr",
     "output_type": "stream",
     "text": [
      "\n",
      "0: 384x640 2 cars, 83.4ms\n",
      "Speed: 1.0ms preprocess, 83.4ms inference, 0.5ms postprocess per image at shape (1, 3, 384, 640)\n",
      "\n",
      "0: 384x640 2 cars, 76.4ms\n",
      "Speed: 3.1ms preprocess, 76.4ms inference, 1.0ms postprocess per image at shape (1, 3, 384, 640)\n"
     ]
    },
    {
     "name": "stdout",
     "output_type": "stream",
     "text": [
      "0.9\n",
      "0.84\n",
      "[      440.9      245.43      495.44      290.18         254]\n",
      "[     419.02      329.63      510.02      413.13         252]\n",
      "0.88\n",
      "0.83\n"
     ]
    },
    {
     "name": "stderr",
     "output_type": "stream",
     "text": [
      "\n",
      "0: 384x640 3 cars, 74.8ms\n",
      "Speed: 2.0ms preprocess, 74.8ms inference, 1.0ms postprocess per image at shape (1, 3, 384, 640)\n"
     ]
    },
    {
     "name": "stdout",
     "output_type": "stream",
     "text": [
      "[     430.16      254.05      487.92      301.11         254]\n",
      "[      398.3       350.6      497.05      442.15         252]\n",
      "0.84\n",
      "0.83\n",
      "0.41\n",
      "[     415.99      264.31      477.17      313.59         254]\n",
      "[     375.16      368.57      481.12      461.96         252]\n"
     ]
    },
    {
     "name": "stderr",
     "output_type": "stream",
     "text": [
      "\n",
      "0: 384x640 3 cars, 79.5ms\n",
      "Speed: 3.3ms preprocess, 79.5ms inference, 1.5ms postprocess per image at shape (1, 3, 384, 640)\n"
     ]
    },
    {
     "name": "stdout",
     "output_type": "stream",
     "text": [
      "0.85\n",
      "0.79\n",
      "0.56\n",
      "[     399.67      275.37      464.82       328.4         254]\n",
      "[     352.74      388.74      464.47      474.22         252]\n"
     ]
    },
    {
     "name": "stderr",
     "output_type": "stream",
     "text": [
      "\n",
      "0: 384x640 3 cars, 97.4ms\n",
      "Speed: 2.4ms preprocess, 97.4ms inference, 1.6ms postprocess per image at shape (1, 3, 384, 640)\n",
      "\n",
      "0: 384x640 2 cars, 71.8ms\n",
      "Speed: 2.1ms preprocess, 71.8ms inference, 1.0ms postprocess per image at shape (1, 3, 384, 640)\n"
     ]
    },
    {
     "name": "stdout",
     "output_type": "stream",
     "text": [
      "0.83\n",
      "0.73\n",
      "0.35\n",
      "[     382.19       286.5      452.29      342.27         254]\n",
      "[      330.7      406.11      444.89      480.02         252]\n",
      "0.82\n",
      "0.69\n",
      "[     614.63      213.65      655.24      258.92         255]\n",
      "[     361.79      301.34      437.62      360.64         254]\n"
     ]
    },
    {
     "name": "stderr",
     "output_type": "stream",
     "text": [
      "\n",
      "0: 384x640 3 cars, 78.9ms\n",
      "Speed: 2.9ms preprocess, 78.9ms inference, 1.0ms postprocess per image at shape (1, 3, 384, 640)\n"
     ]
    },
    {
     "name": "stdout",
     "output_type": "stream",
     "text": [
      "0.8\n",
      "0.78\n",
      "0.33\n",
      "[     611.21      223.17      656.82      273.28         255]\n",
      "[     339.65      316.37      420.88      379.88         254]\n"
     ]
    },
    {
     "name": "stderr",
     "output_type": "stream",
     "text": [
      "\n",
      "0: 384x640 2 cars, 80.9ms\n",
      "Speed: 2.1ms preprocess, 80.9ms inference, 1.0ms postprocess per image at shape (1, 3, 384, 640)\n",
      "\n"
     ]
    },
    {
     "name": "stdout",
     "output_type": "stream",
     "text": [
      "0.77\n",
      "0.77\n",
      "[     606.18      232.37      654.72      285.46         255]\n",
      "[     313.72      333.46      402.64      402.64         254]\n"
     ]
    },
    {
     "name": "stderr",
     "output_type": "stream",
     "text": [
      "0: 384x640 3 cars, 77.9ms\n",
      "Speed: 3.0ms preprocess, 77.9ms inference, 1.0ms postprocess per image at shape (1, 3, 384, 640)\n"
     ]
    },
    {
     "name": "stdout",
     "output_type": "stream",
     "text": [
      "0.87\n",
      "0.85\n",
      "0.28\n",
      "[     601.67      241.12      655.52      299.39         255]\n",
      "[     283.29      354.83      379.73      429.74         254]\n"
     ]
    },
    {
     "name": "stderr",
     "output_type": "stream",
     "text": [
      "\n",
      "0: 384x640 3 cars, 77.7ms\n",
      "Speed: 2.0ms preprocess, 77.7ms inference, 1.1ms postprocess per image at shape (1, 3, 384, 640)\n"
     ]
    },
    {
     "name": "stdout",
     "output_type": "stream",
     "text": [
      "0.82\n",
      "0.64\n",
      "0.27\n",
      "[      594.2      253.53      650.69      316.33         255]\n",
      "[     249.65      376.96      354.72      456.61         254]\n"
     ]
    },
    {
     "name": "stderr",
     "output_type": "stream",
     "text": [
      "\n",
      "0: 384x640 3 cars, 79.4ms\n",
      "Speed: 3.0ms preprocess, 79.4ms inference, 2.3ms postprocess per image at shape (1, 3, 384, 640)\n"
     ]
    },
    {
     "name": "stdout",
     "output_type": "stream",
     "text": [
      "0.79\n",
      "0.62\n",
      "0.26\n",
      "[     504.86      199.96      541.54      225.99         256]\n",
      "[     588.86      266.29      649.04      333.77         255]\n",
      "[     203.45      399.86      321.36      473.66         254]\n"
     ]
    },
    {
     "name": "stderr",
     "output_type": "stream",
     "text": [
      "\n",
      "0: 384x640 2 cars, 89.8ms\n",
      "Speed: 2.0ms preprocess, 89.8ms inference, 3.0ms postprocess per image at shape (1, 3, 384, 640)\n"
     ]
    },
    {
     "name": "stdout",
     "output_type": "stream",
     "text": [
      "0.72\n",
      "0.65\n",
      "[      502.1      200.12      540.13      228.37         256]\n",
      "[     580.02      282.18      645.38      356.43         255]\n"
     ]
    },
    {
     "name": "stderr",
     "output_type": "stream",
     "text": [
      "\n",
      "0: 384x640 3 cars, 75.9ms\n",
      "Speed: 2.5ms preprocess, 75.9ms inference, 1.0ms postprocess per image at shape (1, 3, 384, 640)\n"
     ]
    },
    {
     "name": "stdout",
     "output_type": "stream",
     "text": [
      "0.68\n",
      "0.66\n",
      "0.3\n",
      "[     499.94      200.68      538.94      230.62         256]\n",
      "[     570.05      300.97      638.87      381.82         255]\n"
     ]
    },
    {
     "name": "stderr",
     "output_type": "stream",
     "text": [
      "\n",
      "0: 384x640 3 cars, 73.2ms\n",
      "Speed: 3.0ms preprocess, 73.2ms inference, 1.0ms postprocess per image at shape (1, 3, 384, 640)\n"
     ]
    },
    {
     "name": "stdout",
     "output_type": "stream",
     "text": [
      "0.77\n",
      "0.56\n",
      "0.55\n",
      "[     497.62      202.03      537.46       234.3         256]\n",
      "[     559.57      322.97      631.47      411.28         255]\n"
     ]
    },
    {
     "name": "stderr",
     "output_type": "stream",
     "text": [
      "\n",
      "0: 384x640 3 cars, 70.5ms\n",
      "Speed: 3.3ms preprocess, 70.5ms inference, 0.0ms postprocess per image at shape (1, 3, 384, 640)\n",
      "\n"
     ]
    },
    {
     "name": "stdout",
     "output_type": "stream",
     "text": [
      "0.7\n",
      "0.6\n",
      "0.58\n",
      "[     496.08      202.65      536.44      237.37         256]\n",
      "[     546.04      347.37      625.33      445.57         255]\n"
     ]
    },
    {
     "name": "stderr",
     "output_type": "stream",
     "text": [
      "0: 384x640 3 cars, 70.2ms\n",
      "Speed: 2.4ms preprocess, 70.2ms inference, 1.0ms postprocess per image at shape (1, 3, 384, 640)\n",
      "\n"
     ]
    },
    {
     "name": "stdout",
     "output_type": "stream",
     "text": [
      "0.42\n",
      "0.4\n",
      "0.35\n",
      "[     617.17      215.28      657.72      263.98         257]\n",
      "[     494.32      205.15      534.71       241.5         256]\n",
      "[     534.14      371.47      616.29      468.11         255]\n",
      "0.72\n",
      "0.7\n"
     ]
    },
    {
     "name": "stderr",
     "output_type": "stream",
     "text": [
      "0: 384x640 2 cars, 73.7ms\n",
      "Speed: 2.2ms preprocess, 73.7ms inference, 6.3ms postprocess per image at shape (1, 3, 384, 640)\n",
      "\n",
      "0: 384x640 2 cars, 75.1ms\n",
      "Speed: 1.4ms preprocess, 75.1ms inference, 1.0ms postprocess per image at shape (1, 3, 384, 640)\n"
     ]
    },
    {
     "name": "stdout",
     "output_type": "stream",
     "text": [
      "[     615.48      225.38      659.18      274.16         257]\n",
      "[      491.4      209.23      531.76      245.78         256]\n",
      "0.77\n",
      "0.7\n",
      "[     611.06      232.89      659.15      285.45         257]\n",
      "[     488.36      211.66      528.74      248.94         256]\n"
     ]
    },
    {
     "name": "stderr",
     "output_type": "stream",
     "text": [
      "\n",
      "0: 384x640 2 cars, 75.3ms\n",
      "Speed: 3.3ms preprocess, 75.3ms inference, 2.0ms postprocess per image at shape (1, 3, 384, 640)\n",
      "\n",
      "0: 384x640 4 cars, 75.9ms\n",
      "Speed: 2.0ms preprocess, 75.9ms inference, 2.0ms postprocess per image at shape (1, 3, 384, 640)\n"
     ]
    },
    {
     "name": "stdout",
     "output_type": "stream",
     "text": [
      "0.84\n",
      "0.59\n",
      "[     606.84      240.38      659.81      297.69         257]\n",
      "[     485.52      215.69      526.15      253.47         256]\n",
      "0.73\n",
      "0.72\n",
      "0.38\n",
      "0.34\n",
      "[     601.38      249.53      657.14      309.97         257]\n",
      "[     481.88       219.8      523.93      258.36         256]\n"
     ]
    },
    {
     "name": "stderr",
     "output_type": "stream",
     "text": [
      "\n",
      "0: 384x640 5 cars, 123.4ms\n",
      "Speed: 2.5ms preprocess, 123.4ms inference, 1.0ms postprocess per image at shape (1, 3, 384, 640)\n",
      "\n",
      "0: 384x640 5 cars, 68.0ms\n",
      "Speed: 2.6ms preprocess, 68.0ms inference, 1.0ms postprocess per image at shape (1, 3, 384, 640)\n"
     ]
    },
    {
     "name": "stdout",
     "output_type": "stream",
     "text": [
      "0.82\n",
      "0.77\n",
      "0.57\n",
      "0.55\n",
      "0.47\n",
      "[     593.56      261.51      652.55      325.44         257]\n",
      "[     478.21      223.33      520.93      262.63         256]\n",
      "0.83\n",
      "0.79\n",
      "0.74\n",
      "0.5\n",
      "0.33\n",
      "[     587.31      274.12      651.06      343.05         257]\n",
      "[     473.71      228.02      518.46      268.59         256]\n"
     ]
    },
    {
     "name": "stderr",
     "output_type": "stream",
     "text": [
      "\n",
      "0: 384x640 5 cars, 79.7ms\n",
      "Speed: 2.6ms preprocess, 79.7ms inference, 1.0ms postprocess per image at shape (1, 3, 384, 640)\n",
      "\n"
     ]
    },
    {
     "name": "stdout",
     "output_type": "stream",
     "text": [
      "0.84\n",
      "0.82\n",
      "0.77\n",
      "0.74\n",
      "0.41\n",
      "[     562.87      202.38      609.62      239.81         259]\n",
      "[     620.22      225.22      661.41      273.62         258]\n",
      "[     579.05      287.69      649.27      363.32         257]\n",
      "[     469.01      232.65      514.78      273.68         256]\n",
      "0.85\n",
      "0.77\n",
      "0.75\n",
      "0.73\n",
      "0.45\n"
     ]
    },
    {
     "name": "stderr",
     "output_type": "stream",
     "text": [
      "0: 384x640 5 cars, 84.2ms\n",
      "Speed: 3.7ms preprocess, 84.2ms inference, 2.0ms postprocess per image at shape (1, 3, 384, 640)\n",
      "\n",
      "0: 384x640 5 cars, 72.0ms\n",
      "Speed: 2.0ms preprocess, 72.0ms inference, 1.0ms postprocess per image at shape (1, 3, 384, 640)\n"
     ]
    },
    {
     "name": "stdout",
     "output_type": "stream",
     "text": [
      "[     557.65      206.61      606.72      247.91         259]\n",
      "[     615.98      234.08      662.27      287.78         258]\n",
      "[     569.63      304.16      642.47      385.27         257]\n",
      "[     463.55       238.5      510.68      280.47         256]\n",
      "0.85\n",
      "0.75\n",
      "0.74\n",
      "0.63\n",
      "0.61\n",
      "[      502.9      200.29       542.9      223.14         261]\n",
      "[     551.91      212.92      602.89      257.61         259]\n",
      "[     610.97      238.17       663.4      299.62         258]\n",
      "[     558.73      322.33      635.59      411.13         257]\n",
      "[     457.03       243.3      505.89      287.43         256]\n"
     ]
    },
    {
     "name": "stderr",
     "output_type": "stream",
     "text": [
      "\n",
      "0: 384x640 6 cars, 77.8ms\n",
      "Speed: 3.3ms preprocess, 77.8ms inference, 2.1ms postprocess per image at shape (1, 3, 384, 640)\n",
      "\n",
      "0: 384x640 5 cars, 70.4ms\n",
      "Speed: 2.2ms preprocess, 70.4ms inference, 2.0ms postprocess per image at shape (1, 3, 384, 640)\n"
     ]
    },
    {
     "name": "stdout",
     "output_type": "stream",
     "text": [
      "0.88\n",
      "0.76\n",
      "0.7\n",
      "0.65\n",
      "0.63\n",
      "0.42\n",
      "[     501.94      200.74      543.87      226.32         261]\n",
      "[     545.62      220.86      598.49      268.11         259]\n",
      "[      607.9      244.82      663.89      310.27         258]\n",
      "[        545      344.38      628.36      441.72         257]\n",
      "[     451.24      247.69      502.36      293.13         256]\n",
      "0.88\n",
      "0.76\n",
      "0.72\n",
      "0.68\n",
      "0.61\n",
      "[      500.6      201.62      543.02      229.33         261]\n",
      "[     539.89      228.51       593.9      278.23         259]\n",
      "[     601.77      254.06      662.29      324.39         258]\n",
      "[     529.41      365.03      618.56      464.93         257]\n",
      "[     443.01      253.02      496.14      300.52         256]\n"
     ]
    },
    {
     "name": "stderr",
     "output_type": "stream",
     "text": [
      "\n",
      "0: 384x640 5 cars, 81.7ms\n",
      "Speed: 1.4ms preprocess, 81.7ms inference, 1.0ms postprocess per image at shape (1, 3, 384, 640)\n",
      "\n",
      "0: 384x640 6 cars, 72.3ms\n",
      "Speed: 2.9ms preprocess, 72.3ms inference, 1.3ms postprocess per image at shape (1, 3, 384, 640)\n"
     ]
    },
    {
     "name": "stdout",
     "output_type": "stream",
     "text": [
      "0.84\n",
      "0.81\n",
      "0.78\n",
      "0.72\n",
      "0.54\n",
      "[     499.31      205.22      541.46      233.28         261]\n",
      "[     532.94      236.38       588.6      288.51         259]\n",
      "[     595.64      263.54      661.68      338.27         258]\n",
      "[     517.09      388.88      608.51      478.26         257]\n",
      "[     434.37      259.13      489.71      308.13         256]\n",
      "0.85\n",
      "0.82\n",
      "0.64\n",
      "0.59\n",
      "0.5\n",
      "0.48\n",
      "[     497.12      207.09      539.22      236.64         261]\n",
      "[     523.31      245.38      582.62      301.14         259]\n",
      "[     589.33      276.53      659.59      356.74         258]\n",
      "[     425.16      265.66      483.65      316.98         256]\n"
     ]
    },
    {
     "name": "stderr",
     "output_type": "stream",
     "text": [
      "\n",
      "0: 384x640 5 cars, 75.9ms\n",
      "Speed: 2.1ms preprocess, 75.9ms inference, 1.0ms postprocess per image at shape (1, 3, 384, 640)\n",
      "\n"
     ]
    },
    {
     "name": "stdout",
     "output_type": "stream",
     "text": [
      "0.81\n",
      "0.72\n",
      "0.63\n",
      "0.5\n",
      "0.41\n",
      "[     494.49      208.08      537.58      240.07         261]\n",
      "[     512.83      254.87      574.97       314.5         259]\n",
      "[     580.18      291.44      657.09      378.83         258]\n",
      "[     414.93      273.22      475.93      326.71         256]\n",
      "0.88\n",
      "0.74\n",
      "0.66\n",
      "0.52\n",
      "0.38\n",
      "0.26\n"
     ]
    },
    {
     "name": "stderr",
     "output_type": "stream",
     "text": [
      "0: 384x640 6 cars, 73.6ms\n",
      "Speed: 4.1ms preprocess, 73.6ms inference, 1.2ms postprocess per image at shape (1, 3, 384, 640)\n",
      "\n"
     ]
    },
    {
     "name": "stdout",
     "output_type": "stream",
     "text": [
      "[     490.94      211.17      534.24       244.5         261]\n",
      "[     501.25      266.73      567.54      330.54         259]\n",
      "[      572.3      307.21      657.51      403.34         258]\n",
      "[     401.92      280.78      466.09      335.85         256]\n",
      "0.81\n",
      "0.77\n"
     ]
    },
    {
     "name": "stderr",
     "output_type": "stream",
     "text": [
      "0: 384x640 6 cars, 77.6ms\n",
      "Speed: 1.4ms preprocess, 77.6ms inference, 1.5ms postprocess per image at shape (1, 3, 384, 640)\n",
      "\n"
     ]
    },
    {
     "name": "stdout",
     "output_type": "stream",
     "text": [
      "0.73\n",
      "0.63\n",
      "0.5\n",
      "0.5\n",
      "[     568.68      212.03      612.65      246.96         263]\n",
      "[     487.33      214.81      531.38      249.47         261]\n",
      "[     488.48       279.4      559.03      348.26         259]\n",
      "[     557.45      329.17      643.86      431.42         258]\n",
      "[      389.5       290.1      457.11      346.89         256]\n",
      "0.75\n",
      "0.72\n",
      "0.65\n",
      "0.56\n",
      "0.54\n",
      "0.44\n"
     ]
    },
    {
     "name": "stderr",
     "output_type": "stream",
     "text": [
      "0: 384x640 6 cars, 67.0ms\n",
      "Speed: 2.0ms preprocess, 67.0ms inference, 1.0ms postprocess per image at shape (1, 3, 384, 640)\n",
      "\n",
      "0: 384x640 7 cars, 1 truck, 73.5ms\n",
      "Speed: 3.1ms preprocess, 73.5ms inference, 1.1ms postprocess per image at shape (1, 3, 384, 640)\n"
     ]
    },
    {
     "name": "stdout",
     "output_type": "stream",
     "text": [
      "[     565.03       217.6      610.46      255.81         263]\n",
      "[     484.45      218.08      528.63      253.88         261]\n",
      "[     473.02      294.66      549.76      369.55         259]\n",
      "[      541.8       363.5      631.86      462.56         258]\n",
      "[     374.74      300.28      446.47      360.41         256]\n",
      "0.84\n",
      "0.84\n",
      "0.79\n",
      "0.55\n",
      "0.45\n",
      "0.43\n",
      "0.28\n",
      "0.26\n",
      "[      619.8      207.96      661.58      256.37         265]\n",
      "[     560.01      224.68      606.65      265.29         263]\n",
      "[     479.82      221.72      525.97      258.88         261]\n",
      "[     453.75       311.2      537.12      393.11         259]\n",
      "[     530.65      374.64      625.03      470.32         258]\n",
      "[     358.23      310.84      434.14      374.78         256]\n"
     ]
    },
    {
     "name": "stderr",
     "output_type": "stream",
     "text": [
      "\n",
      "0: 384x640 6 cars, 1 truck, 74.2ms\n",
      "Speed: 2.1ms preprocess, 74.2ms inference, 0.0ms postprocess per image at shape (1, 3, 384, 640)\n",
      "\n"
     ]
    },
    {
     "name": "stdout",
     "output_type": "stream",
     "text": [
      "0.83\n",
      "0.78\n",
      "0.77\n",
      "0.65\n",
      "0.59\n",
      "0.51\n",
      "0.27\n",
      "[     617.92       214.8      660.53      264.61         265]\n",
      "[      553.4      232.91      602.08      275.62         263]\n",
      "[     474.16      225.26      522.42      264.31         261]\n",
      "[     432.53      331.49      523.14      421.41         259]\n",
      "[     520.88      397.31       619.2      478.68         258]\n",
      "[     340.66       321.7      420.96      389.27         256]\n",
      "0.83\n",
      "0.82\n",
      "0.69\n",
      "0.67\n",
      "0.54\n"
     ]
    },
    {
     "name": "stderr",
     "output_type": "stream",
     "text": [
      "0: 384x640 5 cars, 72.3ms\n",
      "Speed: 2.8ms preprocess, 72.3ms inference, 1.0ms postprocess per image at shape (1, 3, 384, 640)\n",
      "\n",
      "0: 384x640 5 cars, 70.3ms\n",
      "Speed: 1.0ms preprocess, 70.3ms inference, 1.0ms postprocess per image at shape (1, 3, 384, 640)\n"
     ]
    },
    {
     "name": "stdout",
     "output_type": "stream",
     "text": [
      "[     615.83       224.2      659.71      274.16         265]\n",
      "[     547.59      240.81      598.07      286.16         263]\n",
      "[     469.86      229.52      519.46       269.8         261]\n",
      "[     402.63      355.62      503.51      452.92         259]\n",
      "[     321.18      335.16      407.05      407.17         256]\n",
      "0.9\n",
      "0.83\n",
      "0.82\n",
      "0.73\n",
      "0.67\n",
      "[     611.66      232.65      659.54      285.74         265]\n",
      "[     539.58      250.15      593.32      298.59         263]\n",
      "[     464.37      234.78      515.13      275.89         261]\n",
      "[      374.8      378.49      483.76      471.15         259]\n",
      "[     298.35       349.8      390.98      427.44         256]\n"
     ]
    },
    {
     "name": "stderr",
     "output_type": "stream",
     "text": [
      "\n",
      "0: 384x640 5 cars, 76.9ms\n",
      "Speed: 2.6ms preprocess, 76.9ms inference, 0.5ms postprocess per image at shape (1, 3, 384, 640)\n",
      "\n"
     ]
    },
    {
     "name": "stdout",
     "output_type": "stream",
     "text": [
      "0.85\n",
      "0.83\n",
      "0.77\n",
      "0.74\n",
      "0.58\n",
      "[     606.82      239.14      658.87      296.06         265]\n",
      "[     530.53      261.15      587.25       313.2         263]\n",
      "[     457.45      239.47      509.98      281.81         261]\n",
      "[     342.97      404.17      460.31      481.66         259]\n",
      "[     273.89      365.74      372.53      449.01         256]\n",
      "0.89\n",
      "0.78\n",
      "0.75\n",
      "0.66\n",
      "0.29\n"
     ]
    },
    {
     "name": "stderr",
     "output_type": "stream",
     "text": [
      "0: 384x640 5 cars, 71.9ms\n",
      "Speed: 2.0ms preprocess, 71.9ms inference, 1.0ms postprocess per image at shape (1, 3, 384, 640)\n",
      "\n",
      "0: 384x640 4 cars, 70.4ms\n",
      "Speed: 2.5ms preprocess, 70.4ms inference, 1.0ms postprocess per image at shape (1, 3, 384, 640)\n"
     ]
    },
    {
     "name": "stdout",
     "output_type": "stream",
     "text": [
      "[     601.96      248.19      657.81      307.45         265]\n",
      "[     521.03      273.88       580.8      328.74         263]\n",
      "[     450.09      245.18      505.09      289.05         261]\n",
      "[     246.28      381.18      351.22      464.16         256]\n",
      "0.85\n",
      "0.76\n",
      "0.76\n",
      "0.55\n",
      "[     594.15      257.55      653.47      321.84         265]\n",
      "[      509.4      287.15      573.55      346.66         263]\n",
      "[     442.28      251.89      499.95      297.46         261]\n"
     ]
    },
    {
     "name": "stderr",
     "output_type": "stream",
     "text": [
      "\n",
      "0: 384x640 4 cars, 101.4ms\n",
      "Speed: 2.0ms preprocess, 101.4ms inference, 7.9ms postprocess per image at shape (1, 3, 384, 640)\n",
      "\n",
      "0: 384x640 4 cars, 73.6ms\n",
      "Speed: 2.2ms preprocess, 73.6ms inference, 1.1ms postprocess per image at shape (1, 3, 384, 640)\n"
     ]
    },
    {
     "name": "stdout",
     "output_type": "stream",
     "text": [
      "0.84\n",
      "0.83\n",
      "0.77\n",
      "0.6\n",
      "[     587.19      269.25       650.1      337.04         265]\n",
      "[     495.58      302.04      565.46      365.95         263]\n",
      "[     433.52      259.11      493.57      305.52         261]\n",
      "0.86\n",
      "0.81\n",
      "0.81\n",
      "0.66\n",
      "[     564.19      208.33      605.33      235.75         267]\n",
      "[     578.12       282.6      645.54      356.39         265]\n",
      "[     479.43      320.35       555.3      389.49         263]\n",
      "[     424.95      266.55      487.49      315.34         261]\n"
     ]
    },
    {
     "name": "stderr",
     "output_type": "stream",
     "text": [
      "\n",
      "0: 384x640 4 cars, 78.1ms\n",
      "Speed: 2.7ms preprocess, 78.1ms inference, 1.0ms postprocess per image at shape (1, 3, 384, 640)\n",
      "\n"
     ]
    },
    {
     "name": "stdout",
     "output_type": "stream",
     "text": [
      "0.86\n",
      "0.74\n",
      "0.72\n",
      "0.52\n",
      "[     560.42      209.69      604.05      240.34         267]\n",
      "[     568.69       298.4      640.82      379.98         265]\n",
      "[     413.99      275.19      480.09      326.66         261]\n",
      "0.84\n",
      "0.81\n",
      "0.72\n",
      "0.46\n",
      "0.27\n"
     ]
    },
    {
     "name": "stderr",
     "output_type": "stream",
     "text": [
      "0: 384x640 5 cars, 72.8ms\n",
      "Speed: 2.6ms preprocess, 72.8ms inference, 1.8ms postprocess per image at shape (1, 3, 384, 640)\n",
      "\n"
     ]
    },
    {
     "name": "stdout",
     "output_type": "stream",
     "text": [
      "[     556.38      213.75      601.67      247.29         267]\n",
      "[     558.15      316.19      635.07      405.99         265]\n",
      "[     400.97      283.44      470.75      337.41         261]\n"
     ]
    },
    {
     "name": "stderr",
     "output_type": "stream",
     "text": [
      "0: 384x640 4 cars, 1 truck, 74.1ms\n",
      "Speed: 1.1ms preprocess, 74.1ms inference, 2.1ms postprocess per image at shape (1, 3, 384, 640)\n",
      "\n"
     ]
    },
    {
     "name": "stdout",
     "output_type": "stream",
     "text": [
      "0.8\n",
      "0.78\n",
      "0.75\n",
      "0.42\n",
      "0.28\n",
      "[     413.22      390.19      518.18       466.7         266]\n",
      "[     545.88      336.99      628.31      437.14         265]\n",
      "[     387.21      293.82      460.67      349.55         261]\n",
      "0.77\n",
      "0.77\n",
      "0.67\n",
      "0.37\n",
      "0.36\n",
      "0.35\n"
     ]
    },
    {
     "name": "stderr",
     "output_type": "stream",
     "text": [
      "0: 384x640 6 cars, 77.9ms\n",
      "Speed: 2.0ms preprocess, 77.9ms inference, 1.0ms postprocess per image at shape (1, 3, 384, 640)\n",
      "\n",
      "0: 384x640 5 cars, 1 truck, 73.4ms\n"
     ]
    },
    {
     "name": "stdout",
     "output_type": "stream",
     "text": [
      "[     533.03      357.45      622.46      461.68         265]\n",
      "[     370.67      304.91      448.93       364.9         261]\n",
      "0.86\n",
      "0.78\n",
      "0.75\n",
      "0.52\n",
      "0.48\n",
      "0.33\n"
     ]
    },
    {
     "name": "stderr",
     "output_type": "stream",
     "text": [
      "Speed: 3.6ms preprocess, 73.4ms inference, 2.0ms postprocess per image at shape (1, 3, 384, 640)\n",
      "\n",
      "0: 384x640 5 cars, 70.7ms\n",
      "Speed: 2.0ms preprocess, 70.7ms inference, 1.0ms postprocess per image at shape (1, 3, 384, 640)\n"
     ]
    },
    {
     "name": "stdout",
     "output_type": "stream",
     "text": [
      "[     518.02      200.34      560.22      231.16         268]\n",
      "[     519.96      378.63      612.39      474.24         265]\n",
      "[     353.16       317.2      436.51      381.15         261]\n",
      "0.85\n",
      "0.81\n",
      "0.73\n",
      "0.67\n",
      "0.5\n",
      "[     516.97      200.15       559.6      233.13         268]\n",
      "[     534.31      241.16      584.57      280.62         267]\n",
      "[     334.57      330.97      422.66      399.96         261]\n",
      "[     630.27      246.93      665.55      291.68         260]\n"
     ]
    },
    {
     "name": "stderr",
     "output_type": "stream",
     "text": [
      "\n",
      "0: 384x640 4 cars, 74.5ms\n",
      "Speed: 1.7ms preprocess, 74.5ms inference, 1.6ms postprocess per image at shape (1, 3, 384, 640)\n",
      "\n"
     ]
    },
    {
     "name": "stdout",
     "output_type": "stream",
     "text": [
      "0.9\n",
      "0.89\n",
      "0.81\n",
      "0.56\n",
      "[     514.89      200.57      558.34      235.36         268]\n",
      "[     526.46       249.7      579.71      292.44         267]\n",
      "[      313.6      346.35      407.65      420.58         261]\n",
      "[     625.86      256.87      664.47       302.5         260]\n",
      "0.88\n",
      "0.84\n",
      "0.8\n",
      "0.55\n",
      "0.31\n"
     ]
    },
    {
     "name": "stderr",
     "output_type": "stream",
     "text": [
      "0: 384x640 5 cars, 70.5ms\n",
      "Speed: 3.9ms preprocess, 70.5ms inference, 1.5ms postprocess per image at shape (1, 3, 384, 640)\n",
      "\n"
     ]
    },
    {
     "name": "stdout",
     "output_type": "stream",
     "text": [
      "[     511.06      201.77      555.48      237.77         268]\n",
      "[     517.72      258.33      573.38      303.55         267]\n",
      "[      286.4      364.22      388.45      443.89         261]\n",
      "[      620.9      268.43      662.74      316.31         260]\n"
     ]
    },
    {
     "name": "stderr",
     "output_type": "stream",
     "text": [
      "0: 384x640 6 cars, 109.9ms\n",
      "Speed: 3.1ms preprocess, 109.9ms inference, 1.0ms postprocess per image at shape (1, 3, 384, 640)\n",
      "\n",
      "0: 384x640 6 cars, 73.6ms\n",
      "Speed: 2.0ms preprocess, 73.6ms inference, 1.1ms postprocess per image at shape (1, 3, 384, 640)\n"
     ]
    },
    {
     "name": "stdout",
     "output_type": "stream",
     "text": [
      "0.76\n",
      "0.74\n",
      "0.62\n",
      "0.52\n",
      "0.34\n",
      "0.27\n",
      "[        508      204.74      553.56      241.54         268]\n",
      "[     507.54      269.06      565.65      316.29         267]\n",
      "[     256.13      380.85      367.12      461.83         261]\n",
      "[      615.3      282.03      660.57       332.4         260]\n",
      "0.84\n",
      "0.8\n",
      "0.78\n",
      "0.52\n",
      "0.44\n",
      "0.33\n",
      "[     505.52      206.83      552.36      245.15         268]\n",
      "[     496.81      280.82       558.1      331.34         267]\n",
      "[     231.04      399.85      346.58      474.85         261]\n",
      "[     607.82       296.7      658.59      350.95         260]\n"
     ]
    },
    {
     "name": "stderr",
     "output_type": "stream",
     "text": [
      "\n",
      "0: 384x640 5 cars, 91.5ms\n",
      "Speed: 2.4ms preprocess, 91.5ms inference, 1.0ms postprocess per image at shape (1, 3, 384, 640)\n",
      "\n"
     ]
    },
    {
     "name": "stdout",
     "output_type": "stream",
     "text": [
      "0.83\n",
      "0.81\n",
      "0.7\n",
      "0.54\n",
      "0.51\n",
      "[     573.57      206.36      613.28      235.59         271]\n",
      "[     503.07      207.37      550.93       247.9         268]\n",
      "[     483.77      294.94      549.47      349.18         267]\n",
      "[     600.38      313.23      657.91      372.82         260]\n",
      "0.81\n",
      "0.73\n",
      "0.7\n",
      "0.68\n",
      "0.55\n"
     ]
    },
    {
     "name": "stderr",
     "output_type": "stream",
     "text": [
      "0: 384x640 5 cars, 75.0ms\n",
      "Speed: 2.0ms preprocess, 75.0ms inference, 0.0ms postprocess per image at shape (1, 3, 384, 640)\n",
      "\n",
      "0: 384x640 6 cars, 67.2ms\n",
      "Speed: 2.7ms preprocess, 67.2ms inference, 1.6ms postprocess per image at shape (1, 3, 384, 640)\n"
     ]
    },
    {
     "name": "stdout",
     "output_type": "stream",
     "text": [
      "[      568.8      209.08       610.4      241.19         271]\n",
      "[     499.51      209.21       548.5      252.49         268]\n",
      "[     468.67      309.47      539.04      367.83         267]\n",
      "[     589.94      333.41      651.61      398.81         260]\n",
      "0.9\n",
      "0.79\n",
      "0.75\n",
      "0.69\n",
      "0.69\n",
      "0.36\n",
      "[     618.09      225.43      659.71      264.22         273]\n",
      "[     565.09      212.61       606.9      246.44         271]\n",
      "[     494.77       211.8      545.17      256.82         268]\n",
      "[     451.92      326.22      526.88      389.24         267]\n",
      "[     576.97      356.44      641.98      428.08         260]\n"
     ]
    },
    {
     "name": "stderr",
     "output_type": "stream",
     "text": [
      "\n",
      "0: 384x640 5 cars, 75.4ms\n",
      "Speed: 2.0ms preprocess, 75.4ms inference, 1.0ms postprocess per image at shape (1, 3, 384, 640)\n",
      "\n"
     ]
    },
    {
     "name": "stdout",
     "output_type": "stream",
     "text": [
      "0.91\n",
      "0.79\n",
      "0.76\n",
      "0.71\n",
      "0.62\n",
      "[      615.3      231.66      660.51      273.55         273]\n",
      "[     559.21      217.85      603.59      254.41         271]\n",
      "[     490.55      214.09      542.55      260.94         268]\n",
      "[     432.34      344.59      514.36       414.8         267]\n",
      "[     562.64      379.73      631.55      454.73         260]\n",
      "0.81\n",
      "0.76\n",
      "0.73\n",
      "0.71\n",
      "0.54\n"
     ]
    },
    {
     "name": "stderr",
     "output_type": "stream",
     "text": [
      "0: 384x640 5 cars, 76.6ms\n",
      "Speed: 2.8ms preprocess, 76.6ms inference, 2.0ms postprocess per image at shape (1, 3, 384, 640)\n",
      "\n",
      "0: 384x640 4 cars, 71.6ms\n",
      "Speed: 2.0ms preprocess, 71.6ms inference, 0.5ms postprocess per image at shape (1, 3, 384, 640)\n"
     ]
    },
    {
     "name": "stdout",
     "output_type": "stream",
     "text": [
      "[     611.22      241.26       660.4      285.87         273]\n",
      "[     553.72      222.99      599.93      261.84         271]\n",
      "[     485.78      217.56      538.97         265         268]\n",
      "[      408.5      366.76      497.75       443.9         267]\n",
      "[     547.56      406.31      623.07      470.56         260]\n",
      "0.84\n",
      "0.81\n",
      "0.75\n",
      "0.75\n",
      "[     606.18      250.34      659.17      298.41         273]\n",
      "[     547.74      230.35      594.74      270.19         271]\n",
      "[     480.11      221.52      534.42      269.64         268]\n",
      "[     381.74      390.08      478.99      465.36         267]\n"
     ]
    },
    {
     "name": "stderr",
     "output_type": "stream",
     "text": [
      "\n",
      "0: 384x640 5 cars, 75.1ms\n",
      "Speed: 3.0ms preprocess, 75.1ms inference, 1.0ms postprocess per image at shape (1, 3, 384, 640)\n",
      "\n"
     ]
    },
    {
     "name": "stdout",
     "output_type": "stream",
     "text": [
      "0.84\n",
      "0.81\n",
      "0.8\n",
      "0.56\n",
      "0.35\n",
      "[      600.1      260.63      655.53      310.95         273]\n",
      "[     540.82      238.53       589.8      280.18         271]\n",
      "[     473.99       225.6      530.29      274.55         268]\n",
      "0.84\n",
      "0.74\n"
     ]
    },
    {
     "name": "stderr",
     "output_type": "stream",
     "text": [
      "0: 384x640 4 cars, 69.1ms\n",
      "Speed: 2.0ms preprocess, 69.1ms inference, 0.5ms postprocess per image at shape (1, 3, 384, 640)\n",
      "\n"
     ]
    },
    {
     "name": "stdout",
     "output_type": "stream",
     "text": [
      "0.69\n",
      "0.47\n",
      "[     593.69      274.34      652.46      327.29         273]\n",
      "[     533.12      246.11      584.06      289.59         271]\n",
      "[     467.64      229.61      525.75      280.31         268]\n",
      "0.87\n",
      "0.71\n",
      "0.7\n",
      "0.46\n"
     ]
    },
    {
     "name": "stderr",
     "output_type": "stream",
     "text": [
      "0: 384x640 4 cars, 73.0ms\n",
      "Speed: 2.0ms preprocess, 73.0ms inference, 1.0ms postprocess per image at shape (1, 3, 384, 640)\n",
      "\n"
     ]
    },
    {
     "name": "stdout",
     "output_type": "stream",
     "text": [
      "[     628.76      256.26       664.8      297.53         274]\n",
      "[     585.97      287.57      648.11      343.88         273]\n",
      "[     524.92      254.36      578.94      300.52         271]\n",
      "[     460.62       234.2      521.65      287.75         268]\n",
      "0.75\n",
      "0.75\n",
      "0.71\n"
     ]
    },
    {
     "name": "stderr",
     "output_type": "stream",
     "text": [
      "0: 384x640 4 cars, 74.0ms\n",
      "Speed: 2.0ms preprocess, 74.0ms inference, 1.0ms postprocess per image at shape (1, 3, 384, 640)\n",
      "\n"
     ]
    },
    {
     "name": "stdout",
     "output_type": "stream",
     "text": [
      "0.65\n",
      "[     625.79      264.16      665.52      308.05         274]\n",
      "[     576.95      304.57      643.51      365.26         273]\n",
      "[     514.67       264.3      571.29      312.53         271]\n",
      "[     453.62      238.17      516.16       292.7         268]\n"
     ]
    },
    {
     "name": "stderr",
     "output_type": "stream",
     "text": [
      "0: 384x640 4 cars, 81.1ms\n",
      "Speed: 2.0ms preprocess, 81.1ms inference, 1.0ms postprocess per image at shape (1, 3, 384, 640)\n",
      "\n",
      "0: 384x640 4 cars, 74.8ms\n"
     ]
    },
    {
     "name": "stdout",
     "output_type": "stream",
     "text": [
      "0.84\n",
      "0.68\n",
      "0.66\n",
      "0.63\n",
      "[     621.13      273.43       664.4      319.84         274]\n",
      "[     566.73      324.76      636.92      389.85         273]\n",
      "[     502.04      275.96      563.69      328.45         271]\n",
      "[     445.62      243.37       510.5      299.82         268]\n",
      "0.82\n",
      "0.76\n",
      "0.74\n",
      "0.64\n"
     ]
    },
    {
     "name": "stderr",
     "output_type": "stream",
     "text": [
      "Speed: 2.0ms preprocess, 74.8ms inference, 1.0ms postprocess per image at shape (1, 3, 384, 640)\n"
     ]
    },
    {
     "name": "stdout",
     "output_type": "stream",
     "text": [
      "[     614.17      287.11      662.37      337.77         274]\n",
      "[     554.84      346.95      630.19      418.69         273]\n",
      "[     490.78       287.5      555.86       343.9         271]\n",
      "[     437.33      249.33      505.38      308.11         268]\n"
     ]
    },
    {
     "name": "stderr",
     "output_type": "stream",
     "text": [
      "\n",
      "0: 384x640 6 cars, 91.2ms\n",
      "Speed: 5.0ms preprocess, 91.2ms inference, 1.0ms postprocess per image at shape (1, 3, 384, 640)\n",
      "\n"
     ]
    },
    {
     "name": "stdout",
     "output_type": "stream",
     "text": [
      "0.83\n",
      "0.75\n",
      "0.73\n",
      "0.61\n",
      "0.48\n",
      "0.33\n",
      "[     607.36      302.94      663.95      360.57         274]\n",
      "[     541.02      372.69      625.44      451.46         273]\n",
      "[     475.91      301.55      546.19       362.5         271]\n",
      "[     427.78      255.87      498.34      318.49         268]\n",
      "0.75\n",
      "0.74\n",
      "0.72\n",
      "0.7\n",
      "0.61\n",
      "0.53\n"
     ]
    },
    {
     "name": "stderr",
     "output_type": "stream",
     "text": [
      "0: 384x640 6 cars, 74.1ms\n",
      "Speed: 2.4ms preprocess, 74.1ms inference, 2.3ms postprocess per image at shape (1, 3, 384, 640)\n",
      "\n",
      "0: 384x640 5 cars, 72.0ms\n",
      "Speed: 3.2ms preprocess, 72.0ms inference, 1.5ms postprocess per image at shape (1, 3, 384, 640)\n"
     ]
    },
    {
     "name": "stdout",
     "output_type": "stream",
     "text": [
      "[        598      320.15      661.35      384.35         274]\n",
      "[     524.84      398.02      614.53       470.8         273]\n",
      "[     459.39       317.3      536.14      383.43         271]\n",
      "[     417.66      263.76      491.35      329.83         268]\n",
      "0.79\n",
      "0.75\n",
      "0.69\n",
      "0.65\n",
      "0.58\n",
      "[     585.28      341.98      654.34      412.94         274]\n",
      "[     440.62       335.6      524.36      407.23         271]\n",
      "[     406.46       270.7      483.31      338.36         268]\n"
     ]
    },
    {
     "name": "stderr",
     "output_type": "stream",
     "text": [
      "\n",
      "0: 384x640 5 cars, 1 truck, 81.1ms\n",
      "Speed: 2.1ms preprocess, 81.1ms inference, 1.1ms postprocess per image at shape (1, 3, 384, 640)\n",
      "\n"
     ]
    },
    {
     "name": "stdout",
     "output_type": "stream",
     "text": [
      "0.79\n",
      "0.77\n",
      "0.61\n",
      "0.56\n",
      "0.5\n",
      "0.31\n",
      "[     515.86      203.55       552.1      229.98         276]\n",
      "[     622.33      255.68      666.84      300.88         275]\n",
      "[     572.65      365.78      646.47      444.23         274]\n",
      "[     418.32       357.6      510.06      436.49         271]\n",
      "[        394      276.77      474.44      347.64         268]\n"
     ]
    },
    {
     "name": "stderr",
     "output_type": "stream",
     "text": [
      "0: 384x640 6 cars, 1 truck, 77.1ms\n",
      "Speed: 3.2ms preprocess, 77.1ms inference, 1.0ms postprocess per image at shape (1, 3, 384, 640)\n",
      "\n"
     ]
    },
    {
     "name": "stdout",
     "output_type": "stream",
     "text": [
      "0.79\n",
      "0.75\n",
      "0.68\n",
      "0.55\n",
      "0.52\n",
      "0.43\n",
      "0.37\n",
      "[     514.92      207.01      550.49      232.46         276]\n",
      "[     618.02      266.27      665.72      312.88         275]\n",
      "[     559.67      390.67      636.09      467.34         274]\n",
      "[     391.48      379.36      492.18      460.86         271]\n",
      "[     378.98       285.1      464.09      359.81         268]\n",
      "0.73\n",
      "0.67\n",
      "0.66\n",
      "0.66\n",
      "0.44\n",
      "0.35\n"
     ]
    },
    {
     "name": "stderr",
     "output_type": "stream",
     "text": [
      "0: 384x640 6 cars, 69.8ms\n",
      "Speed: 1.0ms preprocess, 69.8ms inference, 2.0ms postprocess per image at shape (1, 3, 384, 640)\n",
      "\n",
      "0: 384x640 4 cars, 76.3ms\n",
      "Speed: 2.8ms preprocess, 76.3ms inference, 0.0ms postprocess per image at shape (1, 3, 384, 640)\n"
     ]
    },
    {
     "name": "stdout",
     "output_type": "stream",
     "text": [
      "[     512.59      207.84      549.87      234.74         276]\n",
      "[     614.19      278.79      665.07      328.56         275]\n",
      "[     550.83      419.23       631.2      479.41         274]\n",
      "0.77\n",
      "0.69\n",
      "0.66\n",
      "0.47\n",
      "[     339.52      303.52      441.31      392.76         277]\n",
      "[     510.61      208.43      548.81      237.11         276]\n",
      "[     606.64      292.98       661.3      347.03         275]\n"
     ]
    },
    {
     "name": "stderr",
     "output_type": "stream",
     "text": [
      "\n",
      "0: 384x640 5 cars, 82.5ms\n",
      "Speed: 5.1ms preprocess, 82.5ms inference, 2.0ms postprocess per image at shape (1, 3, 384, 640)\n",
      "\n"
     ]
    },
    {
     "name": "stdout",
     "output_type": "stream",
     "text": [
      "0.77\n",
      "0.72\n",
      "0.71\n",
      "0.6\n",
      "0.55\n",
      "[     568.69      198.17      613.06      242.24         278]\n",
      "[     319.86      315.04      428.45      409.25         277]\n",
      "[     506.73      208.98      547.54      240.88         276]\n",
      "[     601.26      307.52      663.63      368.62         275]\n",
      "0.77\n",
      "0.76\n",
      "0.73\n",
      "0.7\n",
      "0.68\n"
     ]
    },
    {
     "name": "stderr",
     "output_type": "stream",
     "text": [
      "0: 384x640 5 cars, 68.4ms\n",
      "Speed: 3.3ms preprocess, 68.4ms inference, 2.2ms postprocess per image at shape (1, 3, 384, 640)\n"
     ]
    },
    {
     "name": "stdout",
     "output_type": "stream",
     "text": [
      "[     563.46      201.09      610.41      249.24         278]\n",
      "[     299.43      326.52      415.83      428.23         277]\n",
      "[     504.22      209.96      546.25       244.7         276]\n",
      "[     593.03      326.21       662.1      393.99         275]\n"
     ]
    },
    {
     "name": "stderr",
     "output_type": "stream",
     "text": [
      "\n",
      "0: 384x640 5 cars, 75.3ms\n",
      "Speed: 2.1ms preprocess, 75.3ms inference, 2.1ms postprocess per image at shape (1, 3, 384, 640)\n",
      "\n"
     ]
    },
    {
     "name": "stdout",
     "output_type": "stream",
     "text": [
      "0.86\n",
      "0.8\n",
      "0.79\n",
      "0.68\n",
      "0.63\n",
      "[     560.08       204.6      609.39      255.96         278]\n",
      "[     276.08       338.6      401.71      448.71         277]\n",
      "[     501.88      213.05      543.93      249.29         276]\n",
      "[     580.74      348.67      653.42      422.36         275]\n"
     ]
    },
    {
     "name": "stderr",
     "output_type": "stream",
     "text": [
      "0: 384x640 5 cars, 87.5ms\n",
      "Speed: 2.5ms preprocess, 87.5ms inference, 1.5ms postprocess per image at shape (1, 3, 384, 640)\n"
     ]
    },
    {
     "name": "stdout",
     "output_type": "stream",
     "text": [
      "0.72\n",
      "0.72\n",
      "0.68\n",
      "0.67\n",
      "0.67\n",
      "[     631.58      250.22      670.47      304.12         279]\n",
      "[     555.89      206.04      608.82      261.91         278]\n",
      "[     249.68      353.25         383      465.83         277]\n",
      "[     499.35      217.02      541.51      254.03         276]\n",
      "[      568.4      375.99      641.49      454.21         275]\n"
     ]
    }
   ],
   "source": [
    "while True:\n",
    "    success, img = cap.read()\n",
    "    #overlay mask on the image/webcam feed\n",
    "    imageRegion = cv2.bitwise_and(img,mask)\n",
    "    # results = model(img,stream=True)\n",
    "    results = model(imageRegion,stream=True)\n",
    "    \n",
    "    detections = np.empty((0,5))\n",
    "    \n",
    "    for r in results:\n",
    "        boxes = r.boxes\n",
    "        for box in boxes:\n",
    "            # xy1 are points and xy2 are height and width\n",
    "            x1,y1,x2,y2 = box.xyxy[0]\n",
    "            # converting them into integers instead for tensor \n",
    "            x1,y1,x2,y2 = int(x1),int(y1),int(x2),int(y2)\n",
    "            # cv2.rectangle(img,(x1,y1),(x2,y2),(255,0,255),3) #using cv2 reactangle\n",
    "            w,h = x2-x1 , y2-y1\n",
    "            bbox = int(x1),int(y1),int(w),int(h)\n",
    "            \n",
    "            # print(x1,y1,x2,y2)\n",
    "            \n",
    "            # cvzone.cornerRect(img,(x1,y1,w,h),l=9) #using cvzone rectange\n",
    "            \n",
    "            #confidence\n",
    "            conf = math.ceil((box.conf[0]*100))/100 #for confidence values\n",
    "            print(conf)\n",
    "            #classnames\n",
    "            cls = int(box.cls[0])\n",
    "            #to display conf and object class on webcam\n",
    "            currentclass = classNames[cls]\n",
    "            \n",
    "            if currentclass == \"car\" or currentclass == \"truck\" or currentclass == \"bus\" or currentclass == \"motorbike\" and conf>0.3 :\n",
    "                # cvzone.putTextRect(img,f'{currentclass} {conf}',(max(0,x1),max(35,y1)) , scale=0.6,thickness=1,offset=3)\n",
    "                cvzone.cornerRect(img,(x1,y1,w,h),l=9 , rt=5) #using cvzone rectange\n",
    "                currentArrays = np.array([x1,y1,x2,y2,conf])\n",
    "                detections = np.vstack((detections,currentArrays))\n",
    "            \n",
    "    resultsTracker = tracker.update(detections)\n",
    "    \n",
    "    cv2.line(img,(limits[0],limits[1]),(limits[2],limits[3]),(0,0,255),5)\n",
    "    \n",
    "    for result in resultsTracker:\n",
    "        x1,y1,x2,y2,id = result\n",
    "        # converting them into integers instead for tensor \n",
    "        x1,y1,x2,y2 = int(x1),int(y1),int(x2),int(y2)\n",
    "        print(result)\n",
    "        w,h = x2-x1 , y2-y1\n",
    "        cvzone.cornerRect(img,(x1,y1,w,h),l=9 , rt=2,colorR=(255,0,0))\n",
    "        cvzone.putTextRect(img,f' {int(id)}',(max(0,x1),max(35,y1)) , scale=2,thickness=3,offset=10)\n",
    "    \n",
    "    cv2.imshow(\"Image\",img)\n",
    "    # cv2.imshow(\"ImageRegion\",imageRegion)\n",
    "    # cv2.waitKey(1)\n",
    "    # Wait for a key event, but only for a short duration (10 milliseconds)\n",
    "    # If the key is Esc (27), then break out of the loop and close the webcam\n",
    "    if cv2.waitKey(0) == 27:\n",
    "        break\n",
    "\n",
    "# Release the webcam and close all OpenCV windows\n",
    "cap.release()\n",
    "cv2.destroyAllWindows()"
   ]
  }
 ],
 "metadata": {
  "kernelspec": {
   "display_name": "Python 3",
   "language": "python",
   "name": "python3"
  },
  "language_info": {
   "codemirror_mode": {
    "name": "ipython",
    "version": 3
   },
   "file_extension": ".py",
   "mimetype": "text/x-python",
   "name": "python",
   "nbconvert_exporter": "python",
   "pygments_lexer": "ipython3",
   "version": "3.10.4"
  },
  "orig_nbformat": 4
 },
 "nbformat": 4,
 "nbformat_minor": 2
}
